{
 "cells": [
  {
   "cell_type": "code",
   "execution_count": 1,
   "metadata": {},
   "outputs": [],
   "source": [
    "import numpy as np\n",
    "import matplotlib.pyplot as plt\n",
    "%matplotlib widget\n",
    "\n",
    "import scipy.special as ss"
   ]
  },
  {
   "cell_type": "code",
   "execution_count": 2,
   "metadata": {},
   "outputs": [],
   "source": [
    "def beta(x):\n",
    "    return np.sqrt(2/np.pi)*np.exp(-x**2)/ss.erfc(x)\n",
    "\n",
    "def covariance(X,A):\n",
    "    'input: X shape (days*years,lat*lon*field), A shape (days*year,)'\n",
    "    XAs = np.concatenate([X,A.reshape(-1,1)], axis=-1)\n",
    "    XAs_cov = np.cov(XAs.T)\n",
    "    sigma_XA = XAs_cov[-1,:-1]\n",
    "    sigma_AA = XAs_cov[-1,-1]\n",
    "    sigma_XX = XAs_cov[:-1,:-1]\n",
    "    return sigma_XX,sigma_XA,sigma_AA\n",
    "\n",
    "def composite_GA(sigma_AA,sigma_XA,a):\n",
    "    return beta(a/np.sqrt(2*sigma_AA))*sigma_XA/np.sqrt(sigma_AA)\n",
    "\n",
    "def composite_data(X,A,a):\n",
    "    return np.mean(X[A>=a,:], axis=0)"
   ]
  },
  {
   "attachments": {},
   "cell_type": "markdown",
   "metadata": {},
   "source": [
    "## Test on synthetic data"
   ]
  },
  {
   "cell_type": "code",
   "execution_count": 24,
   "metadata": {},
   "outputs": [],
   "source": [
    "N = 10000\n",
    "X = np.random.normal(0,1, (N,2))\n",
    "X[:,1] += 10*X[:,0]\n",
    "A = 2*X[:,0] + np.random.normal(0,1,N)\n",
    "\n",
    "# A = np.random.normal(0,2,N)\n",
    "# X = np.ones((N,4))\n",
    "# X[:,0] = 0.2*A + 0.1*np.random.normal(0,1,N)\n",
    "# X[:,1] = 0.5*A**2 + A + np.random.normal(0,1,N)\n",
    "# X[:,2] = np.random.normal(0,1,N)\n",
    "# X[:,3] = 0.2*A + np.sin(0.3*np.random.normal(0,1,N))"
   ]
  },
  {
   "cell_type": "code",
   "execution_count": 25,
   "metadata": {},
   "outputs": [],
   "source": [
    "# normalize data\n",
    "X = (X - np.mean(X, axis=0))/np.std(X, axis=0)\n",
    "# A = (A - np.mean(A))/np.std(A)\n",
    "\n",
    "sigma_XX,sigma_XA,sigma_AA = covariance(X,A)"
   ]
  },
  {
   "cell_type": "code",
   "execution_count": 5,
   "metadata": {},
   "outputs": [],
   "source": [
    "i_XX = np.linalg.inv(sigma_XX)"
   ]
  },
  {
   "cell_type": "code",
   "execution_count": 26,
   "metadata": {},
   "outputs": [
    {
     "data": {
      "text/plain": [
       "array([0.70917866, 0.70502882])"
      ]
     },
     "execution_count": 26,
     "metadata": {},
     "output_type": "execute_result"
    }
   ],
   "source": [
    "C = sigma_XA\n",
    "C /= np.sqrt(np.sum(C**2))\n",
    "C"
   ]
  },
  {
   "cell_type": "code",
   "execution_count": 30,
   "metadata": {},
   "outputs": [
    {
     "data": {
      "text/plain": [
       "array([0.99996409, 0.00847465])"
      ]
     },
     "execution_count": 30,
     "metadata": {},
     "output_type": "execute_result"
    }
   ],
   "source": [
    "epsilon = 0.001\n",
    "M = np.linalg.inv(sigma_XX + epsilon*np.identity(sigma_XX.shape[0])) @ sigma_XA\n",
    "M /= np.sqrt(np.sum(M**2))\n",
    "M"
   ]
  },
  {
   "cell_type": "code",
   "execution_count": null,
   "metadata": {},
   "outputs": [],
   "source": [
    "sigma_AA - sigma_XA @ i_XX @ sigma_XA"
   ]
  },
  {
   "cell_type": "code",
   "execution_count": null,
   "metadata": {},
   "outputs": [],
   "source": [
    "F = X @ (i_XX @ sigma_XA)\n",
    "F.shape"
   ]
  },
  {
   "cell_type": "code",
   "execution_count": null,
   "metadata": {},
   "outputs": [],
   "source": [
    "plt.figure()\n",
    "plt.scatter(F, A)"
   ]
  },
  {
   "cell_type": "code",
   "execution_count": null,
   "metadata": {},
   "outputs": [],
   "source": [
    "XAs = np.concatenate([X,A.reshape(-1,1)], axis=-1)\n",
    "Sigma = np.cov(XAs.T)\n",
    "Lambda = np.linalg.inv(Sigma)"
   ]
  },
  {
   "cell_type": "code",
   "execution_count": null,
   "metadata": {},
   "outputs": [],
   "source": [
    "Lambda[-1,-1], 1/(sigma_AA - sigma_XA @ i_XX @ sigma_XA)"
   ]
  },
  {
   "cell_type": "code",
   "execution_count": null,
   "metadata": {},
   "outputs": [],
   "source": [
    "-Lambda[:-1,-1]/Lambda[-1,-1], i_XX @ sigma_XA"
   ]
  },
  {
   "cell_type": "code",
   "execution_count": null,
   "metadata": {},
   "outputs": [],
   "source": [
    "plt.close(1)\n",
    "fig, ax = plt.subplots(num=1, figsize=(9,6))\n",
    "\n",
    "plt.hist2d(X[:,0],A,bins=100)\n",
    "\n",
    "fig.tight_layout()"
   ]
  },
  {
   "cell_type": "code",
   "execution_count": null,
   "metadata": {},
   "outputs": [],
   "source": [
    "ap = np.linspace(np.min(A), np.max(A), 1001) # array of thresholds\n",
    "apd = np.stack([ap]*X.shape[1]).T # broadcasted ap\n",
    "cgs = composite_GA(sigma_AA,sigma_XA,apd) # gaussian composites\n",
    "cds = np.stack([composite_data(X,A,a) for a in ap]) # data composites\n",
    "cgs.shape, cds.shape"
   ]
  },
  {
   "cell_type": "code",
   "execution_count": null,
   "metadata": {},
   "outputs": [],
   "source": [
    "a = 1\n",
    "\n",
    "comp_g = composite_GA(sigma_AA,sigma_XA,a)\n",
    "comp_d = composite_data(X,A,a)\n",
    "\n",
    "comp_d, comp_g"
   ]
  },
  {
   "cell_type": "code",
   "execution_count": null,
   "metadata": {},
   "outputs": [],
   "source": [
    "idx = 1\n",
    "\n",
    "plt.close(2)\n",
    "fig, ax = plt.subplots(num=2, figsize=(9,6))\n",
    "\n",
    "# density of the data\n",
    "plt.hist2d(X[:,idx],A,bins=100)\n",
    "\n",
    "# axes\n",
    "plt.axvline(0, color='gray')\n",
    "plt.axhline(0, color='gray')\n",
    "\n",
    "# linear fits\n",
    "xis = np.linspace(np.min(X[:,idx]), np.max(X[:,idx]), 3)\n",
    "plt.plot(xis, xis*sigma_XA[idx]/sigma_XX[idx,idx], color='lime', label=r'$A = \\alpha X$') # A vs X\n",
    "plt.plot(ap*sigma_XA[idx]/sigma_AA, ap, color='yellow', label=r'$X = \\xi A$') # X vs A\n",
    "\n",
    "# threshold\n",
    "plt.axhline(a, color='red', label=r'$a$')\n",
    "\n",
    "# data composites\n",
    "plt.plot(cds[:,idx], ap, color='orange', label=r'$C_D(a)$')\n",
    "plt.axvline(comp_d[idx], color='orange', linestyle='dashed')\n",
    "\n",
    "# gaussian composites\n",
    "plt.plot(cgs[:,idx], ap, color='white', label=r'$C_G(a)$')\n",
    "plt.axvline(comp_g[idx], color='white', linestyle='dashed')\n",
    "\n",
    "plt.legend()\n",
    "\n",
    "plt.xlabel('X')\n",
    "plt.ylabel('A')\n",
    "\n",
    "fig.tight_layout()"
   ]
  },
  {
   "cell_type": "code",
   "execution_count": null,
   "metadata": {},
   "outputs": [],
   "source": []
  }
 ],
 "metadata": {
  "kernelspec": {
   "display_name": "ml",
   "language": "python",
   "name": "python3"
  },
  "language_info": {
   "codemirror_mode": {
    "name": "ipython",
    "version": 3
   },
   "file_extension": ".py",
   "mimetype": "text/x-python",
   "name": "python",
   "nbconvert_exporter": "python",
   "pygments_lexer": "ipython3",
   "version": "3.9.7"
  },
  "orig_nbformat": 4
 },
 "nbformat": 4,
 "nbformat_minor": 2
}
