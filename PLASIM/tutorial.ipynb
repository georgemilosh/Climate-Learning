{
 "cells": [
  {
   "cell_type": "code",
   "execution_count": 1,
   "metadata": {},
   "outputs": [
    {
     "name": "stderr",
     "output_type": "stream",
     "text": [
      "2023-01-24 09:52:22.841117: I tensorflow/stream_executor/platform/default/dso_loader.cc:49] Successfully opened dynamic library libcudart.so.10.1\n",
      "In this environment you cannot import Basemap\n"
     ]
    }
   ],
   "source": [
    "import Learn2_new as ln\n",
    "ut = ln.ut # utilities\n",
    "ef = ln.ef # ERA_Fields_New\n",
    "\n",
    "# log to stdout\n",
    "import logging\n",
    "import sys\n",
    "import os\n",
    "logging.getLogger().level = logging.INFO\n",
    "logging.getLogger().handlers = [logging.StreamHandler(sys.stdout)]\n",
    "\n",
    "# set spacing of the indentation\n",
    "ut.indentation_sep = '  '"
   ]
  },
  {
   "cell_type": "markdown",
   "metadata": {},
   "source": [
    "## Dealing with parameters\n",
    "\n",
    "The structure of `Learn2_new.py` is pretty nested, with functions calling other functions in such a way that changing a parameter seems difficult.\n",
    "The best way to do so is by using the functions `ln.get_default_params` and `ut.set_values_recursive`"
   ]
  },
  {
   "cell_type": "markdown",
   "metadata": {},
   "source": [
    "### Beginner approach\n",
    "\n",
    "The first way of approaching the code is by looking at the documentation of its functions, and when they have an argument of kind `*_kwargs`, it means that the function `*` will be called, so you can then look at its documentation and so on"
   ]
  },
  {
   "cell_type": "markdown",
   "metadata": {},
   "source": [
    "Let's say you want to use the function `ln.prepare_data`. If you look at its documentation you get"
   ]
  },
  {
   "cell_type": "code",
   "execution_count": 2,
   "metadata": {},
   "outputs": [
    {
     "name": "stdout",
     "output_type": "stream",
     "text": [
      "Help on function prepare_data in module Learn2_new:\n",
      "\n",
      "prepare_data(load_data_kwargs=None, prepare_XY_kwargs=None)\n",
      "    Combines all the steps from loading the data to the creation of X and Y\n",
      "    \n",
      "    Parameters\n",
      "    ----------\n",
      "    load_data_kwargs: dict\n",
      "        arguments to pass to the function `load_data`\n",
      "    prepare_XY_kwargs: dict\n",
      "        arguments to pass to the function `prepare_XY`\n",
      "        \n",
      "    Returns\n",
      "    -------\n",
      "    X : np.ndarray\n",
      "        data. If flatten_time_axis with shape (days, lat, lon, fields), else (years, days, lat, lon, fields)\n",
      "    Y : np.ndarray \n",
      "        labels. If flatten_time_axis with shape (days,), else (years, days)\n",
      "    year_permutation : np.ndarray\n",
      "        with shape (years,), final permutaion of the years that reproduces X and Y once applied to the just loaded data\n",
      "    lat\n",
      "    lon\n",
      "\n"
     ]
    }
   ],
   "source": [
    "help(ln.prepare_data)"
   ]
  },
  {
   "cell_type": "markdown",
   "metadata": {},
   "source": [
    "This functions calls `ln.load_data` and `ln.prepare_XY`."
   ]
  },
  {
   "cell_type": "code",
   "execution_count": 3,
   "metadata": {},
   "outputs": [
    {
     "name": "stdout",
     "output_type": "stream",
     "text": [
      "Help on function load_data in module Learn2_new:\n",
      "\n",
      "load_data(dataset_years=8000, year_list=None, sampling='', Model='Plasim', area='France', filter_area='France', lon_start=-64, lon_end=64, lat_start=0, lat_end=22, mylocal='/local/gmiloshe/PLASIM/', fields=['t2m', 'zg500', 'mrso_filtered'], preprefix='ANO_', datafolder='Data_Plasim')\n",
      "    Loads the data into Plasim_Fields objects\n",
      "    \n",
      "    Parameters\n",
      "    ----------\n",
      "    dataset_years : int, optional\n",
      "        number of years of the dataset, for now 8000 or 1000.\n",
      "    year_list : array-like or str or int or tuple or None, optional\n",
      "        list of years to load from the dataset. If None all years are loaded\n",
      "        if str must be in the format 'range([<start>],<end>,[<step>])', where square brackets mean the argument is optional. It will be interpreted as np.range([<start>],<end>,[<step>])\n",
      "        if tuple must be in format ([<start>],<end>,[<step>])\n",
      "        if int is just like providing only <end>\n",
      "    sampling : str, optional\n",
      "        '' (dayly) or '3hrs'\n",
      "    Model : str, optional\n",
      "        'Plasim', 'CESM', ... For now only Plasim is implemented\n",
      "    area : str, optional\n",
      "        region of interest, e.g. 'France'\n",
      "    filter_area : str, optional\n",
      "        area over which to keep filtered fields, usually the same of `area`. `filter` implies a mask\n",
      "    lon_start, lon_end, lat_start, lat_end : int\n",
      "        longitude and latitude extremes of the data expressed in indices (model specific)\n",
      "        If `lon_start` >= `lon_end` the selection will start from `lon_start`, go over the end of the array and then continue from the beginning up to `lon_end`.\n",
      "        Providing `lon_start` = `lon_end` will result in the longitude being rolled by `lon_start` steps\n",
      "    mylocal : list[str or Path], optional\n",
      "        paths to the data storage. The program will look for each data file in the first path, if not found it will look in the next one and so on.\n",
      "        For speed it is better if they are local paths.\n",
      "    fields : list, optional\n",
      "        list of field names to be loaded. Add '_filtered' to the name to have the values of the field outside `filter_area` set to zero.\n",
      "        Add '_ghost' to the name of the field to load it but not use it for learning.\n",
      "        This happens when you need to compute the labels on a field that won't be fed to the network.\n",
      "    preprefix: str, optional\n",
      "        The name of the input file starts with preprefix. In practice it is either null or 'ANO' which indicates precomputed anomalies\n",
      "    datafolder: str, optional\n",
      "        The name of the folder which lies inside `mylocal`, it defaults to Data_Plasim\n",
      "    \n",
      "    Returns\n",
      "    -------\n",
      "    _fields: dict\n",
      "        dictionary of ERA_Fields.Plasim_Field objects\n",
      "\n"
     ]
    }
   ],
   "source": [
    "help(ln.load_data)"
   ]
  },
  {
   "cell_type": "markdown",
   "metadata": {},
   "source": [
    "Note that the variable called `mylocal` governs the source of data. Depending on the machine we are using we might want to change it. For instance on r740server5, the local space is acutally: '/ClimateDynamics/MediumSpace/ClimateLearningFR/gmiloshe/PLASIM/';"
   ]
  },
  {
   "cell_type": "code",
   "execution_count": 4,
   "metadata": {},
   "outputs": [
    {
     "name": "stdout",
     "output_type": "stream",
     "text": [
      "Help on function prepare_XY in module Learn2_new:\n",
      "\n",
      "prepare_XY(fields, make_XY_kwargs=None, roll_X_kwargs=None, do_premix=False, premix_seed=0, do_balance_folds=True, nfolds=10, year_permutation=None, flatten_time_axis=True, return_time_series=False)\n",
      "    Performs all operations to extract from the fields X and Y ready to be fed to the neural network.\n",
      "    \n",
      "    Parameters\n",
      "    ----------\n",
      "    fields : dict of ef.Plasim_Field objects\n",
      "    make_XY_kwargs : dict\n",
      "        arguments to pass to the function `make_XY`\n",
      "    roll_X_kwargs : dict\n",
      "        arguments to pass to the function `roll_X`\n",
      "    do_premix : bool, optional\n",
      "        whether to perform premixing, by default False\n",
      "    premix_seed : int, optional\n",
      "        seed for premixing, by default 0\n",
      "    do_balance_folds : bool, optional\n",
      "        whether to balance folds\n",
      "    nfolds : int, optional\n",
      "        necessary for balancing folds\n",
      "    year_permutation : np.ndarray, optional\n",
      "        if provided overrides both premixing and fold balancing, useful for transfer learning as avoids contaminating test sets. By default None\n",
      "    flatten_time_axis : bool, optional\n",
      "        whether to flatten the time axis consisting of years and days\n",
      "    return_time_series : bool, optional\n",
      "        If True it appends to the return statement the time series integrated over the area\n",
      "    \n",
      "    Returns\n",
      "    -------\n",
      "    X : np.ndarray\n",
      "        data. If flatten_time_axis with shape (days, lat, lon, fields), else (years, days, lat, lon, fields)\n",
      "    Y : np.ndarray \n",
      "        labels. If flatten_time_axis with shape (days,), else (years, days)\n",
      "    tot_permutation : np.ndarray\n",
      "        with shape (years,), final permutaion of the years that reproduces X and Y once applied to the just loaded data\n",
      "    lat : np.ndarray\n",
      "        latitude, with shape (lat,) (rolled if necessary)\n",
      "    lon : np.ndarray\n",
      "        longitude, with shape (lon,) (rolled if necessary)\n",
      "    (time_series) if return_time_series : np.ndarray\n",
      "        output which is conditional on the input return_time_series\n",
      "    (threshold) if return_threshold in make_XY_kwargs : float\n",
      "        the threshold used for the labels\n",
      "\n"
     ]
    }
   ],
   "source": [
    "help(ln.prepare_XY)"
   ]
  },
  {
   "cell_type": "markdown",
   "metadata": {},
   "source": [
    "And `ln.prepare_XY` calls `ln.make_XY` and `ln.roll_X`"
   ]
  },
  {
   "cell_type": "code",
   "execution_count": 5,
   "metadata": {},
   "outputs": [
    {
     "name": "stdout",
     "output_type": "stream",
     "text": [
      "Help on function make_XY in module Learn2_new:\n",
      "\n",
      "make_XY(fields, label_field='t2m', time_start=30, time_end=120, T=14, tau=0, percent=5, threshold=None, label_period_start=None, label_period_end=None, A_weights=None, return_threshold=False)\n",
      "    Combines `make_X` and `assign_labels`\n",
      "    \n",
      "    Parameters:\n",
      "    -----------\n",
      "    fields : dict of Plasim_Field objects\n",
      "    label_field : str, optional\n",
      "        key for the field used for computing labels\n",
      "    time_start : int, optional\n",
      "        first day of the period of interest\n",
      "    time_end : int, optional\n",
      "        first day after the end of the period of interst\n",
      "    T : int, optional\n",
      "        width of the window for the running average\n",
      "    tau : int, optional\n",
      "        delay between observation and prediction\n",
      "    percent : float, optional\n",
      "        percentage of the most extreme heatwaves\n",
      "    threshold : float, optional\n",
      "        if provided overrides `percent`\n",
      "    label_period_start : int, optional\n",
      "        if provided the first day of the period of interest for the label threshold determination\n",
      "    label_period_end : int, optional\n",
      "        if provided the first day after the end of the period of interst for the label threshold determination\n",
      "    A_weights: list, optional\n",
      "        if provided will influence how running mean is computed\n",
      "    return_threshold: bool, optional\n",
      "        if provided as True the output also involves threshold_new\n",
      "        \n",
      "    Returns:\n",
      "    --------\n",
      "    X : np.ndarray\n",
      "        with shape (years, days, lat, lon, field)\n",
      "    Y : np.ndarray\n",
      "        with shape (years, days)\n",
      "    (threshold) if return_threshold : float\n",
      "        the computed threshold\n",
      "\n"
     ]
    }
   ],
   "source": [
    "help(ln.make_XY)"
   ]
  },
  {
   "cell_type": "code",
   "execution_count": 6,
   "metadata": {},
   "outputs": [
    {
     "name": "stdout",
     "output_type": "stream",
     "text": [
      "Help on function roll_X in module Learn2_new:\n",
      "\n",
      "roll_X(X, roll_axis='lon', roll_steps=0)\n",
      "    Rolls `X` along a given axis. useful for example for moving France away from the Greenwich meridian.\n",
      "    In other words this allows one, for example, to shift the grid so that desired areas are not found at the boundary.\n",
      "    In principle this function allows us to roll along arbitrary axis, including days or years.\n",
      "    \n",
      "    Parameters\n",
      "    ----------\n",
      "    X : np.ndarray\n",
      "        with shape (years, days, lat, lon, field)\n",
      "    roll_axis : int or str, optional\n",
      "        'year' (or 'y'), 'day' (or 'd'), 'lat', 'lon', 'field' (or 'f')\n",
      "    roll_steps : int, optional\n",
      "        number of gridsteps to roll: a positive value for `roll_steps` means that the elements of the array are moved forward in it,\n",
      "        e.g. `roll_steps` = 1 means that the old first element is now in the second place\n",
      "        This means that for every axis a positive value of `roll_steps` yields a shift of the array\n",
      "        'year', 'day' : forward in time\n",
      "        'lat' : southward\n",
      "        'lon' : eastward\n",
      "        'field' : forward in the numbering of the fields\n",
      "    \n",
      "    Returns\n",
      "    -------\n",
      "    np.ndarray\n",
      "        of the same shape of `X`\n",
      "\n"
     ]
    }
   ],
   "source": [
    "help(ln.roll_X)"
   ]
  },
  {
   "cell_type": "markdown",
   "metadata": {},
   "source": [
    "So, now let's say you want to call `ln.prepare_data` with just the temperature field, using data from the short 1000 years dataset and rolling `X` by 16 steps, leavingall other values at their default. One (cumbersome) way to do it is the following"
   ]
  },
  {
   "cell_type": "code",
   "execution_count": 7,
   "metadata": {},
   "outputs": [
    {
     "name": "stdout",
     "output_type": "stream",
     "text": [
      "path_to_ERA = '/ClimateDynamics/MediumSpace/ClimateLearningFR/gmiloshe'/ERA/\n"
     ]
    },
    {
     "data": {
      "text/plain": [
       "<module 'Learn2_new' from '/ClimateDynamics/MediumSpace/ClimateLearningFR/gmiloshe/PLASIM/Learn2_new.py'>"
      ]
     },
     "execution_count": 7,
     "metadata": {},
     "output_type": "execute_result"
    }
   ],
   "source": [
    "import imp\n",
    "imp.reload(ln)"
   ]
  },
  {
   "cell_type": "code",
   "execution_count": 8,
   "metadata": {},
   "outputs": [
    {
     "name": "stdout",
     "output_type": "stream",
     "text": [
      "prepare_data:\n",
      "  load_data:\n",
      "    Opening field tas\n",
      "    First valid path found in /local/gmiloshe/PLASIM/Data_Plasim/ANO_tas.nc\n",
      "    monotonize_years:\n",
      "    monotonize_years: completed in 0.6 s\n",
      "    First valid path found in /local/gmiloshe/PLASIM/Data_Plasim_inter/CONTROL_lsmask.nc\n",
      "    First valid path found in /local/gmiloshe/PLASIM/Data_Plasim_inter/CONTROL_gparea.nc\n",
      "    select_years:\n",
      "    select_years: completed in 0.0 s\n",
      "    select_lonlat:\n",
      "    select_lonlat: completed in 3.1 s\n",
      "    First valid path found in /local/gmiloshe/PLASIM/Data_Plasim_inter/CONTROL_lsmask.nc\n",
      "  load_data: completed in 19.7 s\n",
      "  prepare_XY:\n",
      "    return_threshold = False    \n",
      "    make_XY:\n",
      "      make_X:\n",
      "      make_X: completed in 0.3 s\n",
      "      assign_labels:\n",
      "        A_weights = None\n",
      "        compute_time_average:\n",
      "          compute_area_integral:\n",
      "          compute_area_integral: completed in 3.6 s\n",
      "        compute_time_average: completed in 4.8 s\n",
      "        threshold = 2.953485\n",
      "      assign_labels: completed in 4.9 s\n",
      "    make_XY: completed in 5.2 s\n",
      "    roll_X:\n",
      "      DeprecationWarning: Roll the data when loading it using the arguments `lon_start`, `lon_end` of function `load_data`\n",
      "    roll_X: completed in 0.4 s\n",
      "    Mixing\n",
      "    balance_folds:\n",
      "      Balancing folds\n",
      "      fold 0 done!\n",
      "      fold 1 done!\n",
      "      fold 2 done!\n",
      "      fold 3 done!\n",
      "      fold 4 done!\n",
      "      fold 5 done!\n",
      "      fold 6 done!\n",
      "      fold 7 done!\n",
      "      fold 8 done!\n",
      "      fold 9 done!\n",
      "      Sums of the balanced 10 folds:\n",
      "      [385 385 385 385 385 385 385 385 385 385]\n",
      "      std/avg = 0.000\n",
      "      max relative deviation = 0.000\\%\n",
      "    balance_folds: completed in 0.0 s\n",
      "    Mixing completed in 0.3 s\n",
      "    \n",
      "    X.shape = (1000, 77, 22, 128, 1), Y.shape = (1000, 77)\n",
      "    Flattened time: X.shape = (77000, 22, 128, 1), Y.shape = (77000,)\n",
      "  prepare_XY: completed in 5.9 s\n",
      "prepare_data: completed in 25.7 s\n"
     ]
    }
   ],
   "source": [
    "X, Y, yp, lat, lon = ln.prepare_data(load_data_kwargs = {'fields': ['t2m'], 'dataset_years': 1000},\n",
    "                           prepare_XY_kwargs = {'roll_X_kwargs': {'roll_steps': 16}})"
   ]
  },
  {
   "cell_type": "markdown",
   "metadata": {},
   "source": [
    "We can inspect the coordinates to see that they are indeed in rolled order"
   ]
  },
  {
   "cell_type": "code",
   "execution_count": 9,
   "metadata": {},
   "outputs": [
    {
     "data": {
      "text/plain": [
       "(array([-225.    , -222.1875, -219.375 , -216.5625, -213.75  , -210.9375,\n",
       "        -208.125 , -205.3125, -202.5   , -199.6875, -196.875 , -194.0625,\n",
       "        -191.25  , -188.4375, -185.625 , -182.8125, -180.    , -177.1875,\n",
       "        -174.375 , -171.5625, -168.75  , -165.9375, -163.125 , -160.3125,\n",
       "        -157.5   , -154.6875, -151.875 , -149.0625, -146.25  , -143.4375,\n",
       "        -140.625 , -137.8125, -135.    , -132.1875, -129.375 , -126.5625,\n",
       "        -123.75  , -120.9375, -118.125 , -115.3125, -112.5   , -109.6875,\n",
       "        -106.875 , -104.0625, -101.25  ,  -98.4375,  -95.625 ,  -92.8125,\n",
       "         -90.    ,  -87.1875,  -84.375 ,  -81.5625,  -78.75  ,  -75.9375,\n",
       "         -73.125 ,  -70.3125,  -67.5   ,  -64.6875,  -61.875 ,  -59.0625,\n",
       "         -56.25  ,  -53.4375,  -50.625 ,  -47.8125,  -45.    ,  -42.1875,\n",
       "         -39.375 ,  -36.5625,  -33.75  ,  -30.9375,  -28.125 ,  -25.3125,\n",
       "         -22.5   ,  -19.6875,  -16.875 ,  -14.0625,  -11.25  ,   -8.4375,\n",
       "          -5.625 ,   -2.8125,    0.    ,    2.8125,    5.625 ,    8.4375,\n",
       "          11.25  ,   14.0625,   16.875 ,   19.6875,   22.5   ,   25.3125,\n",
       "          28.125 ,   30.9375,   33.75  ,   36.5625,   39.375 ,   42.1875,\n",
       "          45.    ,   47.8125,   50.625 ,   53.4375,   56.25  ,   59.0625,\n",
       "          61.875 ,   64.6875,   67.5   ,   70.3125,   73.125 ,   75.9375,\n",
       "          78.75  ,   81.5625,   84.375 ,   87.1875,   90.    ,   92.8125,\n",
       "          95.625 ,   98.4375,  101.25  ,  104.0625,  106.875 ,  109.6875,\n",
       "         112.5   ,  115.3125,  118.125 ,  120.9375,  123.75  ,  126.5625,\n",
       "         129.375 ,  132.1875]),\n",
       " array([87.86379884, 85.09652699, 82.31291295, 79.52560657, 76.73689968,\n",
       "        73.94751515, 71.15775201, 68.36775611, 65.57760701, 62.7873518 ,\n",
       "        59.99702011, 57.20663153, 54.41619953, 51.62573367, 48.83524097,\n",
       "        46.04472663, 43.25419467, 40.46364818, 37.67308963, 34.88252099,\n",
       "        32.09194388, 29.30135962]))"
      ]
     },
     "execution_count": 9,
     "metadata": {},
     "output_type": "execute_result"
    }
   ],
   "source": [
    "lon, lat"
   ]
  },
  {
   "cell_type": "markdown",
   "metadata": {},
   "source": [
    "If this command didn't work it is likely that you are running it from a machine which doesn't have the data in local space, or as mentioned earlier R740server5, in which case you need to specify the source in kwargs by doing:"
   ]
  },
  {
   "cell_type": "code",
   "execution_count": 10,
   "metadata": {
    "scrolled": true,
    "tags": []
   },
   "outputs": [
    {
     "name": "stdout",
     "output_type": "stream",
     "text": [
      "prepare_data:\n",
      "  load_data:\n",
      "    Opening field tas\n",
      "    First valid path found in /ClimateDynamics/MediumSpace/ClimateLearningFR/gmiloshe/PLASIM/Data_Plasim/ANO_tas.nc\n",
      "    monotonize_years:\n",
      "    monotonize_years: completed in 0.7 s\n",
      "    First valid path found in /ClimateDynamics/MediumSpace/ClimateLearningFR/gmiloshe/PLASIM/Data_Plasim_inter/CONTROL_lsmask.nc\n",
      "    First valid path found in /ClimateDynamics/MediumSpace/ClimateLearningFR/gmiloshe/PLASIM/Data_Plasim_inter/CONTROL_gparea.nc\n",
      "    select_years:\n",
      "    select_years: completed in 0.0 s\n",
      "    select_lonlat:\n",
      "    select_lonlat: completed in 1.9 s\n",
      "    First valid path found in /ClimateDynamics/MediumSpace/ClimateLearningFR/gmiloshe/PLASIM/Data_Plasim_inter/CONTROL_lsmask.nc\n",
      "  load_data: completed in 14.1 s\n",
      "  prepare_XY:\n",
      "    return_threshold = False    \n",
      "    make_XY:\n",
      "      make_X:\n",
      "      make_X: completed in 0.3 s\n",
      "      assign_labels:\n",
      "        A_weights = None\n",
      "        compute_time_average:\n",
      "          compute_area_integral:\n",
      "          compute_area_integral: completed in 2.4 s\n",
      "        compute_time_average: completed in 3.6 s\n",
      "        threshold = 2.953485\n",
      "      assign_labels: completed in 3.7 s\n",
      "    make_XY: completed in 4.0 s\n",
      "    roll_X:\n",
      "    roll_X: completed in 0.0 s\n",
      "    Mixing\n",
      "    balance_folds:\n",
      "      Balancing folds\n",
      "      fold 0 done!\n",
      "      fold 1 done!\n",
      "      fold 2 done!\n",
      "      fold 3 done!\n",
      "      fold 4 done!\n",
      "      fold 5 done!\n",
      "      fold 6 done!\n",
      "      fold 7 done!\n",
      "      fold 8 done!\n",
      "      fold 9 done!\n",
      "      Sums of the balanced 10 folds:\n",
      "      [385 385 385 385 385 385 385 385 385 385]\n",
      "      std/avg = 0.000\n",
      "      max relative deviation = 0.000\\%\n",
      "    balance_folds: completed in 0.0 s\n",
      "    Mixing completed in 0.3 s\n",
      "    \n",
      "    X.shape = (1000, 77, 22, 128, 1), Y.shape = (1000, 77)\n",
      "    Flattened time: X.shape = (77000, 22, 128, 1), Y.shape = (77000,)\n",
      "  prepare_XY: completed in 4.3 s\n",
      "prepare_data: completed in 18.5 s\n"
     ]
    }
   ],
   "source": [
    "X, Y, yp, lat, lon = ln.prepare_data(load_data_kwargs = {'fields': ['t2m'], 'dataset_years': 1000, 'mylocal':  '/ClimateDynamics/MediumSpace/ClimateLearningFR/gmiloshe/PLASIM/'},\n",
    "                           prepare_XY_kwargs = {'roll_X_kwargs': {'rosteps': 16}})"
   ]
  },
  {
   "cell_type": "markdown",
   "metadata": {},
   "source": [
    "## Better approach\n",
    "\n",
    "If intstead you already roughly know how the code works, you can proceed in a more elegant way"
   ]
  },
  {
   "cell_type": "markdown",
   "metadata": {},
   "source": [
    "First create a dictionary of the default parameters using `ln.get_default_params`. Remeber to specify `recursive = True`, which will gather all the default parameters of the functions called in a nested manner"
   ]
  },
  {
   "cell_type": "code",
   "execution_count": 11,
   "metadata": {},
   "outputs": [
    {
     "name": "stdout",
     "output_type": "stream",
     "text": [
      "{\n",
      "    \"load_data_kwargs\": {\n",
      "        \"dataset_years\": 8000,\n",
      "        \"year_list\": null,\n",
      "        \"sampling\": \"\",\n",
      "        \"Model\": \"Plasim\",\n",
      "        \"area\": \"France\",\n",
      "        \"filter_area\": \"France\",\n",
      "        \"lon_start\": -64,\n",
      "        \"lon_end\": 64,\n",
      "        \"lat_start\": 0,\n",
      "        \"lat_end\": 22,\n",
      "        \"mylocal\": \"/local/gmiloshe/PLASIM/\",\n",
      "        \"fields\": [\n",
      "            \"t2m\",\n",
      "            \"zg500\",\n",
      "            \"mrso_filtered\"\n",
      "        ],\n",
      "        \"preprefix\": \"ANO_\",\n",
      "        \"datafolder\": \"Data_Plasim\"\n",
      "    },\n",
      "    \"prepare_XY_kwargs\": {\n",
      "        \"do_premix\": false,\n",
      "        \"premix_seed\": 0,\n",
      "        \"do_balance_folds\": true,\n",
      "        \"nfolds\": 10,\n",
      "        \"year_permutation\": null,\n",
      "        \"flatten_time_axis\": true,\n",
      "        \"return_time_series\": false,\n",
      "        \"make_XY_kwargs\": {\n",
      "            \"label_field\": \"t2m\",\n",
      "            \"time_start\": 30,\n",
      "            \"time_end\": 120,\n",
      "            \"T\": 14,\n",
      "            \"tau\": 0,\n",
      "            \"percent\": 5,\n",
      "            \"threshold\": null,\n",
      "            \"label_period_start\": null,\n",
      "            \"label_period_end\": null,\n",
      "            \"A_weights\": null,\n",
      "            \"return_threshold\": false\n",
      "        },\n",
      "        \"roll_X_kwargs\": {\n",
      "            \"roll_axis\": \"lon\",\n",
      "            \"roll_steps\": 0\n",
      "        }\n",
      "    }\n",
      "}\n"
     ]
    }
   ],
   "source": [
    "prepare_data_kwargs_default = ln.get_default_params(ln.prepare_data, recursive=True)\n",
    "print(ut.dict2str(prepare_data_kwargs_default)) # a nice way of printing nested dictionaries"
   ]
  },
  {
   "cell_type": "code",
   "execution_count": 12,
   "metadata": {},
   "outputs": [
    {
     "data": {
      "text/plain": [
       "False"
      ]
     },
     "execution_count": 12,
     "metadata": {},
     "output_type": "execute_result"
    }
   ],
   "source": [
    "def keys_exists(d_nested, key):\n",
    "    '''\n",
    "    Check if *keys (nested) exists in `element` (dict). This is basically like extract_nested() but does not raise the KeyError as the output\n",
    "    '''\n",
    "    try: \n",
    "        _element = ut.extract_nested(d_nested, key)\n",
    "        return True\n",
    "    except KeyError:\n",
    "        return False\n",
    "\n",
    "keys_exists(prepare_data_kwargs_default, 'year_list2')"
   ]
  },
  {
   "cell_type": "code",
   "execution_count": 13,
   "metadata": {},
   "outputs": [
    {
     "ename": "KeyError",
     "evalue": "'lat_end2 is not a valid key'",
     "output_type": "error",
     "traceback": [
      "\u001b[0;31m---------------------------------------------------------------------------\u001b[0m",
      "\u001b[0;31mKeyError\u001b[0m                                  Traceback (most recent call last)",
      "\u001b[0;32m/ClimateDynamics/MediumSpace/ClimateLearningFR/gmiloshe/general_purpose/utilities.py\u001b[0m in \u001b[0;36mextract_nested\u001b[0;34m(d_nested, key, if_not_found)\u001b[0m\n\u001b[1;32m    639\u001b[0m     \u001b[0;32mtry\u001b[0m\u001b[0;34m:\u001b[0m\u001b[0;34m\u001b[0m\u001b[0;34m\u001b[0m\u001b[0m\n\u001b[0;32m--> 640\u001b[0;31m         \u001b[0;32mreturn\u001b[0m \u001b[0md_nested\u001b[0m\u001b[0;34m[\u001b[0m\u001b[0mkey\u001b[0m\u001b[0;34m]\u001b[0m\u001b[0;34m\u001b[0m\u001b[0;34m\u001b[0m\u001b[0m\n\u001b[0m\u001b[1;32m    641\u001b[0m     \u001b[0;32mexcept\u001b[0m \u001b[0mKeyError\u001b[0m\u001b[0;34m:\u001b[0m\u001b[0;34m\u001b[0m\u001b[0;34m\u001b[0m\u001b[0m\n",
      "\u001b[0;31mKeyError\u001b[0m: 'lat_end2'",
      "\nDuring handling of the above exception, another exception occurred:\n",
      "\u001b[0;31mKeyError\u001b[0m                                  Traceback (most recent call last)",
      "\u001b[0;32m/tmp/ipykernel_426968/1098764663.py\u001b[0m in \u001b[0;36m<module>\u001b[0;34m\u001b[0m\n\u001b[0;32m----> 1\u001b[0;31m \u001b[0mut\u001b[0m\u001b[0;34m.\u001b[0m\u001b[0mextract_nested\u001b[0m\u001b[0;34m(\u001b[0m\u001b[0mprepare_data_kwargs_default\u001b[0m\u001b[0;34m,\u001b[0m \u001b[0;34m'lat_end2'\u001b[0m\u001b[0;34m)\u001b[0m\u001b[0;34m\u001b[0m\u001b[0;34m\u001b[0m\u001b[0m\n\u001b[0m",
      "\u001b[0;32m/ClimateDynamics/MediumSpace/ClimateLearningFR/gmiloshe/general_purpose/utilities.py\u001b[0m in \u001b[0;36mextract_nested\u001b[0;34m(d_nested, key, if_not_found)\u001b[0m\n\u001b[1;32m    650\u001b[0m         \u001b[0;32mif\u001b[0m \u001b[0mhasattr\u001b[0m\u001b[0;34m(\u001b[0m\u001b[0mcomparison\u001b[0m\u001b[0;34m,\u001b[0m \u001b[0;34m'__iter__'\u001b[0m\u001b[0;34m)\u001b[0m \u001b[0;32mor\u001b[0m \u001b[0mcomparison\u001b[0m\u001b[0;34m:\u001b[0m\u001b[0;34m\u001b[0m\u001b[0;34m\u001b[0m\u001b[0m\n\u001b[1;32m    651\u001b[0m             \u001b[0;32mreturn\u001b[0m \u001b[0mif_not_found\u001b[0m\u001b[0;34m\u001b[0m\u001b[0;34m\u001b[0m\u001b[0m\n\u001b[0;32m--> 652\u001b[0;31m         \u001b[0;32mraise\u001b[0m \u001b[0mKeyError\u001b[0m\u001b[0;34m(\u001b[0m\u001b[0;34mf'{key} is not a valid key'\u001b[0m\u001b[0;34m)\u001b[0m\u001b[0;34m\u001b[0m\u001b[0;34m\u001b[0m\u001b[0m\n\u001b[0m\u001b[1;32m    653\u001b[0m \u001b[0;34m\u001b[0m\u001b[0m\n\u001b[1;32m    654\u001b[0m \u001b[0;32mdef\u001b[0m \u001b[0mkeys_exists\u001b[0m\u001b[0;34m(\u001b[0m\u001b[0md_nested\u001b[0m\u001b[0;34m,\u001b[0m \u001b[0mkey\u001b[0m\u001b[0;34m)\u001b[0m\u001b[0;34m:\u001b[0m\u001b[0;34m\u001b[0m\u001b[0;34m\u001b[0m\u001b[0m\n",
      "\u001b[0;31mKeyError\u001b[0m: 'lat_end2 is not a valid key'"
     ]
    }
   ],
   "source": [
    "ut.extract_nested(prepare_data_kwargs_default, 'lat_end2')"
   ]
  },
  {
   "cell_type": "markdown",
   "metadata": {},
   "source": [
    "(Again pay attention that the machine we are using has the data in space called 'local'. If so you don't need to specify the variable `mylocal` below)"
   ]
  },
  {
   "cell_type": "markdown",
   "metadata": {},
   "source": [
    "Now you want to set the two parameters to non default values, and you can do it by using `ut.set_values_recursive`, without needing to account for the level of nestedness of the parameter."
   ]
  },
  {
   "cell_type": "code",
   "execution_count": 14,
   "metadata": {},
   "outputs": [
    {
     "name": "stdout",
     "output_type": "stream",
     "text": [
      "{\n",
      "    \"load_data_kwargs\": {\n",
      "        \"dataset_years\": 8000,\n",
      "        \"year_list\": \"range(100)\",\n",
      "        \"sampling\": \"\",\n",
      "        \"Model\": \"Plasim\",\n",
      "        \"area\": \"France\",\n",
      "        \"filter_area\": \"France\",\n",
      "        \"lon_start\": -64,\n",
      "        \"lon_end\": 64,\n",
      "        \"lat_start\": 0,\n",
      "        \"lat_end\": 22,\n",
      "        \"mylocal\": \"/local/gmiloshe/PLASIM/\",\n",
      "        \"fields\": [\n",
      "            \"t2m\"\n",
      "        ],\n",
      "        \"preprefix\": \"ANO_\",\n",
      "        \"datafolder\": \"Data_Plasim\"\n",
      "    },\n",
      "    \"prepare_XY_kwargs\": {\n",
      "        \"do_premix\": false,\n",
      "        \"premix_seed\": 0,\n",
      "        \"do_balance_folds\": true,\n",
      "        \"nfolds\": 10,\n",
      "        \"year_permutation\": null,\n",
      "        \"flatten_time_axis\": true,\n",
      "        \"return_time_series\": false,\n",
      "        \"make_XY_kwargs\": {\n",
      "            \"label_field\": \"t2m\",\n",
      "            \"time_start\": 30,\n",
      "            \"time_end\": 120,\n",
      "            \"T\": 14,\n",
      "            \"tau\": 0,\n",
      "            \"percent\": 5,\n",
      "            \"threshold\": null,\n",
      "            \"label_period_start\": null,\n",
      "            \"label_period_end\": null,\n",
      "            \"A_weights\": null,\n",
      "            \"return_threshold\": false\n",
      "        },\n",
      "        \"roll_X_kwargs\": {\n",
      "            \"roll_axis\": \"lon\",\n",
      "            \"roll_steps\": 0\n",
      "        }\n",
      "    }\n",
      "}\n"
     ]
    }
   ],
   "source": [
    "prepare_data_kwargs = ut.set_values_recursive(prepare_data_kwargs_default,\n",
    "                                              {'fields': ['t2m'], 'year_list' : 'range(100)'}) #, 'mylocal': '/ClimateDynamics/MediumSpace/ClimateLearningFR/gmiloshe/PLASIM/'})\n",
    "print(ut.dict2str(prepare_data_kwargs))"
   ]
  },
  {
   "cell_type": "markdown",
   "metadata": {},
   "source": [
    "And then you can run"
   ]
  },
  {
   "cell_type": "code",
   "execution_count": 15,
   "metadata": {},
   "outputs": [
    {
     "name": "stdout",
     "output_type": "stream",
     "text": [
      "prepare_data:\n",
      "  load_data:\n",
      "    Opening field tas\n",
      "    First valid path found in /local/gmiloshe/PLASIM/Data_Plasim_LONG/ANO_LONG_tas.nc\n",
      "    monotonize_years:\n",
      "    monotonize_years: completed in 3.9 s\n",
      "    First valid path found in /local/gmiloshe/PLASIM/Data_Plasim_inter/CONTROL_lsmask.nc\n",
      "    First valid path found in /local/gmiloshe/PLASIM/Data_Plasim_inter/CONTROL_gparea.nc\n",
      "    select_years:\n",
      "    select_years: completed in 0.9 s\n",
      "    select_lonlat:\n",
      "    select_lonlat: completed in 0.2 s\n",
      "    First valid path found in /local/gmiloshe/PLASIM/Data_Plasim_inter/CONTROL_lsmask.nc\n",
      "  load_data: completed in 2 min 7.4 s\n",
      "  prepare_XY:\n",
      "    return_threshold = False    \n",
      "    make_XY:\n",
      "      make_X:\n",
      "      make_X: completed in 0.0 s\n",
      "      assign_labels:\n",
      "        A_weights = None\n",
      "        compute_time_average:\n",
      "          compute_area_integral:\n",
      "          compute_area_integral: completed in 0.2 s\n",
      "        compute_time_average: completed in 0.3 s\n",
      "        threshold = 2.806813\n",
      "      assign_labels: completed in 0.3 s\n",
      "    make_XY: completed in 0.4 s\n",
      "    roll_X:\n",
      "    roll_X: completed in 0.0 s\n",
      "    Mixing\n",
      "     label_period_start = 30 ;time_start = 30 ;time_end = 120 ;label_period_end = 120 \n",
      "    Y.shape = (100, 77), from 0 to 77 \n",
      "    balance_folds:\n",
      "      Balancing folds\n",
      "      fold 3 done!\n",
      "      fold 8 done!\n",
      "      fold 5 done!\n",
      "      fold 4 done!\n",
      "      fold 6 done!\n",
      "      fold 7 done!\n",
      "      fold 9 done!\n",
      "      fold 2 done!\n",
      "      fold 1 done!\n",
      "      fold 0 done!\n",
      "      Sums of the balanced 10 folds:\n",
      "      [35 36 36 37 37 37 37 37 42 51]\n",
      "      std/avg = 0.117\n",
      "      max relative deviation = 32.468\\%\n",
      "    balance_folds: completed in 0.0 s\n",
      "    Mixing completed in 0.0 s\n",
      "    \n",
      "    X.shape = (100, 77, 22, 128, 1), Y.shape = (100, 77)\n",
      "    Flattened time: X.shape = (7700, 22, 128, 1), Y.shape = (7700,)\n",
      "  prepare_XY: completed in 0.4 s\n",
      "prepare_data: completed in 2 min 8.0 s\n"
     ]
    }
   ],
   "source": [
    "X, Y, yp, lat, lon = ln.prepare_data(**prepare_data_kwargs)"
   ]
  },
  {
   "cell_type": "markdown",
   "metadata": {},
   "source": [
    "### Loading parameters from a config file\n",
    "\n",
    "If you want to load your default values from a config file, you can do as follows"
   ]
  },
  {
   "cell_type": "code",
   "execution_count": 16,
   "metadata": {},
   "outputs": [
    {
     "name": "stdout",
     "output_type": "stream",
     "text": [
      "{\n",
      "    \"run_kwargs\": {\n",
      "        \"log_level\": 20,\n",
      "        \"load_data_kwargs\": {\n",
      "            \"dataset_years\": 8000,\n",
      "            \"year_list\": null,\n",
      "            \"sampling\": \"\",\n",
      "            \"Model\": \"Plasim\",\n",
      "            \"area\": \"France\",\n",
      "            \"filter_area\": \"France\",\n",
      "            \"lon_start\": 0,\n",
      "            \"lon_end\": 128,\n",
      "            \"lat_start\": 0,\n",
      "            \"lat_end\": 22,\n",
      "            \"mylocal\": \"/local/gmiloshe/PLASIM/\",\n",
      "            \"fields\": [\n",
      "                \"t2m\",\n",
      "                \"zg500\",\n",
      "                \"mrso_filtered\"\n",
      "            ]\n",
      "        },\n",
      "        \"prepare_XY_kwargs\": {\n",
      "            \"do_premix\": false,\n",
      "            \"premix_seed\": 0,\n",
      "            \"do_balance_folds\": true,\n",
      "            \"nfolds\": 10,\n",
      "            \"year_permutation\": null,\n",
      "            \"flatten_time_axis\": true,\n",
      "            \"make_XY_kwargs\": {\n",
      "                \"label_field\": \"t2m\",\n",
      "                \"time_start\": 30,\n",
      "                \"time_end\": 120,\n",
      "                \"T\": 14,\n",
      "                \"tau\": 0,\n",
      "                \"percent\": 5,\n",
      "                \"threshold\": null\n",
      "            },\n",
      "            \"roll_X_kwargs\": {\n",
      "                \"roll_axis\": \"lon\",\n",
      "                \"roll_steps\": 64\n",
      "            }\n",
      "        },\n",
      "        \"k_fold_cross_val_kwargs\": {\n",
      "            \"load_from\": \"last\",\n",
      "            \"nfolds\": 10,\n",
      "            \"val_folds\": 1,\n",
      "            \"u\": 1,\n",
      "            \"fullmetrics\": true,\n",
      "            \"training_epochs\": 40,\n",
      "            \"training_epochs_tl\": 10,\n",
      "            \"loss\": \"sparse_categorical_crossentropy\",\n",
      "            \"lr\": 0.0001,\n",
      "            \"create_model_kwargs\": {\n",
      "                \"conv_channels\": [\n",
      "                    32,\n",
      "                    64,\n",
      "                    64\n",
      "                ],\n",
      "                \"kernel_sizes\": 3,\n",
      "                \"strides\": 1,\n",
      "                \"batch_normalizations\": true,\n",
      "                \"conv_activations\": \"relu\",\n",
      "                \"conv_dropouts\": 0.2,\n",
      "                \"max_pool_sizes\": [\n",
      "                    2,\n",
      "                    2,\n",
      "                    false\n",
      "                ],\n",
      "                \"dense_units\": [\n",
      "                    64,\n",
      "                    2\n",
      "                ],\n",
      "                \"dense_activations\": [\n",
      "                    \"relu\",\n",
      "                    null\n",
      "                ],\n",
      "                \"dense_dropouts\": [\n",
      "                    0.2,\n",
      "                    false\n",
      "                ]\n",
      "            },\n",
      "            \"train_model_kwargs\": {\n",
      "                \"enable_early_stopping\": false,\n",
      "                \"batch_size\": 1024,\n",
      "                \"checkpoint_every\": 1,\n",
      "                \"additional_callbacks\": [\n",
      "                    \"csv_logger\"\n",
      "                ],\n",
      "                \"early_stopping_kwargs\": {\n",
      "                    \"monitor\": \"val_CustomLoss\",\n",
      "                    \"min_delta\": 0,\n",
      "                    \"patience\": 0,\n",
      "                    \"mode\": \"auto\"\n",
      "                }\n",
      "            },\n",
      "            \"optimal_checkpoint_kwargs\": {\n",
      "                \"metric\": \"val_CustomLoss\",\n",
      "                \"direction\": \"minimize\",\n",
      "                \"first_epoch\": 1,\n",
      "                \"collective\": true,\n",
      "                \"bypass\": null\n",
      "            }\n",
      "        }\n",
      "    },\n",
      "    \"telegram_kwargs\": {\n",
      "        \"telegram_bot_token\": \"~/ENSMLbot.txt\",\n",
      "        \"chat_ID\": null,\n",
      "        \"telegram_logging_level\": 31,\n",
      "        \"telegram_logging_format\": null\n",
      "    }\n",
      "}\n",
      "\n",
      "\n",
      "\n",
      "{\n",
      "    \"log_level\": 20,\n",
      "    \"dataset_years\": 8000,\n",
      "    \"year_list\": null,\n",
      "    \"sampling\": \"\",\n",
      "    \"Model\": \"Plasim\",\n",
      "    \"area\": \"France\",\n",
      "    \"filter_area\": \"France\",\n",
      "    \"lon_start\": 0,\n",
      "    \"lon_end\": 128,\n",
      "    \"lat_start\": 0,\n",
      "    \"lat_end\": 22,\n",
      "    \"mylocal\": \"/local/gmiloshe/PLASIM/\",\n",
      "    \"fields\": [\n",
      "        \"t2m\",\n",
      "        \"zg500\",\n",
      "        \"mrso_filtered\"\n",
      "    ],\n",
      "    \"do_premix\": false,\n",
      "    \"premix_seed\": 0,\n",
      "    \"do_balance_folds\": true,\n",
      "    \"nfolds\": 10,\n",
      "    \"year_permutation\": null,\n",
      "    \"flatten_time_axis\": true,\n",
      "    \"label_field\": \"t2m\",\n",
      "    \"time_start\": 30,\n",
      "    \"time_end\": 120,\n",
      "    \"T\": 14,\n",
      "    \"tau\": 0,\n",
      "    \"percent\": 5,\n",
      "    \"threshold\": null,\n",
      "    \"roll_axis\": \"lon\",\n",
      "    \"roll_steps\": 64,\n",
      "    \"load_from\": \"last\",\n",
      "    \"val_folds\": 1,\n",
      "    \"u\": 1,\n",
      "    \"fullmetrics\": true,\n",
      "    \"training_epochs\": 40,\n",
      "    \"training_epochs_tl\": 10,\n",
      "    \"loss\": \"sparse_categorical_crossentropy\",\n",
      "    \"lr\": 0.0001,\n",
      "    \"conv_channels\": [\n",
      "        32,\n",
      "        64,\n",
      "        64\n",
      "    ],\n",
      "    \"kernel_sizes\": 3,\n",
      "    \"strides\": 1,\n",
      "    \"batch_normalizations\": true,\n",
      "    \"conv_activations\": \"relu\",\n",
      "    \"conv_dropouts\": 0.2,\n",
      "    \"max_pool_sizes\": [\n",
      "        2,\n",
      "        2,\n",
      "        false\n",
      "    ],\n",
      "    \"dense_units\": [\n",
      "        64,\n",
      "        2\n",
      "    ],\n",
      "    \"dense_activations\": [\n",
      "        \"relu\",\n",
      "        null\n",
      "    ],\n",
      "    \"dense_dropouts\": [\n",
      "        0.2,\n",
      "        false\n",
      "    ],\n",
      "    \"enable_early_stopping\": false,\n",
      "    \"batch_size\": 1024,\n",
      "    \"checkpoint_every\": 1,\n",
      "    \"additional_callbacks\": [\n",
      "        \"csv_logger\"\n",
      "    ],\n",
      "    \"monitor\": \"val_CustomLoss\",\n",
      "    \"min_delta\": 0,\n",
      "    \"patience\": 0,\n",
      "    \"mode\": \"auto\",\n",
      "    \"metric\": \"val_CustomLoss\",\n",
      "    \"direction\": \"minimize\",\n",
      "    \"first_epoch\": 1,\n",
      "    \"collective\": true,\n",
      "    \"bypass\": null,\n",
      "    \"telegram_bot_token\": \"~/ENSMLbot.txt\",\n",
      "    \"chat_ID\": null,\n",
      "    \"telegram_logging_level\": 31,\n",
      "    \"telegram_logging_format\": null\n",
      "}\n"
     ]
    }
   ],
   "source": [
    "config_dict = ut.json2dict('example_config.json') # load the config file\n",
    "print(ut.dict2str(config_dict))\n",
    "print('\\n\\n')\n",
    "config_dict_flat = ut.collapse_dict(config_dict) # flatten the dictionary\n",
    "print(ut.dict2str(config_dict_flat))"
   ]
  },
  {
   "cell_type": "code",
   "execution_count": 17,
   "metadata": {},
   "outputs": [
    {
     "name": "stdout",
     "output_type": "stream",
     "text": [
      "{\n",
      "    \"load_data_kwargs\": {\n",
      "        \"dataset_years\": 8000,\n",
      "        \"year_list\": null,\n",
      "        \"sampling\": \"\",\n",
      "        \"Model\": \"Plasim\",\n",
      "        \"area\": \"France\",\n",
      "        \"filter_area\": \"France\",\n",
      "        \"lon_start\": 0,\n",
      "        \"lon_end\": 128,\n",
      "        \"lat_start\": 0,\n",
      "        \"lat_end\": 22,\n",
      "        \"mylocal\": \"/local/gmiloshe/PLASIM/\",\n",
      "        \"fields\": [\n",
      "            \"t2m\",\n",
      "            \"zg500\",\n",
      "            \"mrso_filtered\"\n",
      "        ],\n",
      "        \"preprefix\": \"ANO_\",\n",
      "        \"datafolder\": \"Data_Plasim\"\n",
      "    },\n",
      "    \"prepare_XY_kwargs\": {\n",
      "        \"do_premix\": false,\n",
      "        \"premix_seed\": 0,\n",
      "        \"do_balance_folds\": true,\n",
      "        \"nfolds\": 10,\n",
      "        \"year_permutation\": null,\n",
      "        \"flatten_time_axis\": true,\n",
      "        \"return_time_series\": false,\n",
      "        \"make_XY_kwargs\": {\n",
      "            \"label_field\": \"t2m\",\n",
      "            \"time_start\": 30,\n",
      "            \"time_end\": 120,\n",
      "            \"T\": 14,\n",
      "            \"tau\": 0,\n",
      "            \"percent\": 5,\n",
      "            \"threshold\": null,\n",
      "            \"label_period_start\": null,\n",
      "            \"label_period_end\": null,\n",
      "            \"A_weights\": null,\n",
      "            \"return_threshold\": false\n",
      "        },\n",
      "        \"roll_X_kwargs\": {\n",
      "            \"roll_axis\": \"lon\",\n",
      "            \"roll_steps\": 64\n",
      "        }\n",
      "    }\n",
      "}\n"
     ]
    }
   ],
   "source": [
    "ut.set_values_recursive(prepare_data_kwargs_default, config_dict_flat, inplace=True) # set all values in prepare_data_kwargs_default to the one that appear in config_dict_flat\n",
    "print(ut.dict2str(prepare_data_kwargs_default))"
   ]
  },
  {
   "cell_type": "markdown",
   "metadata": {},
   "source": [
    "We had to do this way because `prepare_data_kwargs` is not a key of the config dictionary. Let's say instead you wanted the default arguments for the function `make_XY`, you could have simply done"
   ]
  },
  {
   "cell_type": "code",
   "execution_count": 18,
   "metadata": {},
   "outputs": [
    {
     "name": "stdout",
     "output_type": "stream",
     "text": [
      "{\n",
      "    \"label_field\": \"t2m\",\n",
      "    \"time_start\": 30,\n",
      "    \"time_end\": 120,\n",
      "    \"T\": 14,\n",
      "    \"tau\": 0,\n",
      "    \"percent\": 5,\n",
      "    \"threshold\": null\n",
      "}\n"
     ]
    }
   ],
   "source": [
    "make_XY_kwargs_default = ut.extract_nested(config_dict, 'make_XY_kwargs')\n",
    "print(ut.dict2str(make_XY_kwargs_default))"
   ]
  },
  {
   "cell_type": "markdown",
   "metadata": {},
   "source": [
    "Where the function `ut.extract_nested` allows to obtain a key from a nested dictionary regardless of the level of indentation"
   ]
  },
  {
   "cell_type": "code",
   "execution_count": 19,
   "metadata": {},
   "outputs": [
    {
     "data": {
      "text/plain": [
       "array([87.86379884, 85.09652699, 82.31291295, 79.52560657, 76.73689968,\n",
       "       73.94751515, 71.15775201, 68.36775611, 65.57760701, 62.7873518 ,\n",
       "       59.99702011, 57.20663153, 54.41619953, 51.62573367, 48.83524097,\n",
       "       46.04472663, 43.25419467, 40.46364818, 37.67308963, 34.88252099,\n",
       "       32.09194388, 29.30135962])"
      ]
     },
     "execution_count": 19,
     "metadata": {},
     "output_type": "execute_result"
    }
   ],
   "source": [
    "lat"
   ]
  },
  {
   "attachments": {},
   "cell_type": "markdown",
   "metadata": {},
   "source": [
    "# Plotting tools"
   ]
  },
  {
   "cell_type": "code",
   "execution_count": 20,
   "metadata": {},
   "outputs": [
    {
     "name": "stdout",
     "output_type": "stream",
     "text": [
      "norm = <matplotlib.colors.TwoSlopeNorm object at 0x7f79fb6aeee0>\n"
     ]
    },
    {
     "name": "stderr",
     "output_type": "stream",
     "text": [
      "/ClimateDynamics/MediumSpace/ClimateLearningFR/gmiloshe/general_purpose/cartopy_plots.py:138: MatplotlibDeprecationWarning: The 'extend' parameter to Colorbar has no effect because it is overridden by the mappable; it is deprecated since 3.3 and will be removed two minor releases later.\n",
      "  plt.colorbar(im, label=colorbar_label, extend='both')\n"
     ]
    },
    {
     "data": {
      "text/plain": [
       "<GeoAxesSubplot:>"
      ]
     },
     "execution_count": 20,
     "metadata": {},
     "output_type": "execute_result"
    },
    {
     "data": {
      "text/plain": [
       "<Figure size 648x432 with 0 Axes>"
      ]
     },
     "metadata": {},
     "output_type": "display_data"
    },
    {
     "data": {
      "image/png": "[encoded data removed]",
      "text/plain": [
       "<Figure size 648x432 with 2 Axes>"
      ]
     },
     "metadata": {
      "needs_background": "light"
     },
     "output_type": "display_data"
    }
   ],
   "source": [
    "import cartopy.crs as ccrs\n",
    "import general_purpose.cartopy_plots as cplt\n",
    "import matplotlib.pyplot as plt\n",
    "import numpy as np\n",
    "fig = plt.figure(figsize=(9,6))\n",
    "LON, LAT = np.meshgrid(lon,lat)\n",
    "cplt.multiple_field_plot2(LON, LAT, X[0,...],projections=[ccrs.Orthographic(10, 55)],\n",
    "                         fig_num=8, put_colorbar=True,\n",
    "                         extents=[None, None, (-5, 10, 39, 60)],\n",
    "                         mode='contourf',draw_labels=False,draw_gridlines=False,\n",
    "                        )"
   ]
  },
  {
   "cell_type": "code",
   "execution_count": 22,
   "metadata": {},
   "outputs": [],
   "source": [
    "import xarray as xr\n",
    "dtset = xr.open_dataset('/local/gmiloshe/PLASIM/Data_Plasim_LONG/LONG_tas.nc')"
   ]
  },
  {
   "cell_type": "code",
   "execution_count": 27,
   "metadata": {},
   "outputs": [
    {
     "data": {
      "text/html": [
       "<div><svg style=\"position: absolute; width: 0; height: 0; overflow: hidden\">\n",
       "<defs>\n",
       "<symbol id=\"icon-database\" viewBox=\"0 0 32 32\">\n",
       "<path d=\"M16 0c-8.837 0-16 2.239-16 5v4c0 2.761 7.163 5 16 5s16-2.239 16-5v-4c0-2.761-7.163-5-16-5z\"></path>\n",
       "<path d=\"M16 17c-8.837 0-16-2.239-16-5v6c0 2.761 7.163 5 16 5s16-2.239 16-5v-6c0 2.761-7.163 5-16 5z\"></path>\n",
       "<path d=\"M16 26c-8.837 0-16-2.239-16-5v6c0 2.761 7.163 5 16 5s16-2.239 16-5v-6c0 2.761-7.163 5-16 5z\"></path>\n",
       "</symbol>\n",
       "<symbol id=\"icon-file-text2\" viewBox=\"0 0 32 32\">\n",
       "<path d=\"M28.681 7.159c-0.694-0.947-1.662-2.053-2.724-3.116s-2.169-2.030-3.116-2.724c-1.612-1.182-2.393-1.319-2.841-1.319h-15.5c-1.378 0-2.5 1.121-2.5 2.5v27c0 1.378 1.122 2.5 2.5 2.5h23c1.378 0 2.5-1.122 2.5-2.5v-19.5c0-0.448-0.137-1.23-1.319-2.841zM24.543 5.457c0.959 0.959 1.712 1.825 2.268 2.543h-4.811v-4.811c0.718 0.556 1.584 1.309 2.543 2.268zM28 29.5c0 0.271-0.229 0.5-0.5 0.5h-23c-0.271 0-0.5-0.229-0.5-0.5v-27c0-0.271 0.229-0.5 0.5-0.5 0 0 15.499-0 15.5 0v7c0 0.552 0.448 1 1 1h7v19.5z\"></path>\n",
       "<path d=\"M23 26h-14c-0.552 0-1-0.448-1-1s0.448-1 1-1h14c0.552 0 1 0.448 1 1s-0.448 1-1 1z\"></path>\n",
       "<path d=\"M23 22h-14c-0.552 0-1-0.448-1-1s0.448-1 1-1h14c0.552 0 1 0.448 1 1s-0.448 1-1 1z\"></path>\n",
       "<path d=\"M23 18h-14c-0.552 0-1-0.448-1-1s0.448-1 1-1h14c0.552 0 1 0.448 1 1s-0.448 1-1 1z\"></path>\n",
       "</symbol>\n",
       "</defs>\n",
       "</svg>\n",
       "<style>/* CSS stylesheet for displaying xarray objects in jupyterlab.\n",
       " *\n",
       " */\n",
       "\n",
       ":root {\n",
       "  --xr-font-color0: var(--jp-content-font-color0, rgba(0, 0, 0, 1));\n",
       "  --xr-font-color2: var(--jp-content-font-color2, rgba(0, 0, 0, 0.54));\n",
       "  --xr-font-color3: var(--jp-content-font-color3, rgba(0, 0, 0, 0.38));\n",
       "  --xr-border-color: var(--jp-border-color2, #e0e0e0);\n",
       "  --xr-disabled-color: var(--jp-layout-color3, #bdbdbd);\n",
       "  --xr-background-color: var(--jp-layout-color0, white);\n",
       "  --xr-background-color-row-even: var(--jp-layout-color1, white);\n",
       "  --xr-background-color-row-odd: var(--jp-layout-color2, #eeeeee);\n",
       "}\n",
       "\n",
       "html[theme=dark],\n",
       "body.vscode-dark {\n",
       "  --xr-font-color0: rgba(255, 255, 255, 1);\n",
       "  --xr-font-color2: rgba(255, 255, 255, 0.54);\n",
       "  --xr-font-color3: rgba(255, 255, 255, 0.38);\n",
       "  --xr-border-color: #1F1F1F;\n",
       "  --xr-disabled-color: #515151;\n",
       "  --xr-background-color: #111111;\n",
       "  --xr-background-color-row-even: #111111;\n",
       "  --xr-background-color-row-odd: #313131;\n",
       "}\n",
       "\n",
       ".xr-wrap {\n",
       "  display: block;\n",
       "  min-width: 300px;\n",
       "  max-width: 700px;\n",
       "}\n",
       "\n",
       ".xr-text-repr-fallback {\n",
       "  /* fallback to plain text repr when CSS is not injected (untrusted notebook) */\n",
       "  display: none;\n",
       "}\n",
       "\n",
       ".xr-header {\n",
       "  padding-top: 6px;\n",
       "  padding-bottom: 6px;\n",
       "  margin-bottom: 4px;\n",
       "  border-bottom: solid 1px var(--xr-border-color);\n",
       "}\n",
       "\n",
       ".xr-header > div,\n",
       ".xr-header > ul {\n",
       "  display: inline;\n",
       "  margin-top: 0;\n",
       "  margin-bottom: 0;\n",
       "}\n",
       "\n",
       ".xr-obj-type,\n",
       ".xr-array-name {\n",
       "  margin-left: 2px;\n",
       "  margin-right: 10px;\n",
       "}\n",
       "\n",
       ".xr-obj-type {\n",
       "  color: var(--xr-font-color2);\n",
       "}\n",
       "\n",
       ".xr-sections {\n",
       "  padding-left: 0 !important;\n",
       "  display: grid;\n",
       "  grid-template-columns: 150px auto auto 1fr 20px 20px;\n",
       "}\n",
       "\n",
       ".xr-section-item {\n",
       "  display: contents;\n",
       "}\n",
       "\n",
       ".xr-section-item input {\n",
       "  display: none;\n",
       "}\n",
       "\n",
       ".xr-section-item input + label {\n",
       "  color: var(--xr-disabled-color);\n",
       "}\n",
       "\n",
       ".xr-section-item input:enabled + label {\n",
       "  cursor: pointer;\n",
       "  color: var(--xr-font-color2);\n",
       "}\n",
       "\n",
       ".xr-section-item input:enabled + label:hover {\n",
       "  color: var(--xr-font-color0);\n",
       "}\n",
       "\n",
       ".xr-section-summary {\n",
       "  grid-column: 1;\n",
       "  color: var(--xr-font-color2);\n",
       "  font-weight: 500;\n",
       "}\n",
       "\n",
       ".xr-section-summary > span {\n",
       "  display: inline-block;\n",
       "  padding-left: 0.5em;\n",
       "}\n",
       "\n",
       ".xr-section-summary-in:disabled + label {\n",
       "  color: var(--xr-font-color2);\n",
       "}\n",
       "\n",
       ".xr-section-summary-in + label:before {\n",
       "  display: inline-block;\n",
       "  content: '►';\n",
       "  font-size: 11px;\n",
       "  width: 15px;\n",
       "  text-align: center;\n",
       "}\n",
       "\n",
       ".xr-section-summary-in:disabled + label:before {\n",
       "  color: var(--xr-disabled-color);\n",
       "}\n",
       "\n",
       ".xr-section-summary-in:checked + label:before {\n",
       "  content: '▼';\n",
       "}\n",
       "\n",
       ".xr-section-summary-in:checked + label > span {\n",
       "  display: none;\n",
       "}\n",
       "\n",
       ".xr-section-summary,\n",
       ".xr-section-inline-details {\n",
       "  padding-top: 4px;\n",
       "  padding-bottom: 4px;\n",
       "}\n",
       "\n",
       ".xr-section-inline-details {\n",
       "  grid-column: 2 / -1;\n",
       "}\n",
       "\n",
       ".xr-section-details {\n",
       "  display: none;\n",
       "  grid-column: 1 / -1;\n",
       "  margin-bottom: 5px;\n",
       "}\n",
       "\n",
       ".xr-section-summary-in:checked ~ .xr-section-details {\n",
       "  display: contents;\n",
       "}\n",
       "\n",
       ".xr-array-wrap {\n",
       "  grid-column: 1 / -1;\n",
       "  display: grid;\n",
       "  grid-template-columns: 20px auto;\n",
       "}\n",
       "\n",
       ".xr-array-wrap > label {\n",
       "  grid-column: 1;\n",
       "  vertical-align: top;\n",
       "}\n",
       "\n",
       ".xr-preview {\n",
       "  color: var(--xr-font-color3);\n",
       "}\n",
       "\n",
       ".xr-array-preview,\n",
       ".xr-array-data {\n",
       "  padding: 0 5px !important;\n",
       "  grid-column: 2;\n",
       "}\n",
       "\n",
       ".xr-array-data,\n",
       ".xr-array-in:checked ~ .xr-array-preview {\n",
       "  display: none;\n",
       "}\n",
       "\n",
       ".xr-array-in:checked ~ .xr-array-data,\n",
       ".xr-array-preview {\n",
       "  display: inline-block;\n",
       "}\n",
       "\n",
       ".xr-dim-list {\n",
       "  display: inline-block !important;\n",
       "  list-style: none;\n",
       "  padding: 0 !important;\n",
       "  margin: 0;\n",
       "}\n",
       "\n",
       ".xr-dim-list li {\n",
       "  display: inline-block;\n",
       "  padding: 0;\n",
       "  margin: 0;\n",
       "}\n",
       "\n",
       ".xr-dim-list:before {\n",
       "  content: '(';\n",
       "}\n",
       "\n",
       ".xr-dim-list:after {\n",
       "  content: ')';\n",
       "}\n",
       "\n",
       ".xr-dim-list li:not(:last-child):after {\n",
       "  content: ',';\n",
       "  padding-right: 5px;\n",
       "}\n",
       "\n",
       ".xr-has-index {\n",
       "  font-weight: bold;\n",
       "}\n",
       "\n",
       ".xr-var-list,\n",
       ".xr-var-item {\n",
       "  display: contents;\n",
       "}\n",
       "\n",
       ".xr-var-item > div,\n",
       ".xr-var-item label,\n",
       ".xr-var-item > .xr-var-name span {\n",
       "  background-color: var(--xr-background-color-row-even);\n",
       "  margin-bottom: 0;\n",
       "}\n",
       "\n",
       ".xr-var-item > .xr-var-name:hover span {\n",
       "  padding-right: 5px;\n",
       "}\n",
       "\n",
       ".xr-var-list > li:nth-child(odd) > div,\n",
       ".xr-var-list > li:nth-child(odd) > label,\n",
       ".xr-var-list > li:nth-child(odd) > .xr-var-name span {\n",
       "  background-color: var(--xr-background-color-row-odd);\n",
       "}\n",
       "\n",
       ".xr-var-name {\n",
       "  grid-column: 1;\n",
       "}\n",
       "\n",
       ".xr-var-dims {\n",
       "  grid-column: 2;\n",
       "}\n",
       "\n",
       ".xr-var-dtype {\n",
       "  grid-column: 3;\n",
       "  text-align: right;\n",
       "  color: var(--xr-font-color2);\n",
       "}\n",
       "\n",
       ".xr-var-preview {\n",
       "  grid-column: 4;\n",
       "}\n",
       "\n",
       ".xr-var-name,\n",
       ".xr-var-dims,\n",
       ".xr-var-dtype,\n",
       ".xr-preview,\n",
       ".xr-attrs dt {\n",
       "  white-space: nowrap;\n",
       "  overflow: hidden;\n",
       "  text-overflow: ellipsis;\n",
       "  padding-right: 10px;\n",
       "}\n",
       "\n",
       ".xr-var-name:hover,\n",
       ".xr-var-dims:hover,\n",
       ".xr-var-dtype:hover,\n",
       ".xr-attrs dt:hover {\n",
       "  overflow: visible;\n",
       "  width: auto;\n",
       "  z-index: 1;\n",
       "}\n",
       "\n",
       ".xr-var-attrs,\n",
       ".xr-var-data {\n",
       "  display: none;\n",
       "  background-color: var(--xr-background-color) !important;\n",
       "  padding-bottom: 5px !important;\n",
       "}\n",
       "\n",
       ".xr-var-attrs-in:checked ~ .xr-var-attrs,\n",
       ".xr-var-data-in:checked ~ .xr-var-data {\n",
       "  display: block;\n",
       "}\n",
       "\n",
       ".xr-var-data > table {\n",
       "  float: right;\n",
       "}\n",
       "\n",
       ".xr-var-name span,\n",
       ".xr-var-data,\n",
       ".xr-attrs {\n",
       "  padding-left: 25px !important;\n",
       "}\n",
       "\n",
       ".xr-attrs,\n",
       ".xr-var-attrs,\n",
       ".xr-var-data {\n",
       "  grid-column: 1 / -1;\n",
       "}\n",
       "\n",
       "dl.xr-attrs {\n",
       "  padding: 0;\n",
       "  margin: 0;\n",
       "  display: grid;\n",
       "  grid-template-columns: 125px auto;\n",
       "}\n",
       "\n",
       ".xr-attrs dt,\n",
       ".xr-attrs dd {\n",
       "  padding: 0;\n",
       "  margin: 0;\n",
       "  float: left;\n",
       "  padding-right: 10px;\n",
       "  width: auto;\n",
       "}\n",
       "\n",
       ".xr-attrs dt {\n",
       "  font-weight: normal;\n",
       "  grid-column: 1;\n",
       "}\n",
       "\n",
       ".xr-attrs dt:hover span {\n",
       "  display: inline-block;\n",
       "  background: var(--xr-background-color);\n",
       "  padding-right: 10px;\n",
       "}\n",
       "\n",
       ".xr-attrs dd {\n",
       "  grid-column: 2;\n",
       "  white-space: pre-wrap;\n",
       "  word-break: break-all;\n",
       "}\n",
       "\n",
       ".xr-icon-database,\n",
       ".xr-icon-file-text2 {\n",
       "  display: inline-block;\n",
       "  vertical-align: middle;\n",
       "  width: 1em;\n",
       "  height: 1.5em !important;\n",
       "  stroke-width: 0;\n",
       "  stroke: currentColor;\n",
       "  fill: currentColor;\n",
       "}\n",
       "</style><pre class='xr-text-repr-fallback'>&lt;xarray.DataArray &#x27;lat&#x27; (lat: 64)&gt;\n",
       "array([-87.863799, -85.096527, -82.312913, -79.525607, -76.7369  , -73.947515,\n",
       "       -71.157752, -68.367756, -65.577607, -62.787352, -59.99702 , -57.206632,\n",
       "       -54.4162  , -51.625734, -48.835241, -46.044727, -43.254195, -40.463648,\n",
       "       -37.67309 , -34.882521, -32.091944, -29.30136 , -26.510769, -23.720174,\n",
       "       -20.929574, -18.138971, -15.348365, -12.557756,  -9.767146,  -6.976534,\n",
       "        -4.185921,  -1.395307,   1.395307,   4.185921,   6.976534,   9.767146,\n",
       "        12.557756,  15.348365,  18.138971,  20.929574,  23.720174,  26.510769,\n",
       "        29.30136 ,  32.091944,  34.882521,  37.67309 ,  40.463648,  43.254195,\n",
       "        46.044727,  48.835241,  51.625734,  54.4162  ,  57.206632,  59.99702 ,\n",
       "        62.787352,  65.577607,  68.367756,  71.157752,  73.947515,  76.7369  ,\n",
       "        79.525607,  82.312913,  85.096527,  87.863799])\n",
       "Coordinates:\n",
       "  * lat      (lat) float64 -87.86 -85.1 -82.31 -79.53 ... 79.53 82.31 85.1 87.86\n",
       "Attributes:\n",
       "    standard_name:  latitude\n",
       "    long_name:      latitude\n",
       "    units:          degrees_north\n",
       "    axis:           Y</pre><div class='xr-wrap' hidden><div class='xr-header'><div class='xr-obj-type'>xarray.DataArray</div><div class='xr-array-name'>'lat'</div><ul class='xr-dim-list'><li><span class='xr-has-index'>lat</span>: 64</li></ul></div><ul class='xr-sections'><li class='xr-section-item'><div class='xr-array-wrap'><input id='section-94f3b408-328f-41fe-bf69-f4314212affc' class='xr-array-in' type='checkbox' checked><label for='section-94f3b408-328f-41fe-bf69-f4314212affc' title='Show/hide data repr'><svg class='icon xr-icon-database'><use xlink:href='#icon-database'></use></svg></label><div class='xr-array-preview xr-preview'><span>-87.86 -85.1 -82.31 -79.53 -76.74 ... 76.74 79.53 82.31 85.1 87.86</span></div><div class='xr-array-data'><pre>array([-87.863799, -85.096527, -82.312913, -79.525607, -76.7369  , -73.947515,\n",
       "       -71.157752, -68.367756, -65.577607, -62.787352, -59.99702 , -57.206632,\n",
       "       -54.4162  , -51.625734, -48.835241, -46.044727, -43.254195, -40.463648,\n",
       "       -37.67309 , -34.882521, -32.091944, -29.30136 , -26.510769, -23.720174,\n",
       "       -20.929574, -18.138971, -15.348365, -12.557756,  -9.767146,  -6.976534,\n",
       "        -4.185921,  -1.395307,   1.395307,   4.185921,   6.976534,   9.767146,\n",
       "        12.557756,  15.348365,  18.138971,  20.929574,  23.720174,  26.510769,\n",
       "        29.30136 ,  32.091944,  34.882521,  37.67309 ,  40.463648,  43.254195,\n",
       "        46.044727,  48.835241,  51.625734,  54.4162  ,  57.206632,  59.99702 ,\n",
       "        62.787352,  65.577607,  68.367756,  71.157752,  73.947515,  76.7369  ,\n",
       "        79.525607,  82.312913,  85.096527,  87.863799])</pre></div></div></li><li class='xr-section-item'><input id='section-7707fc3c-e098-43a4-823b-2a8bb3199ff9' class='xr-section-summary-in' type='checkbox'  checked><label for='section-7707fc3c-e098-43a4-823b-2a8bb3199ff9' class='xr-section-summary' >Coordinates: <span>(1)</span></label><div class='xr-section-inline-details'></div><div class='xr-section-details'><ul class='xr-var-list'><li class='xr-var-item'><div class='xr-var-name'><span class='xr-has-index'>lat</span></div><div class='xr-var-dims'>(lat)</div><div class='xr-var-dtype'>float64</div><div class='xr-var-preview xr-preview'>-87.86 -85.1 -82.31 ... 85.1 87.86</div><input id='attrs-d1770d75-bd46-4e48-acbe-0f49742fd98f' class='xr-var-attrs-in' type='checkbox' ><label for='attrs-d1770d75-bd46-4e48-acbe-0f49742fd98f' title='Show/Hide attributes'><svg class='icon xr-icon-file-text2'><use xlink:href='#icon-file-text2'></use></svg></label><input id='data-078b9a92-4159-4fcd-bb0e-c95cf26b570f' class='xr-var-data-in' type='checkbox'><label for='data-078b9a92-4159-4fcd-bb0e-c95cf26b570f' title='Show/Hide data repr'><svg class='icon xr-icon-database'><use xlink:href='#icon-database'></use></svg></label><div class='xr-var-attrs'><dl class='xr-attrs'><dt><span>standard_name :</span></dt><dd>latitude</dd><dt><span>long_name :</span></dt><dd>latitude</dd><dt><span>units :</span></dt><dd>degrees_north</dd><dt><span>axis :</span></dt><dd>Y</dd></dl></div><div class='xr-var-data'><pre>array([-87.863799, -85.096527, -82.312913, -79.525607, -76.7369  , -73.947515,\n",
       "       -71.157752, -68.367756, -65.577607, -62.787352, -59.99702 , -57.206632,\n",
       "       -54.4162  , -51.625734, -48.835241, -46.044727, -43.254195, -40.463648,\n",
       "       -37.67309 , -34.882521, -32.091944, -29.30136 , -26.510769, -23.720174,\n",
       "       -20.929574, -18.138971, -15.348365, -12.557756,  -9.767146,  -6.976534,\n",
       "        -4.185921,  -1.395307,   1.395307,   4.185921,   6.976534,   9.767146,\n",
       "        12.557756,  15.348365,  18.138971,  20.929574,  23.720174,  26.510769,\n",
       "        29.30136 ,  32.091944,  34.882521,  37.67309 ,  40.463648,  43.254195,\n",
       "        46.044727,  48.835241,  51.625734,  54.4162  ,  57.206632,  59.99702 ,\n",
       "        62.787352,  65.577607,  68.367756,  71.157752,  73.947515,  76.7369  ,\n",
       "        79.525607,  82.312913,  85.096527,  87.863799])</pre></div></li></ul></div></li><li class='xr-section-item'><input id='section-085e40f0-7894-4605-92ba-0b78fb7fc3b8' class='xr-section-summary-in' type='checkbox'  checked><label for='section-085e40f0-7894-4605-92ba-0b78fb7fc3b8' class='xr-section-summary' >Attributes: <span>(4)</span></label><div class='xr-section-inline-details'></div><div class='xr-section-details'><dl class='xr-attrs'><dt><span>standard_name :</span></dt><dd>latitude</dd><dt><span>long_name :</span></dt><dd>latitude</dd><dt><span>units :</span></dt><dd>degrees_north</dd><dt><span>axis :</span></dt><dd>Y</dd></dl></div></li></ul></div></div>"
      ],
      "text/plain": [
       "<xarray.DataArray 'lat' (lat: 64)>\n",
       "array([-87.863799, -85.096527, -82.312913, -79.525607, -76.7369  , -73.947515,\n",
       "       -71.157752, -68.367756, -65.577607, -62.787352, -59.99702 , -57.206632,\n",
       "       -54.4162  , -51.625734, -48.835241, -46.044727, -43.254195, -40.463648,\n",
       "       -37.67309 , -34.882521, -32.091944, -29.30136 , -26.510769, -23.720174,\n",
       "       -20.929574, -18.138971, -15.348365, -12.557756,  -9.767146,  -6.976534,\n",
       "        -4.185921,  -1.395307,   1.395307,   4.185921,   6.976534,   9.767146,\n",
       "        12.557756,  15.348365,  18.138971,  20.929574,  23.720174,  26.510769,\n",
       "        29.30136 ,  32.091944,  34.882521,  37.67309 ,  40.463648,  43.254195,\n",
       "        46.044727,  48.835241,  51.625734,  54.4162  ,  57.206632,  59.99702 ,\n",
       "        62.787352,  65.577607,  68.367756,  71.157752,  73.947515,  76.7369  ,\n",
       "        79.525607,  82.312913,  85.096527,  87.863799])\n",
       "Coordinates:\n",
       "  * lat      (lat) float64 -87.86 -85.1 -82.31 -79.53 ... 79.53 82.31 85.1 87.86\n",
       "Attributes:\n",
       "    standard_name:  latitude\n",
       "    long_name:      latitude\n",
       "    units:          degrees_north\n",
       "    axis:           Y"
      ]
     },
     "execution_count": 27,
     "metadata": {},
     "output_type": "execute_result"
    }
   ],
   "source": [
    "_latitudes = dtset.lat.isel(lat=slice(None, None))\n",
    "_latitudes = _latitudes.sortby(_latitudes, ascending=True)\n",
    "_latitudes"
   ]
  },
  {
   "cell_type": "markdown",
   "metadata": {},
   "source": [
    "# Working with the `Trainer` Class\n",
    "\n",
    "Instead of using the module level functions such as `load_data` or `train_model`, you can use the `Trainer` class to a simpler training of the networks and efficient over multiple runs.\n",
    "\n",
    "First create a `Trainer` object in a given work directory. You can avoid the work directory if don't plan to train networks\n",
    "\n",
    "Then you can call the equivalent of module level functions `t.prepare_data`, `t.prepare_XY`, `t.load_data`. If you call them multiple times with the same arguments the values will be cached, the values will be cached so you will save time."
   ]
  },
  {
   "cell_type": "code",
   "execution_count": 2,
   "metadata": {},
   "outputs": [
    {
     "name": "stdout",
     "output_type": "stream",
     "text": [
      "tf.__version__ = '2.4.1'\n",
      "tf.config.list_physical_devices('GPU') = []\n"
     ]
    },
    {
     "name": "stderr",
     "output_type": "stream",
     "text": [
      "/Users/alessandrolovo/Repos/Climate-Learning/PLASIM/Learn2_new.py:1820: UserWarning: \n",
      "This machine does not have a GPU: training may be very slow\n",
      "\n",
      "  warnings.warn('\\nThis machine does not have a GPU: training may be very slow\\n')\n"
     ]
    }
   ],
   "source": [
    "# create a work directory\n",
    "work_dir = './test'\n",
    "\n",
    "t = ln.Trainer(work_dir)"
   ]
  },
  {
   "cell_type": "markdown",
   "metadata": {},
   "source": [
    "Be careful if you want to train convolutional networks that the machine you are using has a GPU, otherwise training will be very slow"
   ]
  },
  {
   "cell_type": "markdown",
   "metadata": {},
   "source": [
    "The most interesting part is however related to performing full runs. First setup the config dictionary of the trainer object, for example here we want a specific network architecture"
   ]
  },
  {
   "cell_type": "code",
   "execution_count": 9,
   "metadata": {},
   "outputs": [
    {
     "name": "stdout",
     "output_type": "stream",
     "text": [
      "{\n",
      "    \"conv_channels\": [\n",
      "        32,\n",
      "        64,\n",
      "        64\n",
      "    ],\n",
      "    \"kernel_sizes\": 3,\n",
      "    \"strides\": 1,\n",
      "    \"batch_normalizations\": true,\n",
      "    \"conv_activations\": \"relu\",\n",
      "    \"conv_dropouts\": 0.2,\n",
      "    \"max_pool_sizes\": [\n",
      "        2,\n",
      "        2,\n",
      "        false\n",
      "    ],\n",
      "    \"dense_units\": [\n",
      "        64,\n",
      "        2\n",
      "    ],\n",
      "    \"dense_activations\": [\n",
      "        \"relu\",\n",
      "        null\n",
      "    ],\n",
      "    \"dense_dropouts\": [\n",
      "        0.2,\n",
      "        false\n",
      "    ]\n",
      "}\n"
     ]
    }
   ],
   "source": [
    "print(ut.dict2str(ut.extract_nested(t.config_dict, 'create_model_kwargs')))"
   ]
  },
  {
   "cell_type": "code",
   "execution_count": null,
   "metadata": {},
   "outputs": [],
   "source": [
    "d = {\n",
    "    'conv_channels': [64, 24], # set number of convolutional kernels per layer\n",
    "    'kernel_sizes': [7, 3],\n",
    "    'strides': [3, 2],\n",
    "    'batch_normalization': False, # disable batch normalization\n",
    "    'max_pool_sizes': False, # disable max pool\n",
    "    'conv_dropout': False, # disable dropout in the convolutional layer\n",
    "\n",
    "    'dense_units': [128, 64, 16, 2], # number of neurons per fully connected layer\n",
    "    'dense_dropouts': [0.5, 0.5, 0.1, 0],\n",
    "    'dense_activations': ['relu', 'relu', 'relu', None]\n",
    "}\n",
    "\n",
    "ut.set_values_recursive(t.config_dict, d, inplace=True)\n",
    "print(ut.dict2str(t.config_dict))"
   ]
  },
  {
   "cell_type": "markdown",
   "metadata": {},
   "source": [
    "Then you can schedule your runs, for example iterating over `tau` at two different `percent` levels, transfer learning from the last network with the same value for `percent`"
   ]
  },
  {
   "cell_type": "code",
   "execution_count": 19,
   "metadata": {},
   "outputs": [
    {
     "name": "stdout",
     "output_type": "stream",
     "text": [
      "Scheduled the following 14 runs:\n",
      "0: {'load_from': 'last--percent__same'}\n",
      "1: {'load_from': 'last--percent__same', 'tau': -5}\n",
      "2: {'load_from': 'last--percent__same', 'tau': -10}\n",
      "3: {'load_from': 'last--percent__same', 'tau': -15}\n",
      "4: {'load_from': 'last--percent__same', 'tau': -20}\n",
      "5: {'load_from': 'last--percent__same', 'tau': -25}\n",
      "6: {'load_from': 'last--percent__same', 'tau': -30}\n",
      "7: {'load_from': 'last--percent__same', 'percent': 1}\n",
      "8: {'load_from': 'last--percent__same', 'percent': 1, 'tau': -5}\n",
      "9: {'load_from': 'last--percent__same', 'percent': 1, 'tau': -10}\n",
      "10: {'load_from': 'last--percent__same', 'percent': 1, 'tau': -15}\n",
      "11: {'load_from': 'last--percent__same', 'percent': 1, 'tau': -20}\n",
      "12: {'load_from': 'last--percent__same', 'percent': 1, 'tau': -25}\n",
      "13: {'load_from': 'last--percent__same', 'percent': 1, 'tau': -30}\n"
     ]
    }
   ],
   "source": [
    "t.schedule(percent=[5,1], tau=[0, -5, -10, -15, -20, -25, -30], load_from='last--percent__same')"
   ]
  },
  {
   "cell_type": "code",
   "execution_count": null,
   "metadata": {},
   "outputs": [],
   "source": [
    "t.run_multiple()"
   ]
  },
  {
   "cell_type": "code",
   "execution_count": null,
   "metadata": {},
   "outputs": [],
   "source": []
  }
 ],
 "metadata": {
  "kernelspec": {
   "display_name": "myenvnew",
   "language": "python",
   "name": "python3"
  },
  "language_info": {
   "codemirror_mode": {
    "name": "ipython",
    "version": 3
   },
   "file_extension": ".py",
   "mimetype": "text/x-python",
   "name": "python",
   "nbconvert_exporter": "python",
   "pygments_lexer": "ipython3",
   "version": "3.9.7"
  },
  "vscode": {
   "interpreter": {
    "hash": "13d6ac2b46cffe7b04dd84f7288304bd0f3c8f660cff0949df6ccaecc97804f1"
   }
  }
 },
 "nbformat": 4,
 "nbformat_minor": 4
}
