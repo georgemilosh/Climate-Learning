{
 "cells": [
  {
   "cell_type": "code",
   "execution_count": 3,
   "metadata": {},
   "outputs": [],
   "source": [
    "import Learn2_new as ln\n",
    "ut = ln.ut # utilities\n",
    "ef = ln.ef # ERA_Fields_New\n",
    "\n",
    "# log to stdout\n",
    "import logging\n",
    "import sys\n",
    "logging.getLogger().level = logging.INFO\n",
    "logging.getLogger().handlers = [logging.StreamHandler(sys.stdout)]"
   ]
  },
  {
   "cell_type": "markdown",
   "metadata": {},
   "source": [
    "## Dealing with parameters\n",
    "\n",
    "The structure of `Learn2_new.py` is pretty nested, with functions calling other functions in such a way that changing a parameter seems difficult.\n",
    "The best way to do so is by using the functions `ln.get_default_params` and `ut.set_values_recursive`"
   ]
  },
  {
   "cell_type": "markdown",
   "metadata": {},
   "source": [
    "### Beginner approach\n",
    "\n",
    "The first way of approaching the code is by looking at the documentation of its functions, and when they have an argument of kind `*_kwargs`, it means that the function `*` will be called, so you can then look at its documentation and so on"
   ]
  },
  {
   "cell_type": "markdown",
   "metadata": {},
   "source": [
    "Let's say you want to use the function `ln.prepare_data`. If you look at its documentation you get"
   ]
  },
  {
   "cell_type": "code",
   "execution_count": null,
   "metadata": {},
   "outputs": [],
   "source": [
    "help(ln.prepare_data)"
   ]
  },
  {
   "cell_type": "markdown",
   "metadata": {},
   "source": [
    "This functions calls `ln.load_data` and `ln.prepare_XY`."
   ]
  },
  {
   "cell_type": "code",
   "execution_count": null,
   "metadata": {},
   "outputs": [],
   "source": [
    "help(ln.load_data)"
   ]
  },
  {
   "cell_type": "code",
   "execution_count": null,
   "metadata": {},
   "outputs": [],
   "source": [
    "help(ln.prepare_XY)"
   ]
  },
  {
   "cell_type": "markdown",
   "metadata": {},
   "source": [
    "And `ln.prepare_XY` calls `ln.make_XY` and `ln.roll_X`"
   ]
  },
  {
   "cell_type": "code",
   "execution_count": null,
   "metadata": {},
   "outputs": [],
   "source": [
    "help(ln.make_XY)"
   ]
  },
  {
   "cell_type": "code",
   "execution_count": null,
   "metadata": {},
   "outputs": [],
   "source": [
    "help(ln.roll_X)"
   ]
  },
  {
   "cell_type": "markdown",
   "metadata": {},
   "source": [
    "So, now let's say you want to call `ln.prepare_data` with just the temperature field, using data from the short 1000 years dataset and rolling `X` by 16 steps, leavingall other values at their default. One (cumbersome) way to do it is the following"
   ]
  },
  {
   "cell_type": "code",
   "execution_count": 4,
   "metadata": {},
   "outputs": [
    {
     "name": "stdout",
     "output_type": "stream",
     "text": [
      "prepare_data:\n",
      "load_data:\n",
      "load_field:\n",
      "Loading field tas\n",
      "Loaded time array\n",
      "input self.var.shape = (150000, 22, 128)\n",
      "output self.var.shape = (1000, 150, 22, 128)\n",
      "load_field: completed in 5.4 s\n",
      "Set_area_integral:\n",
      "Set_area_integral: completed in 0.1 s\n",
      "load_data: completed in 5.4 s\n",
      "prepare_XY:\n",
      "make_XY:\n",
      "make_X:\n",
      "make_X: completed in 0.3 s\n",
      "assign_labels:\n",
      "assign_labels: completed in 0.0 s\n",
      "make_XY: completed in 0.4 s\n",
      "roll_X:\n",
      "roll_X: completed in 0.5 s\n",
      "Mixing\n",
      "balance_folds:\n",
      "Balancing folds\n",
      "fold 0 done!\n",
      "fold 1 done!\n",
      "fold 2 done!\n",
      "fold 3 done!\n",
      "fold 4 done!\n",
      "fold 5 done!\n",
      "fold 6 done!\n",
      "fold 7 done!\n",
      "fold 8 done!\n",
      "fold 9 done!\n",
      "Sums of the balanced 10 folds:\n",
      "[385 385 385 385 385 385 385 385 385 385]\n",
      "std/avg = 0.0\n",
      "max relative deviation = 0.0\\%\n",
      "balance_folds: completed in 0.0 s\n",
      "Mixing completed in 0.3 s\n",
      "\n",
      "X.shape = (1000, 77, 22, 128, 1), Y.shape = (1000, 77)\n",
      "Flattened time: X.shape = (77000, 22, 128, 1), Y.shape = (77000,)\n",
      "prepare_XY: completed in 1.2 s\n",
      "prepare_data: completed in 6.6 s\n"
     ]
    }
   ],
   "source": [
    "X, Y, yp = ln.prepare_data(load_data_kwargs = {'fields': ['t2m'], 'dataset_years': 1000},\n",
    "                           prepare_XY_kwargs = {'roll_X_kwargs': {'roll_steps': 16}})"
   ]
  },
  {
   "cell_type": "markdown",
   "metadata": {},
   "source": [
    "## Better approach\n",
    "\n",
    "If intstead you already roughly know how the code works, you can proceed in a more elegant way"
   ]
  },
  {
   "cell_type": "markdown",
   "metadata": {},
   "source": [
    "First create a dictionary of the default parameters using `ln.get_default_params`. Remeber to specify `recursive = True`, which will gather all the default parameters of the functions called in a nested manner"
   ]
  },
  {
   "cell_type": "code",
   "execution_count": 2,
   "metadata": {},
   "outputs": [
    {
     "name": "stdout",
     "output_type": "stream",
     "text": [
      "{\n",
      "    \"load_data_kwargs\": {\n",
      "        \"dataset_years\": 8000,\n",
      "        \"year_list\": null,\n",
      "        \"sampling\": \"\",\n",
      "        \"Model\": \"Plasim\",\n",
      "        \"area\": \"France\",\n",
      "        \"filter_area\": \"France\",\n",
      "        \"lon_start\": 0,\n",
      "        \"lon_end\": 128,\n",
      "        \"lat_start\": 0,\n",
      "        \"lat_end\": 22,\n",
      "        \"mylocal\": \"/local/gmiloshe/PLASIM/\",\n",
      "        \"fields\": [\n",
      "            \"t2m\",\n",
      "            \"zg500\",\n",
      "            \"mrso_filtered\"\n",
      "        ]\n",
      "    },\n",
      "    \"prepare_XY_kwargs\": {\n",
      "        \"do_premix\": false,\n",
      "        \"premix_seed\": 0,\n",
      "        \"do_balance_folds\": true,\n",
      "        \"nfolds\": 10,\n",
      "        \"year_permutation\": null,\n",
      "        \"flatten_time_axis\": true,\n",
      "        \"make_XY_kwargs\": {\n",
      "            \"label_field\": \"t2m\",\n",
      "            \"time_start\": 30,\n",
      "            \"time_end\": 120,\n",
      "            \"T\": 14,\n",
      "            \"tau\": 0,\n",
      "            \"percent\": 5,\n",
      "            \"threshold\": null\n",
      "        },\n",
      "        \"roll_X_kwargs\": {\n",
      "            \"roll_axis\": \"lon\",\n",
      "            \"roll_steps\": 64\n",
      "        }\n",
      "    }\n",
      "}\n"
     ]
    }
   ],
   "source": [
    "prepare_data_kwargs_default = ln.get_default_params(ln.prepare_data, recursive=True)\n",
    "print(ut.dict2str(prepare_data_kwargs_default)) # a nice way of printing nested dictionaries"
   ]
  },
  {
   "cell_type": "markdown",
   "metadata": {},
   "source": [
    "Now you want to set the two parameters to non default values, and you can do it by using `ut.set_values_recursive`, without needing to account for the level of nestedness of the parameter."
   ]
  },
  {
   "cell_type": "code",
   "execution_count": 7,
   "metadata": {},
   "outputs": [
    {
     "name": "stdout",
     "output_type": "stream",
     "text": [
      "{\n",
      "    \"load_data_kwargs\": {\n",
      "        \"dataset_years\": 1000,\n",
      "        \"year_list\": null,\n",
      "        \"sampling\": \"\",\n",
      "        \"Model\": \"Plasim\",\n",
      "        \"area\": \"France\",\n",
      "        \"filter_area\": \"France\",\n",
      "        \"lon_start\": 0,\n",
      "        \"lon_end\": 128,\n",
      "        \"lat_start\": 0,\n",
      "        \"lat_end\": 22,\n",
      "        \"mylocal\": \"/local/gmiloshe/PLASIM/\",\n",
      "        \"fields\": [\n",
      "            \"t2m\"\n",
      "        ]\n",
      "    },\n",
      "    \"prepare_XY_kwargs\": {\n",
      "        \"do_premix\": false,\n",
      "        \"premix_seed\": 0,\n",
      "        \"do_balance_folds\": true,\n",
      "        \"nfolds\": 10,\n",
      "        \"year_permutation\": null,\n",
      "        \"flatten_time_axis\": true,\n",
      "        \"make_XY_kwargs\": {\n",
      "            \"label_field\": \"t2m\",\n",
      "            \"time_start\": 30,\n",
      "            \"time_end\": 120,\n",
      "            \"T\": 14,\n",
      "            \"tau\": 0,\n",
      "            \"percent\": 5,\n",
      "            \"threshold\": null\n",
      "        },\n",
      "        \"roll_X_kwargs\": {\n",
      "            \"roll_axis\": \"lon\",\n",
      "            \"roll_steps\": 16\n",
      "        }\n",
      "    }\n",
      "}\n"
     ]
    }
   ],
   "source": [
    "prepare_data_kwargs = ut.set_values_recursive(prepare_data_kwargs_default,\n",
    "                                              {'fields': ['t2m'], 'dataset_years': 1000, 'roll_steps': 16})\n",
    "print(ut.dict2str(prepare_data_kwargs))"
   ]
  },
  {
   "cell_type": "markdown",
   "metadata": {},
   "source": [
    "And then you can run"
   ]
  },
  {
   "cell_type": "code",
   "execution_count": 8,
   "metadata": {},
   "outputs": [
    {
     "name": "stdout",
     "output_type": "stream",
     "text": [
      "\t\tMixing\n",
      "\t\t\tBalancing folds\n",
      "\t\t\tfold 0 done!\n",
      "\t\t\tfold 1 done!\n",
      "\t\t\tfold 2 done!\n",
      "\t\t\tfold 3 done!\n",
      "\t\t\tfold 4 done!\n",
      "\t\t\tfold 5 done!\n",
      "\t\t\tfold 6 done!\n",
      "\t\t\tfold 7 done!\n",
      "\t\t\tfold 8 done!\n",
      "\t\t\tfold 9 done!\n",
      "\t\t\tSums of the balanced 10 folds:\n",
      "\t\t\t[385 385 385 385 385 385 385 385 385 385]\n",
      "\t\t\tstd/avg = 0.0\n",
      "\t\t\tmax relative deviation = 0.0\\%\n",
      "\t\tMixing completed in 0.3 s\n",
      "\t\t\n",
      "\t\tX.shape = (1000, 77, 22, 128, 1), Y.shape = (1000, 77)\n",
      "\t\tFlattened time: X.shape = (77000, 22, 128, 1), Y.shape = (77000,)\n"
     ]
    }
   ],
   "source": [
    "X, Y, yp = ln.prepare_data(**prepare_data_kwargs)"
   ]
  },
  {
   "cell_type": "markdown",
   "metadata": {},
   "source": [
    "If you want to load your default values from a config file, you can do as following"
   ]
  },
  {
   "cell_type": "code",
   "execution_count": null,
   "metadata": {},
   "outputs": [],
   "source": [
    "config_dict = ut.json2dict('example_config.json') # load the config file\n",
    "print(ut.dict2str(config_dict))\n",
    "print('\\n\\n')\n",
    "config_dict_flat = ut.collapse_dict(config_dict) # flatten the dictionary\n",
    "print(ut.dict2str(config_dict_flat))"
   ]
  },
  {
   "cell_type": "code",
   "execution_count": null,
   "metadata": {},
   "outputs": [],
   "source": [
    "ut.set_values_recursive(prepare_data_kwargs_default, config_dict_flat, inplace=True)\n",
    "nice_dict_print(prepare_data_kwargs_default)"
   ]
  },
  {
   "cell_type": "markdown",
   "metadata": {},
   "source": [
    "We had to do this way because `prepare_data_kwargs` is not a key of the config dictionary. Let's say instead you wanted the default arguments for the function `make_XY`, you could have simply done"
   ]
  },
  {
   "cell_type": "code",
   "execution_count": null,
   "metadata": {},
   "outputs": [],
   "source": [
    "make_XY_kwargs_default = ut.extract_nested(config_dict, 'make_XY_kwargs')\n",
    "print(ut.dict2str(make_XY_kwargs_default))"
   ]
  },
  {
   "cell_type": "markdown",
   "metadata": {},
   "source": [
    "Where the function `ut.extract_nested` allows to obtain a key from a nested dictionary regardless of the level of indentation"
   ]
  },
  {
   "cell_type": "code",
   "execution_count": 5,
   "metadata": {},
   "outputs": [
    {
     "data": {
      "text/plain": [
       "(77000, 22, 128, 1)"
      ]
     },
     "execution_count": 5,
     "metadata": {},
     "output_type": "execute_result"
    }
   ],
   "source": []
  },
  {
   "cell_type": "code",
   "execution_count": null,
   "metadata": {},
   "outputs": [],
   "source": []
  }
 ],
 "metadata": {
  "interpreter": {
   "hash": "5a0ac5ce8bb8c88950cbb5884951ac07e03bb695621e79d254d25c8e1304a15f"
  },
  "kernelspec": {
   "display_name": "py3.9",
   "language": "python",
   "name": "py3.9"
  },
  "language_info": {
   "codemirror_mode": {
    "name": "ipython",
    "version": 3
   },
   "file_extension": ".py",
   "mimetype": "text/x-python",
   "name": "python",
   "nbconvert_exporter": "python",
   "pygments_lexer": "ipython3",
   "version": "3.9.7"
  }
 },
 "nbformat": 4,
 "nbformat_minor": 4
}
