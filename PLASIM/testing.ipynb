{
 "cells": [
  {
   "cell_type": "code",
   "execution_count": 1,
   "id": "eebcdabb",
   "metadata": {},
   "outputs": [],
   "source": [
    "import numpy as np"
   ]
  },
  {
   "cell_type": "code",
   "execution_count": 9,
   "id": "83358fb7",
   "metadata": {},
   "outputs": [
    {
     "data": {
      "text/plain": [
       "array([[0, 1, 2, 3, 4],\n",
       "       [5, 6, 7, 8, 9]])"
      ]
     },
     "execution_count": 9,
     "metadata": {},
     "output_type": "execute_result"
    }
   ],
   "source": [
    "l = [np.arange(5), np.arange(5,10)]\n",
    "np.vstack(l)"
   ]
  },
  {
   "cell_type": "code",
   "execution_count": 4,
   "id": "cd7b5e05",
   "metadata": {},
   "outputs": [
    {
     "data": {
      "text/plain": [
       "False"
      ]
     },
     "execution_count": 4,
     "metadata": {},
     "output_type": "execute_result"
    }
   ],
   "source": [
    "a = ['aaa', 'baa', 'gulb']\n",
    "all([s.startswith('aa') for s in a])"
   ]
  },
  {
   "cell_type": "code",
   "execution_count": 3,
   "id": "3ec7a536",
   "metadata": {},
   "outputs": [
    {
     "data": {
      "text/plain": [
       "False"
      ]
     },
     "execution_count": 3,
     "metadata": {},
     "output_type": "execute_result"
    }
   ],
   "source": [
    "bool('')"
   ]
  },
  {
   "cell_type": "code",
   "execution_count": 2,
   "id": "07dc27be",
   "metadata": {},
   "outputs": [
    {
     "data": {
      "text/plain": [
       "'bb'"
      ]
     },
     "execution_count": 2,
     "metadata": {},
     "output_type": "execute_result"
    }
   ],
   "source": [
    "'aaabbaaa'.strip('a')"
   ]
  },
  {
   "cell_type": "code",
   "execution_count": 10,
   "id": "d95c221b",
   "metadata": {},
   "outputs": [
    {
     "data": {
      "text/plain": [
       "1"
      ]
     },
     "execution_count": 10,
     "metadata": {},
     "output_type": "execute_result"
    }
   ],
   "source": [
    "len(set(['eon_20', 'eon_20']))"
   ]
  },
  {
   "cell_type": "code",
   "execution_count": 12,
   "id": "0c9aa4f0",
   "metadata": {},
   "outputs": [
    {
     "data": {
      "text/plain": [
       "{1, 2, 3, 5}"
      ]
     },
     "execution_count": 12,
     "metadata": {},
     "output_type": "execute_result"
    }
   ],
   "source": [
    "set([1,2,3,3,3,5])"
   ]
  },
  {
   "cell_type": "code",
   "execution_count": 27,
   "id": "ce07acc1",
   "metadata": {},
   "outputs": [
    {
     "ename": "UFuncTypeError",
     "evalue": "Cannot cast ufunc 'multiply' output from dtype('float64') to dtype('int64') with casting rule 'same_kind'",
     "output_type": "error",
     "traceback": [
      "\u001b[0;31m---------------------------------------------------------------------------\u001b[0m",
      "\u001b[0;31mUFuncTypeError\u001b[0m                            Traceback (most recent call last)",
      "\u001b[0;32m/var/folders/p8/k08kk0c517zd64tyd8q0vqw80000gp/T/ipykernel_1207/2029437079.py\u001b[0m in \u001b[0;36m<module>\u001b[0;34m\u001b[0m\n\u001b[1;32m      1\u001b[0m \u001b[0ma\u001b[0m \u001b[0;34m=\u001b[0m \u001b[0mnp\u001b[0m\u001b[0;34m.\u001b[0m\u001b[0marange\u001b[0m\u001b[0;34m(\u001b[0m\u001b[0;36m5\u001b[0m\u001b[0;34m)\u001b[0m\u001b[0;34m\u001b[0m\u001b[0;34m\u001b[0m\u001b[0m\n\u001b[0;32m----> 2\u001b[0;31m \u001b[0ma\u001b[0m \u001b[0;34m*=\u001b[0m \u001b[0;36m0.2\u001b[0m\u001b[0;34m\u001b[0m\u001b[0;34m\u001b[0m\u001b[0m\n\u001b[0m",
      "\u001b[0;31mUFuncTypeError\u001b[0m: Cannot cast ufunc 'multiply' output from dtype('float64') to dtype('int64') with casting rule 'same_kind'"
     ]
    }
   ],
   "source": [
    "a = np.arange(5)\n",
    "a *= 0.2"
   ]
  },
  {
   "cell_type": "code",
   "execution_count": 29,
   "id": "4e200c5b",
   "metadata": {},
   "outputs": [],
   "source": [
    "q_min, q_max = 0.1, 0.2\n",
    "def p0_func(qs):\n",
    "    return np.array((qs >= q_min)*(qs < q_max), dtype=float)"
   ]
  },
  {
   "cell_type": "code",
   "execution_count": 35,
   "id": "9193e33b",
   "metadata": {},
   "outputs": [
    {
     "data": {
      "text/plain": [
       "array(1.)"
      ]
     },
     "execution_count": 35,
     "metadata": {},
     "output_type": "execute_result"
    }
   ],
   "source": [
    "p0_func(0.11)"
   ]
  },
  {
   "cell_type": "code",
   "execution_count": 39,
   "id": "c3c188bf",
   "metadata": {},
   "outputs": [],
   "source": [
    "\n",
    "def dumb(x):\n",
    "    return 1."
   ]
  },
  {
   "cell_type": "code",
   "execution_count": 40,
   "id": "ed3fe614",
   "metadata": {},
   "outputs": [
    {
     "data": {
      "text/plain": [
       "1.0"
      ]
     },
     "execution_count": 40,
     "metadata": {},
     "output_type": "execute_result"
    }
   ],
   "source": [
    "dumb(np.arange(2))"
   ]
  },
  {
   "cell_type": "code",
   "execution_count": 1,
   "id": "178d9f8d",
   "metadata": {},
   "outputs": [],
   "source": [
    "a = (1,2,3)\n",
    "b = list(a) + [a[-1]]*(10 - len(a))"
   ]
  },
  {
   "cell_type": "code",
   "execution_count": 4,
   "id": "754e1242",
   "metadata": {},
   "outputs": [
    {
     "data": {
      "text/plain": [
       "[(0.1, 0.2), (0.2, 0.3), (0.3, 0.4)]"
      ]
     },
     "execution_count": 4,
     "metadata": {},
     "output_type": "execute_result"
    }
   ],
   "source": [
    "p_arg = (0.1,0.2,0.3,0.4)\n",
    "[p_arg[i:i+2] for i in range(len(p_arg) - 1)]\n"
   ]
  },
  {
   "cell_type": "code",
   "execution_count": 1,
   "id": "3708a6e6",
   "metadata": {},
   "outputs": [
    {
     "name": "stderr",
     "output_type": "stream",
     "text": [
      "<frozen importlib._bootstrap>:228: RuntimeWarning: scipy._lib.messagestream.MessageStream size changed, may indicate binary incompatibility. Expected 56 from C header, got 64 from PyObject\n"
     ]
    }
   ],
   "source": [
    "import sys\n",
    "sys.path.append('../ERA')\n",
    "import utilities as ut\n",
    "import uplotlib as uplt\n",
    "import uncertainties as unc\n",
    "import numpy as np\n",
    "from importlib import reload"
   ]
  },
  {
   "cell_type": "code",
   "execution_count": 10,
   "id": "155b7f12",
   "metadata": {},
   "outputs": [
    {
     "data": {
      "text/plain": [
       "<module 'uplotlib' from '/Users/alessandrolovo/Repos/Climate-Learning/PLASIM/../ERA/uplotlib.py'>"
      ]
     },
     "execution_count": 10,
     "metadata": {},
     "output_type": "execute_result"
    }
   ],
   "source": [
    "reload(uplt)"
   ]
  },
  {
   "cell_type": "code",
   "execution_count": 11,
   "id": "c0535829",
   "metadata": {},
   "outputs": [
    {
     "data": {
      "text/plain": [
       "([<matplotlib.lines.Line2D at 0x7f9d77f67160>],\n",
       " <matplotlib.collections.PolyCollection at 0x7f9d77f780a0>,\n",
       " <matplotlib.collections.PolyCollection at 0x7f9d77f78040>)"
      ]
     },
     "execution_count": 11,
     "metadata": {},
     "output_type": "execute_result"
    },
    {
     "data": {
      "image/png": "[encoded data removed]",
      "text/plain": [
       "<Figure size 432x288 with 1 Axes>"
      ]
     },
     "metadata": {
      "needs_background": "light"
     },
     "output_type": "display_data"
    }
   ],
   "source": [
    "x = np.arange(10)\n",
    "y = np.sqrt(x)\n",
    "x = uplt.ufloatify(x,0.1)\n",
    "y = uplt.ufloatify(y, 0.2)\n",
    "\n",
    "uplt.errorband(x,y)\n",
    "uplt.errorband(x+5,y)"
   ]
  },
  {
   "cell_type": "code",
   "execution_count": 16,
   "id": "429bf63f",
   "metadata": {},
   "outputs": [
    {
     "data": {
      "text/plain": [
       "array([0., 1., 2., 3., 4., 5., 6., 7., 8., 9.])"
      ]
     },
     "execution_count": 16,
     "metadata": {},
     "output_type": "execute_result"
    }
   ],
   "source": [
    "uplt.nominal_value(x)"
   ]
  },
  {
   "cell_type": "code",
   "execution_count": 1,
   "id": "44b64b94",
   "metadata": {},
   "outputs": [
    {
     "name": "stderr",
     "output_type": "stream",
     "text": [
      "In this environment you cannot import Basemap\n",
      "In this environment you cannot import Basemap\n"
     ]
    }
   ],
   "source": [
    "import Learn2_new as ln"
   ]
  },
  {
   "cell_type": "code",
   "execution_count": 2,
   "id": "666013bd",
   "metadata": {},
   "outputs": [
    {
     "data": {
      "text/plain": [
       "{'root_folder': './', 'config': 'detect', 'skip_existing_run': True}"
      ]
     },
     "execution_count": 2,
     "metadata": {},
     "output_type": "execute_result"
    }
   ],
   "source": [
    "ln.get_default_params(ln.Trainer)"
   ]
  },
  {
   "cell_type": "code",
   "execution_count": 11,
   "id": "7b07ad29",
   "metadata": {},
   "outputs": [
    {
     "name": "stdout",
     "output_type": "stream",
     "text": [
      "28350.0\n"
     ]
    },
    {
     "data": {
      "text/plain": [
       "[<matplotlib.lines.Line2D at 0x14b0e4a3ac40>]"
      ]
     },
     "execution_count": 11,
     "metadata": {},
     "output_type": "execute_result"
    },
    {
     "data": {
      "application/vnd.jupyter.widget-view+json": {
       "model_id": "ff5ebacf466e4e60bf5675e74e81946c",
       "version_major": 2,
       "version_minor": 0
      },
      "image/png": "[encoded data removed]",
      "text/html": [
       "\n",
       "            <div style=\"display: inline-block;\">\n",
       "                <div class=\"jupyter-widgets widget-label\" style=\"text-align: center;\">\n",
       "                    Figure\n",
       "                </div>\n",
       "                <img src='data:image/png;base64,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' width=900.0/>\n",
       "            </div>\n",
       "        "
      ],
      "text/plain": [
       "Canvas(toolbar=Toolbar(toolitems=[('Home', 'Reset original view', 'home', 'home'), ('Back', 'Back to previous …"
      ]
     },
     "metadata": {},
     "output_type": "display_data"
    }
   ],
   "source": [
    "import numpy as np\n",
    "import matplotlib.pyplot as plt\n",
    "%matplotlib widget\n",
    "\n",
    "q_min0, q_max0, l0, a = 0.5, 1, 90*0.05*6300, 30000\n",
    "print(l0)\n",
    "\n",
    "l = np.arange(400, 4000, 100)\n",
    "\n",
    "plt.figure(figsize=(9,6))\n",
    "plt.plot(l, np.clip(q_min0/(l*90 - l0)*l0, 0, q_min0))\n",
    "plt.plot(l, np.clip(q_max0/(l*90 - l0)*l0, 0, q_max0))"
   ]
  },
  {
   "cell_type": "code",
   "execution_count": 12,
   "id": "e465697c",
   "metadata": {},
   "outputs": [
    {
     "data": {
      "text/plain": [
       "28350.0"
      ]
     },
     "execution_count": 12,
     "metadata": {},
     "output_type": "execute_result"
    }
   ],
   "source": [
    "0.05*6300*90"
   ]
  },
  {
   "cell_type": "code",
   "execution_count": null,
   "id": "e26cd7d4",
   "metadata": {},
   "outputs": [],
   "source": []
  }
 ],
 "metadata": {
  "kernelspec": {
   "display_name": "py3.9",
   "language": "python",
   "name": "py3.9"
  },
  "language_info": {
   "codemirror_mode": {
    "name": "ipython",
    "version": 3
   },
   "file_extension": ".py",
   "mimetype": "text/x-python",
   "name": "python",
   "nbconvert_exporter": "python",
   "pygments_lexer": "ipython3",
   "version": "3.9.10"
  }
 },
 "nbformat": 4,
 "nbformat_minor": 5
}
