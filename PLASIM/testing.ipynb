{
 "cells": [
  {
   "cell_type": "code",
   "execution_count": 2,
   "id": "eebcdabb",
   "metadata": {},
   "outputs": [],
   "source": [
    "import numpy as np"
   ]
  },
  {
   "cell_type": "code",
   "execution_count": 5,
   "id": "3d107fbd",
   "metadata": {},
   "outputs": [],
   "source": [
    "a = np.arange(20)\n",
    "p = a/np.sum(a)"
   ]
  },
  {
   "cell_type": "code",
   "execution_count": 12,
   "id": "cf702d13",
   "metadata": {},
   "outputs": [
    {
     "data": {
      "text/plain": [
       "array([19, 18,  5,  9, 16, 10,  9, 14, 19, 18, 19, 19, 15, 15, 15,  5, 12,\n",
       "       17, 18])"
      ]
     },
     "execution_count": 12,
     "metadata": {},
     "output_type": "execute_result"
    }
   ],
   "source": [
    "np.random.choice(a,size=19,replace=True, p=p)"
   ]
  },
  {
   "cell_type": "code",
   "execution_count": 15,
   "id": "edab4c5c",
   "metadata": {},
   "outputs": [],
   "source": [
    "def select(*arrays, amount=0.1, p=None):\n",
    "    l = len(arrays[0])\n",
    "    for a in arrays[1:]:\n",
    "        if l != len(a):\n",
    "            raise ValueError(f'Arrays with different lengths: {[len(a) for a in arrays]}')\n",
    "    if p is not None and p.shape != (l,):\n",
    "        raise ValueError(f'p must be a 1D array with the same length as the provided arrays ({l})')\n",
    "    if isinstance(amount, float):\n",
    "        if amount < 0 or amount > 1:\n",
    "            raise ValueError('Amount must be either int or float between 0 and 1')\n",
    "        amount = int(l*amount)\n",
    "\n",
    "    indexes = np.arange(l)\n",
    "    selected_indexes = np.random.choice(indexes, size=amount, replace=False, p=p)\n",
    "    remaining_indexes = np.delete(indexes, selected_indexes)\n",
    "\n",
    "    output = []\n",
    "    for a in arrays:\n",
    "        output += a[selected_indexes], a[remaining_indexes]\n",
    "\n",
    "    return output\n"
   ]
  },
  {
   "cell_type": "code",
   "execution_count": 23,
   "id": "6acf0329",
   "metadata": {},
   "outputs": [
    {
     "data": {
      "text/plain": [
       "[array([], dtype=int64),\n",
       " array([ 0,  1,  2,  3,  4,  5,  6,  7,  8,  9, 10, 11, 12, 13, 14, 15, 16,\n",
       "        17, 18, 19, 20, 21, 22, 23, 24, 25, 26, 27, 28, 29, 30, 31, 32, 33,\n",
       "        34, 35, 36, 37, 38, 39, 40, 41, 42, 43, 44, 45, 46, 47, 48, 49, 50,\n",
       "        51, 52, 53, 54, 55, 56, 57, 58, 59, 60, 61, 62, 63, 64, 65, 66, 67,\n",
       "        68, 69, 70, 71, 72, 73, 74, 75, 76, 77, 78, 79, 80, 81, 82, 83, 84,\n",
       "        85, 86, 87, 88, 89, 90, 91, 92, 93, 94, 95, 96, 97, 98, 99]),\n",
       " array([], dtype=int64),\n",
       " array([   0,    1,    4,    9,   16,   25,   36,   49,   64,   81,  100,\n",
       "         121,  144,  169,  196,  225,  256,  289,  324,  361,  400,  441,\n",
       "         484,  529,  576,  625,  676,  729,  784,  841,  900,  961, 1024,\n",
       "        1089, 1156, 1225, 1296, 1369, 1444, 1521, 1600, 1681, 1764, 1849,\n",
       "        1936, 2025, 2116, 2209, 2304, 2401, 2500, 2601, 2704, 2809, 2916,\n",
       "        3025, 3136, 3249, 3364, 3481, 3600, 3721, 3844, 3969, 4096, 4225,\n",
       "        4356, 4489, 4624, 4761, 4900, 5041, 5184, 5329, 5476, 5625, 5776,\n",
       "        5929, 6084, 6241, 6400, 6561, 6724, 6889, 7056, 7225, 7396, 7569,\n",
       "        7744, 7921, 8100, 8281, 8464, 8649, 8836, 9025, 9216, 9409, 9604,\n",
       "        9801])]"
      ]
     },
     "execution_count": 23,
     "metadata": {},
     "output_type": "execute_result"
    }
   ],
   "source": [
    "select(np.arange(100), np.arange(100)**2, amount=0.001, p=np.arange(100)/(50*99))"
   ]
  },
  {
   "cell_type": "code",
   "execution_count": 34,
   "id": "11effac6",
   "metadata": {},
   "outputs": [
    {
     "data": {
      "text/plain": [
       "(13, 2, 3)"
      ]
     },
     "execution_count": 34,
     "metadata": {},
     "output_type": "execute_result"
    }
   ],
   "source": [
    "a = np.random.uniform(0,1,(10, 2,3))\n",
    "b = np.random.uniform(0,1,(3, 2,3))\n",
    "np.concatenate([a[0:0], a, b]).shape"
   ]
  },
  {
   "cell_type": "code",
   "execution_count": 4,
   "id": "cd7b5e05",
   "metadata": {},
   "outputs": [
    {
     "data": {
      "text/plain": [
       "False"
      ]
     },
     "execution_count": 4,
     "metadata": {},
     "output_type": "execute_result"
    }
   ],
   "source": [
    "a = ['aaa', 'baa', 'gulb']\n",
    "all([s.startswith('aa') for s in a])"
   ]
  },
  {
   "cell_type": "code",
   "execution_count": 3,
   "id": "3ec7a536",
   "metadata": {},
   "outputs": [
    {
     "data": {
      "text/plain": [
       "False"
      ]
     },
     "execution_count": 3,
     "metadata": {},
     "output_type": "execute_result"
    }
   ],
   "source": [
    "bool('')"
   ]
  },
  {
   "cell_type": "code",
   "execution_count": 2,
   "id": "07dc27be",
   "metadata": {},
   "outputs": [
    {
     "data": {
      "text/plain": [
       "'bb'"
      ]
     },
     "execution_count": 2,
     "metadata": {},
     "output_type": "execute_result"
    }
   ],
   "source": [
    "'aaabbaaa'.strip('a')"
   ]
  },
  {
   "cell_type": "code",
   "execution_count": null,
   "id": "d95c221b",
   "metadata": {},
   "outputs": [],
   "source": []
  }
 ],
 "metadata": {
  "kernelspec": {
   "display_name": "Python 3 (ipykernel)",
   "language": "python",
   "name": "python3"
  },
  "language_info": {
   "codemirror_mode": {
    "name": "ipython",
    "version": 3
   },
   "file_extension": ".py",
   "mimetype": "text/x-python",
   "name": "python",
   "nbconvert_exporter": "python",
   "pygments_lexer": "ipython3",
   "version": "3.9.7"
  }
 },
 "nbformat": 4,
 "nbformat_minor": 5
}
