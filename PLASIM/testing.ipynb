{
 "cells": [
  {
   "cell_type": "code",
   "execution_count": 1,
   "id": "76d65d03",
   "metadata": {},
   "outputs": [
    {
     "name": "stderr",
     "output_type": "stream",
     "text": [
      "In this environment you cannot import Basemap\n"
     ]
    }
   ],
   "source": [
    "import sys\n",
    "sys.path.append('../')\n",
    "import ERA.utilities as ut\n",
    "import logging\n",
    "from functools import wraps\n",
    "import ast\n",
    "import numpy as np\n",
    "import Learn2_new as ln\n",
    "import inspect\n",
    "from stat import S_IREAD"
   ]
  },
  {
   "cell_type": "code",
   "execution_count": 2,
   "id": "d80ef3a7",
   "metadata": {},
   "outputs": [
    {
     "data": {
      "text/plain": [
       "odict_items([('dataset_years', <Parameter \"dataset_years=1000\">), ('year_list', <Parameter \"year_list=None\">), ('sampling', <Parameter \"sampling=''\">), ('Model', <Parameter \"Model='Plasim'\">), ('area', <Parameter \"area='France'\">), ('filter_area', <Parameter \"filter_area='France'\">), ('lon_start', <Parameter \"lon_start=0\">), ('lon_end', <Parameter \"lon_end=128\">), ('lat_start', <Parameter \"lat_start=0\">), ('lat_end', <Parameter \"lat_end=22\">), ('mylocal', <Parameter \"mylocal='/local/gmiloshe/PLASIM/'\">), ('fields', <Parameter \"fields=['t2m', 'zg500', 'mrso_filtered']\">)])"
      ]
     },
     "execution_count": 2,
     "metadata": {},
     "output_type": "execute_result"
    }
   ],
   "source": [
    "inspect.signature(ln.load_data).parameters.items()"
   ]
  },
  {
   "cell_type": "code",
   "execution_count": 2,
   "id": "b3c5d5bb",
   "metadata": {},
   "outputs": [],
   "source": [
    "logger = logging.getLogger()\n",
    "logger.handlers = [logging.StreamHandler(sys.stdout)]"
   ]
  },
  {
   "cell_type": "code",
   "execution_count": 4,
   "id": "41d5c46b",
   "metadata": {},
   "outputs": [
    {
     "data": {
      "text/plain": [
       "True"
      ]
     },
     "execution_count": 4,
     "metadata": {},
     "output_type": "execute_result"
    }
   ],
   "source": [
    "logger == logging.getLogger(logger.name)"
   ]
  },
  {
   "cell_type": "code",
   "execution_count": 3,
   "id": "4e2cea12",
   "metadata": {},
   "outputs": [],
   "source": [
    "@ut.indent_logger(logger)\n",
    "def test():\n",
    "    logger.critical('test')"
   ]
  },
  {
   "cell_type": "code",
   "execution_count": 6,
   "id": "56e068c9",
   "metadata": {},
   "outputs": [
    {
     "name": "stdout",
     "output_type": "stream",
     "text": [
      "error\n",
      "\ttest\n",
      "error2\n"
     ]
    }
   ],
   "source": [
    "logger.error('error')\n",
    "test()\n",
    "logger.error('error2')"
   ]
  },
  {
   "cell_type": "code",
   "execution_count": 5,
   "id": "ad8878b0",
   "metadata": {},
   "outputs": [],
   "source": [
    "logger.handlers.append(logging.FileHandler('log.log', 'a'))"
   ]
  },
  {
   "cell_type": "code",
   "execution_count": 10,
   "id": "6bfbf060",
   "metadata": {},
   "outputs": [],
   "source": [
    "stream_handler = logging.StreamHandler(sys.stdout)\n",
    "stream_handler.setFormatter(logging.Formatter('%(levelname)s : %(message)s'))\n",
    "file_handler = logging.FileHandler('log.log')\n",
    "file_handler.setFormatter(ut.default_formatter)"
   ]
  },
  {
   "cell_type": "code",
   "execution_count": 19,
   "id": "3d4905c4",
   "metadata": {},
   "outputs": [],
   "source": [
    "lg = logging.getLogger('altlg')\n",
    "# lg.handlers = [stream_handler]\n",
    "lg.level = 30"
   ]
  },
  {
   "cell_type": "code",
   "execution_count": 24,
   "id": "78bdfa9d",
   "metadata": {},
   "outputs": [
    {
     "name": "stdout",
     "output_type": "stream",
     "text": [
      "Help on class TelegramHandler in module telegram_handler.handlers:\n",
      "\n",
      "class TelegramHandler(logging.Handler)\n",
      " |  TelegramHandler(token, chat_id=None, level=0, timeout=2, disable_notification=False, disable_web_page_preview=False, proxies=None)\n",
      " |  \n",
      " |  Method resolution order:\n",
      " |      TelegramHandler\n",
      " |      logging.Handler\n",
      " |      logging.Filterer\n",
      " |      builtins.object\n",
      " |  \n",
      " |  Methods defined here:\n",
      " |  \n",
      " |  __init__(self, token, chat_id=None, level=0, timeout=2, disable_notification=False, disable_web_page_preview=False, proxies=None)\n",
      " |      Initializes the instance - basically setting the formatter to None\n",
      " |      and the filter list to empty.\n",
      " |  \n",
      " |  emit(self, record)\n",
      " |      Do whatever it takes to actually log the specified logging record.\n",
      " |      \n",
      " |      This version is intended to be implemented by subclasses and so\n",
      " |      raises a NotImplementedError.\n",
      " |  \n",
      " |  get_chat_id(self)\n",
      " |  \n",
      " |  request(self, method, **kwargs)\n",
      " |  \n",
      " |  send_document(self, text, document, **kwargs)\n",
      " |  \n",
      " |  send_message(self, text, **kwargs)\n",
      " |  \n",
      " |  ----------------------------------------------------------------------\n",
      " |  Class methods defined here:\n",
      " |  \n",
      " |  format_url(token, method) from builtins.type\n",
      " |  \n",
      " |  ----------------------------------------------------------------------\n",
      " |  Data and other attributes defined here:\n",
      " |  \n",
      " |  API_ENDPOINT = 'https://api.telegram.org'\n",
      " |  \n",
      " |  last_response = None\n",
      " |  \n",
      " |  ----------------------------------------------------------------------\n",
      " |  Methods inherited from logging.Handler:\n",
      " |  \n",
      " |  __repr__(self)\n",
      " |      Return repr(self).\n",
      " |  \n",
      " |  acquire(self)\n",
      " |      Acquire the I/O thread lock.\n",
      " |  \n",
      " |  close(self)\n",
      " |      Tidy up any resources used by the handler.\n",
      " |      \n",
      " |      This version removes the handler from an internal map of handlers,\n",
      " |      _handlers, which is used for handler lookup by name. Subclasses\n",
      " |      should ensure that this gets called from overridden close()\n",
      " |      methods.\n",
      " |  \n",
      " |  createLock(self)\n",
      " |      Acquire a thread lock for serializing access to the underlying I/O.\n",
      " |  \n",
      " |  flush(self)\n",
      " |      Ensure all logging output has been flushed.\n",
      " |      \n",
      " |      This version does nothing and is intended to be implemented by\n",
      " |      subclasses.\n",
      " |  \n",
      " |  format(self, record)\n",
      " |      Format the specified record.\n",
      " |      \n",
      " |      If a formatter is set, use it. Otherwise, use the default formatter\n",
      " |      for the module.\n",
      " |  \n",
      " |  get_name(self)\n",
      " |  \n",
      " |  handle(self, record)\n",
      " |      Conditionally emit the specified logging record.\n",
      " |      \n",
      " |      Emission depends on filters which may have been added to the handler.\n",
      " |      Wrap the actual emission of the record with acquisition/release of\n",
      " |      the I/O thread lock. Returns whether the filter passed the record for\n",
      " |      emission.\n",
      " |  \n",
      " |  handleError(self, record)\n",
      " |      Handle errors which occur during an emit() call.\n",
      " |      \n",
      " |      This method should be called from handlers when an exception is\n",
      " |      encountered during an emit() call. If raiseExceptions is false,\n",
      " |      exceptions get silently ignored. This is what is mostly wanted\n",
      " |      for a logging system - most users will not care about errors in\n",
      " |      the logging system, they are more interested in application errors.\n",
      " |      You could, however, replace this with a custom handler if you wish.\n",
      " |      The record which was being processed is passed in to this method.\n",
      " |  \n",
      " |  release(self)\n",
      " |      Release the I/O thread lock.\n",
      " |  \n",
      " |  setFormatter(self, fmt)\n",
      " |      Set the formatter for this handler.\n",
      " |  \n",
      " |  setLevel(self, level)\n",
      " |      Set the logging level of this handler.  level must be an int or a str.\n",
      " |  \n",
      " |  set_name(self, name)\n",
      " |  \n",
      " |  ----------------------------------------------------------------------\n",
      " |  Data descriptors inherited from logging.Handler:\n",
      " |  \n",
      " |  name\n",
      " |  \n",
      " |  ----------------------------------------------------------------------\n",
      " |  Methods inherited from logging.Filterer:\n",
      " |  \n",
      " |  addFilter(self, filter)\n",
      " |      Add the specified filter to this handler.\n",
      " |  \n",
      " |  filter(self, record)\n",
      " |      Determine if a record is loggable by consulting all the filters.\n",
      " |      \n",
      " |      The default is to allow the record to be logged; any filter can veto\n",
      " |      this and the record is then dropped. Returns a zero value if a record\n",
      " |      is to be dropped, else non-zero.\n",
      " |      \n",
      " |      .. versionchanged:: 3.2\n",
      " |      \n",
      " |         Allow filters to be just callables.\n",
      " |  \n",
      " |  removeFilter(self, filter)\n",
      " |      Remove the specified filter from this handler.\n",
      " |  \n",
      " |  ----------------------------------------------------------------------\n",
      " |  Data descriptors inherited from logging.Filterer:\n",
      " |  \n",
      " |  __dict__\n",
      " |      dictionary for instance variables (if defined)\n",
      " |  \n",
      " |  __weakref__\n",
      " |      list of weak references to the object (if defined)\n",
      "\n"
     ]
    }
   ],
   "source": [
    "import telegram_handler\n",
    "help(telegram_handler.handlers.TelegramHandler)"
   ]
  },
  {
   "cell_type": "code",
   "execution_count": 20,
   "id": "d2027668",
   "metadata": {},
   "outputs": [
    {
     "name": "stdout",
     "output_type": "stream",
     "text": [
      "WARNING : From altlg\n"
     ]
    }
   ],
   "source": [
    "lg.warning('From altlg')"
   ]
  },
  {
   "cell_type": "code",
   "execution_count": 11,
   "id": "57a330e9",
   "metadata": {},
   "outputs": [],
   "source": [
    "logger.handlers = [stream_handler, file_handler, th]"
   ]
  },
  {
   "cell_type": "code",
   "execution_count": 6,
   "id": "2834f5d9",
   "metadata": {},
   "outputs": [],
   "source": [
    "logging.basicConfig(level=logging.INFO, handlers=[\n",
    "        stream_handler,\n",
    "        file_handler,\n",
    "        th,\n",
    "    ])\n",
    "# logging.basicConfig()"
   ]
  },
  {
   "cell_type": "code",
   "execution_count": 31,
   "id": "4fc9f59e",
   "metadata": {},
   "outputs": [],
   "source": [
    "filename = 't.txt'\n",
    "with open(filename, 'w') as f:\n",
    "    f.write('Hi')"
   ]
  },
  {
   "cell_type": "code",
   "execution_count": 16,
   "id": "86d50fe7",
   "metadata": {},
   "outputs": [],
   "source": [
    "logging.log(10, 'Hallo')"
   ]
  },
  {
   "cell_type": "code",
   "execution_count": 3,
   "id": "0943b2d8",
   "metadata": {},
   "outputs": [],
   "source": [
    "@ut.indent_stdout\n",
    "def bul():\n",
    "    print('Printing')\n",
    "    logging.critical('logging critical message')\n",
    "    print('Printing 2')\n",
    "    logging.critical('logging 2')\n",
    "    print('Printing 3')\n",
    "    logging.critical('logging 3')\n",
    "    # logging.info('logging info')"
   ]
  },
  {
   "cell_type": "code",
   "execution_count": 4,
   "id": "e243b0f6",
   "metadata": {},
   "outputs": [
    {
     "name": "stdout",
     "output_type": "stream",
     "text": [
      "print before\n",
      "CRITICAL:root:before\n",
      "\tPrinting\n",
      "CRITICAL:root:logging critical message\n",
      "\tPrinting 2\n",
      "CRITICAL:root:logging 2\n",
      "\tPrinting 3\n",
      "CRITICAL:root:logging 3\n",
      "print after\n",
      "WARNING:root:after\n",
      "print after 2\n",
      "CRITICAL:root:log after 2\n"
     ]
    }
   ],
   "source": [
    "print('print before')\n",
    "logging.log(50, 'before')\n",
    "bul()\n",
    "print('print after')\n",
    "logging.warning('after')\n",
    "print('print after 2')\n",
    "logging.critical('log after 2')"
   ]
  },
  {
   "cell_type": "code",
   "execution_count": 3,
   "id": "05ad8f50",
   "metadata": {},
   "outputs": [],
   "source": [
    "logger = logging.getLogger()"
   ]
  },
  {
   "cell_type": "code",
   "execution_count": 4,
   "id": "dfbecca3",
   "metadata": {},
   "outputs": [
    {
     "data": {
      "text/plain": [
       "[<StreamHandler stdout (NOTSET)>,\n",
       " <FileHandler /media/alessandro/OS/Users/ale57/Documents/0. Lyon/WORK/Climate-Learning/PLASIM/log.log (NOTSET)>]"
      ]
     },
     "execution_count": 4,
     "metadata": {},
     "output_type": "execute_result"
    }
   ],
   "source": [
    "logger.handlers"
   ]
  },
  {
   "cell_type": "code",
   "execution_count": 6,
   "id": "03ac1c8a",
   "metadata": {},
   "outputs": [
    {
     "data": {
      "text/plain": [
       "<function TextIOWrapper.write(text, /)>"
      ]
     },
     "execution_count": 6,
     "metadata": {},
     "output_type": "execute_result"
    }
   ],
   "source": [
    "logger.handlers[1].stream.write\n"
   ]
  },
  {
   "cell_type": "code",
   "execution_count": 2,
   "id": "591d5863",
   "metadata": {},
   "outputs": [
    {
     "data": {
      "text/plain": [
       "{'concurrent.futures': <Logger concurrent.futures (WARNING)>,\n",
       " 'concurrent': <logging.PlaceHolder at 0x7fb5696fc070>,\n",
       " 'asyncio': <Logger asyncio (WARNING)>,\n",
       " 'tornado.access': <Logger tornado.access (WARNING)>,\n",
       " 'tornado': <Logger tornado (WARNING)>,\n",
       " 'tornado.application': <Logger tornado.application (WARNING)>,\n",
       " 'tornado.general': <Logger tornado.general (WARNING)>,\n",
       " 'prompt_toolkit.buffer': <Logger prompt_toolkit.buffer (WARNING)>,\n",
       " 'prompt_toolkit': <logging.PlaceHolder at 0x7fb5681b9a60>,\n",
       " 'parso.python.diff': <Logger parso.python.diff (WARNING)>,\n",
       " 'parso.python': <logging.PlaceHolder at 0x7fb567c9e250>,\n",
       " 'parso': <logging.PlaceHolder at 0x7fb567c9e2b0>,\n",
       " 'parso.cache': <Logger parso.cache (WARNING)>,\n",
       " 'IPKernelApp': <Logger IPKernelApp (WARNING)>}"
      ]
     },
     "execution_count": 2,
     "metadata": {},
     "output_type": "execute_result"
    }
   ],
   "source": [
    "logging.root.manager.loggerDict"
   ]
  },
  {
   "cell_type": "code",
   "execution_count": 1,
   "id": "a23246fa",
   "metadata": {},
   "outputs": [
    {
     "name": "stderr",
     "output_type": "stream",
     "text": [
      "In this environment you cannot import Basemap\n"
     ]
    }
   ],
   "source": [
    "import os\n",
    "from pathlib import Path\n",
    "import ast\n",
    "import sys\n",
    "sys.path.append('../')\n",
    "import ERA.utilities as ut\n",
    "import Learn2_new as ln\n",
    "import traceback\n"
   ]
  },
  {
   "cell_type": "code",
   "execution_count": 6,
   "id": "41283465",
   "metadata": {},
   "outputs": [
    {
     "data": {
      "text/plain": [
       "True"
      ]
     },
     "execution_count": 6,
     "metadata": {},
     "output_type": "execute_result"
    }
   ],
   "source": [
    "os.access(f\"{os.environ['HOME']}/ENSMLbot.txt\", os.R_OK)"
   ]
  },
  {
   "cell_type": "code",
   "execution_count": 2,
   "id": "81babb1e",
   "metadata": {},
   "outputs": [
    {
     "ename": "ValueError",
     "evalue": "malformed node or string: <ast.Name object at 0x7f9622e58c10>",
     "output_type": "error",
     "traceback": [
      "\u001b[0;31m---------------------------------------------------------------------------\u001b[0m",
      "\u001b[0;31mValueError\u001b[0m                                Traceback (most recent call last)",
      "\u001b[0;32m/var/folders/p8/k08kk0c517zd64tyd8q0vqw80000gp/T/ipykernel_943/2449535438.py\u001b[0m in \u001b[0;36m<module>\u001b[0;34m\u001b[0m\n\u001b[0;32m----> 1\u001b[0;31m \u001b[0ml\u001b[0m \u001b[0;34m=\u001b[0m \u001b[0mast\u001b[0m\u001b[0;34m.\u001b[0m\u001b[0mliteral_eval\u001b[0m\u001b[0;34m(\u001b[0m\u001b[0;34m'hello'\u001b[0m\u001b[0;34m)\u001b[0m\u001b[0;34m\u001b[0m\u001b[0;34m\u001b[0m\u001b[0m\n\u001b[0m\u001b[1;32m      2\u001b[0m \u001b[0ml\u001b[0m\u001b[0;34m\u001b[0m\u001b[0;34m\u001b[0m\u001b[0m\n",
      "\u001b[0;32m/opt/anaconda3/envs/python3.9/lib/python3.9/ast.py\u001b[0m in \u001b[0;36mliteral_eval\u001b[0;34m(node_or_string)\u001b[0m\n\u001b[1;32m    103\u001b[0m                     \u001b[0;32mreturn\u001b[0m \u001b[0mleft\u001b[0m \u001b[0;34m-\u001b[0m \u001b[0mright\u001b[0m\u001b[0;34m\u001b[0m\u001b[0;34m\u001b[0m\u001b[0m\n\u001b[1;32m    104\u001b[0m         \u001b[0;32mreturn\u001b[0m \u001b[0m_convert_signed_num\u001b[0m\u001b[0;34m(\u001b[0m\u001b[0mnode\u001b[0m\u001b[0;34m)\u001b[0m\u001b[0;34m\u001b[0m\u001b[0;34m\u001b[0m\u001b[0m\n\u001b[0;32m--> 105\u001b[0;31m     \u001b[0;32mreturn\u001b[0m \u001b[0m_convert\u001b[0m\u001b[0;34m(\u001b[0m\u001b[0mnode_or_string\u001b[0m\u001b[0;34m)\u001b[0m\u001b[0;34m\u001b[0m\u001b[0;34m\u001b[0m\u001b[0m\n\u001b[0m\u001b[1;32m    106\u001b[0m \u001b[0;34m\u001b[0m\u001b[0m\n\u001b[1;32m    107\u001b[0m \u001b[0;34m\u001b[0m\u001b[0m\n",
      "\u001b[0;32m/opt/anaconda3/envs/python3.9/lib/python3.9/ast.py\u001b[0m in \u001b[0;36m_convert\u001b[0;34m(node)\u001b[0m\n\u001b[1;32m    102\u001b[0m                 \u001b[0;32melse\u001b[0m\u001b[0;34m:\u001b[0m\u001b[0;34m\u001b[0m\u001b[0;34m\u001b[0m\u001b[0m\n\u001b[1;32m    103\u001b[0m                     \u001b[0;32mreturn\u001b[0m \u001b[0mleft\u001b[0m \u001b[0;34m-\u001b[0m \u001b[0mright\u001b[0m\u001b[0;34m\u001b[0m\u001b[0;34m\u001b[0m\u001b[0m\n\u001b[0;32m--> 104\u001b[0;31m         \u001b[0;32mreturn\u001b[0m \u001b[0m_convert_signed_num\u001b[0m\u001b[0;34m(\u001b[0m\u001b[0mnode\u001b[0m\u001b[0;34m)\u001b[0m\u001b[0;34m\u001b[0m\u001b[0;34m\u001b[0m\u001b[0m\n\u001b[0m\u001b[1;32m    105\u001b[0m     \u001b[0;32mreturn\u001b[0m \u001b[0m_convert\u001b[0m\u001b[0;34m(\u001b[0m\u001b[0mnode_or_string\u001b[0m\u001b[0;34m)\u001b[0m\u001b[0;34m\u001b[0m\u001b[0;34m\u001b[0m\u001b[0m\n\u001b[1;32m    106\u001b[0m \u001b[0;34m\u001b[0m\u001b[0m\n",
      "\u001b[0;32m/opt/anaconda3/envs/python3.9/lib/python3.9/ast.py\u001b[0m in \u001b[0;36m_convert_signed_num\u001b[0;34m(node)\u001b[0m\n\u001b[1;32m     76\u001b[0m             \u001b[0;32melse\u001b[0m\u001b[0;34m:\u001b[0m\u001b[0;34m\u001b[0m\u001b[0;34m\u001b[0m\u001b[0m\n\u001b[1;32m     77\u001b[0m                 \u001b[0;32mreturn\u001b[0m \u001b[0;34m-\u001b[0m \u001b[0moperand\u001b[0m\u001b[0;34m\u001b[0m\u001b[0;34m\u001b[0m\u001b[0m\n\u001b[0;32m---> 78\u001b[0;31m         \u001b[0;32mreturn\u001b[0m \u001b[0m_convert_num\u001b[0m\u001b[0;34m(\u001b[0m\u001b[0mnode\u001b[0m\u001b[0;34m)\u001b[0m\u001b[0;34m\u001b[0m\u001b[0;34m\u001b[0m\u001b[0m\n\u001b[0m\u001b[1;32m     79\u001b[0m     \u001b[0;32mdef\u001b[0m \u001b[0m_convert\u001b[0m\u001b[0;34m(\u001b[0m\u001b[0mnode\u001b[0m\u001b[0;34m)\u001b[0m\u001b[0;34m:\u001b[0m\u001b[0;34m\u001b[0m\u001b[0;34m\u001b[0m\u001b[0m\n\u001b[1;32m     80\u001b[0m         \u001b[0;32mif\u001b[0m \u001b[0misinstance\u001b[0m\u001b[0;34m(\u001b[0m\u001b[0mnode\u001b[0m\u001b[0;34m,\u001b[0m \u001b[0mConstant\u001b[0m\u001b[0;34m)\u001b[0m\u001b[0;34m:\u001b[0m\u001b[0;34m\u001b[0m\u001b[0;34m\u001b[0m\u001b[0m\n",
      "\u001b[0;32m/opt/anaconda3/envs/python3.9/lib/python3.9/ast.py\u001b[0m in \u001b[0;36m_convert_num\u001b[0;34m(node)\u001b[0m\n\u001b[1;32m     67\u001b[0m     \u001b[0;32mdef\u001b[0m \u001b[0m_convert_num\u001b[0m\u001b[0;34m(\u001b[0m\u001b[0mnode\u001b[0m\u001b[0;34m)\u001b[0m\u001b[0;34m:\u001b[0m\u001b[0;34m\u001b[0m\u001b[0;34m\u001b[0m\u001b[0m\n\u001b[1;32m     68\u001b[0m         \u001b[0;32mif\u001b[0m \u001b[0;32mnot\u001b[0m \u001b[0misinstance\u001b[0m\u001b[0;34m(\u001b[0m\u001b[0mnode\u001b[0m\u001b[0;34m,\u001b[0m \u001b[0mConstant\u001b[0m\u001b[0;34m)\u001b[0m \u001b[0;32mor\u001b[0m \u001b[0mtype\u001b[0m\u001b[0;34m(\u001b[0m\u001b[0mnode\u001b[0m\u001b[0;34m.\u001b[0m\u001b[0mvalue\u001b[0m\u001b[0;34m)\u001b[0m \u001b[0;32mnot\u001b[0m \u001b[0;32min\u001b[0m \u001b[0;34m(\u001b[0m\u001b[0mint\u001b[0m\u001b[0;34m,\u001b[0m \u001b[0mfloat\u001b[0m\u001b[0;34m,\u001b[0m \u001b[0mcomplex\u001b[0m\u001b[0;34m)\u001b[0m\u001b[0;34m:\u001b[0m\u001b[0;34m\u001b[0m\u001b[0;34m\u001b[0m\u001b[0m\n\u001b[0;32m---> 69\u001b[0;31m             \u001b[0m_raise_malformed_node\u001b[0m\u001b[0;34m(\u001b[0m\u001b[0mnode\u001b[0m\u001b[0;34m)\u001b[0m\u001b[0;34m\u001b[0m\u001b[0;34m\u001b[0m\u001b[0m\n\u001b[0m\u001b[1;32m     70\u001b[0m         \u001b[0;32mreturn\u001b[0m \u001b[0mnode\u001b[0m\u001b[0;34m.\u001b[0m\u001b[0mvalue\u001b[0m\u001b[0;34m\u001b[0m\u001b[0;34m\u001b[0m\u001b[0m\n\u001b[1;32m     71\u001b[0m     \u001b[0;32mdef\u001b[0m \u001b[0m_convert_signed_num\u001b[0m\u001b[0;34m(\u001b[0m\u001b[0mnode\u001b[0m\u001b[0;34m)\u001b[0m\u001b[0;34m:\u001b[0m\u001b[0;34m\u001b[0m\u001b[0;34m\u001b[0m\u001b[0m\n",
      "\u001b[0;32m/opt/anaconda3/envs/python3.9/lib/python3.9/ast.py\u001b[0m in \u001b[0;36m_raise_malformed_node\u001b[0;34m(node)\u001b[0m\n\u001b[1;32m     64\u001b[0m         \u001b[0mnode_or_string\u001b[0m \u001b[0;34m=\u001b[0m \u001b[0mnode_or_string\u001b[0m\u001b[0;34m.\u001b[0m\u001b[0mbody\u001b[0m\u001b[0;34m\u001b[0m\u001b[0;34m\u001b[0m\u001b[0m\n\u001b[1;32m     65\u001b[0m     \u001b[0;32mdef\u001b[0m \u001b[0m_raise_malformed_node\u001b[0m\u001b[0;34m(\u001b[0m\u001b[0mnode\u001b[0m\u001b[0;34m)\u001b[0m\u001b[0;34m:\u001b[0m\u001b[0;34m\u001b[0m\u001b[0;34m\u001b[0m\u001b[0m\n\u001b[0;32m---> 66\u001b[0;31m         \u001b[0;32mraise\u001b[0m \u001b[0mValueError\u001b[0m\u001b[0;34m(\u001b[0m\u001b[0;34mf'malformed node or string: {node!r}'\u001b[0m\u001b[0;34m)\u001b[0m\u001b[0;34m\u001b[0m\u001b[0;34m\u001b[0m\u001b[0m\n\u001b[0m\u001b[1;32m     67\u001b[0m     \u001b[0;32mdef\u001b[0m \u001b[0m_convert_num\u001b[0m\u001b[0;34m(\u001b[0m\u001b[0mnode\u001b[0m\u001b[0;34m)\u001b[0m\u001b[0;34m:\u001b[0m\u001b[0;34m\u001b[0m\u001b[0;34m\u001b[0m\u001b[0m\n\u001b[1;32m     68\u001b[0m         \u001b[0;32mif\u001b[0m \u001b[0;32mnot\u001b[0m \u001b[0misinstance\u001b[0m\u001b[0;34m(\u001b[0m\u001b[0mnode\u001b[0m\u001b[0;34m,\u001b[0m \u001b[0mConstant\u001b[0m\u001b[0;34m)\u001b[0m \u001b[0;32mor\u001b[0m \u001b[0mtype\u001b[0m\u001b[0;34m(\u001b[0m\u001b[0mnode\u001b[0m\u001b[0;34m.\u001b[0m\u001b[0mvalue\u001b[0m\u001b[0;34m)\u001b[0m \u001b[0;32mnot\u001b[0m \u001b[0;32min\u001b[0m \u001b[0;34m(\u001b[0m\u001b[0mint\u001b[0m\u001b[0;34m,\u001b[0m \u001b[0mfloat\u001b[0m\u001b[0;34m,\u001b[0m \u001b[0mcomplex\u001b[0m\u001b[0;34m)\u001b[0m\u001b[0;34m:\u001b[0m\u001b[0;34m\u001b[0m\u001b[0;34m\u001b[0m\u001b[0m\n",
      "\u001b[0;31mValueError\u001b[0m: malformed node or string: <ast.Name object at 0x7f9622e58c10>"
     ]
    }
   ],
   "source": [
    "l = ast.literal_eval('hello')\n",
    "l"
   ]
  },
  {
   "cell_type": "code",
   "execution_count": 22,
   "id": "2d6121fb",
   "metadata": {},
   "outputs": [
    {
     "data": {
      "text/plain": [
       "int"
      ]
     },
     "execution_count": 22,
     "metadata": {},
     "output_type": "execute_result"
    }
   ],
   "source": [
    "type(l[0])"
   ]
  },
  {
   "cell_type": "code",
   "execution_count": 23,
   "id": "6e4eefc2",
   "metadata": {},
   "outputs": [],
   "source": [
    "ut.dict2json({'l': l[0], }, 't.json')"
   ]
  },
  {
   "cell_type": "code",
   "execution_count": 25,
   "id": "bb1f9db4",
   "metadata": {},
   "outputs": [
    {
     "ename": "FileNotFoundError",
     "evalue": "[Errno 2] No such file or directory: 'config.json'",
     "output_type": "error",
     "traceback": [
      "\u001b[0;31m---------------------------------------------------------------------------\u001b[0m",
      "\u001b[0;31mFileNotFoundError\u001b[0m                         Traceback (most recent call last)",
      "\u001b[0;32m/var/folders/p8/k08kk0c517zd64tyd8q0vqw80000gp/T/ipykernel_1181/1219970604.py\u001b[0m in \u001b[0;36m<module>\u001b[0;34m\u001b[0m\n\u001b[0;32m----> 1\u001b[0;31m \u001b[0mt\u001b[0m \u001b[0;34m=\u001b[0m \u001b[0mln\u001b[0m\u001b[0;34m.\u001b[0m\u001b[0mTrainer\u001b[0m\u001b[0;34m(\u001b[0m\u001b[0;34m)\u001b[0m\u001b[0;34m\u001b[0m\u001b[0;34m\u001b[0m\u001b[0m\n\u001b[0m",
      "\u001b[0;32m~/Repos/Climate-Learning/PLASIM/Learn2_new.py\u001b[0m in \u001b[0;36m__init__\u001b[0;34m(self)\u001b[0m\n\u001b[1;32m   1245\u001b[0m     \u001b[0;32mdef\u001b[0m \u001b[0m__init__\u001b[0m\u001b[0;34m(\u001b[0m\u001b[0mself\u001b[0m\u001b[0;34m)\u001b[0m\u001b[0;34m:\u001b[0m\u001b[0;34m\u001b[0m\u001b[0;34m\u001b[0m\u001b[0m\n\u001b[1;32m   1246\u001b[0m         \u001b[0;31m# load config file and parse arguments\u001b[0m\u001b[0;34m\u001b[0m\u001b[0;34m\u001b[0m\u001b[0m\n\u001b[0;32m-> 1247\u001b[0;31m         \u001b[0mself\u001b[0m\u001b[0;34m.\u001b[0m\u001b[0mconfig_dict\u001b[0m \u001b[0;34m=\u001b[0m \u001b[0mut\u001b[0m\u001b[0;34m.\u001b[0m\u001b[0mjson2dict\u001b[0m\u001b[0;34m(\u001b[0m\u001b[0;34m'config.json'\u001b[0m\u001b[0;34m)\u001b[0m\u001b[0;34m\u001b[0m\u001b[0;34m\u001b[0m\u001b[0m\n\u001b[0m\u001b[1;32m   1248\u001b[0m         \u001b[0mself\u001b[0m\u001b[0;34m.\u001b[0m\u001b[0mconfig_dict_flat\u001b[0m \u001b[0;34m=\u001b[0m \u001b[0mcheck_config_dict\u001b[0m\u001b[0;34m(\u001b[0m\u001b[0mself\u001b[0m\u001b[0;34m.\u001b[0m\u001b[0mconfig_dict\u001b[0m\u001b[0;34m)\u001b[0m\u001b[0;34m\u001b[0m\u001b[0;34m\u001b[0m\u001b[0m\n\u001b[1;32m   1249\u001b[0m \u001b[0;34m\u001b[0m\u001b[0m\n",
      "\u001b[0;32m~/Repos/Climate-Learning/ERA/utilities.py\u001b[0m in \u001b[0;36mjson2dict\u001b[0;34m(filename)\u001b[0m\n\u001b[1;32m    309\u001b[0m     \u001b[0md\u001b[0m \u001b[0;34m:\u001b[0m \u001b[0mdict\u001b[0m\u001b[0;34m\u001b[0m\u001b[0;34m\u001b[0m\u001b[0m\n\u001b[1;32m    310\u001b[0m     '''\n\u001b[0;32m--> 311\u001b[0;31m     \u001b[0;32mwith\u001b[0m \u001b[0mopen\u001b[0m\u001b[0;34m(\u001b[0m\u001b[0mfilename\u001b[0m\u001b[0;34m,\u001b[0m \u001b[0;34m'r'\u001b[0m\u001b[0;34m)\u001b[0m \u001b[0;32mas\u001b[0m \u001b[0mj\u001b[0m\u001b[0;34m:\u001b[0m\u001b[0;34m\u001b[0m\u001b[0;34m\u001b[0m\u001b[0m\n\u001b[0m\u001b[1;32m    312\u001b[0m         \u001b[0md\u001b[0m \u001b[0;34m=\u001b[0m \u001b[0mjson\u001b[0m\u001b[0;34m.\u001b[0m\u001b[0mload\u001b[0m\u001b[0;34m(\u001b[0m\u001b[0mj\u001b[0m\u001b[0;34m)\u001b[0m\u001b[0;34m\u001b[0m\u001b[0;34m\u001b[0m\u001b[0m\n\u001b[1;32m    313\u001b[0m     \u001b[0;32mreturn\u001b[0m \u001b[0md\u001b[0m\u001b[0;34m\u001b[0m\u001b[0;34m\u001b[0m\u001b[0m\n",
      "\u001b[0;31mFileNotFoundError\u001b[0m: [Errno 2] No such file or directory: 'config.json'"
     ]
    }
   ],
   "source": [
    "t = ln.Trainer()"
   ]
  },
  {
   "cell_type": "code",
   "execution_count": 32,
   "id": "88daf3db",
   "metadata": {},
   "outputs": [
    {
     "name": "stdout",
     "output_type": "stream",
     "text": [
      "v = 'Traceback (most recent call last):\\n  File \"/var/folders/p8/k08kk0c517zd64tyd8q0vqw80000gp/T/ipykernel_1181/2418270265.py\", line 2, in <module>\\n    raise ValueError(\\'Not provided\\')\\nValueError: Not provided\\n'\n",
      "ValueError('Not provided') <class 'str'>\n"
     ]
    },
    {
     "ename": "ValueError",
     "evalue": "Not provided",
     "output_type": "error",
     "traceback": [
      "\u001b[0;31m---------------------------------------------------------------------------\u001b[0m",
      "\u001b[0;31mValueError\u001b[0m                                Traceback (most recent call last)",
      "\u001b[0;32m/var/folders/p8/k08kk0c517zd64tyd8q0vqw80000gp/T/ipykernel_1181/2418270265.py\u001b[0m in \u001b[0;36m<module>\u001b[0;34m\u001b[0m\n\u001b[1;32m      5\u001b[0m     \u001b[0mprint\u001b[0m\u001b[0;34m(\u001b[0m\u001b[0;34mf'{v = }'\u001b[0m\u001b[0;34m)\u001b[0m\u001b[0;34m\u001b[0m\u001b[0;34m\u001b[0m\u001b[0m\n\u001b[1;32m      6\u001b[0m     \u001b[0mprint\u001b[0m\u001b[0;34m(\u001b[0m\u001b[0mrepr\u001b[0m\u001b[0;34m(\u001b[0m\u001b[0me\u001b[0m\u001b[0;34m)\u001b[0m\u001b[0;34m,\u001b[0m \u001b[0mtype\u001b[0m\u001b[0;34m(\u001b[0m\u001b[0mrepr\u001b[0m\u001b[0;34m(\u001b[0m\u001b[0me\u001b[0m\u001b[0;34m)\u001b[0m\u001b[0;34m)\u001b[0m\u001b[0;34m)\u001b[0m\u001b[0;34m\u001b[0m\u001b[0;34m\u001b[0m\u001b[0m\n\u001b[0;32m----> 7\u001b[0;31m     \u001b[0;32mraise\u001b[0m \u001b[0me\u001b[0m\u001b[0;34m\u001b[0m\u001b[0;34m\u001b[0m\u001b[0m\n\u001b[0m",
      "\u001b[0;32m/var/folders/p8/k08kk0c517zd64tyd8q0vqw80000gp/T/ipykernel_1181/2418270265.py\u001b[0m in \u001b[0;36m<module>\u001b[0;34m\u001b[0m\n\u001b[1;32m      1\u001b[0m \u001b[0;32mtry\u001b[0m\u001b[0;34m:\u001b[0m\u001b[0;34m\u001b[0m\u001b[0;34m\u001b[0m\u001b[0m\n\u001b[0;32m----> 2\u001b[0;31m     \u001b[0;32mraise\u001b[0m \u001b[0mValueError\u001b[0m\u001b[0;34m(\u001b[0m\u001b[0;34m'Not provided'\u001b[0m\u001b[0;34m)\u001b[0m\u001b[0;34m\u001b[0m\u001b[0;34m\u001b[0m\u001b[0m\n\u001b[0m\u001b[1;32m      3\u001b[0m \u001b[0;32mexcept\u001b[0m \u001b[0mException\u001b[0m \u001b[0;32mas\u001b[0m \u001b[0me\u001b[0m\u001b[0;34m:\u001b[0m\u001b[0;34m\u001b[0m\u001b[0;34m\u001b[0m\u001b[0m\n\u001b[1;32m      4\u001b[0m     \u001b[0mv\u001b[0m \u001b[0;34m=\u001b[0m \u001b[0mtraceback\u001b[0m\u001b[0;34m.\u001b[0m\u001b[0mformat_exc\u001b[0m\u001b[0;34m(\u001b[0m\u001b[0;34m)\u001b[0m\u001b[0;34m\u001b[0m\u001b[0;34m\u001b[0m\u001b[0m\n\u001b[1;32m      5\u001b[0m     \u001b[0mprint\u001b[0m\u001b[0;34m(\u001b[0m\u001b[0;34mf'{v = }'\u001b[0m\u001b[0;34m)\u001b[0m\u001b[0;34m\u001b[0m\u001b[0;34m\u001b[0m\u001b[0m\n",
      "\u001b[0;31mValueError\u001b[0m: Not provided"
     ]
    }
   ],
   "source": [
    "try:\n",
    "    raise ValueError('Not provided')\n",
    "except Exception as e:\n",
    "    v = traceback.format_exc()\n",
    "    print(f'{v = }')\n",
    "    print(repr(e), type(repr(e)))\n",
    "    raise e"
   ]
  },
  {
   "cell_type": "code",
   "execution_count": 37,
   "id": "9199079d",
   "metadata": {},
   "outputs": [],
   "source": [
    "summary = '\\n'\n",
    "def summary_printer(x):\n",
    "    global summary\n",
    "    summary += x + '\\n'"
   ]
  },
  {
   "cell_type": "code",
   "execution_count": 40,
   "id": "12aec319",
   "metadata": {},
   "outputs": [
    {
     "data": {
      "text/plain": [
       "'\\nHi\\n'"
      ]
     },
     "execution_count": 40,
     "metadata": {},
     "output_type": "execute_result"
    }
   ],
   "source": [
    "summary"
   ]
  },
  {
   "cell_type": "code",
   "execution_count": 39,
   "id": "cebcedf4",
   "metadata": {},
   "outputs": [],
   "source": [
    "summary_printer('Hi')"
   ]
  },
  {
   "cell_type": "code",
   "execution_count": 15,
   "id": "c4741b08",
   "metadata": {},
   "outputs": [],
   "source": [
    "a = '0--tau__[1,2,3]'\n",
    "a = a.replace('[', '\\[')\n",
    "a = a.replace(']', '\\]')"
   ]
  },
  {
   "cell_type": "code",
   "execution_count": 21,
   "id": "830f580b",
   "metadata": {},
   "outputs": [
    {
     "data": {
      "text/plain": [
       "'1,2,3,,4,5,6'"
      ]
     },
     "execution_count": 21,
     "metadata": {},
     "output_type": "execute_result"
    }
   ],
   "source": [
    "a = [[1,2,3], [4,5,6]]\n",
    "s = str(a)\n",
    "s = s.replace(' ','')\n",
    "s = s.replace('[','')\n",
    "s = s.replace('],', ',,')\n",
    "s = s.replace(']', '')\n",
    "s"
   ]
  },
  {
   "cell_type": "code",
   "execution_count": 3,
   "id": "b6a0568a",
   "metadata": {},
   "outputs": [
    {
     "data": {
      "text/plain": [
       "\"'0--tau__[1,2,3]'\""
      ]
     },
     "execution_count": 3,
     "metadata": {},
     "output_type": "execute_result"
    }
   ],
   "source": [
    "repr(a)"
   ]
  },
  {
   "cell_type": "code",
   "execution_count": 1,
   "id": "1b8fbbcf",
   "metadata": {},
   "outputs": [],
   "source": [
    "import numpy as np"
   ]
  },
  {
   "cell_type": "code",
   "execution_count": 5,
   "id": "dc88a19f-9b18-4185-8a0c-a07c3f1ce785",
   "metadata": {},
   "outputs": [],
   "source": [
    "def bias(p0, r):\n",
    "    return p0/(p0 + r*(1-p0))\n",
    "\n",
    "def unbias(p0t, r):\n",
    "    return r*p0t/(1 - (1 - r)*p0t)"
   ]
  },
  {
   "cell_type": "code",
   "execution_count": 8,
   "id": "e36b85dc-8182-405f-bc80-e0e0ee145591",
   "metadata": {},
   "outputs": [
    {
     "name": "stdout",
     "output_type": "stream",
     "text": [
      "0.9 0.4736842105263158 0.9\n"
     ]
    }
   ],
   "source": [
    "r = 10\n",
    "p0 = 0.9\n",
    "\n",
    "p0t = bias(p0,r)\n",
    "p0n = unbias(p0t,r)\n",
    "print(p0, p0t, p0n)"
   ]
  },
  {
   "cell_type": "code",
   "execution_count": 10,
   "id": "e70e99e0-1f3e-4c80-aa12-2407f418dee2",
   "metadata": {},
   "outputs": [
    {
     "data": {
      "text/plain": [
       "array([[0.01, 0.99],\n",
       "       [0.1 , 0.9 ],\n",
       "       [0.99, 0.01]])"
      ]
     },
     "execution_count": 10,
     "metadata": {},
     "output_type": "execute_result"
    }
   ],
   "source": [
    "a = np.array([[0,1], [0.1, 0.9], [1,0]])\n",
    "np.clip(a, 0.01, 0.99)"
   ]
  },
  {
   "cell_type": "code",
   "execution_count": 20,
   "id": "68298014-e781-4732-9705-7280864f4cf6",
   "metadata": {},
   "outputs": [
    {
     "name": "stderr",
     "output_type": "stream",
     "text": [
      "In this environment you cannot import Basemap\n"
     ]
    }
   ],
   "source": [
    "import numpy as np\n",
    "import sys\n",
    "sys.path.append('../ERA')\n",
    "import ERA_Fields_New as ef"
   ]
  },
  {
   "cell_type": "code",
   "execution_count": 42,
   "id": "e94408a5",
   "metadata": {},
   "outputs": [
    {
     "data": {
      "text/plain": [
       "4"
      ]
     },
     "execution_count": 42,
     "metadata": {},
     "output_type": "execute_result"
    }
   ],
   "source": [
    "a = ['1', 1, 0, None, {'a': '12'}]\n",
    "a.index({'a': '12'})"
   ]
  },
  {
   "cell_type": "code",
   "execution_count": 44,
   "id": "4e28c044",
   "metadata": {},
   "outputs": [
    {
     "name": "stdout",
     "output_type": "stream",
     "text": [
      "{'1': 0, '2': -5, '3': -5}\n",
      "{'1': {'percent': 1}, '2': {'size': (2, 5)}, '3': {'percent': 1}}\n",
      "[{'percent': 1}, {'size': (2, 5)}]\n",
      "[['1', '3'], ['2']]\n"
     ]
    }
   ],
   "source": [
    "a = {'1': {'tau': 0, 'percent': 1}, '2': {'tau': -5, 'size': (2,5)}, '3':{'tau':-5, 'percent':1}}\n",
    "taus = {k:v.pop('tau') for k,v in a.items()}\n",
    "print(taus)\n",
    "print(a)\n",
    "group_args = []\n",
    "group_runs = []\n",
    "for k,v in a.items():\n",
    "    try:\n",
    "        i = group_args.index(v)\n",
    "        group_runs[i].append(k)\n",
    "    except ValueError:\n",
    "        group_args.append(v)\n",
    "        group_runs.append([k])\n",
    "\n",
    "print(group_args)\n",
    "print(group_runs)\n",
    "        "
   ]
  },
  {
   "cell_type": "code",
   "execution_count": 14,
   "id": "fb7cd4c9",
   "metadata": {},
   "outputs": [
    {
     "data": {
      "text/plain": [
       "array([[0. , 1. ],\n",
       "       [0.1, 0.9],\n",
       "       [0.2, 0.8],\n",
       "       [0.3, 0.7],\n",
       "       [0.4, 0.6],\n",
       "       [0.5, 0.5],\n",
       "       [0.6, 0.4],\n",
       "       [0.7, 0.3],\n",
       "       [0.8, 0.2],\n",
       "       [0.9, 0.1]])"
      ]
     },
     "execution_count": 14,
     "metadata": {},
     "output_type": "execute_result"
    }
   ],
   "source": [
    "a = np.arange(0,1,0.1)\n",
    "np.c_[a, 1-a]"
   ]
  },
  {
   "cell_type": "code",
   "execution_count": 6,
   "id": "5b798578",
   "metadata": {},
   "outputs": [
    {
     "data": {
      "text/plain": [
       "2.302585092994046"
      ]
     },
     "execution_count": 6,
     "metadata": {},
     "output_type": "execute_result"
    }
   ],
   "source": [
    "Y_pred = np.array([0, 1])\n",
    "Y_pred_prob = np.array([[0.1,0.9], [0.9, 0.1]])\n",
    "\n",
    "np.mean(ef.entropy(1 - Y_pred, Y_pred_prob[:,0]))"
   ]
  },
  {
   "cell_type": "code",
   "execution_count": 12,
   "id": "fc81f71c",
   "metadata": {},
   "outputs": [
    {
     "data": {
      "text/plain": [
       "0.1985152433458726"
      ]
     },
     "execution_count": 12,
     "metadata": {},
     "output_type": "execute_result"
    }
   ],
   "source": [
    "ef.entropy(0.05)"
   ]
  },
  {
   "cell_type": "code",
   "execution_count": 1,
   "id": "7a711697",
   "metadata": {},
   "outputs": [],
   "source": [
    "import pandas as pd"
   ]
  },
  {
   "cell_type": "code",
   "execution_count": 4,
   "id": "1c236471",
   "metadata": {},
   "outputs": [
    {
     "data": {
      "text/html": [
       "<div>\n",
       "<style scoped>\n",
       "    .dataframe tbody tr th:only-of-type {\n",
       "        vertical-align: middle;\n",
       "    }\n",
       "\n",
       "    .dataframe tbody tr th {\n",
       "        vertical-align: top;\n",
       "    }\n",
       "\n",
       "    .dataframe thead th {\n",
       "        text-align: right;\n",
       "    }\n",
       "</style>\n",
       "<table border=\"1\" class=\"dataframe\">\n",
       "  <thead>\n",
       "    <tr style=\"text-align: right;\">\n",
       "      <th></th>\n",
       "      <th>a</th>\n",
       "      <th>b</th>\n",
       "    </tr>\n",
       "  </thead>\n",
       "  <tbody>\n",
       "    <tr>\n",
       "      <th>fold_0</th>\n",
       "      <td>0.0</td>\n",
       "      <td>1.0</td>\n",
       "    </tr>\n",
       "    <tr>\n",
       "      <th>fold_1</th>\n",
       "      <td>0.5</td>\n",
       "      <td>0.5</td>\n",
       "    </tr>\n",
       "  </tbody>\n",
       "</table>\n",
       "</div>"
      ],
      "text/plain": [
       "          a    b\n",
       "fold_0  0.0  1.0\n",
       "fold_1  0.5  0.5"
      ]
     },
     "execution_count": 4,
     "metadata": {},
     "output_type": "execute_result"
    }
   ],
   "source": [
    "df = pd.DataFrame({'fold_0': {'a': 0, 'b': 1}, 'fold_1': {'a': 0.5, 'b': 0.5}}).T\n",
    "df"
   ]
  },
  {
   "cell_type": "code",
   "execution_count": 5,
   "id": "c4ea6640",
   "metadata": {},
   "outputs": [
    {
     "data": {
      "text/plain": [
       "fold_0    0.0\n",
       "fold_1    0.5\n",
       "Name: a, dtype: float64"
      ]
     },
     "execution_count": 5,
     "metadata": {},
     "output_type": "execute_result"
    }
   ],
   "source": [
    "df['a']"
   ]
  },
  {
   "cell_type": "code",
   "execution_count": 9,
   "id": "f557e541",
   "metadata": {},
   "outputs": [],
   "source": [
    "df.loc['mean'] = df.mean()"
   ]
  },
  {
   "cell_type": "code",
   "execution_count": 10,
   "id": "708060bb",
   "metadata": {},
   "outputs": [
    {
     "data": {
      "text/html": [
       "<div>\n",
       "<style scoped>\n",
       "    .dataframe tbody tr th:only-of-type {\n",
       "        vertical-align: middle;\n",
       "    }\n",
       "\n",
       "    .dataframe tbody tr th {\n",
       "        vertical-align: top;\n",
       "    }\n",
       "\n",
       "    .dataframe thead th {\n",
       "        text-align: right;\n",
       "    }\n",
       "</style>\n",
       "<table border=\"1\" class=\"dataframe\">\n",
       "  <thead>\n",
       "    <tr style=\"text-align: right;\">\n",
       "      <th></th>\n",
       "      <th>a</th>\n",
       "      <th>b</th>\n",
       "    </tr>\n",
       "  </thead>\n",
       "  <tbody>\n",
       "    <tr>\n",
       "      <th>fold_0</th>\n",
       "      <td>0.00</td>\n",
       "      <td>1.00</td>\n",
       "    </tr>\n",
       "    <tr>\n",
       "      <th>fold_1</th>\n",
       "      <td>0.50</td>\n",
       "      <td>0.50</td>\n",
       "    </tr>\n",
       "    <tr>\n",
       "      <th>mean</th>\n",
       "      <td>0.25</td>\n",
       "      <td>0.75</td>\n",
       "    </tr>\n",
       "  </tbody>\n",
       "</table>\n",
       "</div>"
      ],
      "text/plain": [
       "           a     b\n",
       "fold_0  0.00  1.00\n",
       "fold_1  0.50  0.50\n",
       "mean    0.25  0.75"
      ]
     },
     "execution_count": 10,
     "metadata": {},
     "output_type": "execute_result"
    }
   ],
   "source": [
    "df"
   ]
  },
  {
   "cell_type": "code",
   "execution_count": 11,
   "id": "18d535c0",
   "metadata": {},
   "outputs": [
    {
     "data": {
      "text/plain": [
       "0.25"
      ]
     },
     "execution_count": 11,
     "metadata": {},
     "output_type": "execute_result"
    }
   ],
   "source": [
    "df['a']['mean']"
   ]
  },
  {
   "cell_type": "code",
   "execution_count": 18,
   "id": "53bf7018",
   "metadata": {},
   "outputs": [],
   "source": [
    "a = {'1': {'tau': 0}}\n",
    "b = a.copy()"
   ]
  },
  {
   "cell_type": "code",
   "execution_count": 2,
   "id": "b5f09d92",
   "metadata": {},
   "outputs": [],
   "source": [
    "for v in a.values():\n",
    "    v['p'] = 'l'"
   ]
  },
  {
   "cell_type": "code",
   "execution_count": 17,
   "id": "f659da94",
   "metadata": {},
   "outputs": [],
   "source": [
    "def f(a):\n",
    "    _a = a.copy()\n",
    "    for k,v in _a.items():\n",
    "        _a[k]['p'] = 'l'"
   ]
  },
  {
   "cell_type": "code",
   "execution_count": 19,
   "id": "7d0e2606",
   "metadata": {},
   "outputs": [
    {
     "data": {
      "text/plain": [
       "{'1': {'tau': 0, 'p': 'l'}}"
      ]
     },
     "execution_count": 19,
     "metadata": {},
     "output_type": "execute_result"
    }
   ],
   "source": [
    "f(a)\n",
    "a"
   ]
  },
  {
   "cell_type": "code",
   "execution_count": 15,
   "id": "45c77a06",
   "metadata": {},
   "outputs": [],
   "source": [
    "for v in a.values():\n",
    "    v['b'] = 'l'"
   ]
  },
  {
   "cell_type": "code",
   "execution_count": 16,
   "id": "987ff67d",
   "metadata": {},
   "outputs": [
    {
     "name": "stdout",
     "output_type": "stream",
     "text": [
      "{'1': {'tau': 0, 'b': 'l'}, '2': {'percent': 5, 'b': 'l'}}\n",
      "{'1': {'tau': 0, 'b': 'l'}}\n"
     ]
    }
   ],
   "source": [
    "print(a)\n",
    "print(b)"
   ]
  },
  {
   "cell_type": "code",
   "execution_count": null,
   "id": "5da13ec2",
   "metadata": {},
   "outputs": [],
   "source": []
  }
 ],
 "metadata": {
  "kernelspec": {
   "display_name": "Python 3 (ipykernel)",
   "language": "python",
   "name": "python3"
  },
  "language_info": {
   "codemirror_mode": {
    "name": "ipython",
    "version": 3
   },
   "file_extension": ".py",
   "mimetype": "text/x-python",
   "name": "python",
   "nbconvert_exporter": "python",
   "pygments_lexer": "ipython3",
   "version": "3.9.7"
  }
 },
 "nbformat": 4,
 "nbformat_minor": 5
}
