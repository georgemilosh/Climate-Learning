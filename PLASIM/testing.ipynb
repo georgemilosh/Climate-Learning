{
 "cells": [
  {
   "cell_type": "code",
   "execution_count": 1,
   "id": "eebcdabb",
   "metadata": {},
   "outputs": [],
   "source": [
    "import numpy as np"
   ]
  },
  {
   "cell_type": "code",
   "execution_count": 9,
   "id": "83358fb7",
   "metadata": {},
   "outputs": [
    {
     "data": {
      "text/plain": [
       "array([[0, 1, 2, 3, 4],\n",
       "       [5, 6, 7, 8, 9]])"
      ]
     },
     "execution_count": 9,
     "metadata": {},
     "output_type": "execute_result"
    }
   ],
   "source": [
    "l = [np.arange(5), np.arange(5,10)]\n",
    "np.vstack(l)"
   ]
  },
  {
   "cell_type": "code",
   "execution_count": 4,
   "id": "cd7b5e05",
   "metadata": {},
   "outputs": [
    {
     "data": {
      "text/plain": [
       "False"
      ]
     },
     "execution_count": 4,
     "metadata": {},
     "output_type": "execute_result"
    }
   ],
   "source": [
    "a = ['aaa', 'baa', 'gulb']\n",
    "all([s.startswith('aa') for s in a])"
   ]
  },
  {
   "cell_type": "code",
   "execution_count": 3,
   "id": "3ec7a536",
   "metadata": {},
   "outputs": [
    {
     "data": {
      "text/plain": [
       "False"
      ]
     },
     "execution_count": 3,
     "metadata": {},
     "output_type": "execute_result"
    }
   ],
   "source": [
    "bool('')"
   ]
  },
  {
   "cell_type": "code",
   "execution_count": 2,
   "id": "07dc27be",
   "metadata": {},
   "outputs": [
    {
     "data": {
      "text/plain": [
       "'bb'"
      ]
     },
     "execution_count": 2,
     "metadata": {},
     "output_type": "execute_result"
    }
   ],
   "source": [
    "'aaabbaaa'.strip('a')"
   ]
  },
  {
   "cell_type": "code",
   "execution_count": 10,
   "id": "d95c221b",
   "metadata": {},
   "outputs": [
    {
     "data": {
      "text/plain": [
       "1"
      ]
     },
     "execution_count": 10,
     "metadata": {},
     "output_type": "execute_result"
    }
   ],
   "source": [
    "len(set(['eon_20', 'eon_20']))"
   ]
  },
  {
   "cell_type": "code",
   "execution_count": 12,
   "id": "0c9aa4f0",
   "metadata": {},
   "outputs": [
    {
     "data": {
      "text/plain": [
       "{1, 2, 3, 5}"
      ]
     },
     "execution_count": 12,
     "metadata": {},
     "output_type": "execute_result"
    }
   ],
   "source": [
    "set([1,2,3,3,3,5])"
   ]
  },
  {
   "cell_type": "code",
   "execution_count": 27,
   "id": "ce07acc1",
   "metadata": {},
   "outputs": [
    {
     "ename": "UFuncTypeError",
     "evalue": "Cannot cast ufunc 'multiply' output from dtype('float64') to dtype('int64') with casting rule 'same_kind'",
     "output_type": "error",
     "traceback": [
      "\u001b[0;31m---------------------------------------------------------------------------\u001b[0m",
      "\u001b[0;31mUFuncTypeError\u001b[0m                            Traceback (most recent call last)",
      "\u001b[0;32m/var/folders/p8/k08kk0c517zd64tyd8q0vqw80000gp/T/ipykernel_1207/2029437079.py\u001b[0m in \u001b[0;36m<module>\u001b[0;34m\u001b[0m\n\u001b[1;32m      1\u001b[0m \u001b[0ma\u001b[0m \u001b[0;34m=\u001b[0m \u001b[0mnp\u001b[0m\u001b[0;34m.\u001b[0m\u001b[0marange\u001b[0m\u001b[0;34m(\u001b[0m\u001b[0;36m5\u001b[0m\u001b[0;34m)\u001b[0m\u001b[0;34m\u001b[0m\u001b[0;34m\u001b[0m\u001b[0m\n\u001b[0;32m----> 2\u001b[0;31m \u001b[0ma\u001b[0m \u001b[0;34m*=\u001b[0m \u001b[0;36m0.2\u001b[0m\u001b[0;34m\u001b[0m\u001b[0;34m\u001b[0m\u001b[0m\n\u001b[0m",
      "\u001b[0;31mUFuncTypeError\u001b[0m: Cannot cast ufunc 'multiply' output from dtype('float64') to dtype('int64') with casting rule 'same_kind'"
     ]
    }
   ],
   "source": [
    "a = np.arange(5)\n",
    "a *= 0.2"
   ]
  },
  {
   "cell_type": "code",
   "execution_count": 29,
   "id": "4e200c5b",
   "metadata": {},
   "outputs": [],
   "source": [
    "q_min, q_max = 0.1, 0.2\n",
    "def p0_func(qs):\n",
    "    return np.array((qs >= q_min)*(qs < q_max), dtype=float)"
   ]
  },
  {
   "cell_type": "code",
   "execution_count": 35,
   "id": "9193e33b",
   "metadata": {},
   "outputs": [
    {
     "data": {
      "text/plain": [
       "array(1.)"
      ]
     },
     "execution_count": 35,
     "metadata": {},
     "output_type": "execute_result"
    }
   ],
   "source": [
    "p0_func(0.11)"
   ]
  },
  {
   "cell_type": "code",
   "execution_count": 39,
   "id": "c3c188bf",
   "metadata": {},
   "outputs": [],
   "source": [
    "\n",
    "def dumb(x):\n",
    "    return 1."
   ]
  },
  {
   "cell_type": "code",
   "execution_count": 40,
   "id": "ed3fe614",
   "metadata": {},
   "outputs": [
    {
     "data": {
      "text/plain": [
       "1.0"
      ]
     },
     "execution_count": 40,
     "metadata": {},
     "output_type": "execute_result"
    }
   ],
   "source": [
    "dumb(np.arange(2))"
   ]
  },
  {
   "cell_type": "code",
   "execution_count": 1,
   "id": "178d9f8d",
   "metadata": {},
   "outputs": [],
   "source": [
    "a = (1,2,3)\n",
    "b = list(a) + [a[-1]]*(10 - len(a))"
   ]
  },
  {
   "cell_type": "code",
   "execution_count": 4,
   "id": "754e1242",
   "metadata": {},
   "outputs": [
    {
     "data": {
      "text/plain": [
       "[(0.1, 0.2), (0.2, 0.3), (0.3, 0.4)]"
      ]
     },
     "execution_count": 4,
     "metadata": {},
     "output_type": "execute_result"
    }
   ],
   "source": [
    "p_arg = (0.1,0.2,0.3,0.4)\n",
    "[p_arg[i:i+2] for i in range(len(p_arg) - 1)]\n"
   ]
  },
  {
   "cell_type": "code",
   "execution_count": 1,
   "id": "3708a6e6",
   "metadata": {},
   "outputs": [
    {
     "name": "stderr",
     "output_type": "stream",
     "text": [
      "<frozen importlib._bootstrap>:228: RuntimeWarning: scipy._lib.messagestream.MessageStream size changed, may indicate binary incompatibility. Expected 56 from C header, got 64 from PyObject\n"
     ]
    }
   ],
   "source": [
    "import sys\n",
    "sys.path.append('../ERA')\n",
    "import utilities as ut\n",
    "import uplotlib as uplt\n",
    "import uncertainties as unc\n",
    "import numpy as np\n",
    "from importlib import reload"
   ]
  },
  {
   "cell_type": "code",
   "execution_count": 10,
   "id": "155b7f12",
   "metadata": {},
   "outputs": [
    {
     "data": {
      "text/plain": [
       "<module 'uplotlib' from '/Users/alessandrolovo/Repos/Climate-Learning/PLASIM/../ERA/uplotlib.py'>"
      ]
     },
     "execution_count": 10,
     "metadata": {},
     "output_type": "execute_result"
    }
   ],
   "source": [
    "reload(uplt)"
   ]
  },
  {
   "cell_type": "code",
   "execution_count": 11,
   "id": "c0535829",
   "metadata": {},
   "outputs": [
    {
     "data": {
      "text/plain": [
       "([<matplotlib.lines.Line2D at 0x7f9d77f67160>],\n",
       " <matplotlib.collections.PolyCollection at 0x7f9d77f780a0>,\n",
       " <matplotlib.collections.PolyCollection at 0x7f9d77f78040>)"
      ]
     },
     "execution_count": 11,
     "metadata": {},
     "output_type": "execute_result"
    },
    {
     "data": {
      "image/png": "[encoded data removed]",
      "text/plain": [
       "<Figure size 432x288 with 1 Axes>"
      ]
     },
     "metadata": {
      "needs_background": "light"
     },
     "output_type": "display_data"
    }
   ],
   "source": [
    "x = np.arange(10)\n",
    "y = np.sqrt(x)\n",
    "x = uplt.ufloatify(x,0.1)\n",
    "y = uplt.ufloatify(y, 0.2)\n",
    "\n",
    "uplt.errorband(x,y)\n",
    "uplt.errorband(x+5,y)"
   ]
  },
  {
   "cell_type": "code",
   "execution_count": 16,
   "id": "429bf63f",
   "metadata": {},
   "outputs": [
    {
     "data": {
      "text/plain": [
       "array([0., 1., 2., 3., 4., 5., 6., 7., 8., 9.])"
      ]
     },
     "execution_count": 16,
     "metadata": {},
     "output_type": "execute_result"
    }
   ],
   "source": [
    "uplt.nominal_value(x)"
   ]
  },
  {
   "cell_type": "code",
   "execution_count": 1,
   "id": "44b64b94",
   "metadata": {},
   "outputs": [
    {
     "name": "stderr",
     "output_type": "stream",
     "text": [
      "In this environment you cannot import Basemap\n",
      "In this environment you cannot import Basemap\n"
     ]
    }
   ],
   "source": [
    "import Learn2_new as ln"
   ]
  },
  {
   "cell_type": "code",
   "execution_count": 2,
   "id": "666013bd",
   "metadata": {},
   "outputs": [
    {
     "data": {
      "text/plain": [
       "{'root_folder': './', 'config': 'detect', 'skip_existing_run': True}"
      ]
     },
     "execution_count": 2,
     "metadata": {},
     "output_type": "execute_result"
    }
   ],
   "source": [
    "ln.get_default_params(ln.Trainer)"
   ]
  },
  {
   "cell_type": "code",
   "execution_count": 17,
   "id": "7b07ad29",
   "metadata": {},
   "outputs": [
    {
     "name": "stdout",
     "output_type": "stream",
     "text": [
      "20000\n"
     ]
    },
    {
     "data": {
      "application/vnd.jupyter.widget-view+json": {
       "model_id": "d02da4726e724dc19c9223b5a713b3ed",
       "version_major": 2,
       "version_minor": 0
      },
      "image/png": "[encoded data removed]",
      "text/html": [
       "\n",
       "            <div style=\"display: inline-block;\">\n",
       "                <div class=\"jupyter-widgets widget-label\" style=\"text-align: center;\">\n",
       "                    Figure\n",
       "                </div>\n",
       "                <img src='data:image/png;base64,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' width=600.0/>\n",
       "            </div>\n",
       "        "
      ],
      "text/plain": [
       "Canvas(toolbar=Toolbar(toolitems=[('Home', 'Reset original view', 'home', 'home'), ('Back', 'Back to previous …"
      ]
     },
     "metadata": {},
     "output_type": "display_data"
    }
   ],
   "source": [
    "import numpy as np\n",
    "import matplotlib.pyplot as plt\n",
    "%matplotlib widget\n",
    "\n",
    "q_min0, q_max0, l0 = 0.5, 1, 20000\n",
    "print(l0)\n",
    "\n",
    "l = np.arange(0, 4000, 1)\n",
    "\n",
    "fig, ax = plt.subplots(figsize=(6,4))\n",
    "plt.fill_between(l, np.clip(np.abs(q_min0/(l*90 - l0)*l0), 0, q_min0), np.clip(np.abs(q_max0/(l*90 - l0)*l0), 0, q_max0), alpha=0.5)\n",
    "ax.set_yscale('log')\n",
    "\n",
    "ax.set_ylim(*ax.get_ylim())\n",
    "ax.vlines([l0/90], *ax.get_ylim(), color='black', linestyle='dashed')\n",
    "ax.vlines([2*l0/90], *ax.get_ylim(), color='black', linestyle='dotted')\n",
    "\n",
    "plt.ylabel('committor')\n",
    "plt.xlabel('number of training years')\n",
    "\n",
    "fig.tight_layout()"
   ]
  },
  {
   "cell_type": "code",
   "execution_count": 2,
   "id": "e465697c",
   "metadata": {},
   "outputs": [
    {
     "data": {
      "text/plain": [
       "28350.0"
      ]
     },
     "execution_count": 2,
     "metadata": {},
     "output_type": "execute_result"
    }
   ],
   "source": [
    "0.05*6300*90"
   ]
  },
  {
   "cell_type": "code",
   "execution_count": null,
   "id": "e26cd7d4",
   "metadata": {},
   "outputs": [],
   "source": []
  }
 ],
 "metadata": {
  "interpreter": {
   "hash": "5a0ac5ce8bb8c88950cbb5884951ac07e03bb695621e79d254d25c8e1304a15f"
  },
  "kernelspec": {
   "display_name": "py3.9",
   "language": "python",
   "name": "python3"
  },
  "language_info": {
   "codemirror_mode": {
    "name": "ipython",
    "version": 3
   },
   "file_extension": ".py",
   "mimetype": "text/x-python",
   "name": "python",
   "nbconvert_exporter": "python",
   "pygments_lexer": "ipython3",
   "version": "3.9.7"
  }
 },
 "nbformat": 4,
 "nbformat_minor": 5
}
