{
 "cells": [
  {
   "cell_type": "code",
   "execution_count": 1,
   "id": "eebcdabb",
   "metadata": {},
   "outputs": [],
   "source": [
    "import numpy as np"
   ]
  },
  {
   "cell_type": "code",
   "execution_count": 9,
   "id": "83358fb7",
   "metadata": {},
   "outputs": [
    {
     "data": {
      "text/plain": [
       "array([[0, 1, 2, 3, 4],\n",
       "       [5, 6, 7, 8, 9]])"
      ]
     },
     "execution_count": 9,
     "metadata": {},
     "output_type": "execute_result"
    }
   ],
   "source": [
    "l = [np.arange(5), np.arange(5,10)]\n",
    "np.vstack(l)"
   ]
  },
  {
   "cell_type": "code",
   "execution_count": 4,
   "id": "cd7b5e05",
   "metadata": {},
   "outputs": [
    {
     "data": {
      "text/plain": [
       "False"
      ]
     },
     "execution_count": 4,
     "metadata": {},
     "output_type": "execute_result"
    }
   ],
   "source": [
    "a = ['aaa', 'baa', 'gulb']\n",
    "all([s.startswith('aa') for s in a])"
   ]
  },
  {
   "cell_type": "code",
   "execution_count": 3,
   "id": "3ec7a536",
   "metadata": {},
   "outputs": [
    {
     "data": {
      "text/plain": [
       "False"
      ]
     },
     "execution_count": 3,
     "metadata": {},
     "output_type": "execute_result"
    }
   ],
   "source": [
    "bool('')"
   ]
  },
  {
   "cell_type": "code",
   "execution_count": 2,
   "id": "07dc27be",
   "metadata": {},
   "outputs": [
    {
     "data": {
      "text/plain": [
       "'bb'"
      ]
     },
     "execution_count": 2,
     "metadata": {},
     "output_type": "execute_result"
    }
   ],
   "source": [
    "'aaabbaaa'.strip('a')"
   ]
  },
  {
   "cell_type": "code",
   "execution_count": 10,
   "id": "d95c221b",
   "metadata": {},
   "outputs": [
    {
     "data": {
      "text/plain": [
       "1"
      ]
     },
     "execution_count": 10,
     "metadata": {},
     "output_type": "execute_result"
    }
   ],
   "source": [
    "len(set(['eon_20', 'eon_20']))"
   ]
  },
  {
   "cell_type": "code",
   "execution_count": 12,
   "id": "0c9aa4f0",
   "metadata": {},
   "outputs": [
    {
     "data": {
      "text/plain": [
       "{1, 2, 3, 5}"
      ]
     },
     "execution_count": 12,
     "metadata": {},
     "output_type": "execute_result"
    }
   ],
   "source": [
    "set([1,2,3,3,3,5])"
   ]
  },
  {
   "cell_type": "code",
   "execution_count": 27,
   "id": "ce07acc1",
   "metadata": {},
   "outputs": [
    {
     "ename": "UFuncTypeError",
     "evalue": "Cannot cast ufunc 'multiply' output from dtype('float64') to dtype('int64') with casting rule 'same_kind'",
     "output_type": "error",
     "traceback": [
      "\u001b[0;31m---------------------------------------------------------------------------\u001b[0m",
      "\u001b[0;31mUFuncTypeError\u001b[0m                            Traceback (most recent call last)",
      "\u001b[0;32m/var/folders/p8/k08kk0c517zd64tyd8q0vqw80000gp/T/ipykernel_1207/2029437079.py\u001b[0m in \u001b[0;36m<module>\u001b[0;34m\u001b[0m\n\u001b[1;32m      1\u001b[0m \u001b[0ma\u001b[0m \u001b[0;34m=\u001b[0m \u001b[0mnp\u001b[0m\u001b[0;34m.\u001b[0m\u001b[0marange\u001b[0m\u001b[0;34m(\u001b[0m\u001b[0;36m5\u001b[0m\u001b[0;34m)\u001b[0m\u001b[0;34m\u001b[0m\u001b[0;34m\u001b[0m\u001b[0m\n\u001b[0;32m----> 2\u001b[0;31m \u001b[0ma\u001b[0m \u001b[0;34m*=\u001b[0m \u001b[0;36m0.2\u001b[0m\u001b[0;34m\u001b[0m\u001b[0;34m\u001b[0m\u001b[0m\n\u001b[0m",
      "\u001b[0;31mUFuncTypeError\u001b[0m: Cannot cast ufunc 'multiply' output from dtype('float64') to dtype('int64') with casting rule 'same_kind'"
     ]
    }
   ],
   "source": [
    "a = np.arange(5)\n",
    "a *= 0.2"
   ]
  },
  {
   "cell_type": "code",
   "execution_count": 29,
   "id": "4e200c5b",
   "metadata": {},
   "outputs": [],
   "source": [
    "q_min, q_max = 0.1, 0.2\n",
    "def p0_func(qs):\n",
    "    return np.array((qs >= q_min)*(qs < q_max), dtype=float)"
   ]
  },
  {
   "cell_type": "code",
   "execution_count": 35,
   "id": "9193e33b",
   "metadata": {},
   "outputs": [
    {
     "data": {
      "text/plain": [
       "array(1.)"
      ]
     },
     "execution_count": 35,
     "metadata": {},
     "output_type": "execute_result"
    }
   ],
   "source": [
    "p0_func(0.11)"
   ]
  },
  {
   "cell_type": "code",
   "execution_count": 39,
   "id": "c3c188bf",
   "metadata": {},
   "outputs": [],
   "source": [
    "\n",
    "def dumb(x):\n",
    "    return 1."
   ]
  },
  {
   "cell_type": "code",
   "execution_count": 40,
   "id": "ed3fe614",
   "metadata": {},
   "outputs": [
    {
     "data": {
      "text/plain": [
       "1.0"
      ]
     },
     "execution_count": 40,
     "metadata": {},
     "output_type": "execute_result"
    }
   ],
   "source": [
    "dumb(np.arange(2))"
   ]
  },
  {
   "cell_type": "code",
   "execution_count": 1,
   "id": "178d9f8d",
   "metadata": {},
   "outputs": [],
   "source": [
    "a = (1,2,3)\n",
    "b = list(a) + [a[-1]]*(10 - len(a))"
   ]
  },
  {
   "cell_type": "code",
   "execution_count": 4,
   "id": "754e1242",
   "metadata": {},
   "outputs": [
    {
     "data": {
      "text/plain": [
       "[(0.1, 0.2), (0.2, 0.3), (0.3, 0.4)]"
      ]
     },
     "execution_count": 4,
     "metadata": {},
     "output_type": "execute_result"
    }
   ],
   "source": [
    "p_arg = (0.1,0.2,0.3,0.4)\n",
    "[p_arg[i:i+2] for i in range(len(p_arg) - 1)]\n"
   ]
  },
  {
   "cell_type": "code",
   "execution_count": 1,
   "id": "3708a6e6",
   "metadata": {},
   "outputs": [
    {
     "name": "stderr",
     "output_type": "stream",
     "text": [
      "<frozen importlib._bootstrap>:228: RuntimeWarning: scipy._lib.messagestream.MessageStream size changed, may indicate binary incompatibility. Expected 56 from C header, got 64 from PyObject\n"
     ]
    }
   ],
   "source": [
    "import sys\n",
    "sys.path.append('../ERA')\n",
    "import utilities as ut\n",
    "import uplotlib as uplt\n",
    "import uncertainties as unc\n",
    "import numpy as np\n",
    "from importlib import reload"
   ]
  },
  {
   "cell_type": "code",
   "execution_count": 10,
   "id": "155b7f12",
   "metadata": {},
   "outputs": [
    {
     "data": {
      "text/plain": [
       "<module 'uplotlib' from '/Users/alessandrolovo/Repos/Climate-Learning/PLASIM/../ERA/uplotlib.py'>"
      ]
     },
     "execution_count": 10,
     "metadata": {},
     "output_type": "execute_result"
    }
   ],
   "source": [
    "reload(uplt)"
   ]
  },
  {
   "cell_type": "code",
   "execution_count": 11,
   "id": "c0535829",
   "metadata": {},
   "outputs": [
    {
     "data": {
      "text/plain": [
       "([<matplotlib.lines.Line2D at 0x7f9d77f67160>],\n",
       " <matplotlib.collections.PolyCollection at 0x7f9d77f780a0>,\n",
       " <matplotlib.collections.PolyCollection at 0x7f9d77f78040>)"
      ]
     },
     "execution_count": 11,
     "metadata": {},
     "output_type": "execute_result"
    },
    {
     "data": {
      "image/png": "[encoded data removed]",
      "text/plain": [
       "<Figure size 432x288 with 1 Axes>"
      ]
     },
     "metadata": {
      "needs_background": "light"
     },
     "output_type": "display_data"
    }
   ],
   "source": [
    "x = np.arange(10)\n",
    "y = np.sqrt(x)\n",
    "x = uplt.ufloatify(x,0.1)\n",
    "y = uplt.ufloatify(y, 0.2)\n",
    "\n",
    "uplt.errorband(x,y)\n",
    "uplt.errorband(x+5,y)"
   ]
  },
  {
   "cell_type": "code",
   "execution_count": 16,
   "id": "429bf63f",
   "metadata": {},
   "outputs": [
    {
     "data": {
      "text/plain": [
       "array([0., 1., 2., 3., 4., 5., 6., 7., 8., 9.])"
      ]
     },
     "execution_count": 16,
     "metadata": {},
     "output_type": "execute_result"
    }
   ],
   "source": [
    "uplt.nominal_value(x)"
   ]
  },
  {
   "cell_type": "code",
   "execution_count": null,
   "id": "44b64b94",
   "metadata": {},
   "outputs": [],
   "source": []
  }
 ],
 "metadata": {
  "kernelspec": {
   "display_name": "Python 3 (ipykernel)",
   "language": "python",
   "name": "python3"
  },
  "language_info": {
   "codemirror_mode": {
    "name": "ipython",
    "version": 3
   },
   "file_extension": ".py",
   "mimetype": "text/x-python",
   "name": "python",
   "nbconvert_exporter": "python",
   "pygments_lexer": "ipython3",
   "version": "3.9.7"
  }
 },
 "nbformat": 4,
 "nbformat_minor": 5
}
