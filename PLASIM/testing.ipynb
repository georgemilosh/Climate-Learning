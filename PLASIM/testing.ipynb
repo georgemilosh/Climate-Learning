{
 "cells": [
  {
   "cell_type": "code",
   "execution_count": 1,
   "id": "76d65d03",
   "metadata": {},
   "outputs": [
    {
     "name": "stdout",
     "output_type": "stream",
     "text": [
      "path_to_ERA = PosixPath('/media/alessandro/OS/Users/ale57/Documents/0. Lyon/WORK/Climate-Learning/ERA')\n",
      "Trying to import basemap\n",
      "In this environment you cannot import Basemap\n",
      "Trying to import cartopy\n",
      "Successfully imported cartopy\n"
     ]
    }
   ],
   "source": [
    "import sys\n",
    "sys.path.append('../')\n",
    "import ERA.utilities as ut\n",
    "import logging\n",
    "from functools import wraps\n",
    "import ast\n",
    "import numpy as np\n",
    "import Learn2_new as ln\n",
    "import inspect\n",
    "from stat import S_IREAD"
   ]
  },
  {
   "cell_type": "code",
   "execution_count": 2,
   "id": "d80ef3a7",
   "metadata": {},
   "outputs": [
    {
     "data": {
      "text/plain": [
       "odict_items([('dataset_years', <Parameter \"dataset_years=1000\">), ('year_list', <Parameter \"year_list=None\">), ('sampling', <Parameter \"sampling=''\">), ('Model', <Parameter \"Model='Plasim'\">), ('area', <Parameter \"area='France'\">), ('filter_area', <Parameter \"filter_area='France'\">), ('lon_start', <Parameter \"lon_start=0\">), ('lon_end', <Parameter \"lon_end=128\">), ('lat_start', <Parameter \"lat_start=0\">), ('lat_end', <Parameter \"lat_end=22\">), ('mylocal', <Parameter \"mylocal='/local/gmiloshe/PLASIM/'\">), ('fields', <Parameter \"fields=['t2m', 'zg500', 'mrso_filtered']\">)])"
      ]
     },
     "execution_count": 2,
     "metadata": {},
     "output_type": "execute_result"
    }
   ],
   "source": [
    "inspect.signature(ln.load_data).parameters.items()"
   ]
  },
  {
   "cell_type": "code",
   "execution_count": 2,
   "id": "b3c5d5bb",
   "metadata": {},
   "outputs": [],
   "source": [
    "logger = logging.getLogger()"
   ]
  },
  {
   "cell_type": "code",
   "execution_count": 10,
   "id": "6bfbf060",
   "metadata": {},
   "outputs": [],
   "source": [
    "stream_handler = logging.StreamHandler(sys.stdout)\n",
    "stream_handler.setFormatter(logging.Formatter('%(levelname)s : %(message)s'))\n",
    "file_handler = logging.FileHandler('log.log')\n",
    "file_handler.setFormatter(ut.default_formatter)"
   ]
  },
  {
   "cell_type": "code",
   "execution_count": 19,
   "id": "3d4905c4",
   "metadata": {},
   "outputs": [],
   "source": [
    "lg = logging.getLogger('altlg')\n",
    "# lg.handlers = [stream_handler]\n",
    "lg.level = 30"
   ]
  },
  {
   "cell_type": "code",
   "execution_count": 24,
   "id": "78bdfa9d",
   "metadata": {},
   "outputs": [
    {
     "name": "stdout",
     "output_type": "stream",
     "text": [
      "Help on class TelegramHandler in module telegram_handler.handlers:\n",
      "\n",
      "class TelegramHandler(logging.Handler)\n",
      " |  TelegramHandler(token, chat_id=None, level=0, timeout=2, disable_notification=False, disable_web_page_preview=False, proxies=None)\n",
      " |  \n",
      " |  Method resolution order:\n",
      " |      TelegramHandler\n",
      " |      logging.Handler\n",
      " |      logging.Filterer\n",
      " |      builtins.object\n",
      " |  \n",
      " |  Methods defined here:\n",
      " |  \n",
      " |  __init__(self, token, chat_id=None, level=0, timeout=2, disable_notification=False, disable_web_page_preview=False, proxies=None)\n",
      " |      Initializes the instance - basically setting the formatter to None\n",
      " |      and the filter list to empty.\n",
      " |  \n",
      " |  emit(self, record)\n",
      " |      Do whatever it takes to actually log the specified logging record.\n",
      " |      \n",
      " |      This version is intended to be implemented by subclasses and so\n",
      " |      raises a NotImplementedError.\n",
      " |  \n",
      " |  get_chat_id(self)\n",
      " |  \n",
      " |  request(self, method, **kwargs)\n",
      " |  \n",
      " |  send_document(self, text, document, **kwargs)\n",
      " |  \n",
      " |  send_message(self, text, **kwargs)\n",
      " |  \n",
      " |  ----------------------------------------------------------------------\n",
      " |  Class methods defined here:\n",
      " |  \n",
      " |  format_url(token, method) from builtins.type\n",
      " |  \n",
      " |  ----------------------------------------------------------------------\n",
      " |  Data and other attributes defined here:\n",
      " |  \n",
      " |  API_ENDPOINT = 'https://api.telegram.org'\n",
      " |  \n",
      " |  last_response = None\n",
      " |  \n",
      " |  ----------------------------------------------------------------------\n",
      " |  Methods inherited from logging.Handler:\n",
      " |  \n",
      " |  __repr__(self)\n",
      " |      Return repr(self).\n",
      " |  \n",
      " |  acquire(self)\n",
      " |      Acquire the I/O thread lock.\n",
      " |  \n",
      " |  close(self)\n",
      " |      Tidy up any resources used by the handler.\n",
      " |      \n",
      " |      This version removes the handler from an internal map of handlers,\n",
      " |      _handlers, which is used for handler lookup by name. Subclasses\n",
      " |      should ensure that this gets called from overridden close()\n",
      " |      methods.\n",
      " |  \n",
      " |  createLock(self)\n",
      " |      Acquire a thread lock for serializing access to the underlying I/O.\n",
      " |  \n",
      " |  flush(self)\n",
      " |      Ensure all logging output has been flushed.\n",
      " |      \n",
      " |      This version does nothing and is intended to be implemented by\n",
      " |      subclasses.\n",
      " |  \n",
      " |  format(self, record)\n",
      " |      Format the specified record.\n",
      " |      \n",
      " |      If a formatter is set, use it. Otherwise, use the default formatter\n",
      " |      for the module.\n",
      " |  \n",
      " |  get_name(self)\n",
      " |  \n",
      " |  handle(self, record)\n",
      " |      Conditionally emit the specified logging record.\n",
      " |      \n",
      " |      Emission depends on filters which may have been added to the handler.\n",
      " |      Wrap the actual emission of the record with acquisition/release of\n",
      " |      the I/O thread lock. Returns whether the filter passed the record for\n",
      " |      emission.\n",
      " |  \n",
      " |  handleError(self, record)\n",
      " |      Handle errors which occur during an emit() call.\n",
      " |      \n",
      " |      This method should be called from handlers when an exception is\n",
      " |      encountered during an emit() call. If raiseExceptions is false,\n",
      " |      exceptions get silently ignored. This is what is mostly wanted\n",
      " |      for a logging system - most users will not care about errors in\n",
      " |      the logging system, they are more interested in application errors.\n",
      " |      You could, however, replace this with a custom handler if you wish.\n",
      " |      The record which was being processed is passed in to this method.\n",
      " |  \n",
      " |  release(self)\n",
      " |      Release the I/O thread lock.\n",
      " |  \n",
      " |  setFormatter(self, fmt)\n",
      " |      Set the formatter for this handler.\n",
      " |  \n",
      " |  setLevel(self, level)\n",
      " |      Set the logging level of this handler.  level must be an int or a str.\n",
      " |  \n",
      " |  set_name(self, name)\n",
      " |  \n",
      " |  ----------------------------------------------------------------------\n",
      " |  Data descriptors inherited from logging.Handler:\n",
      " |  \n",
      " |  name\n",
      " |  \n",
      " |  ----------------------------------------------------------------------\n",
      " |  Methods inherited from logging.Filterer:\n",
      " |  \n",
      " |  addFilter(self, filter)\n",
      " |      Add the specified filter to this handler.\n",
      " |  \n",
      " |  filter(self, record)\n",
      " |      Determine if a record is loggable by consulting all the filters.\n",
      " |      \n",
      " |      The default is to allow the record to be logged; any filter can veto\n",
      " |      this and the record is then dropped. Returns a zero value if a record\n",
      " |      is to be dropped, else non-zero.\n",
      " |      \n",
      " |      .. versionchanged:: 3.2\n",
      " |      \n",
      " |         Allow filters to be just callables.\n",
      " |  \n",
      " |  removeFilter(self, filter)\n",
      " |      Remove the specified filter from this handler.\n",
      " |  \n",
      " |  ----------------------------------------------------------------------\n",
      " |  Data descriptors inherited from logging.Filterer:\n",
      " |  \n",
      " |  __dict__\n",
      " |      dictionary for instance variables (if defined)\n",
      " |  \n",
      " |  __weakref__\n",
      " |      list of weak references to the object (if defined)\n",
      "\n"
     ]
    }
   ],
   "source": [
    "import telegram_handler\n",
    "help(telegram_handler.handlers.TelegramHandler)"
   ]
  },
  {
   "cell_type": "code",
   "execution_count": 20,
   "id": "d2027668",
   "metadata": {},
   "outputs": [
    {
     "name": "stdout",
     "output_type": "stream",
     "text": [
      "WARNING : From altlg\n"
     ]
    }
   ],
   "source": [
    "lg.warning('From altlg')"
   ]
  },
  {
   "cell_type": "code",
   "execution_count": 11,
   "id": "57a330e9",
   "metadata": {},
   "outputs": [],
   "source": [
    "logger.handlers = [stream_handler, file_handler, th]"
   ]
  },
  {
   "cell_type": "code",
   "execution_count": 6,
   "id": "2834f5d9",
   "metadata": {},
   "outputs": [],
   "source": [
    "logging.basicConfig(level=logging.INFO, handlers=[\n",
    "        stream_handler,\n",
    "        file_handler,\n",
    "        th,\n",
    "    ])\n",
    "# logging.basicConfig()"
   ]
  },
  {
   "cell_type": "code",
   "execution_count": 31,
   "id": "4fc9f59e",
   "metadata": {},
   "outputs": [],
   "source": [
    "filename = 't.txt'\n",
    "with open(filename, 'w') as f:\n",
    "    f.write('Hi')"
   ]
  },
  {
   "cell_type": "code",
   "execution_count": 16,
   "id": "86d50fe7",
   "metadata": {},
   "outputs": [],
   "source": [
    "logging.log(10, 'Hallo')"
   ]
  },
  {
   "cell_type": "code",
   "execution_count": 3,
   "id": "0943b2d8",
   "metadata": {},
   "outputs": [],
   "source": [
    "@ut.indent_stdout\n",
    "def bul():\n",
    "    print('Printing')\n",
    "    logging.critical('logging critical message')\n",
    "    print('Printing 2')\n",
    "    logging.critical('logging 2')\n",
    "    print('Printing 3')\n",
    "    logging.critical('logging 3')\n",
    "    # logging.info('logging info')"
   ]
  },
  {
   "cell_type": "code",
   "execution_count": 4,
   "id": "e243b0f6",
   "metadata": {},
   "outputs": [
    {
     "name": "stdout",
     "output_type": "stream",
     "text": [
      "print before\n",
      "CRITICAL:root:before\n",
      "\tPrinting\n",
      "CRITICAL:root:logging critical message\n",
      "\tPrinting 2\n",
      "CRITICAL:root:logging 2\n",
      "\tPrinting 3\n",
      "CRITICAL:root:logging 3\n",
      "print after\n",
      "WARNING:root:after\n",
      "print after 2\n",
      "CRITICAL:root:log after 2\n"
     ]
    }
   ],
   "source": [
    "print('print before')\n",
    "logging.log(50, 'before')\n",
    "bul()\n",
    "print('print after')\n",
    "logging.warning('after')\n",
    "print('print after 2')\n",
    "logging.critical('log after 2')"
   ]
  },
  {
   "cell_type": "code",
   "execution_count": 3,
   "id": "05ad8f50",
   "metadata": {},
   "outputs": [],
   "source": [
    "logger = logging.getLogger()"
   ]
  },
  {
   "cell_type": "code",
   "execution_count": 4,
   "id": "dfbecca3",
   "metadata": {},
   "outputs": [
    {
     "data": {
      "text/plain": [
       "[<StreamHandler stdout (NOTSET)>,\n",
       " <FileHandler /media/alessandro/OS/Users/ale57/Documents/0. Lyon/WORK/Climate-Learning/PLASIM/log.log (NOTSET)>]"
      ]
     },
     "execution_count": 4,
     "metadata": {},
     "output_type": "execute_result"
    }
   ],
   "source": [
    "logger.handlers"
   ]
  },
  {
   "cell_type": "code",
   "execution_count": 6,
   "id": "03ac1c8a",
   "metadata": {},
   "outputs": [
    {
     "data": {
      "text/plain": [
       "<function TextIOWrapper.write(text, /)>"
      ]
     },
     "execution_count": 6,
     "metadata": {},
     "output_type": "execute_result"
    }
   ],
   "source": [
    "logger.handlers[1].stream.write\n"
   ]
  },
  {
   "cell_type": "code",
   "execution_count": 2,
   "id": "591d5863",
   "metadata": {},
   "outputs": [
    {
     "data": {
      "text/plain": [
       "{'concurrent.futures': <Logger concurrent.futures (WARNING)>,\n",
       " 'concurrent': <logging.PlaceHolder at 0x7fb5696fc070>,\n",
       " 'asyncio': <Logger asyncio (WARNING)>,\n",
       " 'tornado.access': <Logger tornado.access (WARNING)>,\n",
       " 'tornado': <Logger tornado (WARNING)>,\n",
       " 'tornado.application': <Logger tornado.application (WARNING)>,\n",
       " 'tornado.general': <Logger tornado.general (WARNING)>,\n",
       " 'prompt_toolkit.buffer': <Logger prompt_toolkit.buffer (WARNING)>,\n",
       " 'prompt_toolkit': <logging.PlaceHolder at 0x7fb5681b9a60>,\n",
       " 'parso.python.diff': <Logger parso.python.diff (WARNING)>,\n",
       " 'parso.python': <logging.PlaceHolder at 0x7fb567c9e250>,\n",
       " 'parso': <logging.PlaceHolder at 0x7fb567c9e2b0>,\n",
       " 'parso.cache': <Logger parso.cache (WARNING)>,\n",
       " 'IPKernelApp': <Logger IPKernelApp (WARNING)>}"
      ]
     },
     "execution_count": 2,
     "metadata": {},
     "output_type": "execute_result"
    }
   ],
   "source": [
    "logging.root.manager.loggerDict"
   ]
  },
  {
   "cell_type": "code",
   "execution_count": null,
   "id": "a23246fa",
   "metadata": {},
   "outputs": [],
   "source": []
  }
 ],
 "metadata": {
  "kernelspec": {
   "display_name": "Python 3 (ipykernel)",
   "language": "python",
   "name": "python3"
  },
  "language_info": {
   "codemirror_mode": {
    "name": "ipython",
    "version": 3
   },
   "file_extension": ".py",
   "mimetype": "text/x-python",
   "name": "python",
   "nbconvert_exporter": "python",
   "pygments_lexer": "ipython3",
   "version": "3.9.7"
  }
 },
 "nbformat": 4,
 "nbformat_minor": 5
}
