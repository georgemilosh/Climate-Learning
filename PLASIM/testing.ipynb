{
 "cells": [
  {
   "cell_type": "code",
   "execution_count": 1,
   "id": "eebcdabb",
   "metadata": {},
   "outputs": [],
   "source": [
    "import numpy as np"
   ]
  },
  {
   "cell_type": "code",
   "execution_count": 9,
   "id": "83358fb7",
   "metadata": {},
   "outputs": [
    {
     "data": {
      "text/plain": [
       "array([[0, 1, 2, 3, 4],\n",
       "       [5, 6, 7, 8, 9]])"
      ]
     },
     "execution_count": 9,
     "metadata": {},
     "output_type": "execute_result"
    }
   ],
   "source": [
    "l = [np.arange(5), np.arange(5,10)]\n",
    "np.vstack(l)"
   ]
  },
  {
   "cell_type": "code",
   "execution_count": 4,
   "id": "cd7b5e05",
   "metadata": {},
   "outputs": [
    {
     "data": {
      "text/plain": [
       "False"
      ]
     },
     "execution_count": 4,
     "metadata": {},
     "output_type": "execute_result"
    }
   ],
   "source": [
    "a = ['aaa', 'baa', 'gulb']\n",
    "all([s.startswith('aa') for s in a])"
   ]
  },
  {
   "cell_type": "code",
   "execution_count": 3,
   "id": "3ec7a536",
   "metadata": {},
   "outputs": [
    {
     "data": {
      "text/plain": [
       "False"
      ]
     },
     "execution_count": 3,
     "metadata": {},
     "output_type": "execute_result"
    }
   ],
   "source": [
    "bool('')"
   ]
  },
  {
   "cell_type": "code",
   "execution_count": 2,
   "id": "07dc27be",
   "metadata": {},
   "outputs": [
    {
     "data": {
      "text/plain": [
       "'bb'"
      ]
     },
     "execution_count": 2,
     "metadata": {},
     "output_type": "execute_result"
    }
   ],
   "source": [
    "'aaabbaaa'.strip('a')"
   ]
  },
  {
   "cell_type": "code",
   "execution_count": 10,
   "id": "d95c221b",
   "metadata": {},
   "outputs": [
    {
     "data": {
      "text/plain": [
       "1"
      ]
     },
     "execution_count": 10,
     "metadata": {},
     "output_type": "execute_result"
    }
   ],
   "source": [
    "len(set(['eon_20', 'eon_20']))"
   ]
  },
  {
   "cell_type": "code",
   "execution_count": 12,
   "id": "0c9aa4f0",
   "metadata": {},
   "outputs": [
    {
     "data": {
      "text/plain": [
       "{1, 2, 3, 5}"
      ]
     },
     "execution_count": 12,
     "metadata": {},
     "output_type": "execute_result"
    }
   ],
   "source": [
    "set([1,2,3,3,3,5])"
   ]
  },
  {
   "cell_type": "code",
   "execution_count": 27,
   "id": "ce07acc1",
   "metadata": {},
   "outputs": [
    {
     "ename": "UFuncTypeError",
     "evalue": "Cannot cast ufunc 'multiply' output from dtype('float64') to dtype('int64') with casting rule 'same_kind'",
     "output_type": "error",
     "traceback": [
      "\u001b[0;31m---------------------------------------------------------------------------\u001b[0m",
      "\u001b[0;31mUFuncTypeError\u001b[0m                            Traceback (most recent call last)",
      "\u001b[0;32m/var/folders/p8/k08kk0c517zd64tyd8q0vqw80000gp/T/ipykernel_1207/2029437079.py\u001b[0m in \u001b[0;36m<module>\u001b[0;34m\u001b[0m\n\u001b[1;32m      1\u001b[0m \u001b[0ma\u001b[0m \u001b[0;34m=\u001b[0m \u001b[0mnp\u001b[0m\u001b[0;34m.\u001b[0m\u001b[0marange\u001b[0m\u001b[0;34m(\u001b[0m\u001b[0;36m5\u001b[0m\u001b[0;34m)\u001b[0m\u001b[0;34m\u001b[0m\u001b[0;34m\u001b[0m\u001b[0m\n\u001b[0;32m----> 2\u001b[0;31m \u001b[0ma\u001b[0m \u001b[0;34m*=\u001b[0m \u001b[0;36m0.2\u001b[0m\u001b[0;34m\u001b[0m\u001b[0;34m\u001b[0m\u001b[0m\n\u001b[0m",
      "\u001b[0;31mUFuncTypeError\u001b[0m: Cannot cast ufunc 'multiply' output from dtype('float64') to dtype('int64') with casting rule 'same_kind'"
     ]
    }
   ],
   "source": [
    "a = np.arange(5)\n",
    "a *= 0.2"
   ]
  },
  {
   "cell_type": "code",
   "execution_count": 29,
   "id": "4e200c5b",
   "metadata": {},
   "outputs": [],
   "source": [
    "q_min, q_max = 0.1, 0.2\n",
    "def p0_func(qs):\n",
    "    return np.array((qs >= q_min)*(qs < q_max), dtype=float)"
   ]
  },
  {
   "cell_type": "code",
   "execution_count": 35,
   "id": "9193e33b",
   "metadata": {},
   "outputs": [
    {
     "data": {
      "text/plain": [
       "array(1.)"
      ]
     },
     "execution_count": 35,
     "metadata": {},
     "output_type": "execute_result"
    }
   ],
   "source": [
    "p0_func(0.11)"
   ]
  },
  {
   "cell_type": "code",
   "execution_count": 39,
   "id": "c3c188bf",
   "metadata": {},
   "outputs": [],
   "source": [
    "\n",
    "def dumb(x):\n",
    "    return 1."
   ]
  },
  {
   "cell_type": "code",
   "execution_count": 40,
   "id": "ed3fe614",
   "metadata": {},
   "outputs": [
    {
     "data": {
      "text/plain": [
       "1.0"
      ]
     },
     "execution_count": 40,
     "metadata": {},
     "output_type": "execute_result"
    }
   ],
   "source": [
    "dumb(np.arange(2))"
   ]
  },
  {
   "cell_type": "code",
   "execution_count": 1,
   "id": "178d9f8d",
   "metadata": {},
   "outputs": [],
   "source": [
    "a = (1,2,3)\n",
    "b = list(a) + [a[-1]]*(10 - len(a))"
   ]
  },
  {
   "cell_type": "code",
   "execution_count": 4,
   "id": "754e1242",
   "metadata": {},
   "outputs": [
    {
     "data": {
      "text/plain": [
       "[(0.1, 0.2), (0.2, 0.3), (0.3, 0.4)]"
      ]
     },
     "execution_count": 4,
     "metadata": {},
     "output_type": "execute_result"
    }
   ],
   "source": [
    "p_arg = (0.1,0.2,0.3,0.4)\n",
    "[p_arg[i:i+2] for i in range(len(p_arg) - 1)]\n"
   ]
  },
  {
   "cell_type": "code",
   "execution_count": 1,
   "id": "3708a6e6",
   "metadata": {},
   "outputs": [
    {
     "name": "stderr",
     "output_type": "stream",
     "text": [
      "<frozen importlib._bootstrap>:228: RuntimeWarning: scipy._lib.messagestream.MessageStream size changed, may indicate binary incompatibility. Expected 56 from C header, got 64 from PyObject\n"
     ]
    }
   ],
   "source": [
    "import sys\n",
    "sys.path.append('../ERA')\n",
    "import utilities as ut\n",
    "import uplotlib as uplt\n",
    "import uncertainties as unc\n",
    "import numpy as np\n",
    "from importlib import reload"
   ]
  },
  {
   "cell_type": "code",
   "execution_count": 10,
   "id": "155b7f12",
   "metadata": {},
   "outputs": [
    {
     "data": {
      "text/plain": [
       "<module 'uplotlib' from '/Users/alessandrolovo/Repos/Climate-Learning/PLASIM/../ERA/uplotlib.py'>"
      ]
     },
     "execution_count": 10,
     "metadata": {},
     "output_type": "execute_result"
    }
   ],
   "source": [
    "reload(uplt)"
   ]
  },
  {
   "cell_type": "code",
   "execution_count": 11,
   "id": "c0535829",
   "metadata": {},
   "outputs": [
    {
     "data": {
      "text/plain": [
       "([<matplotlib.lines.Line2D at 0x7f9d77f67160>],\n",
       " <matplotlib.collections.PolyCollection at 0x7f9d77f780a0>,\n",
       " <matplotlib.collections.PolyCollection at 0x7f9d77f78040>)"
      ]
     },
     "execution_count": 11,
     "metadata": {},
     "output_type": "execute_result"
    },
    {
     "data": {
      "image/png": "[encoded data removed]",
      "text/plain": [
       "<Figure size 432x288 with 1 Axes>"
      ]
     },
     "metadata": {
      "needs_background": "light"
     },
     "output_type": "display_data"
    }
   ],
   "source": [
    "x = np.arange(10)\n",
    "y = np.sqrt(x)\n",
    "x = uplt.ufloatify(x,0.1)\n",
    "y = uplt.ufloatify(y, 0.2)\n",
    "\n",
    "uplt.errorband(x,y)\n",
    "uplt.errorband(x+5,y)"
   ]
  },
  {
   "cell_type": "code",
   "execution_count": 16,
   "id": "429bf63f",
   "metadata": {},
   "outputs": [
    {
     "data": {
      "text/plain": [
       "array([0., 1., 2., 3., 4., 5., 6., 7., 8., 9.])"
      ]
     },
     "execution_count": 16,
     "metadata": {},
     "output_type": "execute_result"
    }
   ],
   "source": [
    "uplt.nominal_value(x)"
   ]
  },
  {
   "cell_type": "code",
   "execution_count": 1,
   "id": "44b64b94",
   "metadata": {},
   "outputs": [
    {
     "name": "stderr",
     "output_type": "stream",
     "text": [
      "In this environment you cannot import Basemap\n",
      "In this environment you cannot import Basemap\n"
     ]
    }
   ],
   "source": [
    "import Learn2_new as ln"
   ]
  },
  {
   "cell_type": "code",
   "execution_count": 2,
   "id": "666013bd",
   "metadata": {},
   "outputs": [
    {
     "data": {
      "text/plain": [
       "{'root_folder': './', 'config': 'detect', 'skip_existing_run': True}"
      ]
     },
     "execution_count": 2,
     "metadata": {},
     "output_type": "execute_result"
    }
   ],
   "source": [
    "ln.get_default_params(ln.Trainer)"
   ]
  },
  {
   "cell_type": "code",
   "execution_count": 2,
   "id": "7b07ad29",
   "metadata": {},
   "outputs": [
    {
     "name": "stdout",
     "output_type": "stream",
     "text": [
      "20000\n"
     ]
    },
    {
     "data": {
      "application/vnd.jupyter.widget-view+json": {
       "model_id": "bd3c7a82f8614614bd8d5dd8e43c2433",
       "version_major": 2,
       "version_minor": 0
      },
      "image/png": "[encoded data removed]",
      "text/html": [
       "\n",
       "            <div style=\"display: inline-block;\">\n",
       "                <div class=\"jupyter-widgets widget-label\" style=\"text-align: center;\">\n",
       "                    Figure\n",
       "                </div>\n",
       "                <img src='data:image/png;base64,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' width=600.0/>\n",
       "            </div>\n",
       "        "
      ],
      "text/plain": [
       "Canvas(toolbar=Toolbar(toolitems=[('Home', 'Reset original view', 'home', 'home'), ('Back', 'Back to previous …"
      ]
     },
     "metadata": {},
     "output_type": "display_data"
    }
   ],
   "source": [
    "import numpy as np\n",
    "import matplotlib.pyplot as plt\n",
    "%matplotlib widget\n",
    "\n",
    "q_min0, q_max0, l0 = 0.5, 1, 20000\n",
    "print(l0)\n",
    "\n",
    "l = np.arange(0, 4000, 1)\n",
    "\n",
    "fig, ax = plt.subplots(figsize=(6,4))\n",
    "plt.fill_between(l, np.clip(np.abs(q_min0/(l*90 - l0)*l0), 0, q_min0), np.clip(np.abs(q_max0/(l*90 - l0)*l0), 0, q_max0), alpha=0.5)\n",
    "ax.set_yscale('log')\n",
    "\n",
    "ax.set_ylim(*ax.get_ylim())\n",
    "ax.vlines([l0/90], *ax.get_ylim(), color='black', linestyle='dashed')\n",
    "ax.vlines([2*l0/90], *ax.get_ylim(), color='black', linestyle='dotted')\n",
    "\n",
    "plt.ylabel('committor')\n",
    "plt.xlabel('number of training years')\n",
    "\n",
    "fig.tight_layout()"
   ]
  },
  {
   "cell_type": "code",
   "execution_count": 2,
   "id": "e465697c",
   "metadata": {},
   "outputs": [
    {
     "data": {
      "text/plain": [
       "28350.0"
      ]
     },
     "execution_count": 2,
     "metadata": {},
     "output_type": "execute_result"
    }
   ],
   "source": [
    "0.05*6300*90"
   ]
  },
  {
   "cell_type": "code",
   "execution_count": null,
   "id": "e26cd7d4",
   "metadata": {},
   "outputs": [],
   "source": []
  }
 ],
 "metadata": {
  "interpreter": {
   "hash": "5a0ac5ce8bb8c88950cbb5884951ac07e03bb695621e79d254d25c8e1304a15f"
  },
  "kernelspec": {
   "display_name": "py3.9",
   "language": "python",
   "name": "python3"
  },
  "language_info": {
   "codemirror_mode": {
    "name": "ipython",
    "version": 3
   },
   "file_extension": ".py",
   "mimetype": "text/x-python",
   "name": "python",
   "nbconvert_exporter": "python",
   "pygments_lexer": "ipython3",
   "version": "3.9.7"
  }
 },
 "nbformat": 4,
 "nbformat_minor": 5
}
