{
 "cells": [
  {
   "cell_type": "code",
   "execution_count": 18,
   "id": "1486b6f8-5bab-4eca-9e1b-289a240ed527",
   "metadata": {},
   "outputs": [
    {
     "name": "stdout",
     "output_type": "stream",
     "text": [
      "1\n",
      "k =  2\n"
     ]
    }
   ],
   "source": [
    "def myFun(k=2,**kwargs):\n",
    "    if 'first' in (kwargs.keys()):\n",
    "        print(kwargs\n",
    "              ['first'])\n",
    "    print(\"k = \", k)\n",
    "myFun(first='1')"
   ]
  },
  {
   "cell_type": "code",
   "execution_count": 22,
   "id": "101481d9-0ed3-4c19-afdb-a55da5a6de21",
   "metadata": {},
   "outputs": [
    {
     "name": "stdout",
     "output_type": "stream",
     "text": [
      "1\n",
      "k =  2\n"
     ]
    }
   ],
   "source": [
    "myFun(2, first='1')"
   ]
  },
  {
   "cell_type": "code",
   "execution_count": 1,
   "id": "33732376",
   "metadata": {},
   "outputs": [],
   "source": [
    "import numpy as np"
   ]
  },
  {
   "cell_type": "code",
   "execution_count": 6,
   "id": "ac84c535",
   "metadata": {},
   "outputs": [
    {
     "data": {
      "text/plain": [
       "0"
      ]
     },
     "execution_count": 6,
     "metadata": {},
     "output_type": "execute_result"
    }
   ],
   "source": [
    "year_permutation1 = np.load('xforanalogs/NA24by48/Z8/yrs500/interT15fw20.1.20kl.5.5lrs4/fold_0/year_permutation_va.npy')\n",
    "year_permutation2 = np.load('xforanalogs/NA24by48/Z8/yrs500/interT15fw20.1.20lrs4/fold_0/year_permutation_va.npy')\n",
    "np.max(year_permutation1-year_permutation2)"
   ]
  },
  {
   "cell_type": "code",
   "execution_count": 8,
   "id": "4e7ccc61",
   "metadata": {},
   "outputs": [
    {
     "name": "stdout",
     "output_type": "stream",
     "text": [
      "(47250, 3) (5250, 3)\n"
     ]
    }
   ],
   "source": [
    "time_series_tr = np.load('xforanalogs/NA24by48/Z8/yrs500/interT15fw20.1.20kl.5.5lrs4/fold_0/time_series_tr.npy')\n",
    "time_series_va = np.load('xforanalogs/NA24by48/Z8/yrs500/interT15fw20.1.20kl.5.5lrs4/fold_0/time_series_va.npy')\n",
    "print(time_series_tr.shape,time_series_va.shape)"
   ]
  },
  {
   "cell_type": "code",
   "execution_count": 14,
   "id": "1a634619",
   "metadata": {},
   "outputs": [
    {
     "data": {
      "text/plain": [
       "105.0"
      ]
     },
     "execution_count": 14,
     "metadata": {},
     "output_type": "execute_result"
    }
   ],
   "source": [
    "5250/50"
   ]
  },
  {
   "cell_type": "code",
   "execution_count": 24,
   "id": "2231c356-8b20-4d99-8ef2-a4c8b2af2ad2",
   "metadata": {},
   "outputs": [
    {
     "name": "stderr",
     "output_type": "stream",
     "text": [
      "In this environment you cannot import Basemap\n"
     ]
    },
    {
     "name": "stdout",
     "output_type": "stream",
     "text": [
      "Trying to import basemap\n",
      "In this environment you cannot import Basemap\n",
      "Trying to import cartopy\n",
      "Successfully imported cartopy\n"
     ]
    },
    {
     "name": "stderr",
     "output_type": "stream",
     "text": [
      "2022-02-10 11:00:53.406182: I tensorflow/stream_executor/platform/default/dso_loader.cc:49] Successfully opened dynamic library libcudart.so.10.1\n"
     ]
    }
   ],
   "source": [
    "import sys\n",
    "sys.path.insert(1, '../ERA')\n",
    "\n",
    "import ERA_Fields as ef # general routines\n",
    "import TF_Fields as tff # tensorflow routines\n",
    "import utilities as ut\n"
   ]
  },
  {
   "cell_type": "code",
   "execution_count": 25,
   "id": "29040b14-3d96-4e8c-a198-839f1c97f79b",
   "metadata": {},
   "outputs": [
    {
     "name": "stdout",
     "output_type": "stream",
     "text": [
      "0\n",
      "1\n",
      "2\n",
      "3\n",
      "shape_before_flattening =  (1, 14, 64)\n",
      "WARNING:tensorflow:AutoGraph could not transform <bound method Sampling.call of <TF_Fields.Sampling object at 0x146de816a1f0>> and will run it as-is.\n",
      "Please report this to the TensorFlow team. When filing the bug, set the verbosity to 10 (on Linux, `export AUTOGRAPH_VERBOSITY=10`) and attach the full output.\n",
      "Cause: module 'gast' has no attribute 'Index'\n",
      "To silence this warning, decorate the function with @tf.autograph.experimental.do_not_convert\n",
      "WARNING: AutoGraph could not transform <bound method Sampling.call of <TF_Fields.Sampling object at 0x146de816a1f0>> and will run it as-is.\n",
      "Please report this to the TensorFlow team. When filing the bug, set the verbosity to 10 (on Linux, `export AUTOGRAPH_VERBOSITY=10`) and attach the full output.\n",
      "Cause: module 'gast' has no attribute 'Index'\n",
      "To silence this warning, decorate the function with @tf.autograph.experimental.do_not_convert\n",
      "Model: \"encoder\"\n",
      "__________________________________________________________________________________________________\n",
      "Layer (type)                    Output Shape         Param #     Connected to                     \n",
      "==================================================================================================\n",
      "encoder input (InputLayer)      [(None, 24, 128, 3)] 0                                            \n",
      "__________________________________________________________________________________________________\n",
      "encoder_conv_0 (Conv2D)         (None, 12, 64, 32)   896         encoder input[0][0]              \n",
      "__________________________________________________________________________________________________\n",
      "batch_normalization (BatchNorma (None, 12, 64, 32)   128         encoder_conv_0[0][0]             \n",
      "__________________________________________________________________________________________________\n",
      "leaky_re_lu (LeakyReLU)         (None, 12, 64, 32)   0           batch_normalization[0][0]        \n",
      "__________________________________________________________________________________________________\n",
      "dropout (Dropout)               (None, 12, 64, 32)   0           leaky_re_lu[0][0]                \n",
      "__________________________________________________________________________________________________\n",
      "encoder_conv_1 (Conv2D)         (None, 6, 32, 64)    18496       dropout[0][0]                    \n",
      "__________________________________________________________________________________________________\n",
      "batch_normalization_1 (BatchNor (None, 6, 32, 64)    256         encoder_conv_1[0][0]             \n",
      "__________________________________________________________________________________________________\n",
      "leaky_re_lu_1 (LeakyReLU)       (None, 6, 32, 64)    0           batch_normalization_1[0][0]      \n",
      "__________________________________________________________________________________________________\n",
      "dropout_1 (Dropout)             (None, 6, 32, 64)    0           leaky_re_lu_1[0][0]              \n",
      "__________________________________________________________________________________________________\n",
      "encoder_conv_2 (Conv2D)         (None, 3, 16, 64)    36928       dropout_1[0][0]                  \n",
      "__________________________________________________________________________________________________\n",
      "batch_normalization_2 (BatchNor (None, 3, 16, 64)    256         encoder_conv_2[0][0]             \n",
      "__________________________________________________________________________________________________\n",
      "leaky_re_lu_2 (LeakyReLU)       (None, 3, 16, 64)    0           batch_normalization_2[0][0]      \n",
      "__________________________________________________________________________________________________\n",
      "dropout_2 (Dropout)             (None, 3, 16, 64)    0           leaky_re_lu_2[0][0]              \n",
      "__________________________________________________________________________________________________\n",
      "encoder_conv_3 (Conv2D)         (None, 1, 14, 64)    36928       dropout_2[0][0]                  \n",
      "__________________________________________________________________________________________________\n",
      "batch_normalization_3 (BatchNor (None, 1, 14, 64)    256         encoder_conv_3[0][0]             \n",
      "__________________________________________________________________________________________________\n",
      "leaky_re_lu_3 (LeakyReLU)       (None, 1, 14, 64)    0           batch_normalization_3[0][0]      \n",
      "__________________________________________________________________________________________________\n",
      "dropout_3 (Dropout)             (None, 1, 14, 64)    0           leaky_re_lu_3[0][0]              \n",
      "__________________________________________________________________________________________________\n",
      "flatten (Flatten)               (None, 896)          0           dropout_3[0][0]                  \n",
      "__________________________________________________________________________________________________\n",
      "z_mean (Dense)                  (None, 64)           57408       flatten[0][0]                    \n",
      "__________________________________________________________________________________________________\n",
      "z_log_var (Dense)               (None, 64)           57408       flatten[0][0]                    \n",
      "__________________________________________________________________________________________________\n",
      "sampling (Sampling)             (None, 64)           0           z_mean[0][0]                     \n",
      "                                                                 z_log_var[0][0]                  \n",
      "==================================================================================================\n",
      "Total params: 208,960\n",
      "Trainable params: 208,512\n",
      "Non-trainable params: 448\n",
      "__________________________________________________________________________________________________\n"
     ]
    },
    {
     "name": "stderr",
     "output_type": "stream",
     "text": [
      "2022-02-10 11:03:51.745237: I tensorflow/compiler/jit/xla_cpu_device.cc:41] Not creating XLA devices, tf_xla_enable_xla_devices not set\n",
      "2022-02-10 11:03:51.746648: W tensorflow/stream_executor/platform/default/dso_loader.cc:60] Could not load dynamic library 'libcuda.so.1'; dlerror: libcuda.so.1: cannot open shared object file: No such file or directory\n",
      "2022-02-10 11:03:51.746677: W tensorflow/stream_executor/cuda/cuda_driver.cc:326] failed call to cuInit: UNKNOWN ERROR (303)\n",
      "2022-02-10 11:03:51.746719: I tensorflow/stream_executor/cuda/cuda_diagnostics.cc:156] kernel driver does not appear to be running on this host (r740server5): /proc/driver/nvidia/version does not exist\n",
      "2022-02-10 11:03:51.747090: I tensorflow/core/platform/cpu_feature_guard.cc:142] This TensorFlow binary is optimized with oneAPI Deep Neural Network Library (oneDNN) to use the following CPU instructions in performance-critical operations:  SSE4.1 SSE4.2 AVX AVX2 AVX512F FMA\n",
      "To enable them in other operations, rebuild TensorFlow with the appropriate compiler flags.\n",
      "2022-02-10 11:03:51.752096: I tensorflow/compiler/jit/xla_gpu_device.cc:99] Not creating XLA devices, tf_xla_enable_xla_devices not set\n"
     ]
    }
   ],
   "source": [
    "encoder_inputs, encoder_outputs, shape_before_flattening, encoder  = tff.build_encoder2(input_dim = (24, 128, 3), \n",
    "                                                output_dim = 64, \n",
    "                                                conv_filters = [32, 64, 64, 64],\n",
    "                                                conv_kernel_size = [3,3,3,3],\n",
    "                                                conv_strides = [2,2,2,1],\n",
    "                                                conv_padding = [\"same\",\"same\",\"same\",\"valid\"], \n",
    "                                                conv_activation = [\"LeakyRelu\",\"LeakyRelu\",\"LeakyRelu\",\"LeakyRelu\"],use_batch_norm=True, use_dropout=True)"
   ]
  },
  {
   "cell_type": "code",
   "execution_count": 26,
   "id": "79bfe338-157f-411d-ac23-06fa9b7577f7",
   "metadata": {},
   "outputs": [],
   "source": [
    "decoder_input, decoder_output, decoder = tff.build_decoder2(input_dim = 64,  \n",
    "                                        shape_before_flattening = shape_before_flattening,\n",
    "                                        conv_filters = [64,64,32,3],\n",
    "                                        conv_kernel_size = [3,3,3,3],\n",
    "                                        conv_strides = [1,2,2,2],\n",
    "                                        conv_padding = [\"valid\",\"same\",\"same\",\"same\"], \n",
    "                                        conv_activation = [\"LeakyRelu\",\"LeakyRelu\",\"LeakyRelu\",\"linear\"])"
   ]
  },
  {
   "cell_type": "code",
   "execution_count": 28,
   "id": "2ba15d40-3d76-439d-ad53-3b51c0945885",
   "metadata": {},
   "outputs": [
    {
     "ename": "TypeError",
     "evalue": "('Keyword argument not understood:', 'from_logits')",
     "output_type": "error",
     "traceback": [
      "\u001b[0;31m---------------------------------------------------------------------------\u001b[0m",
      "\u001b[0;31mTypeError\u001b[0m                                 Traceback (most recent call last)",
      "\u001b[0;32m/tmp/ipykernel_34466/482993462.py\u001b[0m in \u001b[0;36m<module>\u001b[0;34m\u001b[0m\n\u001b[0;32m----> 1\u001b[0;31m \u001b[0mvae\u001b[0m \u001b[0;34m=\u001b[0m \u001b[0mtff\u001b[0m\u001b[0;34m.\u001b[0m\u001b[0mVAE\u001b[0m\u001b[0;34m(\u001b[0m\u001b[0mencoder\u001b[0m\u001b[0;34m,\u001b[0m \u001b[0mdecoder\u001b[0m\u001b[0;34m,\u001b[0m \u001b[0mk1\u001b[0m\u001b[0;34m=\u001b[0m\u001b[0;36m0.9\u001b[0m\u001b[0;34m,\u001b[0m \u001b[0mk2\u001b[0m\u001b[0;34m=\u001b[0m\u001b[0;36m0.1\u001b[0m\u001b[0;34m,\u001b[0m \u001b[0mfrom_logits\u001b[0m\u001b[0;34m=\u001b[0m\u001b[0;32mFalse\u001b[0m\u001b[0;34m)\u001b[0m\u001b[0;34m\u001b[0m\u001b[0;34m\u001b[0m\u001b[0m\n\u001b[0m",
      "\u001b[0;32m/ClimateDynamics/MediumSpace/ClimateLearningFR/gmiloshe/ERA/TF_Fields.py\u001b[0m in \u001b[0;36m__init__\u001b[0;34m(self, encoder, decoder, k1, k2, **kwargs)\u001b[0m\n\u001b[1;32m     25\u001b[0m \u001b[0;32mclass\u001b[0m \u001b[0mVAE\u001b[0m\u001b[0;34m(\u001b[0m\u001b[0mtf\u001b[0m\u001b[0;34m.\u001b[0m\u001b[0mkeras\u001b[0m\u001b[0;34m.\u001b[0m\u001b[0mModel\u001b[0m\u001b[0;34m)\u001b[0m\u001b[0;34m:\u001b[0m \u001b[0;31m# Class of variational autoencoder\u001b[0m\u001b[0;34m\u001b[0m\u001b[0;34m\u001b[0m\u001b[0m\n\u001b[1;32m     26\u001b[0m     \u001b[0;32mdef\u001b[0m \u001b[0m__init__\u001b[0m\u001b[0;34m(\u001b[0m\u001b[0mself\u001b[0m\u001b[0;34m,\u001b[0m \u001b[0mencoder\u001b[0m\u001b[0;34m,\u001b[0m \u001b[0mdecoder\u001b[0m\u001b[0;34m,\u001b[0m \u001b[0mk1\u001b[0m\u001b[0;34m=\u001b[0m\u001b[0;36m1\u001b[0m\u001b[0;34m,\u001b[0m \u001b[0mk2\u001b[0m\u001b[0;34m=\u001b[0m\u001b[0;36m1\u001b[0m\u001b[0;34m,\u001b[0m \u001b[0;34m**\u001b[0m\u001b[0mkwargs\u001b[0m\u001b[0;34m)\u001b[0m\u001b[0;34m:\u001b[0m\u001b[0;34m\u001b[0m\u001b[0;34m\u001b[0m\u001b[0m\n\u001b[0;32m---> 27\u001b[0;31m         \u001b[0msuper\u001b[0m\u001b[0;34m(\u001b[0m\u001b[0mVAE\u001b[0m\u001b[0;34m,\u001b[0m \u001b[0mself\u001b[0m\u001b[0;34m)\u001b[0m\u001b[0;34m.\u001b[0m\u001b[0m__init__\u001b[0m\u001b[0;34m(\u001b[0m\u001b[0;34m**\u001b[0m\u001b[0mkwargs\u001b[0m\u001b[0;34m)\u001b[0m\u001b[0;34m\u001b[0m\u001b[0;34m\u001b[0m\u001b[0m\n\u001b[0m\u001b[1;32m     28\u001b[0m         \u001b[0mself\u001b[0m\u001b[0;34m.\u001b[0m\u001b[0mencoder\u001b[0m \u001b[0;34m=\u001b[0m \u001b[0mencoder\u001b[0m\u001b[0;34m\u001b[0m\u001b[0;34m\u001b[0m\u001b[0m\n\u001b[1;32m     29\u001b[0m         \u001b[0mself\u001b[0m\u001b[0;34m.\u001b[0m\u001b[0mdecoder\u001b[0m \u001b[0;34m=\u001b[0m \u001b[0mdecoder\u001b[0m\u001b[0;34m\u001b[0m\u001b[0;34m\u001b[0m\u001b[0m\n",
      "\u001b[0;32m~/miniconda3/envs/myenvnew/lib/python3.9/site-packages/tensorflow/python/training/tracking/base.py\u001b[0m in \u001b[0;36m_method_wrapper\u001b[0;34m(self, *args, **kwargs)\u001b[0m\n\u001b[1;32m    515\u001b[0m     \u001b[0mself\u001b[0m\u001b[0;34m.\u001b[0m\u001b[0m_self_setattr_tracking\u001b[0m \u001b[0;34m=\u001b[0m \u001b[0;32mFalse\u001b[0m  \u001b[0;31m# pylint: disable=protected-access\u001b[0m\u001b[0;34m\u001b[0m\u001b[0;34m\u001b[0m\u001b[0m\n\u001b[1;32m    516\u001b[0m     \u001b[0;32mtry\u001b[0m\u001b[0;34m:\u001b[0m\u001b[0;34m\u001b[0m\u001b[0;34m\u001b[0m\u001b[0m\n\u001b[0;32m--> 517\u001b[0;31m       \u001b[0mresult\u001b[0m \u001b[0;34m=\u001b[0m \u001b[0mmethod\u001b[0m\u001b[0;34m(\u001b[0m\u001b[0mself\u001b[0m\u001b[0;34m,\u001b[0m \u001b[0;34m*\u001b[0m\u001b[0margs\u001b[0m\u001b[0;34m,\u001b[0m \u001b[0;34m**\u001b[0m\u001b[0mkwargs\u001b[0m\u001b[0;34m)\u001b[0m\u001b[0;34m\u001b[0m\u001b[0;34m\u001b[0m\u001b[0m\n\u001b[0m\u001b[1;32m    518\u001b[0m     \u001b[0;32mfinally\u001b[0m\u001b[0;34m:\u001b[0m\u001b[0;34m\u001b[0m\u001b[0;34m\u001b[0m\u001b[0m\n\u001b[1;32m    519\u001b[0m       \u001b[0mself\u001b[0m\u001b[0;34m.\u001b[0m\u001b[0m_self_setattr_tracking\u001b[0m \u001b[0;34m=\u001b[0m \u001b[0mprevious_value\u001b[0m  \u001b[0;31m# pylint: disable=protected-access\u001b[0m\u001b[0;34m\u001b[0m\u001b[0;34m\u001b[0m\u001b[0m\n",
      "\u001b[0;32m~/miniconda3/envs/myenvnew/lib/python3.9/site-packages/tensorflow/python/keras/engine/training.py\u001b[0m in \u001b[0;36m__init__\u001b[0;34m(self, *args, **kwargs)\u001b[0m\n\u001b[1;32m    243\u001b[0m     \u001b[0;31m# self.non_trainable_weights\u001b[0m\u001b[0;34m\u001b[0m\u001b[0;34m\u001b[0m\u001b[0m\n\u001b[1;32m    244\u001b[0m     \u001b[0;31m# `inputs` / `outputs` will only appear in kwargs if either are misspelled.\u001b[0m\u001b[0;34m\u001b[0m\u001b[0;34m\u001b[0m\u001b[0m\n\u001b[0;32m--> 245\u001b[0;31m     generic_utils.validate_kwargs(kwargs, {\n\u001b[0m\u001b[1;32m    246\u001b[0m         \u001b[0;34m'trainable'\u001b[0m\u001b[0;34m,\u001b[0m \u001b[0;34m'dtype'\u001b[0m\u001b[0;34m,\u001b[0m \u001b[0;34m'dynamic'\u001b[0m\u001b[0;34m,\u001b[0m \u001b[0;34m'name'\u001b[0m\u001b[0;34m,\u001b[0m \u001b[0;34m'autocast'\u001b[0m\u001b[0;34m,\u001b[0m \u001b[0;34m'inputs'\u001b[0m\u001b[0;34m,\u001b[0m \u001b[0;34m'outputs'\u001b[0m\u001b[0;34m\u001b[0m\u001b[0;34m\u001b[0m\u001b[0m\n\u001b[1;32m    247\u001b[0m     })\n",
      "\u001b[0;32m~/miniconda3/envs/myenvnew/lib/python3.9/site-packages/tensorflow/python/keras/utils/generic_utils.py\u001b[0m in \u001b[0;36mvalidate_kwargs\u001b[0;34m(kwargs, allowed_kwargs, error_message)\u001b[0m\n\u001b[1;32m    806\u001b[0m   \u001b[0;32mfor\u001b[0m \u001b[0mkwarg\u001b[0m \u001b[0;32min\u001b[0m \u001b[0mkwargs\u001b[0m\u001b[0;34m:\u001b[0m\u001b[0;34m\u001b[0m\u001b[0;34m\u001b[0m\u001b[0m\n\u001b[1;32m    807\u001b[0m     \u001b[0;32mif\u001b[0m \u001b[0mkwarg\u001b[0m \u001b[0;32mnot\u001b[0m \u001b[0;32min\u001b[0m \u001b[0mallowed_kwargs\u001b[0m\u001b[0;34m:\u001b[0m\u001b[0;34m\u001b[0m\u001b[0;34m\u001b[0m\u001b[0m\n\u001b[0;32m--> 808\u001b[0;31m       \u001b[0;32mraise\u001b[0m \u001b[0mTypeError\u001b[0m\u001b[0;34m(\u001b[0m\u001b[0merror_message\u001b[0m\u001b[0;34m,\u001b[0m \u001b[0mkwarg\u001b[0m\u001b[0;34m)\u001b[0m\u001b[0;34m\u001b[0m\u001b[0;34m\u001b[0m\u001b[0m\n\u001b[0m\u001b[1;32m    809\u001b[0m \u001b[0;34m\u001b[0m\u001b[0m\n\u001b[1;32m    810\u001b[0m \u001b[0;34m\u001b[0m\u001b[0m\n",
      "\u001b[0;31mTypeError\u001b[0m: ('Keyword argument not understood:', 'from_logits')"
     ]
    }
   ],
   "source": [
    "vae = tff.VAE(encoder, decoder, k1=0.9, k2=0.1, from_logits=False)"
   ]
  },
  {
   "cell_type": "code",
   "execution_count": 49,
   "id": "3c2ea695-6263-46eb-a85d-2e2b47bdb3f2",
   "metadata": {},
   "outputs": [
    {
     "name": "stdout",
     "output_type": "stream",
     "text": [
      "[[0.1, 0.9], [0.4, 0.6]] [[0.6, 0.4], [0.4, 0.6]] tf.Tensor([0.875744  0.6730114], shape=(2,), dtype=float32)\n"
     ]
    }
   ],
   "source": [
    "import tensorflow as tf\n",
    "import numpy as np\n",
    "y_true = [[0.1, 0.9], [0.4, 0.6]]\n",
    "y_pred = [[0.6, 0.4], [0.4, 0.6]]\n",
    "loss = tf.keras.losses.binary_crossentropy(y_true, y_pred)\n",
    "print(y_true,y_pred,loss)"
   ]
  },
  {
   "cell_type": "code",
   "execution_count": 46,
   "id": "3233724c-335f-447f-bd22-2aafc4c1b548",
   "metadata": {},
   "outputs": [
    {
     "name": "stdout",
     "output_type": "stream",
     "text": [
      "[[0.4, 0.6]] [[0.4, 0.6]] tf.Tensor([0.7152516], shape=(1,), dtype=float32)\n"
     ]
    }
   ],
   "source": [
    "y_true = [[0.4, 0.6]]\n",
    "y_pred = [[0.4, 0.6]]\n",
    "loss = tf.keras.losses.binary_crossentropy(y_true, y_pred, from_logits=True)\n",
    "print(y_true,y_pred,loss)"
   ]
  },
  {
   "cell_type": "code",
   "execution_count": 41,
   "id": "ea7d8a4c-01d4-44cd-a169-4db023256d3f",
   "metadata": {},
   "outputs": [
    {
     "data": {
      "text/plain": [
       "0.6730116670092565"
      ]
     },
     "execution_count": 45,
     "metadata": {},
     "output_type": "execute_result"
    }
   ],
   "source": [
    "-0.4*np.log(0.4)+0.6*np.log(0.6)"
   ]
  },
  {
   "cell_type": "code",
   "execution_count": 50,
   "id": "d8ec5f59-4f43-4706-a48e-5d43b7e9caa9",
   "metadata": {},
   "outputs": [
    {
     "data": {
      "text/plain": [
       "0.865458"
      ]
     },
     "execution_count": 50,
     "metadata": {},
     "output_type": "execute_result"
    }
   ],
   "source": [
    "y_true = [0, 1, 0, 0]\n",
    "y_pred = [-18.6, 0.51, 2.94, -12.8]\n",
    "bce = tf.keras.losses.BinaryCrossentropy(from_logits=True)\n",
    "bce(y_true, y_pred).numpy()"
   ]
  },
  {
   "cell_type": "code",
   "execution_count": 70,
   "id": "ebea1335-fc19-413f-9984-a9ab5ad03f8d",
   "metadata": {},
   "outputs": [
    {
     "data": {
      "text/plain": [
       "0.646958"
      ]
     },
     "execution_count": 70,
     "metadata": {},
     "output_type": "execute_result"
    }
   ],
   "source": [
    "bce([-0.1, 1, 0.1, 0.1],[-18.6, 0.51, 2.94, -12.8]).numpy()"
   ]
  },
  {
   "cell_type": "code",
   "execution_count": 61,
   "id": "23789f67-0dd3-441d-a977-a0ddee340944",
   "metadata": {},
   "outputs": [],
   "source": [
    "bceF = tf.keras.losses.BinaryCrossentropy(from_logits=False)"
   ]
  },
  {
   "cell_type": "code",
   "execution_count": 83,
   "id": "aa69f074-6e25-4e86-aa13-7461a41d32dc",
   "metadata": {},
   "outputs": [
    {
     "data": {
      "text/plain": [
       "0.6739067"
      ]
     },
     "execution_count": 83,
     "metadata": {},
     "output_type": "execute_result"
    }
   ],
   "source": [
    "bceF([.5, 1, 0, 1], [0.1, 0.9, 0.5, 0.5]).numpy()"
   ]
  },
  {
   "cell_type": "code",
   "execution_count": 97,
   "id": "55e4ed8f-396d-4a54-a293-8305841bb7ab",
   "metadata": {},
   "outputs": [
    {
     "data": {
      "text/plain": [
       "[<tf.Tensor: shape=(), dtype=float32, numpy=-1.0986123>,\n",
       " <tf.Tensor: shape=(), dtype=float32, numpy=1.0986123>,\n",
       " <tf.Tensor: shape=(), dtype=float32, numpy=-0.0>,\n",
       " <tf.Tensor: shape=(), dtype=float32, numpy=-0.0>]"
      ]
     },
     "execution_count": 97,
     "metadata": {},
     "output_type": "execute_result"
    }
   ],
   "source": [
    "list(map(tff.logit,[0.1, 0.9, 0.5, 0.5]))"
   ]
  },
  {
   "cell_type": "code",
   "execution_count": 84,
   "id": "bb39189d-3a97-4838-8e90-50a95a7179f6",
   "metadata": {},
   "outputs": [
    {
     "data": {
      "text/plain": [
       "0.6739069202759133"
      ]
     },
     "execution_count": 84,
     "metadata": {},
     "output_type": "execute_result"
    }
   ],
   "source": [
    "np.mean(list(np.sum(map(lambda x, y: -(x)*np.log(y)-(1-x)*np.log(1-y), [.5, 1, 0, 1], [0.1, 0.9, 0.5, 0.5]))))"
   ]
  },
  {
   "cell_type": "code",
   "execution_count": 88,
   "id": "a3b3e72b-7e90-4dbe-b462-afd3032e6b43",
   "metadata": {},
   "outputs": [
    {
     "name": "stdout",
     "output_type": "stream",
     "text": [
      "0.6739067\n"
     ]
    }
   ],
   "source": [
    "print( tf.keras.losses.binary_crossentropy([.5, 1, 0, 1], [0.1, 0.9, 0.5, 0.5]).numpy() )"
   ]
  },
  {
   "cell_type": "code",
   "execution_count": 89,
   "id": "a5ec9ca1-70a2-4348-9dcd-e780240dbf27",
   "metadata": {},
   "outputs": [
    {
     "data": {
      "text/plain": [
       "<tf.Tensor: shape=(), dtype=float32, numpy=inf>"
      ]
     },
     "execution_count": 89,
     "metadata": {},
     "output_type": "execute_result"
    }
   ],
   "source": [
    "tff.logit(1)"
   ]
  },
  {
   "cell_type": "code",
   "execution_count": 1,
   "id": "286cfa23-3dc5-4891-900f-3ce4c1104479",
   "metadata": {},
   "outputs": [
    {
     "name": "stderr",
     "output_type": "stream",
     "text": [
      "2022-02-17 08:54:04.004215: I tensorflow/stream_executor/platform/default/dso_loader.cc:49] Successfully opened dynamic library libcudart.so.10.1\n"
     ]
    },
    {
     "name": "stdout",
     "output_type": "stream",
     "text": [
      "0 Conv2D, filters = 16, kernel_size = 5, strides = 2, padding = same\n",
      "conv = BatchNormalization()(conv)\n",
      "actv = LeakyReLU()(conv)\n",
      "actv = Dropout(rate=0.25)(actv)\n",
      "arrow_start = actv\n",
      "1 Conv2D, filters = 16, kernel_size = 5, strides = 1, padding = same\n",
      "conv = BatchNormalization()(conv)\n",
      "actv = LeakyReLU()(conv)\n",
      "actv = Dropout(rate=0.25)(actv)\n",
      "2 Conv2D, filters = 16, kernel_size = 5, strides = 1, padding = same\n",
      "conv = BatchNormalization()(conv)\n",
      "actv = LeakyReLU()(conv)\n",
      "actv = Dropout(rate=0.25)(actv)\n",
      "conv = keras.layers.add([conv, arrow_start])\n",
      "actv = BatchNormalization()(actv)\n",
      "3 Conv2D, filters = 32, kernel_size = 5, strides = 2, padding = same\n",
      "conv = BatchNormalization()(conv)\n",
      "actv = LeakyReLU()(conv)\n",
      "actv = Dropout(rate=0.25)(actv)\n",
      "arrow_start = actv\n",
      "4 Conv2D, filters = 32, kernel_size = 5, strides = 1, padding = same\n",
      "conv = BatchNormalization()(conv)\n",
      "actv = LeakyReLU()(conv)\n",
      "actv = Dropout(rate=0.25)(actv)\n",
      "5 Conv2D, filters = 32, kernel_size = 5, strides = 1, padding = same\n",
      "conv = BatchNormalization()(conv)\n",
      "actv = LeakyReLU()(conv)\n",
      "actv = Dropout(rate=0.25)(actv)\n",
      "conv = keras.layers.add([conv, arrow_start])\n",
      "actv = BatchNormalization()(actv)\n",
      "6 Conv2D, filters = 64, kernel_size = 5, strides = 2, padding = same\n",
      "conv = BatchNormalization()(conv)\n",
      "actv = LeakyReLU()(conv)\n",
      "actv = Dropout(rate=0.25)(actv)\n",
      "7 Conv2D, filters = 64, kernel_size = 3, strides = 1, padding = valid\n",
      "conv = BatchNormalization()(conv)\n",
      "actv = LeakyReLU()(conv)\n",
      "actv = Dropout(rate=0.25)(actv)\n",
      "shape_before_flattening =  (1, 14, 64)\n",
      "WARNING:tensorflow:AutoGraph could not transform <bound method Sampling.call of <__main__.Sampling object at 0x15381811cf40>> and will run it as-is.\n",
      "Please report this to the TensorFlow team. When filing the bug, set the verbosity to 10 (on Linux, `export AUTOGRAPH_VERBOSITY=10`) and attach the full output.\n",
      "Cause: module 'gast' has no attribute 'Index'\n",
      "To silence this warning, decorate the function with @tf.autograph.experimental.do_not_convert\n",
      "WARNING: AutoGraph could not transform <bound method Sampling.call of <__main__.Sampling object at 0x15381811cf40>> and will run it as-is.\n",
      "Please report this to the TensorFlow team. When filing the bug, set the verbosity to 10 (on Linux, `export AUTOGRAPH_VERBOSITY=10`) and attach the full output.\n",
      "Cause: module 'gast' has no attribute 'Index'\n",
      "To silence this warning, decorate the function with @tf.autograph.experimental.do_not_convert\n",
      "Model: \"encoder\"\n",
      "__________________________________________________________________________________________________\n",
      "Layer (type)                    Output Shape         Param #     Connected to                     \n",
      "==================================================================================================\n",
      "encoder input (InputLayer)      [(None, 24, 128, 3)] 0                                            \n",
      "__________________________________________________________________________________________________\n",
      "encoder_conv_0 (Conv2D)         (None, 12, 64, 16)   1216        encoder input[0][0]              \n",
      "__________________________________________________________________________________________________\n",
      "batch_normalization (BatchNorma (None, 12, 64, 16)   64          encoder_conv_0[0][0]             \n",
      "__________________________________________________________________________________________________\n",
      "leaky_re_lu (LeakyReLU)         (None, 12, 64, 16)   0           batch_normalization[0][0]        \n",
      "__________________________________________________________________________________________________\n",
      "dropout (Dropout)               (None, 12, 64, 16)   0           leaky_re_lu[0][0]                \n",
      "__________________________________________________________________________________________________\n",
      "encoder_conv_1 (Conv2D)         (None, 12, 64, 16)   6416        dropout[0][0]                    \n",
      "__________________________________________________________________________________________________\n",
      "batch_normalization_1 (BatchNor (None, 12, 64, 16)   64          encoder_conv_1[0][0]             \n",
      "__________________________________________________________________________________________________\n",
      "leaky_re_lu_1 (LeakyReLU)       (None, 12, 64, 16)   0           batch_normalization_1[0][0]      \n",
      "__________________________________________________________________________________________________\n",
      "dropout_1 (Dropout)             (None, 12, 64, 16)   0           leaky_re_lu_1[0][0]              \n",
      "__________________________________________________________________________________________________\n",
      "encoder_conv_2 (Conv2D)         (None, 12, 64, 16)   6416        dropout_1[0][0]                  \n",
      "__________________________________________________________________________________________________\n",
      "batch_normalization_2 (BatchNor (None, 12, 64, 16)   64          encoder_conv_2[0][0]             \n",
      "__________________________________________________________________________________________________\n",
      "leaky_re_lu_2 (LeakyReLU)       (None, 12, 64, 16)   0           batch_normalization_2[0][0]      \n",
      "__________________________________________________________________________________________________\n",
      "dropout_2 (Dropout)             (None, 12, 64, 16)   0           leaky_re_lu_2[0][0]              \n",
      "__________________________________________________________________________________________________\n",
      "add (Add)                       (None, 12, 64, 16)   0           dropout_2[0][0]                  \n",
      "                                                                 dropout[0][0]                    \n",
      "__________________________________________________________________________________________________\n",
      "batch_normalization_3 (BatchNor (None, 12, 64, 16)   64          add[0][0]                        \n",
      "__________________________________________________________________________________________________\n",
      "encoder_conv_3 (Conv2D)         (None, 6, 32, 32)    12832       batch_normalization_3[0][0]      \n",
      "__________________________________________________________________________________________________\n",
      "batch_normalization_4 (BatchNor (None, 6, 32, 32)    128         encoder_conv_3[0][0]             \n",
      "__________________________________________________________________________________________________\n",
      "leaky_re_lu_3 (LeakyReLU)       (None, 6, 32, 32)    0           batch_normalization_4[0][0]      \n",
      "__________________________________________________________________________________________________\n",
      "dropout_3 (Dropout)             (None, 6, 32, 32)    0           leaky_re_lu_3[0][0]              \n",
      "__________________________________________________________________________________________________\n",
      "encoder_conv_4 (Conv2D)         (None, 6, 32, 32)    25632       dropout_3[0][0]                  \n",
      "__________________________________________________________________________________________________\n",
      "batch_normalization_5 (BatchNor (None, 6, 32, 32)    128         encoder_conv_4[0][0]             \n",
      "__________________________________________________________________________________________________\n",
      "leaky_re_lu_4 (LeakyReLU)       (None, 6, 32, 32)    0           batch_normalization_5[0][0]      \n",
      "__________________________________________________________________________________________________\n",
      "dropout_4 (Dropout)             (None, 6, 32, 32)    0           leaky_re_lu_4[0][0]              \n",
      "__________________________________________________________________________________________________\n",
      "encoder_conv_5 (Conv2D)         (None, 6, 32, 32)    25632       dropout_4[0][0]                  \n",
      "__________________________________________________________________________________________________\n",
      "batch_normalization_6 (BatchNor (None, 6, 32, 32)    128         encoder_conv_5[0][0]             \n",
      "__________________________________________________________________________________________________\n",
      "leaky_re_lu_5 (LeakyReLU)       (None, 6, 32, 32)    0           batch_normalization_6[0][0]      \n",
      "__________________________________________________________________________________________________\n",
      "dropout_5 (Dropout)             (None, 6, 32, 32)    0           leaky_re_lu_5[0][0]              \n",
      "__________________________________________________________________________________________________\n",
      "add_1 (Add)                     (None, 6, 32, 32)    0           dropout_5[0][0]                  \n",
      "                                                                 dropout_3[0][0]                  \n",
      "__________________________________________________________________________________________________\n",
      "batch_normalization_7 (BatchNor (None, 6, 32, 32)    128         add_1[0][0]                      \n",
      "__________________________________________________________________________________________________\n",
      "encoder_conv_6 (Conv2D)         (None, 3, 16, 64)    51264       batch_normalization_7[0][0]      \n",
      "__________________________________________________________________________________________________\n",
      "batch_normalization_8 (BatchNor (None, 3, 16, 64)    256         encoder_conv_6[0][0]             \n",
      "__________________________________________________________________________________________________\n",
      "leaky_re_lu_6 (LeakyReLU)       (None, 3, 16, 64)    0           batch_normalization_8[0][0]      \n",
      "__________________________________________________________________________________________________\n",
      "dropout_6 (Dropout)             (None, 3, 16, 64)    0           leaky_re_lu_6[0][0]              \n",
      "__________________________________________________________________________________________________\n",
      "encoder_conv_7 (Conv2D)         (None, 1, 14, 64)    36928       dropout_6[0][0]                  \n",
      "__________________________________________________________________________________________________\n",
      "batch_normalization_9 (BatchNor (None, 1, 14, 64)    256         encoder_conv_7[0][0]             \n",
      "__________________________________________________________________________________________________\n",
      "leaky_re_lu_7 (LeakyReLU)       (None, 1, 14, 64)    0           batch_normalization_9[0][0]      \n",
      "__________________________________________________________________________________________________\n",
      "dropout_7 (Dropout)             (None, 1, 14, 64)    0           leaky_re_lu_7[0][0]              \n",
      "__________________________________________________________________________________________________\n",
      "flatten (Flatten)               (None, 896)          0           dropout_7[0][0]                  \n",
      "__________________________________________________________________________________________________\n",
      "z_mean (Dense)                  (None, 64)           57408       flatten[0][0]                    \n",
      "__________________________________________________________________________________________________\n",
      "z_log_var (Dense)               (None, 64)           57408       flatten[0][0]                    \n",
      "__________________________________________________________________________________________________\n",
      "sampling (Sampling)             (None, 64)           0           z_mean[0][0]                     \n",
      "                                                                 z_log_var[0][0]                  \n",
      "==================================================================================================\n",
      "Total params: 282,432\n",
      "Trainable params: 281,792\n",
      "Non-trainable params: 640\n",
      "__________________________________________________________________________________________________\n"
     ]
    },
    {
     "name": "stderr",
     "output_type": "stream",
     "text": [
      "2022-02-17 08:54:12.105123: I tensorflow/compiler/jit/xla_cpu_device.cc:41] Not creating XLA devices, tf_xla_enable_xla_devices not set\n",
      "2022-02-17 08:54:12.105356: W tensorflow/stream_executor/platform/default/dso_loader.cc:60] Could not load dynamic library 'libcuda.so.1'; dlerror: libcuda.so.1: cannot open shared object file: No such file or directory\n",
      "2022-02-17 08:54:12.105365: W tensorflow/stream_executor/cuda/cuda_driver.cc:326] failed call to cuInit: UNKNOWN ERROR (303)\n",
      "2022-02-17 08:54:12.105379: I tensorflow/stream_executor/cuda/cuda_diagnostics.cc:156] kernel driver does not appear to be running on this host (r740server5): /proc/driver/nvidia/version does not exist\n",
      "2022-02-17 08:54:12.105542: I tensorflow/core/platform/cpu_feature_guard.cc:142] This TensorFlow binary is optimized with oneAPI Deep Neural Network Library (oneDNN) to use the following CPU instructions in performance-critical operations:  SSE4.1 SSE4.2 AVX AVX2 AVX512F FMA\n",
      "To enable them in other operations, rebuild TensorFlow with the appropriate compiler flags.\n",
      "2022-02-17 08:54:12.110149: I tensorflow/compiler/jit/xla_gpu_device.cc:99] Not creating XLA devices, tf_xla_enable_xla_devices not set\n"
     ]
    }
   ],
   "source": [
    "import tensorflow as tf\n",
    "import numpy as np\n",
    "#tf.enable_eager_execution() # This command is deprecated, use the one below\n",
    "#tf.compat.v1.enable_eager_execution()\n",
    "from tensorflow import keras\n",
    "from tensorflow.keras import regularizers\n",
    "from tensorflow.keras.layers import Dense, Activation, Flatten, Conv2D, SeparableConv2D, MaxPooling2D, BatchNormalization, Dropout, SpatialDropout2D, Input, concatenate, Softmax, Reshape, Add, Conv2DTranspose, LeakyReLU # Vallerian's approach\n",
    "from tensorflow.keras.models import Sequential, Model\n",
    "from tensorflow.keras import datasets, layers, models # from https://www.tensorflow.org/tutorials/images/cnn\n",
    "from tensorflow.keras import backend as K\n",
    "class Sampling(tf.keras.layers.Layer):  # Normal distribution sampling for the encoder output of the variational autoencoder\n",
    "    \"\"\"Uses (z_mean, z_log_var) to sample z, the vector encoding a digit.\"\"\"\n",
    "\n",
    "    def call(self, inputs):\n",
    "        z_mean, z_log_var = inputs\n",
    "        batch = tf.shape(z_mean)[0]\n",
    "        dim = tf.shape(z_mean)[1]\n",
    "        epsilon = tf.keras.backend.random_normal(shape=(batch, dim))\n",
    "        return z_mean + tf.exp(0.5 * z_log_var) * epsilon\n",
    "    \n",
    "def build_encoder_skip(input_dim, output_dim, conv_filters, conv_kernel_size, conv_strides, conv_padding, conv_activation, conv_skip, use_batch_norm = False, use_dropout = False):\n",
    "    # Number of Conv layers\n",
    "    n_layers = len(conv_filters)\n",
    "    encoder_inputs = tf.keras.Input(shape=input_dim, name ='encoder input')\n",
    "    \n",
    "    x = []\n",
    "    x.append(encoder_inputs)\n",
    "    # Add convolutional layers\n",
    "    for i in range(n_layers):\n",
    "        print(i, f\"Conv2D, filters = {conv_filters[i]}, kernel_size = {conv_kernel_size[i]}, strides = {conv_strides[i]}, padding = {conv_padding[i]}\")\n",
    "        conv = Conv2D(filters = conv_filters[i], \n",
    "                kernel_size = conv_kernel_size[i],\n",
    "                strides = conv_strides[i], \n",
    "                padding = conv_padding[i],\n",
    "                name = 'encoder_conv_' + str(i))(x[i])\n",
    "\n",
    "        if use_batch_norm:\n",
    "            conv = BatchNormalization()(conv)\n",
    "            print(\"conv = BatchNormalization()(conv)\")\n",
    "            \n",
    "        if conv_activation[i] == 'LeakyRelu':\n",
    "            actv = LeakyReLU()(conv)\n",
    "            print(\"actv = LeakyReLU()(conv)\")\n",
    "        else:\n",
    "            actv = Activation(conv_activation[i])(conv)\n",
    "            print(\"actv = Activation(conv_activation[i])(conv)\")\n",
    "\n",
    "        if use_dropout:\n",
    "            actv = Dropout(rate=0.25)(actv)\n",
    "            print(\"actv = Dropout(rate=0.25)(actv)\")\n",
    "        \n",
    "        if i in conv_skip.values(): # The arrow of the skip connection end here\n",
    "            print('conv = keras.layers.add([conv, arrow_start])')\n",
    "            actv = keras.layers.add([actv, arrow_start])\n",
    "            if use_batch_norm:\n",
    "                actv = BatchNormalization()(actv)\n",
    "                print(\"actv = BatchNormalization()(actv)\")\n",
    "        \n",
    "        if i in conv_skip.keys(): # The arrow of the skip connection starts here\n",
    "            print('arrow_start = actv')\n",
    "            arrow_start = actv\n",
    "        \n",
    "        x.append(actv)\n",
    "        \n",
    "\n",
    "    shape_before_flattening = K.int_shape(x[-1])[1:] \n",
    "    print(\"shape_before_flattening = \", shape_before_flattening)\n",
    "    x.append(tf.keras.layers.Flatten()(x[-1]))\n",
    "    z_mean = tf.keras.layers.Dense(output_dim, name=\"z_mean\")(x[-1])\n",
    "    z_log_var = tf.keras.layers.Dense(output_dim, name=\"z_log_var\")(x[-1])\n",
    "    z = Sampling()([z_mean, z_log_var])\n",
    "    encoder_outputs = [z_mean, z_log_var, z]\n",
    "    encoder = tf.keras.Model(encoder_inputs, encoder_outputs, name=\"encoder\")\n",
    "    return encoder_inputs, encoder_outputs,  shape_before_flattening, encoder\n",
    "\n",
    "INPUT_DIM =  (24, 128, 3)\n",
    "Z_DIM = 64\n",
    "\n",
    "encoder_inputs, encoder_outputs, shape_before_flattening, encoder  = build_encoder_skip(input_dim = INPUT_DIM, \n",
    "                                                output_dim = Z_DIM, \n",
    "                                                conv_filters =     [16, 16, 16, 32, 32,  32,   64, 64],\n",
    "                                                conv_kernel_size = [5,  5,  5,  5,   5,   5,   5,  3],\n",
    "                                                conv_strides =     [2,  1,  1,  2,   1,   1,   2,  1],\n",
    "                                                conv_padding =     [\"same\",\"same\",\"same\",\"same\",\"same\",\"same\",\"same\",\"valid\"], \n",
    "                                                conv_activation =  [\"LeakyRelu\",\"LeakyRelu\",\"LeakyRelu\",\"LeakyRelu\",\"LeakyRelu\",\"LeakyRelu\",\"LeakyRelu\",\"LeakyRelu\"],\n",
    "                                                #conv_skip = dict({}),use_batch_norm=True, use_dropout=True)\n",
    "                                                conv_skip = dict({(0,2),(3,5)}),use_batch_norm=True, use_dropout=True)\n",
    "encoder.summary()"
   ]
  },
  {
   "cell_type": "code",
   "execution_count": 2,
   "id": "56dd774d-feff-4d17-98eb-e3278e85970d",
   "metadata": {},
   "outputs": [
    {
     "name": "stdout",
     "output_type": "stream",
     "text": [
      "0 Conv2D, filters = 64, kernel_size = 3, strides = 1, padding = valid\n",
      "conv = BatchNormalization()(conv)\n",
      "actv = LeakyReLU()(conv)\n",
      "actv = Dropout(rate=0.25)(actv)\n",
      "1 Conv2D, filters = 32, kernel_size = 5, strides = 2, padding = same\n",
      "conv = BatchNormalization()(conv)\n",
      "actv = LeakyReLU()(conv)\n",
      "actv = Dropout(rate=0.25)(actv)\n",
      "arrow_start = actv\n",
      "2 Conv2D, filters = 32, kernel_size = 5, strides = 1, padding = same\n",
      "conv = BatchNormalization()(conv)\n",
      "actv = LeakyReLU()(conv)\n",
      "actv = Dropout(rate=0.25)(actv)\n",
      "3 Conv2D, filters = 32, kernel_size = 5, strides = 1, padding = same\n",
      "conv = BatchNormalization()(conv)\n",
      "actv = LeakyReLU()(conv)\n",
      "actv = Dropout(rate=0.25)(actv)\n",
      "conv = keras.layers.add([conv, arrow_start])\n",
      "actv = BatchNormalization()(actv)\n",
      "4 Conv2D, filters = 16, kernel_size = 5, strides = 2, padding = same\n",
      "conv = BatchNormalization()(conv)\n",
      "actv = LeakyReLU()(conv)\n",
      "actv = Dropout(rate=0.25)(actv)\n",
      "arrow_start = actv\n",
      "5 Conv2D, filters = 16, kernel_size = 5, strides = 1, padding = same\n",
      "conv = BatchNormalization()(conv)\n",
      "actv = LeakyReLU()(conv)\n",
      "actv = Dropout(rate=0.25)(actv)\n",
      "6 Conv2D, filters = 16, kernel_size = 5, strides = 1, padding = same\n",
      "conv = BatchNormalization()(conv)\n",
      "actv = LeakyReLU()(conv)\n",
      "actv = Dropout(rate=0.25)(actv)\n",
      "conv = keras.layers.add([conv, arrow_start])\n",
      "actv = BatchNormalization()(actv)\n",
      "7 Conv2D, filters = 3, kernel_size = 5, strides = 2, padding = same\n",
      "conv = BatchNormalization()(conv)\n",
      "actv = Activation(conv_activation[i])(conv)\n",
      "actv = Dropout(rate=0.25)(actv)\n",
      "Model: \"decoder\"\n",
      "__________________________________________________________________________________________________\n",
      "Layer (type)                    Output Shape         Param #     Connected to                     \n",
      "==================================================================================================\n",
      "input_1 (InputLayer)            [(None, 64)]         0                                            \n",
      "__________________________________________________________________________________________________\n",
      "dense (Dense)                   (None, 896)          58240       input_1[0][0]                    \n",
      "__________________________________________________________________________________________________\n",
      "reshape (Reshape)               (None, 1, 14, 64)    0           dense[0][0]                      \n",
      "__________________________________________________________________________________________________\n",
      "decoder_conv_0 (Conv2DTranspose (None, 3, 16, 64)    36928       reshape[0][0]                    \n",
      "__________________________________________________________________________________________________\n",
      "batch_normalization_10 (BatchNo (None, 3, 16, 64)    256         decoder_conv_0[0][0]             \n",
      "__________________________________________________________________________________________________\n",
      "leaky_re_lu_8 (LeakyReLU)       (None, 3, 16, 64)    0           batch_normalization_10[0][0]     \n",
      "__________________________________________________________________________________________________\n",
      "dropout_8 (Dropout)             (None, 3, 16, 64)    0           leaky_re_lu_8[0][0]              \n",
      "__________________________________________________________________________________________________\n",
      "decoder_conv_1 (Conv2DTranspose (None, 6, 32, 32)    51232       dropout_8[0][0]                  \n",
      "__________________________________________________________________________________________________\n",
      "batch_normalization_11 (BatchNo (None, 6, 32, 32)    128         decoder_conv_1[0][0]             \n",
      "__________________________________________________________________________________________________\n",
      "leaky_re_lu_9 (LeakyReLU)       (None, 6, 32, 32)    0           batch_normalization_11[0][0]     \n",
      "__________________________________________________________________________________________________\n",
      "dropout_9 (Dropout)             (None, 6, 32, 32)    0           leaky_re_lu_9[0][0]              \n",
      "__________________________________________________________________________________________________\n",
      "decoder_conv_2 (Conv2DTranspose (None, 6, 32, 32)    25632       dropout_9[0][0]                  \n",
      "__________________________________________________________________________________________________\n",
      "batch_normalization_12 (BatchNo (None, 6, 32, 32)    128         decoder_conv_2[0][0]             \n",
      "__________________________________________________________________________________________________\n",
      "leaky_re_lu_10 (LeakyReLU)      (None, 6, 32, 32)    0           batch_normalization_12[0][0]     \n",
      "__________________________________________________________________________________________________\n",
      "dropout_10 (Dropout)            (None, 6, 32, 32)    0           leaky_re_lu_10[0][0]             \n",
      "__________________________________________________________________________________________________\n",
      "decoder_conv_3 (Conv2DTranspose (None, 6, 32, 32)    25632       dropout_10[0][0]                 \n",
      "__________________________________________________________________________________________________\n",
      "batch_normalization_13 (BatchNo (None, 6, 32, 32)    128         decoder_conv_3[0][0]             \n",
      "__________________________________________________________________________________________________\n",
      "leaky_re_lu_11 (LeakyReLU)      (None, 6, 32, 32)    0           batch_normalization_13[0][0]     \n",
      "__________________________________________________________________________________________________\n",
      "dropout_11 (Dropout)            (None, 6, 32, 32)    0           leaky_re_lu_11[0][0]             \n",
      "__________________________________________________________________________________________________\n",
      "add_2 (Add)                     (None, 6, 32, 32)    0           dropout_11[0][0]                 \n",
      "                                                                 dropout_9[0][0]                  \n",
      "__________________________________________________________________________________________________\n",
      "batch_normalization_14 (BatchNo (None, 6, 32, 32)    128         add_2[0][0]                      \n",
      "__________________________________________________________________________________________________\n",
      "decoder_conv_4 (Conv2DTranspose (None, 12, 64, 16)   12816       batch_normalization_14[0][0]     \n",
      "__________________________________________________________________________________________________\n",
      "batch_normalization_15 (BatchNo (None, 12, 64, 16)   64          decoder_conv_4[0][0]             \n",
      "__________________________________________________________________________________________________\n",
      "leaky_re_lu_12 (LeakyReLU)      (None, 12, 64, 16)   0           batch_normalization_15[0][0]     \n",
      "__________________________________________________________________________________________________\n",
      "dropout_12 (Dropout)            (None, 12, 64, 16)   0           leaky_re_lu_12[0][0]             \n",
      "__________________________________________________________________________________________________\n",
      "decoder_conv_5 (Conv2DTranspose (None, 12, 64, 16)   6416        dropout_12[0][0]                 \n",
      "__________________________________________________________________________________________________\n",
      "batch_normalization_16 (BatchNo (None, 12, 64, 16)   64          decoder_conv_5[0][0]             \n",
      "__________________________________________________________________________________________________\n",
      "leaky_re_lu_13 (LeakyReLU)      (None, 12, 64, 16)   0           batch_normalization_16[0][0]     \n",
      "__________________________________________________________________________________________________\n",
      "dropout_13 (Dropout)            (None, 12, 64, 16)   0           leaky_re_lu_13[0][0]             \n",
      "__________________________________________________________________________________________________\n",
      "decoder_conv_6 (Conv2DTranspose (None, 12, 64, 16)   6416        dropout_13[0][0]                 \n",
      "__________________________________________________________________________________________________\n",
      "batch_normalization_17 (BatchNo (None, 12, 64, 16)   64          decoder_conv_6[0][0]             \n",
      "__________________________________________________________________________________________________\n",
      "leaky_re_lu_14 (LeakyReLU)      (None, 12, 64, 16)   0           batch_normalization_17[0][0]     \n",
      "__________________________________________________________________________________________________\n",
      "dropout_14 (Dropout)            (None, 12, 64, 16)   0           leaky_re_lu_14[0][0]             \n",
      "__________________________________________________________________________________________________\n",
      "add_3 (Add)                     (None, 12, 64, 16)   0           dropout_14[0][0]                 \n",
      "                                                                 dropout_12[0][0]                 \n",
      "__________________________________________________________________________________________________\n",
      "batch_normalization_18 (BatchNo (None, 12, 64, 16)   64          add_3[0][0]                      \n",
      "__________________________________________________________________________________________________\n",
      "decoder_conv_7 (Conv2DTranspose (None, 24, 128, 3)   1203        batch_normalization_18[0][0]     \n",
      "__________________________________________________________________________________________________\n",
      "batch_normalization_19 (BatchNo (None, 24, 128, 3)   12          decoder_conv_7[0][0]             \n",
      "__________________________________________________________________________________________________\n",
      "activation (Activation)         (None, 24, 128, 3)   0           batch_normalization_19[0][0]     \n",
      "__________________________________________________________________________________________________\n",
      "dropout_15 (Dropout)            (None, 24, 128, 3)   0           activation[0][0]                 \n",
      "==================================================================================================\n",
      "Total params: 225,551\n",
      "Trainable params: 225,033\n",
      "Non-trainable params: 518\n",
      "__________________________________________________________________________________________________\n"
     ]
    }
   ],
   "source": [
    "def build_decoder_skip(input_dim, shape_before_flattening, conv_filters, conv_kernel_size, conv_strides,conv_padding, conv_activation, conv_skip, use_batch_norm = False, use_dropout = False):\n",
    "    # Number of Conv layers\n",
    "    n_layers = len(conv_filters)\n",
    "    decoder_inputs = tf.keras.Input(shape=input_dim)\n",
    "    \n",
    "    x = []\n",
    "    \n",
    "    x.append(tf.keras.layers.Dense(tf.math.reduce_prod(shape_before_flattening), activation=\"relu\")(decoder_inputs))\n",
    "    x[0] = tf.keras.layers.Reshape(shape_before_flattening)(x[0])\n",
    "    \n",
    "    \n",
    "    # Add convolutional layers\n",
    "    for i in range(n_layers):\n",
    "        print(i, f\"Conv2D, filters = {conv_filters[i]}, kernel_size = {conv_kernel_size[i]}, strides = {conv_strides[i]}, padding = {conv_padding[i]}\")\n",
    "        conv = Conv2DTranspose(filters = conv_filters[i], \n",
    "                            kernel_size = conv_kernel_size[i],\n",
    "                            strides = conv_strides[i], \n",
    "                            padding = conv_padding[i],\n",
    "                            name = 'decoder_conv_' + str(i))(x[i])\n",
    "        \n",
    "        if use_batch_norm:\n",
    "            conv = BatchNormalization()(conv)\n",
    "            print(\"conv = BatchNormalization()(conv)\")\n",
    "            \n",
    "        if conv_activation[i] == 'LeakyRelu':\n",
    "            actv = LeakyReLU()(conv)\n",
    "            print(\"actv = LeakyReLU()(conv)\")\n",
    "        else:\n",
    "            actv = Activation(conv_activation[i])(conv)\n",
    "            print(\"actv = Activation(conv_activation[i])(conv)\")\n",
    "            \n",
    "        if use_dropout:\n",
    "            actv = Dropout(rate=0.25)(actv)\n",
    "            print(\"actv = Dropout(rate=0.25)(actv)\")\n",
    "        \n",
    "        if i in conv_skip.values(): # The arrow of the skip connection end here\n",
    "            print('conv = keras.layers.add([conv, arrow_start])')\n",
    "            actv = keras.layers.add([actv, arrow_start])\n",
    "            if use_batch_norm:\n",
    "                actv = BatchNormalization()(actv)\n",
    "                print(\"actv = BatchNormalization()(actv)\")\n",
    "        \n",
    "        if i in conv_skip.keys(): # The arrow of the skip connection starts here\n",
    "            print('arrow_start = actv')\n",
    "            arrow_start = actv\n",
    "        \n",
    "        x.append(actv)\n",
    "        \n",
    "\n",
    "    decoder_outputs = x[-1]\n",
    "    decoder = tf.keras.Model(decoder_inputs, decoder_outputs, name=\"decoder\")\n",
    "    decoder.summary()\n",
    "    return decoder_inputs, decoder_outputs, decoder  \n",
    "\n",
    "decoder_input, decoder_output, decoder = build_decoder_skip(input_dim = Z_DIM,  \n",
    "                                        shape_before_flattening = shape_before_flattening,\n",
    "                                        conv_filters =     [64,32,32,32,16,16,16,3],\n",
    "                                        conv_kernel_size = [3, 5, 5, 5, 5, 5, 5, 5],\n",
    "                                        conv_strides =     [1, 2, 1, 1, 2, 1, 1, 2],\n",
    "                                        conv_padding =     [\"valid\",\"same\",\"same\",\"same\",\"same\",\"same\",\"same\",\"same\"], \n",
    "                                        conv_activation =  [\"LeakyRelu\",\"LeakyRelu\",\"LeakyRelu\",\"LeakyRelu\",\"LeakyRelu\",\"LeakyRelu\",\"LeakyRelu\",\"sigmoid\"], \n",
    "                                                              conv_skip = dict({(1,3),(4,6)}), use_batch_norm = True, use_dropout = True)"
   ]
  },
  {
   "cell_type": "code",
   "execution_count": 3,
   "id": "d1ea65c6-c422-42a4-9cc0-8afbca1b5e37",
   "metadata": {},
   "outputs": [],
   "source": [
    "class VAE(tf.keras.Model): # Class of variational autoencoder\n",
    "    def __init__(self, encoder, decoder, k1=1, k2=1, from_logits=False, **kwargs):\n",
    "        super(VAE, self).__init__(**kwargs)\n",
    "        self.encoder = encoder\n",
    "        self.decoder = decoder\n",
    "        self.k1 = k1\n",
    "        self.k2 = k2\n",
    "        self.total_loss_tracker = tf.keras.metrics.Mean(name=\"total_loss\")\n",
    "        self.reconstruction_loss_tracker = tf.keras.metrics.Mean(\n",
    "            name=\"reconstruction_loss\"\n",
    "        )\n",
    "        self.kl_loss_tracker = tf.keras.metrics.Mean(name=\"kl_loss\")\n",
    "        self.from_logits = from_logits\n",
    "        print(\"VAE: self.from_logits = \", self.from_logits)\n",
    "\n",
    "    @property\n",
    "    def metrics(self):\n",
    "        return [\n",
    "            self.total_loss_tracker,\n",
    "            self.reconstruction_loss_tracker,\n",
    "            self.kl_loss_tracker,\n",
    "        ]\n",
    "    def call(self, inputs):\n",
    "        _, _, z =  self.encoder(inputs)\n",
    "        return self.decoder(z)\n",
    "\n",
    "    def train_step(self, data):\n",
    "        with tf.GradientTape() as tape:\n",
    "            z_mean, z_log_var, z = self.encoder(data)\n",
    "            reconstruction = self.decoder(z)\n",
    "            reconstruction_loss = self.k1*tf.reduce_mean(\n",
    "                tf.reduce_sum(\n",
    "                    tf.keras.losses.binary_crossentropy(data, reconstruction, from_logits=self.from_logits), axis=(1, 2) # -Y_n Log( P_n) - (1 - Y_n) Log( 1 - P_n) is the expression for binary entropy\n",
    "                )\n",
    "            )\n",
    "            kl_loss = -0.5 * (1 + z_log_var - tf.square(z_mean) - tf.exp(z_log_var))\n",
    "            kl_loss = self.k2*tf.reduce_mean(tf.reduce_sum(kl_loss, axis=1))\n",
    "            total_loss = reconstruction_loss + kl_loss\n",
    "        grads = tape.gradient(total_loss, self.trainable_weights)\n",
    "        self.optimizer.apply_gradients(zip(grads, self.trainable_weights))\n",
    "        self.total_loss_tracker.update_state(total_loss)\n",
    "        self.reconstruction_loss_tracker.update_state(reconstruction_loss)\n",
    "        self.kl_loss_tracker.update_state(kl_loss)\n",
    "        return {\n",
    "            \"loss\": self.total_loss_tracker.result(),\n",
    "            \"reconstruction_loss\": self.reconstruction_loss_tracker.result(),\n",
    "            \"kl_loss\": self.kl_loss_tracker.result(),\n",
    "        }\n"
   ]
  },
  {
   "cell_type": "code",
   "execution_count": 4,
   "id": "e199c38a-bd76-4346-83c3-0fb767113f9a",
   "metadata": {},
   "outputs": [
    {
     "name": "stdout",
     "output_type": "stream",
     "text": [
      "VAE: self.from_logits =  False\n",
      "vae.k1 =  0.9  , vae.k2 =  0.1\n"
     ]
    }
   ],
   "source": [
    "vae = VAE(encoder, decoder, k1=0.9, k2=0.1, from_logits=False)\n",
    "print(\"vae.k1 = \", vae.k1, \" , vae.k2 = \", vae.k2)"
   ]
  },
  {
   "cell_type": "code",
   "execution_count": 118,
   "id": "365b7d4a-e141-4e85-ab60-f8a44006d0fc",
   "metadata": {},
   "outputs": [
    {
     "name": "stdout",
     "output_type": "stream",
     "text": [
      "Model: \"vae_2\"\n",
      "__________________________________________________________________________________________________________________________________________________________________________________________________________________________________________________________\n",
      "Layer (type)                                                                                                    Output Shape                                                                                        Param #                               \n",
      "==========================================================================================================================================================================================================================================================\n",
      "encoder (Functional)                                                                                            [(None, 64), (None, 64), (None, 64)]                                                                235920                                \n",
      "__________________________________________________________________________________________________________________________________________________________________________________________________________________________________________________________\n",
      "decoder (Functional)                                                                                            (None, 24, 128, 3)                                                                                  179039                                \n",
      "==========================================================================================================================================================================================================================================================\n",
      "Total params: 414,965\n",
      "Trainable params: 413,801\n",
      "Non-trainable params: 1,164\n",
      "__________________________________________________________________________________________________________________________________________________________________________________________________________________________________________________________\n"
     ]
    }
   ],
   "source": [
    "INPUT_DIM_withnone = list(INPUT_DIM)\n",
    "INPUT_DIM_withnone.insert(0,None)\n",
    "\n",
    "vae.build(tuple(INPUT_DIM_withnone)) \n",
    "vae.compute_output_shape(tuple(INPUT_DIM_withnone))\n",
    "vae.summary(line_length=250)"
   ]
  },
  {
   "cell_type": "code",
   "execution_count": 125,
   "id": "1db820d1-b8bd-4394-9d86-78f38d8e4061",
   "metadata": {},
   "outputs": [],
   "source": [
    "X = np.random.rand(12000,24,128,3)"
   ]
  },
  {
   "cell_type": "code",
   "execution_count": 126,
   "id": "6244ee5e-76d6-4f53-8b10-19a0f24d78b7",
   "metadata": {},
   "outputs": [
    {
     "name": "stdout",
     "output_type": "stream",
     "text": [
      "375/375 [==============================] - 21s 52ms/step - loss: 1916.4172 - reconstruction_loss: 1916.4193 - kl_loss: 2.2231e-05\n"
     ]
    },
    {
     "data": {
      "text/plain": [
       "<tensorflow.python.keras.callbacks.History at 0x14adc69cb820>"
      ]
     },
     "execution_count": 126,
     "metadata": {},
     "output_type": "execute_result"
    }
   ],
   "source": [
    "vae.compile(optimizer=tf.keras.optimizers.Adam(lr = 1e-3))\n",
    "vae.fit(X)"
   ]
  },
  {
   "cell_type": "code",
   "execution_count": 8,
   "id": "a975e9d0-7a45-4acd-8ff6-ed7145a620cc",
   "metadata": {},
   "outputs": [],
   "source": [
    "samples, timesteps, features = 1, 10, 8\n",
    "inputs = np.random.random([samples, timesteps, features]).astype(np.float32)\n",
    "inputs[:, 3, :] = 0.\n",
    "inputs[:, 5, :] = 0.\n",
    "\n",
    "model = tf.keras.models.Sequential()\n",
    "model.add(tf.keras.layers.Masking(mask_value=0.,\n",
    "                                  input_shape=(timesteps, features)))\n",
    "output = model(inputs)"
   ]
  },
  {
   "cell_type": "code",
   "execution_count": 9,
   "id": "085943a6-ea60-4eff-a6d4-e2eed041479e",
   "metadata": {},
   "outputs": [
    {
     "data": {
      "text/plain": [
       "array([[[0.46128374, 0.9001634 , 0.04844501, 0.73280776, 0.26635328,\n",
       "         0.5908927 , 0.30841282, 0.48893222],\n",
       "        [0.31458378, 0.96840477, 0.9637747 , 0.06462356, 0.6331117 ,\n",
       "         0.8372965 , 0.45977703, 0.44410992],\n",
       "        [0.20960408, 0.09524056, 0.26436535, 0.66635215, 0.16854256,\n",
       "         0.09905799, 0.4028925 , 0.4379977 ],\n",
       "        [0.        , 0.        , 0.        , 0.        , 0.        ,\n",
       "         0.        , 0.        , 0.        ],\n",
       "        [0.46829778, 0.706549  , 0.7080177 , 0.9993042 , 0.7820028 ,\n",
       "         0.7262145 , 0.7611772 , 0.8496592 ],\n",
       "        [0.        , 0.        , 0.        , 0.        , 0.        ,\n",
       "         0.        , 0.        , 0.        ],\n",
       "        [0.63751245, 0.45891994, 0.47536567, 0.3227062 , 0.7916975 ,\n",
       "         0.10720778, 0.7190421 , 0.8173516 ],\n",
       "        [0.5572264 , 0.3897331 , 0.978318  , 0.9555788 , 0.80107224,\n",
       "         0.66683614, 0.62790656, 0.09479985],\n",
       "        [0.2924169 , 0.76012915, 0.6209345 , 0.69279367, 0.9869724 ,\n",
       "         0.414415  , 0.34575132, 0.9457541 ],\n",
       "        [0.77163684, 0.7342302 , 0.6565565 , 0.51206446, 0.57895166,\n",
       "         0.29618302, 0.9445461 , 0.22672099]]], dtype=float32)"
      ]
     },
     "execution_count": 9,
     "metadata": {},
     "output_type": "execute_result"
    }
   ],
   "source": [
    "inputs"
   ]
  },
  {
   "cell_type": "code",
   "execution_count": 10,
   "id": "98c158b8-f7fc-4c04-85b6-e7ff63a25c33",
   "metadata": {},
   "outputs": [
    {
     "data": {
      "text/plain": [
       "<tf.Tensor: shape=(1, 10, 8), dtype=float32, numpy=\n",
       "array([[[0.46128374, 0.9001634 , 0.04844501, 0.73280776, 0.26635328,\n",
       "         0.5908927 , 0.30841282, 0.48893222],\n",
       "        [0.31458378, 0.96840477, 0.9637747 , 0.06462356, 0.6331117 ,\n",
       "         0.8372965 , 0.45977703, 0.44410992],\n",
       "        [0.20960408, 0.09524056, 0.26436535, 0.66635215, 0.16854256,\n",
       "         0.09905799, 0.4028925 , 0.4379977 ],\n",
       "        [0.        , 0.        , 0.        , 0.        , 0.        ,\n",
       "         0.        , 0.        , 0.        ],\n",
       "        [0.46829778, 0.706549  , 0.7080177 , 0.9993042 , 0.7820028 ,\n",
       "         0.7262145 , 0.7611772 , 0.8496592 ],\n",
       "        [0.        , 0.        , 0.        , 0.        , 0.        ,\n",
       "         0.        , 0.        , 0.        ],\n",
       "        [0.63751245, 0.45891994, 0.47536567, 0.3227062 , 0.7916975 ,\n",
       "         0.10720778, 0.7190421 , 0.8173516 ],\n",
       "        [0.5572264 , 0.3897331 , 0.978318  , 0.9555788 , 0.80107224,\n",
       "         0.66683614, 0.62790656, 0.09479985],\n",
       "        [0.2924169 , 0.76012915, 0.6209345 , 0.69279367, 0.9869724 ,\n",
       "         0.414415  , 0.34575132, 0.9457541 ],\n",
       "        [0.77163684, 0.7342302 , 0.6565565 , 0.51206446, 0.57895166,\n",
       "         0.29618302, 0.9445461 , 0.22672099]]], dtype=float32)>"
      ]
     },
     "execution_count": 10,
     "metadata": {},
     "output_type": "execute_result"
    }
   ],
   "source": [
    "output"
   ]
  },
  {
   "cell_type": "code",
   "execution_count": 3,
   "id": "3cb6c8e6-acd9-47a8-83f6-4a0bb79fec7e",
   "metadata": {},
   "outputs": [
    {
     "name": "stderr",
     "output_type": "stream",
     "text": [
      "2022-02-15 12:51:06.125555: I tensorflow/stream_executor/platform/default/dso_loader.cc:49] Successfully opened dynamic library libcudart.so.10.1\n"
     ]
    }
   ],
   "source": [
    "import numpy as np\n",
    "import tensorflow as tf\n",
    "from tensorflow import keras\n",
    "from tensorflow.keras import layers"
   ]
  },
  {
   "cell_type": "code",
   "execution_count": 12,
   "id": "c98cb603-5d65-47b8-a67c-02bde8dac562",
   "metadata": {},
   "outputs": [
    {
     "data": {
      "text/plain": [
       "[['Hello', 'world', '!'],\n",
       " ['How', 'are', 'you', 'doing', 'today'],\n",
       " ['The', 'weather', 'will', 'be', 'nice', 'tomorrow']]"
      ]
     },
     "execution_count": 12,
     "metadata": {},
     "output_type": "execute_result"
    }
   ],
   "source": [
    "[\n",
    "  [\"Hello\", \"world\", \"!\"],\n",
    "  [\"How\", \"are\", \"you\", \"doing\", \"today\"],\n",
    "  [\"The\", \"weather\", \"will\", \"be\", \"nice\", \"tomorrow\"],\n",
    "]"
   ]
  },
  {
   "cell_type": "code",
   "execution_count": 14,
   "id": "11570c03-6c94-42c3-b036-99267c180819",
   "metadata": {},
   "outputs": [
    {
     "name": "stdout",
     "output_type": "stream",
     "text": [
      "[[ 711  632   71    0    0    0]\n",
      " [  73    8 3215   55  927    0]\n",
      " [  83   91    1  645 1253  927]]\n"
     ]
    }
   ],
   "source": [
    "raw_inputs = [\n",
    "    [711, 632, 71],\n",
    "    [73, 8, 3215, 55, 927],\n",
    "    [83, 91, 1, 645, 1253, 927],\n",
    "]\n",
    "\n",
    "# By default, this will pad using 0s; it is configurable via the\n",
    "# \"value\" parameter.\n",
    "# Note that you could \"pre\" padding (at the beginning) or\n",
    "# \"post\" padding (at the end).\n",
    "# We recommend using \"post\" padding when working with RNN layers\n",
    "# (in order to be able to use the\n",
    "# CuDNN implementation of the layers).\n",
    "padded_inputs = tf.keras.preprocessing.sequence.pad_sequences(\n",
    "    raw_inputs, padding=\"post\"\n",
    ")\n",
    "print(padded_inputs)"
   ]
  },
  {
   "cell_type": "code",
   "execution_count": 17,
   "id": "5bb3dd81-75ba-4219-8c8a-03159112f388",
   "metadata": {},
   "outputs": [
    {
     "name": "stdout",
     "output_type": "stream",
     "text": [
      "masked_output._keras_mask =  tf.Tensor(\n",
      "[[ True  True  True False False False]\n",
      " [ True  True  True  True  True False]\n",
      " [ True  True  True  True  True  True]], shape=(3, 6), dtype=bool)\n",
      "masked_embedding._keras_mask =  tf.Tensor(\n",
      "[[ True  True  True False False False]\n",
      " [ True  True  True  True  True False]\n",
      " [ True  True  True  True  True  True]], shape=(3, 6), dtype=bool)\n"
     ]
    }
   ],
   "source": [
    "embedding = layers.Embedding(input_dim=5000, output_dim=16, mask_zero=True)\n",
    "masked_output = embedding(padded_inputs)\n",
    "\n",
    "print(\"masked_output._keras_mask = \", masked_output._keras_mask)\n",
    "\n",
    "masking_layer = layers.Masking()\n",
    "# Simulate the embedding lookup by expanding the 2D input to 3D,\n",
    "# with embedding dimension of 10.\n",
    "unmasked_embedding = tf.cast(\n",
    "    tf.tile(tf.expand_dims(padded_inputs, axis=-1), [1, 1, 10]), tf.float32\n",
    ")\n",
    "\n",
    "masked_embedding = masking_layer(unmasked_embedding)\n",
    "print(\"masked_embedding._keras_mask = \", masked_embedding._keras_mask)"
   ]
  },
  {
   "cell_type": "code",
   "execution_count": 42,
   "id": "5fd4e8fe-c9e0-42e1-90d5-d44e9889d189",
   "metadata": {},
   "outputs": [
    {
     "ename": "InvalidArgumentError",
     "evalue": "In[0] mismatch In[1] shape: 3 vs. 128: [2,24,128,3] [2,24,128,3] 0 0 [Op:BatchMatMulV2]",
     "output_type": "error",
     "traceback": [
      "\u001b[0;31m---------------------------------------------------------------------------\u001b[0m",
      "\u001b[0;31mInvalidArgumentError\u001b[0m                      Traceback (most recent call last)",
      "\u001b[0;32m/tmp/ipykernel_19972/2370773453.py\u001b[0m in \u001b[0;36m<module>\u001b[0;34m\u001b[0m\n\u001b[0;32m----> 1\u001b[0;31m \u001b[0mtf\u001b[0m\u001b[0;34m.\u001b[0m\u001b[0mmatmul\u001b[0m\u001b[0;34m(\u001b[0m\u001b[0mdecoder\u001b[0m\u001b[0;34m(\u001b[0m\u001b[0mnp\u001b[0m\u001b[0;34m.\u001b[0m\u001b[0mrandom\u001b[0m\u001b[0;34m.\u001b[0m\u001b[0mrand\u001b[0m\u001b[0;34m(\u001b[0m\u001b[0;36m2\u001b[0m\u001b[0;34m,\u001b[0m\u001b[0;36m64\u001b[0m\u001b[0;34m)\u001b[0m\u001b[0;34m)\u001b[0m\u001b[0;34m,\u001b[0m \u001b[0mtf\u001b[0m\u001b[0;34m.\u001b[0m\u001b[0mcast\u001b[0m\u001b[0;34m(\u001b[0m\u001b[0mnp\u001b[0m\u001b[0;34m.\u001b[0m\u001b[0mrandom\u001b[0m\u001b[0;34m.\u001b[0m\u001b[0mrand\u001b[0m\u001b[0;34m(\u001b[0m\u001b[0;36m2\u001b[0m\u001b[0;34m,\u001b[0m\u001b[0;36m24\u001b[0m\u001b[0;34m,\u001b[0m\u001b[0;36m128\u001b[0m\u001b[0;34m,\u001b[0m\u001b[0;36m3\u001b[0m\u001b[0;34m)\u001b[0m\u001b[0;34m,\u001b[0m \u001b[0mdtype\u001b[0m\u001b[0;34m=\u001b[0m\u001b[0mnp\u001b[0m\u001b[0;34m.\u001b[0m\u001b[0mfloat32\u001b[0m\u001b[0;34m)\u001b[0m\u001b[0;34m)\u001b[0m\u001b[0;34m\u001b[0m\u001b[0;34m\u001b[0m\u001b[0m\n\u001b[0m",
      "\u001b[0;32m~/miniconda3/envs/myenvnew/lib/python3.9/site-packages/tensorflow/python/util/dispatch.py\u001b[0m in \u001b[0;36mwrapper\u001b[0;34m(*args, **kwargs)\u001b[0m\n\u001b[1;32m    199\u001b[0m     \u001b[0;34m\"\"\"Call target, and fall back on dispatchers if there is a TypeError.\"\"\"\u001b[0m\u001b[0;34m\u001b[0m\u001b[0;34m\u001b[0m\u001b[0m\n\u001b[1;32m    200\u001b[0m     \u001b[0;32mtry\u001b[0m\u001b[0;34m:\u001b[0m\u001b[0;34m\u001b[0m\u001b[0;34m\u001b[0m\u001b[0m\n\u001b[0;32m--> 201\u001b[0;31m       \u001b[0;32mreturn\u001b[0m \u001b[0mtarget\u001b[0m\u001b[0;34m(\u001b[0m\u001b[0;34m*\u001b[0m\u001b[0margs\u001b[0m\u001b[0;34m,\u001b[0m \u001b[0;34m**\u001b[0m\u001b[0mkwargs\u001b[0m\u001b[0;34m)\u001b[0m\u001b[0;34m\u001b[0m\u001b[0;34m\u001b[0m\u001b[0m\n\u001b[0m\u001b[1;32m    202\u001b[0m     \u001b[0;32mexcept\u001b[0m \u001b[0;34m(\u001b[0m\u001b[0mTypeError\u001b[0m\u001b[0;34m,\u001b[0m \u001b[0mValueError\u001b[0m\u001b[0;34m)\u001b[0m\u001b[0;34m:\u001b[0m\u001b[0;34m\u001b[0m\u001b[0;34m\u001b[0m\u001b[0m\n\u001b[1;32m    203\u001b[0m       \u001b[0;31m# Note: convert_to_eager_tensor currently raises a ValueError, not a\u001b[0m\u001b[0;34m\u001b[0m\u001b[0;34m\u001b[0m\u001b[0m\n",
      "\u001b[0;32m~/miniconda3/envs/myenvnew/lib/python3.9/site-packages/tensorflow/python/ops/math_ops.py\u001b[0m in \u001b[0;36mmatmul\u001b[0;34m(a, b, transpose_a, transpose_b, adjoint_a, adjoint_b, a_is_sparse, b_is_sparse, name)\u001b[0m\n\u001b[1;32m   3274\u001b[0m         \u001b[0mb\u001b[0m \u001b[0;34m=\u001b[0m \u001b[0mconj\u001b[0m\u001b[0;34m(\u001b[0m\u001b[0mb\u001b[0m\u001b[0;34m)\u001b[0m\u001b[0;34m\u001b[0m\u001b[0;34m\u001b[0m\u001b[0m\n\u001b[1;32m   3275\u001b[0m         \u001b[0madjoint_b\u001b[0m \u001b[0;34m=\u001b[0m \u001b[0;32mTrue\u001b[0m\u001b[0;34m\u001b[0m\u001b[0;34m\u001b[0m\u001b[0m\n\u001b[0;32m-> 3276\u001b[0;31m       return gen_math_ops.batch_mat_mul_v2(\n\u001b[0m\u001b[1;32m   3277\u001b[0m           a, b, adj_x=adjoint_a, adj_y=adjoint_b, name=name)\n\u001b[1;32m   3278\u001b[0m \u001b[0;34m\u001b[0m\u001b[0m\n",
      "\u001b[0;32m~/miniconda3/envs/myenvnew/lib/python3.9/site-packages/tensorflow/python/ops/gen_math_ops.py\u001b[0m in \u001b[0;36mbatch_mat_mul_v2\u001b[0;34m(x, y, adj_x, adj_y, name)\u001b[0m\n\u001b[1;32m   1517\u001b[0m       \u001b[0;32mreturn\u001b[0m \u001b[0m_result\u001b[0m\u001b[0;34m\u001b[0m\u001b[0;34m\u001b[0m\u001b[0m\n\u001b[1;32m   1518\u001b[0m     \u001b[0;32mexcept\u001b[0m \u001b[0m_core\u001b[0m\u001b[0;34m.\u001b[0m\u001b[0m_NotOkStatusException\u001b[0m \u001b[0;32mas\u001b[0m \u001b[0me\u001b[0m\u001b[0;34m:\u001b[0m\u001b[0;34m\u001b[0m\u001b[0;34m\u001b[0m\u001b[0m\n\u001b[0;32m-> 1519\u001b[0;31m       \u001b[0m_ops\u001b[0m\u001b[0;34m.\u001b[0m\u001b[0mraise_from_not_ok_status\u001b[0m\u001b[0;34m(\u001b[0m\u001b[0me\u001b[0m\u001b[0;34m,\u001b[0m \u001b[0mname\u001b[0m\u001b[0;34m)\u001b[0m\u001b[0;34m\u001b[0m\u001b[0;34m\u001b[0m\u001b[0m\n\u001b[0m\u001b[1;32m   1520\u001b[0m     \u001b[0;32mexcept\u001b[0m \u001b[0m_core\u001b[0m\u001b[0;34m.\u001b[0m\u001b[0m_FallbackException\u001b[0m\u001b[0;34m:\u001b[0m\u001b[0;34m\u001b[0m\u001b[0;34m\u001b[0m\u001b[0m\n\u001b[1;32m   1521\u001b[0m       \u001b[0;32mpass\u001b[0m\u001b[0;34m\u001b[0m\u001b[0;34m\u001b[0m\u001b[0m\n",
      "\u001b[0;32m~/miniconda3/envs/myenvnew/lib/python3.9/site-packages/tensorflow/python/framework/ops.py\u001b[0m in \u001b[0;36mraise_from_not_ok_status\u001b[0;34m(e, name)\u001b[0m\n\u001b[1;32m   6860\u001b[0m   \u001b[0mmessage\u001b[0m \u001b[0;34m=\u001b[0m \u001b[0me\u001b[0m\u001b[0;34m.\u001b[0m\u001b[0mmessage\u001b[0m \u001b[0;34m+\u001b[0m \u001b[0;34m(\u001b[0m\u001b[0;34m\" name: \"\u001b[0m \u001b[0;34m+\u001b[0m \u001b[0mname\u001b[0m \u001b[0;32mif\u001b[0m \u001b[0mname\u001b[0m \u001b[0;32mis\u001b[0m \u001b[0;32mnot\u001b[0m \u001b[0;32mNone\u001b[0m \u001b[0;32melse\u001b[0m \u001b[0;34m\"\"\u001b[0m\u001b[0;34m)\u001b[0m\u001b[0;34m\u001b[0m\u001b[0;34m\u001b[0m\u001b[0m\n\u001b[1;32m   6861\u001b[0m   \u001b[0;31m# pylint: disable=protected-access\u001b[0m\u001b[0;34m\u001b[0m\u001b[0;34m\u001b[0m\u001b[0m\n\u001b[0;32m-> 6862\u001b[0;31m   \u001b[0msix\u001b[0m\u001b[0;34m.\u001b[0m\u001b[0mraise_from\u001b[0m\u001b[0;34m(\u001b[0m\u001b[0mcore\u001b[0m\u001b[0;34m.\u001b[0m\u001b[0m_status_to_exception\u001b[0m\u001b[0;34m(\u001b[0m\u001b[0me\u001b[0m\u001b[0;34m.\u001b[0m\u001b[0mcode\u001b[0m\u001b[0;34m,\u001b[0m \u001b[0mmessage\u001b[0m\u001b[0;34m)\u001b[0m\u001b[0;34m,\u001b[0m \u001b[0;32mNone\u001b[0m\u001b[0;34m)\u001b[0m\u001b[0;34m\u001b[0m\u001b[0;34m\u001b[0m\u001b[0m\n\u001b[0m\u001b[1;32m   6863\u001b[0m   \u001b[0;31m# pylint: enable=protected-access\u001b[0m\u001b[0;34m\u001b[0m\u001b[0;34m\u001b[0m\u001b[0m\n\u001b[1;32m   6864\u001b[0m \u001b[0;34m\u001b[0m\u001b[0m\n",
      "\u001b[0;32m~/miniconda3/envs/myenvnew/lib/python3.9/site-packages/six.py\u001b[0m in \u001b[0;36mraise_from\u001b[0;34m(value, from_value)\u001b[0m\n",
      "\u001b[0;31mInvalidArgumentError\u001b[0m: In[0] mismatch In[1] shape: 3 vs. 128: [2,24,128,3] [2,24,128,3] 0 0 [Op:BatchMatMulV2]"
     ]
    }
   ],
   "source": [
    "tf.matmul(decoder(np.random.rand(2,64)), tf.cast(np.random.rand(2,24,128,3), dtype=np.float32))"
   ]
  },
  {
   "cell_type": "code",
   "execution_count": 37,
   "id": "86604e92-be89-4700-be06-4a7a3b2c8cc8",
   "metadata": {},
   "outputs": [
    {
     "data": {
      "text/plain": [
       "TensorShape([2, 24, 128, 3])"
      ]
     },
     "execution_count": 37,
     "metadata": {},
     "output_type": "execute_result"
    }
   ],
   "source": [
    "decoder(np.random.rand(2,64)).shape"
   ]
  },
  {
   "cell_type": "code",
   "execution_count": 43,
   "id": "25886ee8-6eb3-430d-a48d-8b01ec07312a",
   "metadata": {},
   "outputs": [
    {
     "data": {
      "text/plain": [
       "TensorShape([2, 24, 128, 3])"
      ]
     },
     "execution_count": 43,
     "metadata": {},
     "output_type": "execute_result"
    }
   ],
   "source": [
    "tf.cast(np.random.rand(2,24,128,3), dtype=np.float32).shape"
   ]
  },
  {
   "cell_type": "code",
   "execution_count": 12,
   "id": "191ec5f6-ce2d-4ac4-bb13-f36d88217309",
   "metadata": {},
   "outputs": [
    {
     "data": {
      "text/plain": [
       "<tf.Tensor: shape=(2, 24, 128, 3), dtype=float32, numpy=\n",
       "array([[[[0.2577511 , 0.2578477 , 0.25784737],\n",
       "         [0.34136993, 0.34129468, 0.3414165 ],\n",
       "         [0.24401249, 0.24416268, 0.24396709],\n",
       "         ...,\n",
       "         [0.03379441, 0.03385627, 0.03380223],\n",
       "         [0.45199803, 0.45210332, 0.45205176],\n",
       "         [0.41098303, 0.41098854, 0.4111942 ]],\n",
       "\n",
       "        [[0.23611483, 0.23616387, 0.23602559],\n",
       "         [0.00775513, 0.00775773, 0.00776956],\n",
       "         [0.26924306, 0.26929867, 0.26977754],\n",
       "         ...,\n",
       "         [0.3729346 , 0.37337252, 0.3738026 ],\n",
       "         [0.24861783, 0.24802993, 0.2485212 ],\n",
       "         [0.49903235, 0.49904644, 0.5007119 ]],\n",
       "\n",
       "        [[0.3295082 , 0.32976946, 0.32963583],\n",
       "         [0.33412915, 0.33331215, 0.3340564 ],\n",
       "         [0.3038749 , 0.3044882 , 0.30416763],\n",
       "         ...,\n",
       "         [0.13201503, 0.13206002, 0.13198419],\n",
       "         [0.18280387, 0.18323576, 0.18328637],\n",
       "         [0.48631704, 0.48613024, 0.48651353]],\n",
       "\n",
       "        ...,\n",
       "\n",
       "        [[0.16314329, 0.1632284 , 0.16323657],\n",
       "         [0.2919582 , 0.2910653 , 0.29167315],\n",
       "         [0.23115619, 0.22971077, 0.23091266],\n",
       "         ...,\n",
       "         [0.335376  , 0.33494875, 0.33615378],\n",
       "         [0.10978699, 0.10936466, 0.10974997],\n",
       "         [0.21994758, 0.21995519, 0.22042602]],\n",
       "\n",
       "        [[0.49683344, 0.497685  , 0.4967555 ],\n",
       "         [0.0761111 , 0.07615037, 0.07622471],\n",
       "         [0.49966547, 0.5000476 , 0.49926928],\n",
       "         ...,\n",
       "         [0.07321003, 0.07362451, 0.07322792],\n",
       "         [0.08560071, 0.08583986, 0.08594328],\n",
       "         [0.41933236, 0.4204684 , 0.4194783 ]],\n",
       "\n",
       "        [[0.03885414, 0.03884213, 0.03883668],\n",
       "         [0.22474758, 0.2239775 , 0.2244437 ],\n",
       "         [0.10712688, 0.10709684, 0.10717756],\n",
       "         ...,\n",
       "         [0.05764988, 0.05781484, 0.0574646 ],\n",
       "         [0.09410799, 0.09405944, 0.09400883],\n",
       "         [0.25330293, 0.2535459 , 0.25321463]]],\n",
       "\n",
       "\n",
       "       [[[0.25777337, 0.25790948, 0.25786793],\n",
       "         [0.3413482 , 0.34120178, 0.34148827],\n",
       "         [0.24410532, 0.24416134, 0.2438815 ],\n",
       "         ...,\n",
       "         [0.0337707 , 0.03385979, 0.03381279],\n",
       "         [0.45197126, 0.45212454, 0.45197573],\n",
       "         [0.41081145, 0.41088063, 0.41128382]],\n",
       "\n",
       "        [[0.23610297, 0.23618492, 0.23605901],\n",
       "         [0.00775061, 0.00775273, 0.00777326],\n",
       "         [0.26907703, 0.26908556, 0.26964387],\n",
       "         ...,\n",
       "         [0.3729976 , 0.3733303 , 0.37387806],\n",
       "         [0.24861203, 0.2479111 , 0.24845901],\n",
       "         [0.4993547 , 0.49879417, 0.50047994]],\n",
       "\n",
       "        [[0.32961762, 0.32980564, 0.32970437],\n",
       "         [0.334007  , 0.3331779 , 0.33418936],\n",
       "         [0.30392525, 0.3045285 , 0.30415317],\n",
       "         ...,\n",
       "         [0.13198479, 0.13197292, 0.13195845],\n",
       "         [0.18277879, 0.18328223, 0.18332283],\n",
       "         [0.4864734 , 0.486606  , 0.48660937]],\n",
       "\n",
       "        ...,\n",
       "\n",
       "        [[0.16319032, 0.16316436, 0.16322012],\n",
       "         [0.2922309 , 0.2911577 , 0.29180345],\n",
       "         [0.23092575, 0.229829  , 0.23090342],\n",
       "         ...,\n",
       "         [0.3364485 , 0.33580086, 0.33524612],\n",
       "         [0.10989662, 0.10932896, 0.11009471],\n",
       "         [0.22037809, 0.22010602, 0.22036022]],\n",
       "\n",
       "        [[0.49698198, 0.49777552, 0.49688312],\n",
       "         [0.07617541, 0.07610292, 0.07618266],\n",
       "         [0.49959606, 0.49997687, 0.49926683],\n",
       "         ...,\n",
       "         [0.07319454, 0.0736718 , 0.07325848],\n",
       "         [0.08561082, 0.08578444, 0.08591302],\n",
       "         [0.4193299 , 0.42084175, 0.41911522]],\n",
       "\n",
       "        [[0.03885571, 0.03884534, 0.03883659],\n",
       "         [0.2248088 , 0.22412334, 0.22429991],\n",
       "         [0.10717925, 0.10703084, 0.10721761],\n",
       "         ...,\n",
       "         [0.0575882 , 0.05776556, 0.05740834],\n",
       "         [0.09419444, 0.09394798, 0.09400713],\n",
       "         [0.2535776 , 0.25336522, 0.25314415]]]], dtype=float32)>"
      ]
     },
     "execution_count": 12,
     "metadata": {},
     "output_type": "execute_result"
    }
   ],
   "source": [
    "(decoder(np.random.rand(2,64))* tf.cast(np.random.rand(1,24,128,1), dtype=np.float32))"
   ]
  },
  {
   "cell_type": "code",
   "execution_count": 7,
   "id": "f9d5649c-7e6e-4543-8241-17086fde6ff1",
   "metadata": {},
   "outputs": [],
   "source": [
    "A = tf.cast(np.random.rand(1,2,3,1), dtype=np.float32)\n",
    "B = tf.cast(np.random.rand(4,2,3,5), dtype=np.float32)"
   ]
  },
  {
   "cell_type": "code",
   "execution_count": 8,
   "id": "68d91714-c3ed-4d86-83f1-177889c02d5c",
   "metadata": {},
   "outputs": [],
   "source": [
    "sample_weights=np.ones((2,4,3))"
   ]
  },
  {
   "cell_type": "code",
   "execution_count": 4,
   "id": "e5664ae2-1d57-4ef7-8958-bb346fdc55b7",
   "metadata": {},
   "outputs": [
    {
     "data": {
      "text/plain": [
       "<tf.Tensor: shape=(), dtype=float64, numpy=1.0009096630773833>"
      ]
     },
     "execution_count": 4,
     "metadata": {},
     "output_type": "execute_result"
    }
   ],
   "source": [
    "data = np.random.rand(2,4,3,3)\n",
    "reconstruction = np.random.rand(2,4,3,3)\n",
    "\n",
    "tf.reduce_mean(tf.cast([1,1,1], dtype=np.float64)*tf.cast([ tf.reduce_mean(tf.keras.losses.binary_crossentropy(data[...,i], reconstruction[...,i], from_logits=False)) for i in range(reconstruction.shape[3])], dtype=np.float64))"
   ]
  },
  {
   "cell_type": "code",
   "execution_count": 5,
   "id": "bc6bd1bd-fa00-414c-8a35-313c4547e7e2",
   "metadata": {},
   "outputs": [
    {
     "data": {
      "text/plain": [
       "<tf.Tensor: shape=(), dtype=float64, numpy=1.0009096630773833>"
      ]
     },
     "execution_count": 5,
     "metadata": {},
     "output_type": "execute_result"
    }
   ],
   "source": [
    "tf.reduce_mean(tf.cast([ tf.reduce_mean(tf.keras.losses.binary_crossentropy(data[...,i], reconstruction[...,i], from_logits=False)) for i in range(reconstruction.shape[3])], dtype=np.float64))"
   ]
  },
  {
   "cell_type": "code",
   "execution_count": 15,
   "id": "cc25732e-4e4a-4244-b732-c495e0f6ec93",
   "metadata": {},
   "outputs": [
    {
     "data": {
      "text/plain": [
       "<tf.Tensor: shape=(), dtype=float64, numpy=0.20403463045756023>"
      ]
     },
     "execution_count": 15,
     "metadata": {},
     "output_type": "execute_result"
    }
   ],
   "source": [
    "bce = tf.keras.losses.BinaryCrossentropy(from_logits=False)\n",
    "weight = [0.1,0.1,0.4]\n",
    "tf.reduce_mean([weight[i]*bce(data[...,i], reconstruction[...,i]) for i in range(3)])"
   ]
  },
  {
   "cell_type": "code",
   "execution_count": 16,
   "id": "f43a8c00-5b8d-4d77-96e4-5b9719320eae",
   "metadata": {},
   "outputs": [
    {
     "data": {
      "text/plain": [
       "<tf.Tensor: shape=(), dtype=float32, numpy=0.20403461>"
      ]
     },
     "execution_count": 16,
     "metadata": {},
     "output_type": "execute_result"
    }
   ],
   "source": [
    "bce = tf.keras.losses.BinaryCrossentropy(from_logits=False)\n",
    "tf.reduce_mean([0.1,0.1,0.4]*tf.cast([bce(data[...,i][..., np.newaxis], reconstruction[...,i][..., np.newaxis],sample_weight=np.ones((2,4,3))) for i in range(3)], dtype=np.float32))"
   ]
  },
  {
   "cell_type": "code",
   "execution_count": 18,
   "id": "1135d604-af0e-431b-b511-49ef9886cbff",
   "metadata": {},
   "outputs": [
    {
     "data": {
      "text/plain": [
       "array([[[0., 0., 0.],\n",
       "        [0., 1., 0.],\n",
       "        [0., 1., 0.],\n",
       "        [0., 0., 0.]],\n",
       "\n",
       "       [[0., 0., 0.],\n",
       "        [0., 1., 0.],\n",
       "        [0., 1., 0.],\n",
       "        [0., 0., 0.]]])"
      ]
     },
     "execution_count": 18,
     "metadata": {},
     "output_type": "execute_result"
    }
   ],
   "source": [
    "np.ones((2,4,3))*np.array([[0,0,0],[0,1,0],[0,1,0],[0,0,0]])"
   ]
  },
  {
   "cell_type": "code",
   "execution_count": null,
   "id": "2ea6a22a-9bb3-4899-af3f-21bcec7a03ed",
   "metadata": {},
   "outputs": [],
   "source": []
  },
  {
   "cell_type": "code",
   "execution_count": 13,
   "id": "de93384b-0b7b-4c25-971d-bf3ed5bcbcbd",
   "metadata": {},
   "outputs": [
    {
     "data": {
      "text/plain": [
       "<tf.Tensor: shape=(), dtype=float64, numpy=7.114887712258982>"
      ]
     },
     "execution_count": 13,
     "metadata": {},
     "output_type": "execute_result"
    }
   ],
   "source": [
    "tf.reduce_mean(\n",
    "                tf.reduce_sum(\n",
    "                    tf.keras.losses.binary_crossentropy(data, reconstruction, from_logits=False), axis=(1, 2) # -Y_n Log( P_n) - (1 - Y_n) Log( 1 - P_n) is the expression for binary entropy\n",
    "                )\n",
    "            )"
   ]
  },
  {
   "cell_type": "code",
   "execution_count": 18,
   "id": "2557c29d-5f3f-4661-a0cd-05cf87137b20",
   "metadata": {},
   "outputs": [
    {
     "data": {
      "text/plain": [
       "TensorShape([4, 2, 3])"
      ]
     },
     "execution_count": 18,
     "metadata": {},
     "output_type": "execute_result"
    }
   ],
   "source": [
    "tf.keras.losses.binary_crossentropy(data, reconstruction, from_logits=False).shape"
   ]
  },
  {
   "cell_type": "code",
   "execution_count": 67,
   "id": "191cacbc-9de9-4ec7-b6e5-175b273ece06",
   "metadata": {},
   "outputs": [
    {
     "data": {
      "text/plain": [
       "<tf.Tensor: shape=(4, 2, 3), dtype=float64, numpy=\n",
       "array([[[0.75726913, 0.89669753, 0.63865613],\n",
       "        [0.81066815, 0.93738841, 0.80784008]],\n",
       "\n",
       "       [[0.7057068 , 0.9447314 , 0.5589693 ],\n",
       "        [0.75710092, 0.79151364, 0.83299612]],\n",
       "\n",
       "       [[0.9114958 , 1.22730784, 0.79311213],\n",
       "        [0.72786358, 0.66081091, 1.12107577]],\n",
       "\n",
       "       [[0.58690855, 0.78219115, 0.69134229],\n",
       "        [1.13746031, 1.13786584, 0.67024675]]])>"
      ]
     },
     "execution_count": 67,
     "metadata": {},
     "output_type": "execute_result"
    }
   ],
   "source": [
    "tf.keras.losses.binary_crossentropy(data, reconstruction, from_logits=False)"
   ]
  },
  {
   "cell_type": "code",
   "execution_count": 68,
   "id": "06899f8b-d2d1-4dfe-ac22-99247d573cca",
   "metadata": {},
   "outputs": [
    {
     "data": {
      "text/plain": [
       "TensorShape([4, 2, 3])"
      ]
     },
     "execution_count": 68,
     "metadata": {},
     "output_type": "execute_result"
    }
   ],
   "source": [
    "tf.keras.losses.binary_crossentropy(data, reconstruction, from_logits=False).shape"
   ]
  },
  {
   "cell_type": "code",
   "execution_count": 5,
   "id": "0a341a9a-7eb0-414f-a2cd-be54e45ed675",
   "metadata": {},
   "outputs": [],
   "source": [
    "def create_mask(model,area, data, axes='first 2', return_full_mask=False): # careful, this mask works if we load the full Earth. there might be problems if we extract fields from some edge of the map\n",
    "    \"\"\"\n",
    "    This function allows to extract a subset of data enclosed in the area.\n",
    "    The output has the dimension of the area on the axes corresponding to latitued and longitude\n",
    "    If the area includes the Greenwich meridian, a concatenation is required.\n",
    "    \n",
    "    If `axes` == 'last 2', the slicing will be done on the last 2 axes,\n",
    "    otherwise on the first two axes\n",
    "    \n",
    "    If `return_full_mask` == True, the function returns an array with the same shape of `data`, True over the `area` and False elsewhere\n",
    "    Otherwise the return will be `data` restricted to `area`\n",
    "    \"\"\"\n",
    "    \n",
    "    if axes == 'first 2' and len(data.shape) > 2:\n",
    "        # permute the shape so that the first 2 axes end up being the last 2\n",
    "        _data = data.transpose(*range(2,len(data.shape)),0,1)\n",
    "        _data = create_mask(model, area, _data, axes='last 2', return_full_mask=return_full_mask)\n",
    "        # permute the axes back to their original condition\n",
    "        return _data.transpose(-2, -1, *range(len(data.shape) - 2))\n",
    "    \n",
    "    if return_full_mask:\n",
    "        mask = np.zeros_like(data, dtype=bool)\n",
    "    \n",
    "    if model == \"ERA5\":\n",
    "        if area == \"Scandinavia\":\n",
    "            if return_full_mask:\n",
    "                mask[...,25:45,7:53] = True\n",
    "                return mask\n",
    "            return data[...,25:45,7:53]# reconstructed from Francesco\n",
    "        elif area == \"Scand\": # = Norway Sweden\n",
    "            if return_full_mask:\n",
    "                mask[...,25:45,7:30] = True\n",
    "                return mask\n",
    "            return data[...,25:45,7:30]\n",
    "        elif area == \"NAtlantic\":\n",
    "            if return_full_mask:\n",
    "                mask[...,25:80, -135:] = True\n",
    "                mask[...,25:80, :60] = True\n",
    "                return mask\n",
    "            return np.concatenate((data[...,25:80, -135:], data[...,25:80, :60]), axis=-1)  # used for plotting\n",
    "        elif area == \"France\":\n",
    "            if return_full_mask:\n",
    "                mask[...,51:63, -4:] = True\n",
    "                mask[...,51:63, :9] = True\n",
    "                return mask\n",
    "            return np.concatenate((data[...,51:63, -4:], data[...,51:63, :9]), axis=-1)  # reconstructed from Francesco\n",
    "        elif area == \"France_bis\":\n",
    "            if return_full_mask:\n",
    "                mask[...,52:64, -5:] = True\n",
    "                mask[...,52:64, :9] = True\n",
    "                return mask\n",
    "            return np.concatenate((data[...,52:64, -5:], data[...,52:64, :9]), axis=-1)  # fixing to CESM\n",
    "        elif area == \"Russia\":  # lat[i]<60 and lat[i]>50: index 9-15\n",
    "            if return_full_mask:\n",
    "                mask[...,37:60, 42:79] = True\n",
    "                return mask\n",
    "            return data[...,37:60, 42:79] \n",
    "        elif area == \"Poland\":  # From stefanon\n",
    "            if return_full_mask:\n",
    "                mask[...,44:60, 18:43] = True\n",
    "                return mask\n",
    "            return data[...,44:60, 18:43]\n",
    "        else:\n",
    "            print(f'Unknown area {area}')\n",
    "            return None\n",
    "    elif model == \"CESM\":\n",
    "        if area == \"France\":\n",
    "            if return_full_mask:\n",
    "                mask[...,-51:-41, -3:] = True\n",
    "                mask[...,-51:-41, :6] = True\n",
    "                return mask\n",
    "            return np.concatenate((data[...,-51:-41, -3:],data[...,-51:-41, :6]), axis=-1)\n",
    "        elif area == \"Scandinavia\":\n",
    "            if return_full_mask:\n",
    "                mask[...,-36:-20, 4:32] = True\n",
    "                return mask\n",
    "            return data[...,-36:-20, 4:32]\n",
    "        elif area == \"Scand\": # = Norway Sweden\n",
    "            if return_full_mask:\n",
    "                mask[...,-36:-20, 4:18] = True\n",
    "                return mask\n",
    "            return data[...,-36:-20, 4:18]\n",
    "        elif area == \"Russia\":  # lat[i]<60 and lat[i]>50: index 9-15\n",
    "            if return_full_mask:\n",
    "                mask[...,-48:-29, 25:48] = True\n",
    "                return mask\n",
    "            return data[...,-48:-29, 25:48]  # lon[i]<55 and lon[i]>35:   index 11-21\n",
    "        elif area == \"Poland\":  # From Stefanon\n",
    "            if return_full_mask:\n",
    "                mask[...,-48:-35, 11:26] = True\n",
    "                return mask\n",
    "            return data[...,-48:-35, 11:26]\n",
    "        else:\n",
    "            print(f'Unknown area {area}')\n",
    "            return None\n",
    "    elif model == \"Plasim\":\n",
    "        if area == \"NW_Europe\":\n",
    "            if return_full_mask:\n",
    "                mask[...,10:16, -1:] = True\n",
    "                mask[...,10:16, :7] = True\n",
    "                return mask\n",
    "            return np.concatenate((data[...,10:16, -1:], data[...,10:16, :7]), axis=-1)  # give by Valerian/Francesco \n",
    "        elif area == \"Greenland\":\n",
    "            if return_full_mask:\n",
    "                mask[...,2:9, 108:120] = True\n",
    "                return mask\n",
    "            return data[...,2:9, 108:120]\n",
    "        elif area == \"Europe\":\n",
    "            if return_full_mask:\n",
    "                mask[...,7:19, -3:] = True\n",
    "                mask[...,7:19, :10] = True\n",
    "                return mask\n",
    "            return np.concatenate((data[...,7:19, -3:], data[...,7:19, :10]), axis=-1)  # give by Valerian/Francesco  \n",
    "        elif area == \"France\":\n",
    "            if return_full_mask:\n",
    "                mask[...,13:17, -1:] = True\n",
    "                mask[...,13:17, :3] = True\n",
    "                return mask\n",
    "            return np.concatenate((data[...,13:17, -1:], data[...,13:17, :3]), axis=-1)  # give by valerian\n",
    "        elif area == \"Quebec\":  # lat[i]<60 and lat[i]>50:      index: 10-13\n",
    "            if return_full_mask:\n",
    "                mask[...,10:16, 98:110] = True\n",
    "                return mask\n",
    "            return data[...,10:16, 98:110]  # lon[i]<180+120 and lon[i]>180+110   index:104-106\n",
    "        elif area == \"USA\":  # lat[i]<50 and lat[i]>25:  index: 14-22\n",
    "            if return_full_mask:\n",
    "                mask[...,14:23, 89:109] = True\n",
    "                return mask\n",
    "            return data[...,14:23, 89:109]  # lon[i]<180+125 and lon[i]>180+70:  index 89-108\n",
    "        elif area == \"US\":  # lat[i]<50 and lat[i]>25:  index: 14-22   # < fixing the area of philipinne\n",
    "            if return_full_mask:\n",
    "                mask[...,14:23, 84:104] = True\n",
    "                return mask\n",
    "            return data[...,14:23, 84:104]  # lon[i]<180+125 and lon[i]>180+70:  index 89-108\n",
    "        elif area == \"Midwest\":\n",
    "            if return_full_mask:\n",
    "                mask[...,16:20, 92:99] = True\n",
    "                return mask\n",
    "            return data[...,16:20, 92:99]\n",
    "        elif area == \"Alberta\":\n",
    "            if return_full_mask:\n",
    "                mask[...,10:15, 85:90] = True\n",
    "                return mask\n",
    "            return data[...,10:15, 85:90]\n",
    "        elif area == \"Scandinavia\":  # 55<lat<72: index: 6-11\n",
    "            if return_full_mask:\n",
    "                mask[...,6:12, 2:15] = True\n",
    "                return mask\n",
    "            return data[...,6:12, 2:15]  # 5<lon<40 : index 2-14\n",
    "        elif area == \"Scand\":  #  = Norway Sweden\n",
    "            if return_full_mask:\n",
    "                mask[...,6:12, 2:8] = True\n",
    "                return mask\n",
    "            return data[...,6:12, 2:8]  # 5<lon<40 : index 2-14\n",
    "        elif area == \"Russia\":  # lat[i]<60 and lat[i]>50: index 9-15\n",
    "            if return_full_mask:\n",
    "                mask[...,9:16, 11:22] = True\n",
    "                return mask\n",
    "            return data[...,9:16, 11:22]  # lon[i]<55 and lon[i]>35:   index 11-21\n",
    "        elif area == \"Poland\":  # lat[i]<60 and lat[i]>50: index 9-15\n",
    "            if return_full_mask:\n",
    "                mask[...,11:16, 5:12] = True\n",
    "                return mask\n",
    "            return data[...,11:16, 5:12]  # lon[i]<55 and lon[i]>35:   index 11-21\n",
    "        elif area == 'total':  # return all data, use for total_area function and create surface over continents\n",
    "            if return_full_mask:\n",
    "                return np.ones_like(data, dtype=bool)\n",
    "            return data\n",
    "        else:\n",
    "            print(f'Unknown area {area}')\n",
    "            return None\n",
    "    else:\n",
    "        print(f'Unknown model {model}')\n",
    "        return None"
   ]
  },
  {
   "cell_type": "code",
   "execution_count": 6,
   "id": "c83ac1c2-58fd-4be2-ba82-9df571cd7c02",
   "metadata": {},
   "outputs": [],
   "source": [
    "def roll_X(X, roll_axis='lon', roll_steps=64):\n",
    "    '''\n",
    "    Rolls `X` along a given axis. useful for example for moving France away from the Greenwich meridian.\n",
    "    In other words this allows one, for example, to shift the grid so that desired areas are not found at the boundary.\n",
    "    In principle this function allows us to roll along arbitrary axis, including days or years.\n",
    "\n",
    "    Parameters\n",
    "    ----------\n",
    "    X : np.ndarray\n",
    "        with shape (years, days, lat, lon, field)\n",
    "    axis : str, optional\n",
    "        'year' (or 'y'), 'day' (or 'd'), 'lat', 'lon', 'field' (or 'f')\n",
    "    steps : int, optional\n",
    "        number of gridsteps to roll: a positive value for 'steps' means that the elements of the array are moved forward in it,\n",
    "        e.g. `steps` = 1 means that the old first element is now in the second place\n",
    "        This means that for every axis a positive value of `steps` yields a shift of the array\n",
    "        'year', 'day' : forward in time\n",
    "        'lat' : southward\n",
    "        'lon' : eastward\n",
    "        'field' : forward in the numbering of the fields\n",
    "    \n",
    "    Returns\n",
    "    -------\n",
    "    X_rolled : np.ndarray\n",
    "        of the same shape of `X`\n",
    "    '''\n",
    "    if roll_steps == 0:\n",
    "        return X\n",
    "    if isinstance(roll_axis, str):\n",
    "        if roll_axis.startswith('y'):\n",
    "            roll_axis = 0\n",
    "        elif roll_axis.startswith('d'):\n",
    "            roll_axis = 1\n",
    "        elif roll_axis == 'lat':\n",
    "            roll_axis = 2\n",
    "        elif roll_axis == 'lon':\n",
    "            roll_axis = 3\n",
    "        elif roll_axis.startswith('f'):\n",
    "            roll_axis = 4\n",
    "        else:\n",
    "            raise ValueError(f'Unknown valur for axis: {roll_axis}')\n",
    "    elif not isinstance(roll_axis, int):\n",
    "        raise TypeError(f'roll_axis can be int or str, not {type(roll_axis)}')\n",
    "    # at this point roll_axis is an int\n",
    "    return np.roll(X,roll_steps,axis=roll_axis)"
   ]
  },
  {
   "cell_type": "code",
   "execution_count": 7,
   "id": "89d69b67-c702-46b2-8748-2344ebfc9de0",
   "metadata": {},
   "outputs": [
    {
     "data": {
      "text/plain": [
       "(24, 128)"
      ]
     },
     "execution_count": 7,
     "metadata": {},
     "output_type": "execute_result"
    }
   ],
   "source": [
    "np.random.rand(24,128,3).shape[:-1]"
   ]
  },
  {
   "cell_type": "code",
   "execution_count": 8,
   "id": "f7a15c86-0bef-4449-bd7c-2473e356166f",
   "metadata": {},
   "outputs": [
    {
     "data": {
      "text/plain": [
       "(24, 128, 3)"
      ]
     },
     "execution_count": 8,
     "metadata": {},
     "output_type": "execute_result"
    }
   ],
   "source": [
    "mask = roll_X(create_mask('Plasim','France', np.random.rand(24,128), axes='first 2', return_full_mask=True),1)\n",
    "mask_weights = np.array([mask,np.ones((24,128)),mask], dtype=float).transpose(1,2,0)\n",
    "mask_weights.shape"
   ]
  },
  {
   "cell_type": "code",
   "execution_count": 9,
   "id": "84658778-81a6-4213-b0c1-bba6c6ab4b4a",
   "metadata": {},
   "outputs": [],
   "source": [
    "class ConstMul(tf.keras.layers.Layer):\n",
    "    def __init__(self, const_val, *args, **kwargs):\n",
    "        super(ConstMul, self).__init__(**kwargs)\n",
    "        self.const = const_val\n",
    "\n",
    "    def call(self, inputs, **kwargs):\n",
    "        return inputs * self.const"
   ]
  },
  {
   "cell_type": "code",
   "execution_count": 61,
   "id": "9c00e1d4-bc15-49bc-a0a6-6c0c03208528",
   "metadata": {},
   "outputs": [
    {
     "name": "stdout",
     "output_type": "stream",
     "text": [
      "[[[0.79076424 0.13969566]\n",
      "  [0.58530702 0.7745539 ]]\n",
      "\n",
      " [[0.47678165 0.92104452]\n",
      "  [0.46837463 0.2340942 ]]]\n"
     ]
    },
    {
     "data": {
      "text/plain": [
       "<tf.Tensor: shape=(2, 2, 2), dtype=float32, numpy=\n",
       "array([[[2.3722925 , 0.27939132],\n",
       "        [0.        , 0.        ]],\n",
       "\n",
       "       [[1.4303449 , 1.842089  ],\n",
       "        [0.        , 0.        ]]], dtype=float32)>"
      ]
     },
     "execution_count": 61,
     "metadata": {},
     "output_type": "execute_result"
    }
   ],
   "source": [
    "inputs = tf.keras.Input(shape=(2,2))\n",
    "outputs = ConstMul(np.array([[3,2],[0,0]]))(inputs)\n",
    "mymodel = tf.keras.Model(inputs, outputs)\n",
    "test = np.random.rand(2,2,2)\n",
    "print(test)\n",
    "mymodel(test)"
   ]
  },
  {
   "cell_type": "code",
   "execution_count": 77,
   "id": "763848d7-e020-4800-bd2e-8666dbe354f7",
   "metadata": {},
   "outputs": [
    {
     "data": {
      "text/plain": [
       "array([[0. , 0.5],\n",
       "       [0.5, 0. ]])"
      ]
     },
     "execution_count": 77,
     "metadata": {},
     "output_type": "execute_result"
    }
   ],
   "source": [
    "~np.array([[True,False],[False,True]])*0.5"
   ]
  },
  {
   "cell_type": "code",
   "execution_count": 68,
   "id": "5f3665c0-5f60-4021-bc7d-0d16f5dfda44",
   "metadata": {},
   "outputs": [
    {
     "data": {
      "text/plain": [
       "<tf.Tensor: shape=(2, 2), dtype=float32, numpy=\n",
       "array([[1.4303449, 1.842089 ],\n",
       "       [0.       , 0.       ]], dtype=float32)>"
      ]
     },
     "execution_count": 68,
     "metadata": {},
     "output_type": "execute_result"
    }
   ],
   "source": [
    "mymodel(test)[1]"
   ]
  },
  {
   "cell_type": "code",
   "execution_count": 119,
   "id": "70562775-c3a9-45cf-9ff6-cdb50c66ecea",
   "metadata": {},
   "outputs": [],
   "source": [
    "reconstruction= np.random.rand(10,24,128,3)"
   ]
  },
  {
   "cell_type": "code",
   "execution_count": 75,
   "id": "201e5ff3-fb09-4457-8503-e03055b62913",
   "metadata": {},
   "outputs": [
    {
     "data": {
      "text/plain": [
       "False"
      ]
     },
     "execution_count": 75,
     "metadata": {},
     "output_type": "execute_result"
    }
   ],
   "source": [
    "not True"
   ]
  },
  {
   "cell_type": "code",
   "execution_count": 120,
   "id": "eb5d4c4d-9757-489d-9f78-03dec3c2326b",
   "metadata": {},
   "outputs": [
    {
     "data": {
      "text/plain": [
       "<tf.Tensor: shape=(), dtype=float64, numpy=0.0>"
      ]
     },
     "execution_count": 120,
     "metadata": {},
     "output_type": "execute_result"
    }
   ],
   "source": [
    "i = 0\n",
    "bce(data[...,i][..., np.newaxis], reconstruction[...,i][..., np.newaxis], sample_weight=mask_weights[...,i])"
   ]
  },
  {
   "cell_type": "code",
   "execution_count": 22,
   "id": "d4b1ba08-ad90-40bd-8a5d-762cb363e75a",
   "metadata": {},
   "outputs": [],
   "source": [
    "model = tf.keras.models.Sequential()\n",
    "model.add(tf.keras.layers.Masking(mask_value=0.,\n",
    "                                  input_shape=(2, 2)))\n"
   ]
  },
  {
   "cell_type": "code",
   "execution_count": 26,
   "id": "ef695cd3-85ed-41f0-a37e-739051ef985c",
   "metadata": {},
   "outputs": [
    {
     "data": {
      "text/plain": [
       "<tf.Tensor: shape=(2, 2, 2), dtype=float32, numpy=\n",
       "array([[[0.95151436, 0.7019121 ],\n",
       "        [0.93456006, 0.8868947 ]],\n",
       "\n",
       "       [[0.38088033, 0.978103  ],\n",
       "        [0.13917108, 0.9470049 ]]], dtype=float32)>"
      ]
     },
     "execution_count": 26,
     "metadata": {},
     "output_type": "execute_result"
    }
   ],
   "source": [
    "model(np.random.rand(2,2,2))"
   ]
  },
  {
   "cell_type": "code",
   "execution_count": 27,
   "id": "d75b2011-abdd-41bd-9048-c73aaf251f8d",
   "metadata": {},
   "outputs": [
    {
     "data": {
      "text/plain": [
       "(2, 2, 2)"
      ]
     },
     "execution_count": 27,
     "metadata": {},
     "output_type": "execute_result"
    }
   ],
   "source": [
    "np.array([[[2,2],[2,2]],[[2,2],[2,2]]]).shape"
   ]
  },
  {
   "cell_type": "code",
   "execution_count": 30,
   "id": "cb848a57-976d-41bc-8458-5bd0787f3e22",
   "metadata": {},
   "outputs": [
    {
     "data": {
      "text/plain": [
       "<tf.Tensor: shape=(2, 2, 2), dtype=float32, numpy=\n",
       "array([[[2., 2.],\n",
       "        [0., 2.]],\n",
       "\n",
       "       [[2., 2.],\n",
       "        [2., 2.]]], dtype=float32)>"
      ]
     },
     "execution_count": 30,
     "metadata": {},
     "output_type": "execute_result"
    }
   ],
   "source": [
    "model(np.array([[[2,2],[0,2]],[[2,2],[2,2]]]))"
   ]
  },
  {
   "cell_type": "code",
   "execution_count": 105,
   "id": "02732764-d1a4-4e5a-b488-9e4e2792bf0e",
   "metadata": {},
   "outputs": [
    {
     "data": {
      "text/plain": [
       "<tf.Tensor: shape=(), dtype=float32, numpy=2.0>"
      ]
     },
     "execution_count": 105,
     "metadata": {},
     "output_type": "execute_result"
    }
   ],
   "source": [
    "tf.reduce_mean(x)"
   ]
  },
  {
   "cell_type": "code",
   "execution_count": 10,
   "id": "3af29812-7ee4-4d58-bb1e-ba602ea0da65",
   "metadata": {},
   "outputs": [
    {
     "name": "stdout",
     "output_type": "stream",
     "text": [
      "[<tf.Variable 'dense_1/kernel:0' shape=(3, 2) dtype=float32, numpy=\n",
      "array([[ 0.7290181 ,  0.7930088 ],\n",
      "       [ 0.8217385 ,  0.48856008],\n",
      "       [ 1.0198057 , -0.4530288 ]], dtype=float32)>, <tf.Variable 'dense_1/bias:0' shape=(2,) dtype=float32, numpy=array([0., 0.], dtype=float32)>]\n",
      "[<tf.Tensor: shape=(3, 2), dtype=float32, numpy=\n",
      "array([[ 5.4319124 ,  0.41104257],\n",
      "       [10.863825  ,  0.82208514],\n",
      "       [16.295738  ,  1.2331277 ]], dtype=float32)>, <tf.Tensor: shape=(2,), dtype=float32, numpy=array([5.4319124 , 0.41104257], dtype=float32)>]\n"
     ]
    }
   ],
   "source": [
    "layer = tf.keras.layers.Dense(2, activation='linear')\n",
    "\n",
    "x = tf.constant([[1., 2., 3.]])\n",
    "\n",
    "with tf.GradientTape() as tape:\n",
    "  # Forward pass\n",
    "  y = layer(x)\n",
    "  loss = tf.reduce_mean(y**2)\n",
    "\n",
    "print(layer.weights)\n",
    "# Calculate gradients with respect to every trainable variable\n",
    "grad = tape.gradient(loss, layer.trainable_variables)\n",
    "print(grad)"
   ]
  },
  {
   "cell_type": "code",
   "execution_count": 11,
   "id": "253d6131-bd5e-46ad-b286-270b667eb5cd",
   "metadata": {},
   "outputs": [
    {
     "data": {
      "text/plain": [
       "array([[ 0.7290181 ,  0.7930088 ],\n",
       "       [ 0.8217385 ,  0.48856008],\n",
       "       [ 1.0198057 , -0.4530288 ]], dtype=float32)"
      ]
     },
     "execution_count": 11,
     "metadata": {},
     "output_type": "execute_result"
    }
   ],
   "source": [
    "layer.weights[0].numpy()"
   ]
  },
  {
   "cell_type": "code",
   "execution_count": 12,
   "id": "4adc4ae2-8cf3-4f69-a09f-48c5a172ab56",
   "metadata": {},
   "outputs": [
    {
     "data": {
      "text/plain": [
       "array([0., 0.], dtype=float32)"
      ]
     },
     "execution_count": 12,
     "metadata": {},
     "output_type": "execute_result"
    }
   ],
   "source": [
    "layer.weights[1].numpy()"
   ]
  },
  {
   "cell_type": "code",
   "execution_count": 13,
   "id": "7c4db3db-e8ca-4ff1-9e39-2def2cb47ffe",
   "metadata": {},
   "outputs": [
    {
     "data": {
      "text/plain": [
       "array([[ 5.4319124 ,  0.41104257],\n",
       "       [10.863825  ,  0.82208514],\n",
       "       [16.295738  ,  1.2331277 ]], dtype=float32)"
      ]
     },
     "execution_count": 13,
     "metadata": {},
     "output_type": "execute_result"
    }
   ],
   "source": [
    "grad[0].numpy()"
   ]
  },
  {
   "cell_type": "code",
   "execution_count": 14,
   "id": "9f5bbb72-780c-4a93-9f39-ab10ef63ecee",
   "metadata": {},
   "outputs": [
    {
     "data": {
      "text/plain": [
       "array([5.4319124 , 0.41104257], dtype=float32)"
      ]
     },
     "execution_count": 14,
     "metadata": {},
     "output_type": "execute_result"
    }
   ],
   "source": [
    "grad[1].numpy()"
   ]
  },
  {
   "cell_type": "code",
   "execution_count": 104,
   "id": "f56d5fdb-d5d1-4c61-9951-c4e0add21006",
   "metadata": {},
   "outputs": [
    {
     "name": "stdout",
     "output_type": "stream",
     "text": [
      "tf.Tensor([[1. 2. 3.]], shape=(1, 3), dtype=float32)\n"
     ]
    }
   ],
   "source": [
    "print(x)"
   ]
  },
  {
   "cell_type": "code",
   "execution_count": 115,
   "id": "04126e1d-3361-43e6-aedf-b8148e76b541",
   "metadata": {},
   "outputs": [
    {
     "data": {
      "text/plain": [
       "array([[-0.8915539,  4.266346 ]], dtype=float32)"
      ]
     },
     "execution_count": 115,
     "metadata": {},
     "output_type": "execute_result"
    }
   ],
   "source": [
    "np.matmul(x.numpy(),layer.weights[0].numpy())"
   ]
  },
  {
   "cell_type": "code",
   "execution_count": 24,
   "id": "f2065bfc-c61c-4e57-b742-32740207b765",
   "metadata": {},
   "outputs": [
    {
     "name": "stdout",
     "output_type": "stream",
     "text": [
      "tf.Tensor(5.1416497, shape=(), dtype=float32)\n"
     ]
    }
   ],
   "source": [
    "from tensorflow.keras.losses import BinaryCrossentropy\n",
    "\n",
    "y_true = tf.constant([1., 1., 1.])\n",
    "y_pred = tf.constant([1., 1., 0.])\n",
    "bce = BinaryCrossentropy()\n",
    "loss = bce(y_true, y_pred)\n",
    "print(loss)"
   ]
  },
  {
   "cell_type": "code",
   "execution_count": 35,
   "id": "70844296-26d0-4076-88d8-f5ab526428f8",
   "metadata": {},
   "outputs": [
    {
     "name": "stdout",
     "output_type": "stream",
     "text": [
      "tf.Tensor(5.1416497, shape=(), dtype=float32)\n"
     ]
    }
   ],
   "source": [
    "p1 = y_true * tf.math.log(  tf.clip_by_value( y_pred , tf.keras.backend.epsilon() , 1 - tf.keras.backend.epsilon() ) + tf.keras.backend.epsilon() )\n",
    "p2 = ( 1 - y_true ) * tf.math.log( 1 -  tf.clip_by_value( y_pred , tf.keras.backend.epsilon() , 1 - tf.keras.backend.epsilon() ) + tf.keras.backend.epsilon() )\n",
    "o  = -tf.reduce_mean( p1 + p2 )\n",
    "\n",
    "print( o )"
   ]
  },
  {
   "cell_type": "code",
   "execution_count": 34,
   "id": "9d845e7d-4a0a-4e24-aecb-e79054c526b3",
   "metadata": {},
   "outputs": [
    {
     "name": "stdout",
     "output_type": "stream",
     "text": [
      "tf.Tensor(5.1416497, shape=(), dtype=float32)\n"
     ]
    }
   ],
   "source": []
  },
  {
   "cell_type": "code",
   "execution_count": 38,
   "id": "eee98e24-7e53-4e1a-822f-e628ddfae573",
   "metadata": {},
   "outputs": [
    {
     "name": "stdout",
     "output_type": "stream",
     "text": [
      "tf.Tensor(1.6149162, shape=(), dtype=float32)\n"
     ]
    }
   ],
   "source": [
    "y_true = tf.constant([[[1., 1., 1.],[0.5,0.4,0.3]],[[1., 1., 1.],[0.5,0.4,0.3]]])\n",
    "y_pred = tf.constant([[[1., 1., 0.],[0.5,0.4,0.3]],[[1., 1., 1.],[0.5,0.4,0.3]]])\n",
    "bce = BinaryCrossentropy()\n",
    "loss = bce(y_true, y_pred)\n",
    "print(loss)"
   ]
  },
  {
   "cell_type": "code",
   "execution_count": 39,
   "id": "48df7972-b3a6-4cfd-b9f2-f4f30b43561a",
   "metadata": {},
   "outputs": [
    {
     "name": "stdout",
     "output_type": "stream",
     "text": [
      "tf.Tensor(1.6149162, shape=(), dtype=float32)\n"
     ]
    }
   ],
   "source": [
    "p1 = y_true * tf.math.log(  tf.clip_by_value( y_pred , tf.keras.backend.epsilon() , 1 - tf.keras.backend.epsilon() ) + tf.keras.backend.epsilon() )\n",
    "p2 = ( 1 - y_true ) * tf.math.log( 1 -  tf.clip_by_value( y_pred , tf.keras.backend.epsilon() , 1 - tf.keras.backend.epsilon() ) + tf.keras.backend.epsilon() )\n",
    "o  = -tf.reduce_mean( p1 + p2 )\n",
    "\n",
    "print( o )"
   ]
  },
  {
   "cell_type": "code",
   "execution_count": 41,
   "id": "fccb13c3-dad9-40c5-a1e7-a834eb4b7db2",
   "metadata": {},
   "outputs": [
    {
     "data": {
      "text/plain": [
       "TensorShape([2, 2, 3])"
      ]
     },
     "execution_count": 41,
     "metadata": {},
     "output_type": "execute_result"
    }
   ],
   "source": [
    "y_true.shape"
   ]
  },
  {
   "cell_type": "code",
   "execution_count": 44,
   "id": "48feff21-d969-4ae1-82a9-452e63a4eaa6",
   "metadata": {},
   "outputs": [],
   "source": [
    "y_mask = y_true > 0.5"
   ]
  },
  {
   "cell_type": "code",
   "execution_count": 46,
   "id": "4bb351ca-38e0-4935-a72f-78653d463395",
   "metadata": {},
   "outputs": [
    {
     "data": {
      "text/plain": [
       "<tf.Tensor: shape=(2, 3), dtype=bool, numpy=\n",
       "array([[ True,  True,  True],\n",
       "       [False, False, False]])>"
      ]
     },
     "execution_count": 46,
     "metadata": {},
     "output_type": "execute_result"
    }
   ],
   "source": [
    "y_mask[0,...]"
   ]
  },
  {
   "cell_type": "code",
   "execution_count": 50,
   "id": "561f98ae-4c61-4f8d-a849-b280571e58b4",
   "metadata": {},
   "outputs": [
    {
     "ename": "ValueError",
     "evalue": "Shapes (2, 2) and (2, 3) are incompatible",
     "output_type": "error",
     "traceback": [
      "\u001b[0;31m---------------------------------------------------------------------------\u001b[0m",
      "\u001b[0;31mValueError\u001b[0m                                Traceback (most recent call last)",
      "\u001b[0;32m/tmp/ipykernel_33284/3720073991.py\u001b[0m in \u001b[0;36m<module>\u001b[0;34m\u001b[0m\n\u001b[0;32m----> 1\u001b[0;31m \u001b[0my_true\u001b[0m\u001b[0;34m[\u001b[0m\u001b[0my_mask\u001b[0m\u001b[0;34m[\u001b[0m\u001b[0;36m0\u001b[0m\u001b[0;34m,\u001b[0m\u001b[0;34m...\u001b[0m\u001b[0;34m]\u001b[0m\u001b[0;34m]\u001b[0m\u001b[0;34m\u001b[0m\u001b[0;34m\u001b[0m\u001b[0m\n\u001b[0m",
      "\u001b[0;32m~/miniconda3/envs/myenvnew/lib/python3.9/site-packages/tensorflow/python/util/dispatch.py\u001b[0m in \u001b[0;36mwrapper\u001b[0;34m(*args, **kwargs)\u001b[0m\n\u001b[1;32m    199\u001b[0m     \u001b[0;34m\"\"\"Call target, and fall back on dispatchers if there is a TypeError.\"\"\"\u001b[0m\u001b[0;34m\u001b[0m\u001b[0;34m\u001b[0m\u001b[0m\n\u001b[1;32m    200\u001b[0m     \u001b[0;32mtry\u001b[0m\u001b[0;34m:\u001b[0m\u001b[0;34m\u001b[0m\u001b[0;34m\u001b[0m\u001b[0m\n\u001b[0;32m--> 201\u001b[0;31m       \u001b[0;32mreturn\u001b[0m \u001b[0mtarget\u001b[0m\u001b[0;34m(\u001b[0m\u001b[0;34m*\u001b[0m\u001b[0margs\u001b[0m\u001b[0;34m,\u001b[0m \u001b[0;34m**\u001b[0m\u001b[0mkwargs\u001b[0m\u001b[0;34m)\u001b[0m\u001b[0;34m\u001b[0m\u001b[0;34m\u001b[0m\u001b[0m\n\u001b[0m\u001b[1;32m    202\u001b[0m     \u001b[0;32mexcept\u001b[0m \u001b[0;34m(\u001b[0m\u001b[0mTypeError\u001b[0m\u001b[0;34m,\u001b[0m \u001b[0mValueError\u001b[0m\u001b[0;34m)\u001b[0m\u001b[0;34m:\u001b[0m\u001b[0;34m\u001b[0m\u001b[0;34m\u001b[0m\u001b[0m\n\u001b[1;32m    203\u001b[0m       \u001b[0;31m# Note: convert_to_eager_tensor currently raises a ValueError, not a\u001b[0m\u001b[0;34m\u001b[0m\u001b[0;34m\u001b[0m\u001b[0m\n",
      "\u001b[0;32m~/miniconda3/envs/myenvnew/lib/python3.9/site-packages/tensorflow/python/ops/array_ops.py\u001b[0m in \u001b[0;36m_slice_helper\u001b[0;34m(tensor, slice_spec, var)\u001b[0m\n\u001b[1;32m    966\u001b[0m   \u001b[0;34m(\u001b[0m\u001b[0misinstance\u001b[0m\u001b[0;34m(\u001b[0m\u001b[0mslice_spec\u001b[0m\u001b[0;34m,\u001b[0m \u001b[0mops\u001b[0m\u001b[0;34m.\u001b[0m\u001b[0mTensor\u001b[0m\u001b[0;34m)\u001b[0m \u001b[0;32mand\u001b[0m \u001b[0mslice_spec\u001b[0m\u001b[0;34m.\u001b[0m\u001b[0mdtype\u001b[0m \u001b[0;34m==\u001b[0m \u001b[0mdtypes\u001b[0m\u001b[0;34m.\u001b[0m\u001b[0mbool\u001b[0m\u001b[0;34m)\u001b[0m \u001b[0;32mor\u001b[0m\u001b[0;31m \u001b[0m\u001b[0;31m\\\u001b[0m\u001b[0;34m\u001b[0m\u001b[0;34m\u001b[0m\u001b[0m\n\u001b[1;32m    967\u001b[0m   \u001b[0;34m(\u001b[0m\u001b[0misinstance\u001b[0m\u001b[0;34m(\u001b[0m\u001b[0mslice_spec\u001b[0m\u001b[0;34m,\u001b[0m \u001b[0mnp\u001b[0m\u001b[0;34m.\u001b[0m\u001b[0mndarray\u001b[0m\u001b[0;34m)\u001b[0m \u001b[0;32mand\u001b[0m \u001b[0mslice_spec\u001b[0m\u001b[0;34m.\u001b[0m\u001b[0mdtype\u001b[0m \u001b[0;34m==\u001b[0m \u001b[0mbool\u001b[0m\u001b[0;34m)\u001b[0m\u001b[0;34m:\u001b[0m\u001b[0;34m\u001b[0m\u001b[0;34m\u001b[0m\u001b[0m\n\u001b[0;32m--> 968\u001b[0;31m     \u001b[0;32mreturn\u001b[0m \u001b[0mboolean_mask\u001b[0m\u001b[0;34m(\u001b[0m\u001b[0mtensor\u001b[0m\u001b[0;34m=\u001b[0m\u001b[0mtensor\u001b[0m\u001b[0;34m,\u001b[0m \u001b[0mmask\u001b[0m\u001b[0;34m=\u001b[0m\u001b[0mslice_spec\u001b[0m\u001b[0;34m)\u001b[0m\u001b[0;34m\u001b[0m\u001b[0;34m\u001b[0m\u001b[0m\n\u001b[0m\u001b[1;32m    969\u001b[0m \u001b[0;34m\u001b[0m\u001b[0m\n\u001b[1;32m    970\u001b[0m   \u001b[0;32mif\u001b[0m \u001b[0;32mnot\u001b[0m \u001b[0misinstance\u001b[0m\u001b[0;34m(\u001b[0m\u001b[0mslice_spec\u001b[0m\u001b[0;34m,\u001b[0m \u001b[0;34m(\u001b[0m\u001b[0mlist\u001b[0m\u001b[0;34m,\u001b[0m \u001b[0mtuple\u001b[0m\u001b[0;34m)\u001b[0m\u001b[0;34m)\u001b[0m\u001b[0;34m:\u001b[0m\u001b[0;34m\u001b[0m\u001b[0;34m\u001b[0m\u001b[0m\n",
      "\u001b[0;32m~/miniconda3/envs/myenvnew/lib/python3.9/site-packages/tensorflow/python/util/dispatch.py\u001b[0m in \u001b[0;36mwrapper\u001b[0;34m(*args, **kwargs)\u001b[0m\n\u001b[1;32m    199\u001b[0m     \u001b[0;34m\"\"\"Call target, and fall back on dispatchers if there is a TypeError.\"\"\"\u001b[0m\u001b[0;34m\u001b[0m\u001b[0;34m\u001b[0m\u001b[0m\n\u001b[1;32m    200\u001b[0m     \u001b[0;32mtry\u001b[0m\u001b[0;34m:\u001b[0m\u001b[0;34m\u001b[0m\u001b[0;34m\u001b[0m\u001b[0m\n\u001b[0;32m--> 201\u001b[0;31m       \u001b[0;32mreturn\u001b[0m \u001b[0mtarget\u001b[0m\u001b[0;34m(\u001b[0m\u001b[0;34m*\u001b[0m\u001b[0margs\u001b[0m\u001b[0;34m,\u001b[0m \u001b[0;34m**\u001b[0m\u001b[0mkwargs\u001b[0m\u001b[0;34m)\u001b[0m\u001b[0;34m\u001b[0m\u001b[0;34m\u001b[0m\u001b[0m\n\u001b[0m\u001b[1;32m    202\u001b[0m     \u001b[0;32mexcept\u001b[0m \u001b[0;34m(\u001b[0m\u001b[0mTypeError\u001b[0m\u001b[0;34m,\u001b[0m \u001b[0mValueError\u001b[0m\u001b[0;34m)\u001b[0m\u001b[0;34m:\u001b[0m\u001b[0;34m\u001b[0m\u001b[0;34m\u001b[0m\u001b[0m\n\u001b[1;32m    203\u001b[0m       \u001b[0;31m# Note: convert_to_eager_tensor currently raises a ValueError, not a\u001b[0m\u001b[0;34m\u001b[0m\u001b[0;34m\u001b[0m\u001b[0m\n",
      "\u001b[0;32m~/miniconda3/envs/myenvnew/lib/python3.9/site-packages/tensorflow/python/ops/array_ops.py\u001b[0m in \u001b[0;36mboolean_mask\u001b[0;34m(tensor, mask, name, axis)\u001b[0m\n\u001b[1;32m   1749\u001b[0m     \u001b[0;32mif\u001b[0m \u001b[0maxis_value\u001b[0m \u001b[0;32mis\u001b[0m \u001b[0;32mnot\u001b[0m \u001b[0;32mNone\u001b[0m\u001b[0;34m:\u001b[0m\u001b[0;34m\u001b[0m\u001b[0;34m\u001b[0m\u001b[0m\n\u001b[1;32m   1750\u001b[0m       \u001b[0maxis\u001b[0m \u001b[0;34m=\u001b[0m \u001b[0maxis_value\u001b[0m\u001b[0;34m\u001b[0m\u001b[0;34m\u001b[0m\u001b[0m\n\u001b[0;32m-> 1751\u001b[0;31m       \u001b[0mshape_tensor\u001b[0m\u001b[0;34m[\u001b[0m\u001b[0maxis\u001b[0m\u001b[0;34m:\u001b[0m\u001b[0maxis\u001b[0m \u001b[0;34m+\u001b[0m \u001b[0mndims_mask\u001b[0m\u001b[0;34m]\u001b[0m\u001b[0;34m.\u001b[0m\u001b[0massert_is_compatible_with\u001b[0m\u001b[0;34m(\u001b[0m\u001b[0mshape_mask\u001b[0m\u001b[0;34m)\u001b[0m\u001b[0;34m\u001b[0m\u001b[0;34m\u001b[0m\u001b[0m\n\u001b[0m\u001b[1;32m   1752\u001b[0m \u001b[0;34m\u001b[0m\u001b[0m\n\u001b[1;32m   1753\u001b[0m     \u001b[0mleading_size\u001b[0m \u001b[0;34m=\u001b[0m \u001b[0mgen_math_ops\u001b[0m\u001b[0;34m.\u001b[0m\u001b[0mprod\u001b[0m\u001b[0;34m(\u001b[0m\u001b[0mshape\u001b[0m\u001b[0;34m(\u001b[0m\u001b[0mtensor\u001b[0m\u001b[0;34m)\u001b[0m\u001b[0;34m[\u001b[0m\u001b[0maxis\u001b[0m\u001b[0;34m:\u001b[0m\u001b[0maxis\u001b[0m \u001b[0;34m+\u001b[0m \u001b[0mndims_mask\u001b[0m\u001b[0;34m]\u001b[0m\u001b[0;34m,\u001b[0m \u001b[0;34m[\u001b[0m\u001b[0;36m0\u001b[0m\u001b[0;34m]\u001b[0m\u001b[0;34m)\u001b[0m\u001b[0;34m\u001b[0m\u001b[0;34m\u001b[0m\u001b[0m\n",
      "\u001b[0;32m~/miniconda3/envs/myenvnew/lib/python3.9/site-packages/tensorflow/python/framework/tensor_shape.py\u001b[0m in \u001b[0;36massert_is_compatible_with\u001b[0;34m(self, other)\u001b[0m\n\u001b[1;32m   1132\u001b[0m     \"\"\"\n\u001b[1;32m   1133\u001b[0m     \u001b[0;32mif\u001b[0m \u001b[0;32mnot\u001b[0m \u001b[0mself\u001b[0m\u001b[0;34m.\u001b[0m\u001b[0mis_compatible_with\u001b[0m\u001b[0;34m(\u001b[0m\u001b[0mother\u001b[0m\u001b[0;34m)\u001b[0m\u001b[0;34m:\u001b[0m\u001b[0;34m\u001b[0m\u001b[0;34m\u001b[0m\u001b[0m\n\u001b[0;32m-> 1134\u001b[0;31m       \u001b[0;32mraise\u001b[0m \u001b[0mValueError\u001b[0m\u001b[0;34m(\u001b[0m\u001b[0;34m\"Shapes %s and %s are incompatible\"\u001b[0m \u001b[0;34m%\u001b[0m \u001b[0;34m(\u001b[0m\u001b[0mself\u001b[0m\u001b[0;34m,\u001b[0m \u001b[0mother\u001b[0m\u001b[0;34m)\u001b[0m\u001b[0;34m)\u001b[0m\u001b[0;34m\u001b[0m\u001b[0;34m\u001b[0m\u001b[0m\n\u001b[0m\u001b[1;32m   1135\u001b[0m \u001b[0;34m\u001b[0m\u001b[0m\n\u001b[1;32m   1136\u001b[0m   \u001b[0;32mdef\u001b[0m \u001b[0mmost_specific_compatible_shape\u001b[0m\u001b[0;34m(\u001b[0m\u001b[0mself\u001b[0m\u001b[0;34m,\u001b[0m \u001b[0mother\u001b[0m\u001b[0;34m)\u001b[0m\u001b[0;34m:\u001b[0m\u001b[0;34m\u001b[0m\u001b[0;34m\u001b[0m\u001b[0m\n",
      "\u001b[0;31mValueError\u001b[0m: Shapes (2, 2) and (2, 3) are incompatible"
     ]
    }
   ],
   "source": [
    "y_true[y_mask[0,...]]"
   ]
  },
  {
   "cell_type": "code",
   "execution_count": 4,
   "id": "477c9bfd-f68c-4305-aed7-dcb3767df846",
   "metadata": {},
   "outputs": [
    {
     "name": "stdout",
     "output_type": "stream",
     "text": [
      "==Importing tensorflow packages===\n",
      "==Checking GPU==\n",
      "==Checking CUDA==\n",
      "checkpoint_name =  ./models/Plasimvae_learn1_weight212custlosswithfilter_t2mzg500mrso_resdeep_filt5_yrs-range8000_last9folds_normalize_k1_0.9_k2_0.1_LR_0.001_ZDIM_64/\n",
      "loading module from  ./models/Plasimvae_learn1_weight212custlosswithfilter_t2mzg500mrso_resdeep_filt5_yrs-range8000_last9folds_normalize_k1_0.9_k2_0.1_LR_0.001_ZDIM_64//Funs.py\n",
      "spec =  ModuleSpec(name='vae_learn1', loader=<_frozen_importlib_external.SourceFileLoader object at 0x146049abd790>, origin='./models/Plasimvae_learn1_weight212custlosswithfilter_t2mzg500mrso_resdeep_filt5_yrs-range8000_last9folds_normalize_k1_0.9_k2_0.1_LR_0.001_ZDIM_64//Funs.py')\n",
      "module =  <module 'vae_learn1' from './models/Plasimvae_learn1_weight212custlosswithfilter_t2mzg500mrso_resdeep_filt5_yrs-range8000_last9folds_normalize_k1_0.9_k2_0.1_LR_0.001_ZDIM_64//Funs.py'>\n"
     ]
    },
    {
     "ename": "KeyError",
     "evalue": "'vae_learn1'",
     "output_type": "error",
     "traceback": [
      "\u001b[0;31m---------------------------------------------------------------------------\u001b[0m",
      "\u001b[0;31mKeyError\u001b[0m                                  Traceback (most recent call last)",
      "\u001b[0;32m/tmp/ipykernel_9956/460909443.py\u001b[0m in \u001b[0;36m<module>\u001b[0;34m\u001b[0m\n\u001b[1;32m     37\u001b[0m \u001b[0mprint\u001b[0m\u001b[0;34m(\u001b[0m\u001b[0;34m\"checkpoint_name = \"\u001b[0m\u001b[0;34m,\u001b[0m \u001b[0mcheckpoint_name\u001b[0m\u001b[0;34m)\u001b[0m\u001b[0;34m\u001b[0m\u001b[0;34m\u001b[0m\u001b[0m\n\u001b[1;32m     38\u001b[0m \u001b[0mprint\u001b[0m\u001b[0;34m(\u001b[0m\u001b[0;34m\"loading module from \"\u001b[0m\u001b[0;34m,\u001b[0m \u001b[0mcheckpoint_name\u001b[0m\u001b[0;34m+\u001b[0m\u001b[0;34m'/Funs.py'\u001b[0m\u001b[0;34m)\u001b[0m\u001b[0;34m\u001b[0m\u001b[0;34m\u001b[0m\u001b[0m\n\u001b[0;32m---> 39\u001b[0;31m \u001b[0mfoo\u001b[0m \u001b[0;34m=\u001b[0m \u001b[0mmodule_from_file\u001b[0m\u001b[0;34m(\u001b[0m\u001b[0;34m\"vae_learn1\"\u001b[0m\u001b[0;34m,\u001b[0m \u001b[0mcheckpoint_name\u001b[0m\u001b[0;34m+\u001b[0m\u001b[0;34m'/Funs.py'\u001b[0m\u001b[0;34m)\u001b[0m\u001b[0;34m\u001b[0m\u001b[0;34m\u001b[0m\u001b[0m\n\u001b[0m\u001b[1;32m     40\u001b[0m \u001b[0mprint\u001b[0m\u001b[0;34m(\u001b[0m\u001b[0;34m\"==Reading data==\"\u001b[0m\u001b[0;34m)\u001b[0m\u001b[0;34m\u001b[0m\u001b[0;34m\u001b[0m\u001b[0m\n\u001b[1;32m     41\u001b[0m \u001b[0;34m\u001b[0m\u001b[0m\n",
      "\u001b[0;32m/tmp/ipykernel_9956/460909443.py\u001b[0m in \u001b[0;36mmodule_from_file\u001b[0;34m(module_name, file_path)\u001b[0m\n\u001b[1;32m     29\u001b[0m             \u001b[0mmodule\u001b[0m \u001b[0;34m=\u001b[0m \u001b[0mimportlib\u001b[0m\u001b[0;34m.\u001b[0m\u001b[0mutil\u001b[0m\u001b[0;34m.\u001b[0m\u001b[0mmodule_from_spec\u001b[0m\u001b[0;34m(\u001b[0m\u001b[0mspec\u001b[0m\u001b[0;34m)\u001b[0m\u001b[0;34m\u001b[0m\u001b[0;34m\u001b[0m\u001b[0m\n\u001b[1;32m     30\u001b[0m             \u001b[0mprint\u001b[0m\u001b[0;34m(\u001b[0m\u001b[0;34m\"module = \"\u001b[0m\u001b[0;34m,\u001b[0m \u001b[0mmodule\u001b[0m\u001b[0;34m)\u001b[0m\u001b[0;34m\u001b[0m\u001b[0;34m\u001b[0m\u001b[0m\n\u001b[0;32m---> 31\u001b[0;31m             \u001b[0mspec\u001b[0m\u001b[0;34m.\u001b[0m\u001b[0mloader\u001b[0m\u001b[0;34m.\u001b[0m\u001b[0mexec_module\u001b[0m\u001b[0;34m(\u001b[0m\u001b[0mmodule\u001b[0m\u001b[0;34m)\u001b[0m\u001b[0;34m\u001b[0m\u001b[0;34m\u001b[0m\u001b[0m\n\u001b[0m\u001b[1;32m     32\u001b[0m             \u001b[0;32mreturn\u001b[0m \u001b[0mmodule\u001b[0m\u001b[0;34m\u001b[0m\u001b[0;34m\u001b[0m\u001b[0m\n\u001b[1;32m     33\u001b[0m \u001b[0;34m\u001b[0m\u001b[0m\n",
      "\u001b[0;32m~/miniconda3/envs/myenvnew/lib/python3.9/importlib/_bootstrap_external.py\u001b[0m in \u001b[0;36mexec_module\u001b[0;34m(self, module)\u001b[0m\n",
      "\u001b[0;32m~/miniconda3/envs/myenvnew/lib/python3.9/importlib/_bootstrap.py\u001b[0m in \u001b[0;36m_call_with_frames_removed\u001b[0;34m(f, *args, **kwds)\u001b[0m\n",
      "\u001b[0;32m/ClimateDynamics/MediumSpace/ClimateLearningFR/gmiloshe/VAE/models/Plasimvae_learn1_weight212custlosswithfilter_t2mzg500mrso_resdeep_filt5_yrs-range8000_last9folds_normalize_k1_0.9_k2_0.1_LR_0.001_ZDIM_64/Funs.py\u001b[0m in \u001b[0;36m<module>\u001b[0;34m\u001b[0m\n\u001b[1;32m     26\u001b[0m \u001b[0;34m\u001b[0m\u001b[0m\n\u001b[1;32m     27\u001b[0m \u001b[0;31m## user defined modules\u001b[0m\u001b[0;34m\u001b[0m\u001b[0;34m\u001b[0m\u001b[0m\n\u001b[0;32m---> 28\u001b[0;31m \u001b[0mthis_module\u001b[0m \u001b[0;34m=\u001b[0m \u001b[0msys\u001b[0m\u001b[0;34m.\u001b[0m\u001b[0mmodules\u001b[0m\u001b[0;34m[\u001b[0m\u001b[0m__name__\u001b[0m\u001b[0;34m]\u001b[0m\u001b[0;34m\u001b[0m\u001b[0;34m\u001b[0m\u001b[0m\n\u001b[0m\u001b[1;32m     29\u001b[0m \u001b[0mpath_to_here\u001b[0m \u001b[0;34m=\u001b[0m \u001b[0mPath\u001b[0m\u001b[0;34m(\u001b[0m\u001b[0m__file__\u001b[0m\u001b[0;34m)\u001b[0m\u001b[0;34m.\u001b[0m\u001b[0mresolve\u001b[0m\u001b[0;34m(\u001b[0m\u001b[0;34m)\u001b[0m\u001b[0;34m.\u001b[0m\u001b[0mparent\u001b[0m\u001b[0;34m\u001b[0m\u001b[0;34m\u001b[0m\u001b[0m\n\u001b[1;32m     30\u001b[0m \u001b[0mpath_to_PLASIM\u001b[0m \u001b[0;34m=\u001b[0m \u001b[0mpath_to_here\u001b[0m \u001b[0;34m/\u001b[0m \u001b[0;34m'PLASIM'\u001b[0m \u001b[0;31m# when absolute path, so you can run the script from another folder (outside VAE)\u001b[0m\u001b[0;34m\u001b[0m\u001b[0;34m\u001b[0m\u001b[0m\n",
      "\u001b[0;31mKeyError\u001b[0m: 'vae_learn1'"
     ]
    }
   ],
   "source": [
    "# George Miloshevich 2021\n",
    "# This routine is written for two parameters: input folder for VAE weights and the given epoch. It shows us how good the reconstruction of the VAE works\n",
    "import os, sys\n",
    "from glob import glob\n",
    "import shutil\n",
    "os.environ['TF_XLA_FLAGS'] = '--tf_xla_enable_xla_devices'  # https://stackoverflow.com/questions/65907365/tensorflow-not-creating-xla-devices-tf-xla-enable-xla-devices-not-set\n",
    "\n",
    "print(\"==Importing tensorflow packages===\")\n",
    "import numpy as np\n",
    "#from tensorflow.keras.preprocessing.image import ImageDataGenerator\n",
    "sys.path.insert(1, '../ERA')\n",
    "import TF_Fields as tff # tensorflow routines \n",
    "\n",
    "\n",
    "\n",
    "print(\"==Checking GPU==\")\n",
    "import tensorflow as tf\n",
    "tf.test.is_gpu_available(\n",
    "    cuda_only=False, min_cuda_compute_capability=None\n",
    ")\n",
    "\n",
    "print(\"==Checking CUDA==\")\n",
    "tf.test.is_built_with_cuda()\n",
    "\n",
    "import importlib.util\n",
    "def module_from_file(module_name, file_path): #The code that imports the file which originated the training with all the instructions\n",
    "            spec = importlib.util.spec_from_file_location(module_name, file_path)\n",
    "            print(\"spec = \",spec)\n",
    "            module = importlib.util.module_from_spec(spec)\n",
    "            print(\"module = \", module)\n",
    "            spec.loader.exec_module(module)\n",
    "            return module\n",
    "\n",
    "checkpoint_name = './models/Plasimvae_learn1_weight212custlosswithfilter_t2mzg500mrso_resdeep_filt5_yrs-range8000_last9folds_normalize_k1_0.9_k2_0.1_LR_0.001_ZDIM_64/'\n",
    "checkpoint = '2'\n",
    "\n",
    "print(\"checkpoint_name = \", checkpoint_name)\n",
    "print(\"loading module from \", checkpoint_name+'/Funs.py')\n",
    "foo = module_from_file(\"vae_learn1\", checkpoint_name+'/Funs.py')\n",
    "print(\"==Reading data==\")\n",
    "\n",
    "year_permutation = np.load(checkpoint_name+'/year_permutation.npy')\n",
    "\n",
    "X, LON, LAT, vae, Z_DIM, N_EPOCHS, INITIAL_EPOCH, BATCH_SIZE, LEARNING_RATE, checkpoint_path, checkpoint_name, myinput, history = foo.PrepareDataAndVAE(checkpoint_name, DIFFERENT_YEARS=year_permutation[:800])"
   ]
  },
  {
   "cell_type": "code",
   "execution_count": 7,
   "id": "ae264e1b-0300-4bf8-b4a3-b7fb155b6397",
   "metadata": {},
   "outputs": [
    {
     "ename": "ImportError",
     "evalue": "no package specified for './models/Plasimvae_learn1_weight212custlosswithfilter_t2mzg500mrso_resdeep_filt5_yrs-range8000_last9folds_normalize_k1_0.9_k2_0.1_LR_0.001_ZDIM_64/Funs' (required for relative module names)",
     "output_type": "error",
     "traceback": [
      "\u001b[0;31m---------------------------------------------------------------------------\u001b[0m",
      "\u001b[0;31mImportError\u001b[0m                               Traceback (most recent call last)",
      "\u001b[0;32m/tmp/ipykernel_9956/3432279915.py\u001b[0m in \u001b[0;36m<module>\u001b[0;34m\u001b[0m\n\u001b[1;32m      7\u001b[0m \u001b[0;32mif\u001b[0m \u001b[0mname\u001b[0m \u001b[0;32min\u001b[0m \u001b[0msys\u001b[0m\u001b[0;34m.\u001b[0m\u001b[0mmodules\u001b[0m\u001b[0;34m:\u001b[0m\u001b[0;34m\u001b[0m\u001b[0;34m\u001b[0m\u001b[0m\n\u001b[1;32m      8\u001b[0m     \u001b[0mprint\u001b[0m\u001b[0;34m(\u001b[0m\u001b[0;34mf\"{name!r} already in sys.modules\"\u001b[0m\u001b[0;34m)\u001b[0m\u001b[0;34m\u001b[0m\u001b[0;34m\u001b[0m\u001b[0m\n\u001b[0;32m----> 9\u001b[0;31m \u001b[0;32melif\u001b[0m \u001b[0;34m(\u001b[0m\u001b[0mspec\u001b[0m \u001b[0;34m:=\u001b[0m \u001b[0mimportlib\u001b[0m\u001b[0;34m.\u001b[0m\u001b[0mutil\u001b[0m\u001b[0;34m.\u001b[0m\u001b[0mfind_spec\u001b[0m\u001b[0;34m(\u001b[0m\u001b[0mname\u001b[0m\u001b[0;34m)\u001b[0m\u001b[0;34m)\u001b[0m \u001b[0;32mis\u001b[0m \u001b[0;32mnot\u001b[0m \u001b[0;32mNone\u001b[0m\u001b[0;34m:\u001b[0m\u001b[0;34m\u001b[0m\u001b[0;34m\u001b[0m\u001b[0m\n\u001b[0m\u001b[1;32m     10\u001b[0m     \u001b[0;31m# If you chose to perform the actual import ...\u001b[0m\u001b[0;34m\u001b[0m\u001b[0;34m\u001b[0m\u001b[0m\n\u001b[1;32m     11\u001b[0m     \u001b[0mmodule\u001b[0m \u001b[0;34m=\u001b[0m \u001b[0mimportlib\u001b[0m\u001b[0;34m.\u001b[0m\u001b[0mutil\u001b[0m\u001b[0;34m.\u001b[0m\u001b[0mmodule_from_spec\u001b[0m\u001b[0;34m(\u001b[0m\u001b[0mspec\u001b[0m\u001b[0;34m)\u001b[0m\u001b[0;34m\u001b[0m\u001b[0;34m\u001b[0m\u001b[0m\n",
      "\u001b[0;32m~/miniconda3/envs/myenvnew/lib/python3.9/importlib/util.py\u001b[0m in \u001b[0;36mfind_spec\u001b[0;34m(name, package)\u001b[0m\n\u001b[1;32m     88\u001b[0m \u001b[0;34m\u001b[0m\u001b[0m\n\u001b[1;32m     89\u001b[0m     \"\"\"\n\u001b[0;32m---> 90\u001b[0;31m     \u001b[0mfullname\u001b[0m \u001b[0;34m=\u001b[0m \u001b[0mresolve_name\u001b[0m\u001b[0;34m(\u001b[0m\u001b[0mname\u001b[0m\u001b[0;34m,\u001b[0m \u001b[0mpackage\u001b[0m\u001b[0;34m)\u001b[0m \u001b[0;32mif\u001b[0m \u001b[0mname\u001b[0m\u001b[0;34m.\u001b[0m\u001b[0mstartswith\u001b[0m\u001b[0;34m(\u001b[0m\u001b[0;34m'.'\u001b[0m\u001b[0;34m)\u001b[0m \u001b[0;32melse\u001b[0m \u001b[0mname\u001b[0m\u001b[0;34m\u001b[0m\u001b[0;34m\u001b[0m\u001b[0m\n\u001b[0m\u001b[1;32m     91\u001b[0m     \u001b[0;32mif\u001b[0m \u001b[0mfullname\u001b[0m \u001b[0;32mnot\u001b[0m \u001b[0;32min\u001b[0m \u001b[0msys\u001b[0m\u001b[0;34m.\u001b[0m\u001b[0mmodules\u001b[0m\u001b[0;34m:\u001b[0m\u001b[0;34m\u001b[0m\u001b[0;34m\u001b[0m\u001b[0m\n\u001b[1;32m     92\u001b[0m         \u001b[0mparent_name\u001b[0m \u001b[0;34m=\u001b[0m \u001b[0mfullname\u001b[0m\u001b[0;34m.\u001b[0m\u001b[0mrpartition\u001b[0m\u001b[0;34m(\u001b[0m\u001b[0;34m'.'\u001b[0m\u001b[0;34m)\u001b[0m\u001b[0;34m[\u001b[0m\u001b[0;36m0\u001b[0m\u001b[0;34m]\u001b[0m\u001b[0;34m\u001b[0m\u001b[0;34m\u001b[0m\u001b[0m\n",
      "\u001b[0;32m~/miniconda3/envs/myenvnew/lib/python3.9/importlib/util.py\u001b[0m in \u001b[0;36mresolve_name\u001b[0;34m(name, package)\u001b[0m\n\u001b[1;32m     30\u001b[0m         \u001b[0;32mreturn\u001b[0m \u001b[0mname\u001b[0m\u001b[0;34m\u001b[0m\u001b[0;34m\u001b[0m\u001b[0m\n\u001b[1;32m     31\u001b[0m     \u001b[0;32melif\u001b[0m \u001b[0;32mnot\u001b[0m \u001b[0mpackage\u001b[0m\u001b[0;34m:\u001b[0m\u001b[0;34m\u001b[0m\u001b[0;34m\u001b[0m\u001b[0m\n\u001b[0;32m---> 32\u001b[0;31m         raise ImportError(f'no package specified for {repr(name)} '\n\u001b[0m\u001b[1;32m     33\u001b[0m                           '(required for relative module names)')\n\u001b[1;32m     34\u001b[0m     \u001b[0mlevel\u001b[0m \u001b[0;34m=\u001b[0m \u001b[0;36m0\u001b[0m\u001b[0;34m\u001b[0m\u001b[0;34m\u001b[0m\u001b[0m\n",
      "\u001b[0;31mImportError\u001b[0m: no package specified for './models/Plasimvae_learn1_weight212custlosswithfilter_t2mzg500mrso_resdeep_filt5_yrs-range8000_last9folds_normalize_k1_0.9_k2_0.1_LR_0.001_ZDIM_64/Funs' (required for relative module names)"
     ]
    }
   ],
   "source": [
    "import importlib.util\n",
    "import sys\n",
    "\n",
    "# For illustrative purposes.\n",
    "name = './models/Plasimvae_learn1_weight212custlosswithfilter_t2mzg500mrso_resdeep_filt5_yrs-range8000_last9folds_normalize_k1_0.9_k2_0.1_LR_0.001_ZDIM_64/Funs'\n",
    "\n",
    "if name in sys.modules:\n",
    "    print(f\"{name!r} already in sys.modules\")\n",
    "elif (spec := importlib.util.find_spec(name)) is not None:\n",
    "    # If you chose to perform the actual import ...\n",
    "    module = importlib.util.module_from_spec(spec)\n",
    "    sys.modules[name] = module\n",
    "    spec.loader.exec_module(module)\n",
    "    print(f\"{name!r} has been imported\")\n",
    "else:\n",
    "    print(f\"can't find the {name!r} module\")"
   ]
  },
  {
   "cell_type": "code",
   "execution_count": 2,
   "id": "f1306cde-2916-4884-acfc-3c5743ce37bf",
   "metadata": {},
   "outputs": [
    {
     "ename": "ModuleNotFoundError",
     "evalue": "No module named 'models.Plasimvae_learn1_weight212custlosswithfilter_t2mzg500mrso_resdeep_filt5_yrs-range8000_last9folds_normalize_k1_0'",
     "output_type": "error",
     "traceback": [
      "\u001b[0;31m---------------------------------------------------------------------------\u001b[0m",
      "\u001b[0;31mModuleNotFoundError\u001b[0m                       Traceback (most recent call last)",
      "\u001b[0;32m/tmp/ipykernel_33587/653795525.py\u001b[0m in \u001b[0;36m<module>\u001b[0;34m\u001b[0m\n\u001b[1;32m      3\u001b[0m \u001b[0;31m# For illustrative purposes.\u001b[0m\u001b[0;34m\u001b[0m\u001b[0;34m\u001b[0m\u001b[0m\n\u001b[1;32m      4\u001b[0m \u001b[0mname\u001b[0m \u001b[0;34m=\u001b[0m \u001b[0;34m'./models/Plasimvae_learn1_weight212custlosswithfilter_t2mzg500mrso_resdeep_filt5_yrs-range8000_last9folds_normalize_k1_0.9_k2_0.1_LR_0.001_ZDIM_64/Funs'\u001b[0m\u001b[0;34m\u001b[0m\u001b[0;34m\u001b[0m\u001b[0m\n\u001b[0;32m----> 5\u001b[0;31m \u001b[0mfoo\u001b[0m \u001b[0;34m=\u001b[0m \u001b[0mimportlib\u001b[0m\u001b[0;34m.\u001b[0m\u001b[0mimport_module\u001b[0m\u001b[0;34m(\u001b[0m\u001b[0;34m'models.Plasimvae_learn1_weight212custlosswithfilter_t2mzg500mrso_resdeep_filt5_yrs-range8000_last9folds_normalize_k1_0.9_k2_0.1_LR_0.001_ZDIM_64.Funs'\u001b[0m\u001b[0;34m)\u001b[0m\u001b[0;34m\u001b[0m\u001b[0;34m\u001b[0m\u001b[0m\n\u001b[0m",
      "\u001b[0;32m~/miniconda3/envs/myenvnew/lib/python3.9/importlib/__init__.py\u001b[0m in \u001b[0;36mimport_module\u001b[0;34m(name, package)\u001b[0m\n\u001b[1;32m    125\u001b[0m                 \u001b[0;32mbreak\u001b[0m\u001b[0;34m\u001b[0m\u001b[0;34m\u001b[0m\u001b[0m\n\u001b[1;32m    126\u001b[0m             \u001b[0mlevel\u001b[0m \u001b[0;34m+=\u001b[0m \u001b[0;36m1\u001b[0m\u001b[0;34m\u001b[0m\u001b[0;34m\u001b[0m\u001b[0m\n\u001b[0;32m--> 127\u001b[0;31m     \u001b[0;32mreturn\u001b[0m \u001b[0m_bootstrap\u001b[0m\u001b[0;34m.\u001b[0m\u001b[0m_gcd_import\u001b[0m\u001b[0;34m(\u001b[0m\u001b[0mname\u001b[0m\u001b[0;34m[\u001b[0m\u001b[0mlevel\u001b[0m\u001b[0;34m:\u001b[0m\u001b[0;34m]\u001b[0m\u001b[0;34m,\u001b[0m \u001b[0mpackage\u001b[0m\u001b[0;34m,\u001b[0m \u001b[0mlevel\u001b[0m\u001b[0;34m)\u001b[0m\u001b[0;34m\u001b[0m\u001b[0;34m\u001b[0m\u001b[0m\n\u001b[0m\u001b[1;32m    128\u001b[0m \u001b[0;34m\u001b[0m\u001b[0m\n\u001b[1;32m    129\u001b[0m \u001b[0;34m\u001b[0m\u001b[0m\n",
      "\u001b[0;32m~/miniconda3/envs/myenvnew/lib/python3.9/importlib/_bootstrap.py\u001b[0m in \u001b[0;36m_gcd_import\u001b[0;34m(name, package, level)\u001b[0m\n",
      "\u001b[0;32m~/miniconda3/envs/myenvnew/lib/python3.9/importlib/_bootstrap.py\u001b[0m in \u001b[0;36m_find_and_load\u001b[0;34m(name, import_)\u001b[0m\n",
      "\u001b[0;32m~/miniconda3/envs/myenvnew/lib/python3.9/importlib/_bootstrap.py\u001b[0m in \u001b[0;36m_find_and_load_unlocked\u001b[0;34m(name, import_)\u001b[0m\n",
      "\u001b[0;32m~/miniconda3/envs/myenvnew/lib/python3.9/importlib/_bootstrap.py\u001b[0m in \u001b[0;36m_call_with_frames_removed\u001b[0;34m(f, *args, **kwds)\u001b[0m\n",
      "\u001b[0;32m~/miniconda3/envs/myenvnew/lib/python3.9/importlib/_bootstrap.py\u001b[0m in \u001b[0;36m_gcd_import\u001b[0;34m(name, package, level)\u001b[0m\n",
      "\u001b[0;32m~/miniconda3/envs/myenvnew/lib/python3.9/importlib/_bootstrap.py\u001b[0m in \u001b[0;36m_find_and_load\u001b[0;34m(name, import_)\u001b[0m\n",
      "\u001b[0;32m~/miniconda3/envs/myenvnew/lib/python3.9/importlib/_bootstrap.py\u001b[0m in \u001b[0;36m_find_and_load_unlocked\u001b[0;34m(name, import_)\u001b[0m\n",
      "\u001b[0;32m~/miniconda3/envs/myenvnew/lib/python3.9/importlib/_bootstrap.py\u001b[0m in \u001b[0;36m_call_with_frames_removed\u001b[0;34m(f, *args, **kwds)\u001b[0m\n",
      "\u001b[0;32m~/miniconda3/envs/myenvnew/lib/python3.9/importlib/_bootstrap.py\u001b[0m in \u001b[0;36m_gcd_import\u001b[0;34m(name, package, level)\u001b[0m\n",
      "\u001b[0;32m~/miniconda3/envs/myenvnew/lib/python3.9/importlib/_bootstrap.py\u001b[0m in \u001b[0;36m_find_and_load\u001b[0;34m(name, import_)\u001b[0m\n",
      "\u001b[0;32m~/miniconda3/envs/myenvnew/lib/python3.9/importlib/_bootstrap.py\u001b[0m in \u001b[0;36m_find_and_load_unlocked\u001b[0;34m(name, import_)\u001b[0m\n",
      "\u001b[0;32m~/miniconda3/envs/myenvnew/lib/python3.9/importlib/_bootstrap.py\u001b[0m in \u001b[0;36m_call_with_frames_removed\u001b[0;34m(f, *args, **kwds)\u001b[0m\n",
      "\u001b[0;32m~/miniconda3/envs/myenvnew/lib/python3.9/importlib/_bootstrap.py\u001b[0m in \u001b[0;36m_gcd_import\u001b[0;34m(name, package, level)\u001b[0m\n",
      "\u001b[0;32m~/miniconda3/envs/myenvnew/lib/python3.9/importlib/_bootstrap.py\u001b[0m in \u001b[0;36m_find_and_load\u001b[0;34m(name, import_)\u001b[0m\n",
      "\u001b[0;32m~/miniconda3/envs/myenvnew/lib/python3.9/importlib/_bootstrap.py\u001b[0m in \u001b[0;36m_find_and_load_unlocked\u001b[0;34m(name, import_)\u001b[0m\n",
      "\u001b[0;32m~/miniconda3/envs/myenvnew/lib/python3.9/importlib/_bootstrap.py\u001b[0m in \u001b[0;36m_call_with_frames_removed\u001b[0;34m(f, *args, **kwds)\u001b[0m\n",
      "\u001b[0;32m~/miniconda3/envs/myenvnew/lib/python3.9/importlib/_bootstrap.py\u001b[0m in \u001b[0;36m_gcd_import\u001b[0;34m(name, package, level)\u001b[0m\n",
      "\u001b[0;32m~/miniconda3/envs/myenvnew/lib/python3.9/importlib/_bootstrap.py\u001b[0m in \u001b[0;36m_find_and_load\u001b[0;34m(name, import_)\u001b[0m\n",
      "\u001b[0;32m~/miniconda3/envs/myenvnew/lib/python3.9/importlib/_bootstrap.py\u001b[0m in \u001b[0;36m_find_and_load_unlocked\u001b[0;34m(name, import_)\u001b[0m\n",
      "\u001b[0;31mModuleNotFoundError\u001b[0m: No module named 'models.Plasimvae_learn1_weight212custlosswithfilter_t2mzg500mrso_resdeep_filt5_yrs-range8000_last9folds_normalize_k1_0'"
     ]
    }
   ],
   "source": [
    "import importlib\n",
    "\n",
    "# For illustrative purposes.\n",
    "name = './models/Plasimvae_learn1_weight212custlosswithfilter_t2mzg500mrso_resdeep_filt5_yrs-range8000_last9folds_normalize_k1_0.9_k2_0.1_LR_0.001_ZDIM_64/Funs'\n",
    "foo = importlib.import_module('models.Plasimvae_learn1_weight212custlosswithfilter_t2mzg500mrso_resdeep_filt5_yrs-range8000_last9folds_normalize_k1_0.9_k2_0.1_LR_0.001_ZDIM_64.Funs')"
   ]
  },
  {
   "cell_type": "code",
   "execution_count": 3,
   "id": "00be5742-f0b3-4043-88a9-185e176e8208",
   "metadata": {},
   "outputs": [
    {
     "ename": "FileNotFoundError",
     "evalue": "Could not find PLASIM folder",
     "output_type": "error",
     "traceback": [
      "\u001b[0;31m---------------------------------------------------------------------------\u001b[0m",
      "\u001b[0;31mFileNotFoundError\u001b[0m                         Traceback (most recent call last)",
      "\u001b[0;32m/tmp/ipykernel_33587/2230737088.py\u001b[0m in \u001b[0;36m<module>\u001b[0;34m\u001b[0m\n\u001b[1;32m      3\u001b[0m \u001b[0;31m# For illustrative purposes.\u001b[0m\u001b[0;34m\u001b[0m\u001b[0;34m\u001b[0m\u001b[0m\n\u001b[1;32m      4\u001b[0m \u001b[0mname\u001b[0m \u001b[0;34m=\u001b[0m \u001b[0;34m'./models/Plasimvae_learn1_weight212custlosswithfilter_t2mzg500mrso_resdeep_filt5_yrs-range8000_last9folds_normalize_k1_0.9_k2_0.1_LR_0.001_ZDIM_64/Funs'\u001b[0m\u001b[0;34m\u001b[0m\u001b[0;34m\u001b[0m\u001b[0m\n\u001b[0;32m----> 5\u001b[0;31m \u001b[0mfoo\u001b[0m \u001b[0;34m=\u001b[0m \u001b[0mimportlib\u001b[0m\u001b[0;34m.\u001b[0m\u001b[0mimport_module\u001b[0m\u001b[0;34m(\u001b[0m\u001b[0;34m'models.Funs'\u001b[0m\u001b[0;34m)\u001b[0m\u001b[0;34m\u001b[0m\u001b[0;34m\u001b[0m\u001b[0m\n\u001b[0m",
      "\u001b[0;32m~/miniconda3/envs/myenvnew/lib/python3.9/importlib/__init__.py\u001b[0m in \u001b[0;36mimport_module\u001b[0;34m(name, package)\u001b[0m\n\u001b[1;32m    125\u001b[0m                 \u001b[0;32mbreak\u001b[0m\u001b[0;34m\u001b[0m\u001b[0;34m\u001b[0m\u001b[0m\n\u001b[1;32m    126\u001b[0m             \u001b[0mlevel\u001b[0m \u001b[0;34m+=\u001b[0m \u001b[0;36m1\u001b[0m\u001b[0;34m\u001b[0m\u001b[0;34m\u001b[0m\u001b[0m\n\u001b[0;32m--> 127\u001b[0;31m     \u001b[0;32mreturn\u001b[0m \u001b[0m_bootstrap\u001b[0m\u001b[0;34m.\u001b[0m\u001b[0m_gcd_import\u001b[0m\u001b[0;34m(\u001b[0m\u001b[0mname\u001b[0m\u001b[0;34m[\u001b[0m\u001b[0mlevel\u001b[0m\u001b[0;34m:\u001b[0m\u001b[0;34m]\u001b[0m\u001b[0;34m,\u001b[0m \u001b[0mpackage\u001b[0m\u001b[0;34m,\u001b[0m \u001b[0mlevel\u001b[0m\u001b[0;34m)\u001b[0m\u001b[0;34m\u001b[0m\u001b[0;34m\u001b[0m\u001b[0m\n\u001b[0m\u001b[1;32m    128\u001b[0m \u001b[0;34m\u001b[0m\u001b[0m\n\u001b[1;32m    129\u001b[0m \u001b[0;34m\u001b[0m\u001b[0m\n",
      "\u001b[0;32m~/miniconda3/envs/myenvnew/lib/python3.9/importlib/_bootstrap.py\u001b[0m in \u001b[0;36m_gcd_import\u001b[0;34m(name, package, level)\u001b[0m\n",
      "\u001b[0;32m~/miniconda3/envs/myenvnew/lib/python3.9/importlib/_bootstrap.py\u001b[0m in \u001b[0;36m_find_and_load\u001b[0;34m(name, import_)\u001b[0m\n",
      "\u001b[0;32m~/miniconda3/envs/myenvnew/lib/python3.9/importlib/_bootstrap.py\u001b[0m in \u001b[0;36m_find_and_load_unlocked\u001b[0;34m(name, import_)\u001b[0m\n",
      "\u001b[0;32m~/miniconda3/envs/myenvnew/lib/python3.9/importlib/_bootstrap.py\u001b[0m in \u001b[0;36m_load_unlocked\u001b[0;34m(spec)\u001b[0m\n",
      "\u001b[0;32m~/miniconda3/envs/myenvnew/lib/python3.9/importlib/_bootstrap_external.py\u001b[0m in \u001b[0;36mexec_module\u001b[0;34m(self, module)\u001b[0m\n",
      "\u001b[0;32m~/miniconda3/envs/myenvnew/lib/python3.9/importlib/_bootstrap.py\u001b[0m in \u001b[0;36m_call_with_frames_removed\u001b[0;34m(f, *args, **kwds)\u001b[0m\n",
      "\u001b[0;32m/ClimateDynamics/MediumSpace/ClimateLearningFR/gmiloshe/VAE/models/Funs.py\u001b[0m in \u001b[0;36m<module>\u001b[0;34m\u001b[0m\n\u001b[1;32m     36\u001b[0m     \u001b[0mpath_to_PLASIM\u001b[0m \u001b[0;34m=\u001b[0m \u001b[0mpath_to_here\u001b[0m\u001b[0;34m.\u001b[0m\u001b[0mparent\u001b[0m \u001b[0;34m/\u001b[0m \u001b[0;34m'PLASIM'\u001b[0m\u001b[0;34m\u001b[0m\u001b[0;34m\u001b[0m\u001b[0m\n\u001b[1;32m     37\u001b[0m     \u001b[0;32mif\u001b[0m \u001b[0;32mnot\u001b[0m \u001b[0mos\u001b[0m\u001b[0;34m.\u001b[0m\u001b[0mpath\u001b[0m\u001b[0;34m.\u001b[0m\u001b[0mexists\u001b[0m\u001b[0;34m(\u001b[0m\u001b[0mpath_to_PLASIM\u001b[0m\u001b[0;34m)\u001b[0m\u001b[0;34m:\u001b[0m\u001b[0;34m\u001b[0m\u001b[0;34m\u001b[0m\u001b[0m\n\u001b[0;32m---> 38\u001b[0;31m         \u001b[0;32mraise\u001b[0m \u001b[0mFileNotFoundError\u001b[0m\u001b[0;34m(\u001b[0m\u001b[0;34m'Could not find PLASIM folder'\u001b[0m\u001b[0;34m)\u001b[0m\u001b[0;34m\u001b[0m\u001b[0;34m\u001b[0m\u001b[0m\n\u001b[0m\u001b[1;32m     39\u001b[0m \u001b[0;34m\u001b[0m\u001b[0m\n\u001b[1;32m     40\u001b[0m \u001b[0;31m# go to the parent so vscode is happy with code completion :)\u001b[0m\u001b[0;34m\u001b[0m\u001b[0;34m\u001b[0m\u001b[0m\n",
      "\u001b[0;31mFileNotFoundError\u001b[0m: Could not find PLASIM folder"
     ]
    }
   ],
   "source": [
    "import importlib\n",
    "\n",
    "# For illustrative purposes.\n",
    "name = './models/Plasimvae_learn1_weight212custlosswithfilter_t2mzg500mrso_resdeep_filt5_yrs-range8000_last9folds_normalize_k1_0.9_k2_0.1_LR_0.001_ZDIM_64/Funs'\n",
    "foo = importlib.import_module('models.Funs')"
   ]
  },
  {
   "cell_type": "code",
   "execution_count": 5,
   "id": "5d666e55-ed4f-42fe-a96d-2733b0db55d3",
   "metadata": {},
   "outputs": [
    {
     "name": "stdout",
     "output_type": "stream",
     "text": [
      "__name__ =  Funs\n",
      "sys.modules =  {'sys': <module 'sys' (built-in)>, 'builtins': <module 'builtins' (built-in)>, '_frozen_importlib': <module 'importlib._bootstrap' (frozen)>, '_imp': <module '_imp' (built-in)>, '_thread': <module '_thread' (built-in)>, '_warnings': <module '_warnings' (built-in)>, '_weakref': <module '_weakref' (built-in)>, '_io': <module 'io' (built-in)>, 'marshal': <module 'marshal' (built-in)>, 'posix': <module 'posix' (built-in)>, '_frozen_importlib_external': <module 'importlib._bootstrap_external' (frozen)>, 'time': <module 'time' (built-in)>, 'zipimport': <module 'zipimport' (frozen)>, '_codecs': <module '_codecs' (built-in)>, 'codecs': <module 'codecs' from '/home/gmiloshe/miniconda3/envs/myenvnew/lib/python3.9/codecs.py'>, 'encodings.aliases': <module 'encodings.aliases' from '/home/gmiloshe/miniconda3/envs/myenvnew/lib/python3.9/encodings/aliases.py'>, 'encodings': <module 'encodings' from '/home/gmiloshe/miniconda3/envs/myenvnew/lib/python3.9/encodings/__init__.py'>, 'encodings.utf_8': <module 'encodings.utf_8' from '/home/gmiloshe/miniconda3/envs/myenvnew/lib/python3.9/encodings/utf_8.py'>, '_signal': <module '_signal' (built-in)>, 'encodings.latin_1': <module 'encodings.latin_1' from '/home/gmiloshe/miniconda3/envs/myenvnew/lib/python3.9/encodings/latin_1.py'>, '_abc': <module '_abc' (built-in)>, 'abc': <module 'abc' from '/home/gmiloshe/miniconda3/envs/myenvnew/lib/python3.9/abc.py'>, 'io': <module 'io' from '/home/gmiloshe/miniconda3/envs/myenvnew/lib/python3.9/io.py'>, '__main__': <module '__main__'>, '_stat': <module '_stat' (built-in)>, 'stat': <module 'stat' from '/home/gmiloshe/miniconda3/envs/myenvnew/lib/python3.9/stat.py'>, '_collections_abc': <module '_collections_abc' from '/home/gmiloshe/miniconda3/envs/myenvnew/lib/python3.9/_collections_abc.py'>, 'genericpath': <module 'genericpath' from '/home/gmiloshe/miniconda3/envs/myenvnew/lib/python3.9/genericpath.py'>, 'posixpath': <module 'posixpath' from '/home/gmiloshe/miniconda3/envs/myenvnew/lib/python3.9/posixpath.py'>, 'os.path': <module 'posixpath' from '/home/gmiloshe/miniconda3/envs/myenvnew/lib/python3.9/posixpath.py'>, 'os': <module 'os' from '/home/gmiloshe/miniconda3/envs/myenvnew/lib/python3.9/os.py'>, '_sitebuiltins': <module '_sitebuiltins' from '/home/gmiloshe/miniconda3/envs/myenvnew/lib/python3.9/_sitebuiltins.py'>, '_locale': <module '_locale' (built-in)>, '_bootlocale': <module '_bootlocale' from '/home/gmiloshe/miniconda3/envs/myenvnew/lib/python3.9/_bootlocale.py'>, 'types': <module 'types' from '/home/gmiloshe/miniconda3/envs/myenvnew/lib/python3.9/types.py'>, 'importlib._bootstrap': <module 'importlib._bootstrap' (frozen)>, 'importlib._bootstrap_external': <module 'importlib._bootstrap_external' (frozen)>, 'warnings': <module 'warnings' from '/home/gmiloshe/miniconda3/envs/myenvnew/lib/python3.9/warnings.py'>, 'importlib': <module 'importlib' from '/home/gmiloshe/miniconda3/envs/myenvnew/lib/python3.9/importlib/__init__.py'>, 'importlib.machinery': <module 'importlib.machinery' from '/home/gmiloshe/miniconda3/envs/myenvnew/lib/python3.9/importlib/machinery.py'>, '_heapq': <module '_heapq' from '/home/gmiloshe/miniconda3/envs/myenvnew/lib/python3.9/lib-dynload/_heapq.cpython-39-x86_64-linux-gnu.so'>, 'heapq': <module 'heapq' from '/home/gmiloshe/miniconda3/envs/myenvnew/lib/python3.9/heapq.py'>, 'itertools': <module 'itertools' (built-in)>, 'keyword': <module 'keyword' from '/home/gmiloshe/miniconda3/envs/myenvnew/lib/python3.9/keyword.py'>, '_operator': <module '_operator' (built-in)>, 'operator': <module 'operator' from '/home/gmiloshe/miniconda3/envs/myenvnew/lib/python3.9/operator.py'>, 'reprlib': <module 'reprlib' from '/home/gmiloshe/miniconda3/envs/myenvnew/lib/python3.9/reprlib.py'>, '_collections': <module '_collections' (built-in)>, 'collections': <module 'collections' from '/home/gmiloshe/miniconda3/envs/myenvnew/lib/python3.9/collections/__init__.py'>, 'collections.abc': <module 'collections.abc' from '/home/gmiloshe/miniconda3/envs/myenvnew/lib/python3.9/collections/abc.py'>, '_functools': <module '_functools' (built-in)>, 'functools': <module 'functools' from '/home/gmiloshe/miniconda3/envs/myenvnew/lib/python3.9/functools.py'>, 'contextlib': <module 'contextlib' from '/home/gmiloshe/miniconda3/envs/myenvnew/lib/python3.9/contextlib.py'>, 'enum': <module 'enum' from '/home/gmiloshe/miniconda3/envs/myenvnew/lib/python3.9/enum.py'>, '_sre': <module '_sre' (built-in)>, 'sre_constants': <module 'sre_constants' from '/home/gmiloshe/miniconda3/envs/myenvnew/lib/python3.9/sre_constants.py'>, 'sre_parse': <module 'sre_parse' from '/home/gmiloshe/miniconda3/envs/myenvnew/lib/python3.9/sre_parse.py'>, 'sre_compile': <module 'sre_compile' from '/home/gmiloshe/miniconda3/envs/myenvnew/lib/python3.9/sre_compile.py'>, 'copyreg': <module 'copyreg' from '/home/gmiloshe/miniconda3/envs/myenvnew/lib/python3.9/copyreg.py'>, 're': <module 're' from '/home/gmiloshe/miniconda3/envs/myenvnew/lib/python3.9/re.py'>, 'typing.io': <class 'typing.io'>, 'typing.re': <class 'typing.re'>, 'typing': <module 'typing' from '/home/gmiloshe/miniconda3/envs/myenvnew/lib/python3.9/typing.py'>, 'importlib.abc': <module 'importlib.abc' from '/home/gmiloshe/miniconda3/envs/myenvnew/lib/python3.9/importlib/abc.py'>, 'importlib.util': <module 'importlib.util' from '/home/gmiloshe/miniconda3/envs/myenvnew/lib/python3.9/importlib/util.py'>, 'google': <module 'google' (namespace)>, 'mpl_toolkits': <module 'mpl_toolkits' (namespace)>, 'site': <module 'site' from '/home/gmiloshe/miniconda3/envs/myenvnew/lib/python3.9/site.py'>, '_weakrefset': <module '_weakrefset' from '/home/gmiloshe/miniconda3/envs/myenvnew/lib/python3.9/_weakrefset.py'>, 'weakref': <module 'weakref' from '/home/gmiloshe/miniconda3/envs/myenvnew/lib/python3.9/weakref.py'>, 'pkgutil': <module 'pkgutil' from '/home/gmiloshe/miniconda3/envs/myenvnew/lib/python3.9/pkgutil.py'>, 'runpy': <module 'runpy' from '/home/gmiloshe/miniconda3/envs/myenvnew/lib/python3.9/runpy.py'>, 'ipykernel._version': <module 'ipykernel._version' from '/home/gmiloshe/miniconda3/envs/myenvnew/lib/python3.9/site-packages/ipykernel/_version.py'>, '_json': <module '_json' from '/home/gmiloshe/miniconda3/envs/myenvnew/lib/python3.9/lib-dynload/_json.cpython-39-x86_64-linux-gnu.so'>, 'json.scanner': <module 'json.scanner' from '/home/gmiloshe/miniconda3/envs/myenvnew/lib/python3.9/json/scanner.py'>, 'json.decoder': <module 'json.decoder' from '/home/gmiloshe/miniconda3/envs/myenvnew/lib/python3.9/json/decoder.py'>, 'json.encoder': <module 'json.encoder' from '/home/gmiloshe/miniconda3/envs/myenvnew/lib/python3.9/json/encoder.py'>, 'json': <module 'json' from '/home/gmiloshe/miniconda3/envs/myenvnew/lib/python3.9/json/__init__.py'>, 'errno': <module 'errno' (built-in)>, 'signal': <module 'signal' from '/home/gmiloshe/miniconda3/envs/myenvnew/lib/python3.9/signal.py'>, 'threading': <module 'threading' from '/home/gmiloshe/miniconda3/envs/myenvnew/lib/python3.9/threading.py'>, 'pwd': <module 'pwd' (built-in)>, 'grp': <module 'grp' from '/home/gmiloshe/miniconda3/envs/myenvnew/lib/python3.9/lib-dynload/grp.cpython-39-x86_64-linux-gnu.so'>, '_posixsubprocess': <module '_posixsubprocess' from '/home/gmiloshe/miniconda3/envs/myenvnew/lib/python3.9/lib-dynload/_posixsubprocess.cpython-39-x86_64-linux-gnu.so'>, 'select': <module 'select' from '/home/gmiloshe/miniconda3/envs/myenvnew/lib/python3.9/lib-dynload/select.cpython-39-x86_64-linux-gnu.so'>, 'math': <module 'math' from '/home/gmiloshe/miniconda3/envs/myenvnew/lib/python3.9/lib-dynload/math.cpython-39-x86_64-linux-gnu.so'>, 'selectors': <module 'selectors' from '/home/gmiloshe/miniconda3/envs/myenvnew/lib/python3.9/selectors.py'>, 'subprocess': <module 'subprocess' from '/home/gmiloshe/miniconda3/envs/myenvnew/lib/python3.9/subprocess.py'>, 'jupyter_client._version': <module 'jupyter_client._version' from '/home/gmiloshe/miniconda3/envs/myenvnew/lib/python3.9/site-packages/jupyter_client/_version.py'>, '_ast': <module '_ast' (built-in)>, 'ast': <module 'ast' from '/home/gmiloshe/miniconda3/envs/myenvnew/lib/python3.9/ast.py'>, '_opcode': <module '_opcode' from '/home/gmiloshe/miniconda3/envs/myenvnew/lib/python3.9/lib-dynload/_opcode.cpython-39-x86_64-linux-gnu.so'>, 'opcode': <module 'opcode' from '/home/gmiloshe/miniconda3/envs/myenvnew/lib/python3.9/opcode.py'>, 'dis': <module 'dis' from '/home/gmiloshe/miniconda3/envs/myenvnew/lib/python3.9/dis.py'>, 'token': <module 'token' from '/home/gmiloshe/miniconda3/envs/myenvnew/lib/python3.9/token.py'>, 'tokenize': <module 'tokenize' from '/home/gmiloshe/miniconda3/envs/myenvnew/lib/python3.9/tokenize.py'>, 'linecache': <module 'linecache' from '/home/gmiloshe/miniconda3/envs/myenvnew/lib/python3.9/linecache.py'>, 'inspect': <module 'inspect' from '/home/gmiloshe/miniconda3/envs/myenvnew/lib/python3.9/inspect.py'>, 'traitlets.utils': <module 'traitlets.utils' from '/home/gmiloshe/miniconda3/envs/myenvnew/lib/python3.9/site-packages/traitlets/utils/__init__.py'>, 'traitlets.utils.getargspec': <module 'traitlets.utils.getargspec' from '/home/gmiloshe/miniconda3/envs/myenvnew/lib/python3.9/site-packages/traitlets/utils/getargspec.py'>, 'traitlets.utils.importstring': <module 'traitlets.utils.importstring' from '/home/gmiloshe/miniconda3/envs/myenvnew/lib/python3.9/site-packages/traitlets/utils/importstring.py'>, 'traitlets.utils.sentinel': <module 'traitlets.utils.sentinel' from '/home/gmiloshe/miniconda3/envs/myenvnew/lib/python3.9/site-packages/traitlets/utils/sentinel.py'>, 'traitlets.utils.bunch': <module 'traitlets.utils.bunch' from '/home/gmiloshe/miniconda3/envs/myenvnew/lib/python3.9/site-packages/traitlets/utils/bunch.py'>, 'traitlets.utils.descriptions': <module 'traitlets.utils.descriptions' from '/home/gmiloshe/miniconda3/envs/myenvnew/lib/python3.9/site-packages/traitlets/utils/descriptions.py'>, 'traitlets.traitlets': <module 'traitlets.traitlets' from '/home/gmiloshe/miniconda3/envs/myenvnew/lib/python3.9/site-packages/traitlets/traitlets.py'>, 'copy': <module 'copy' from '/home/gmiloshe/miniconda3/envs/myenvnew/lib/python3.9/copy.py'>, 'traitlets.utils.decorators': <module 'traitlets.utils.decorators' from '/home/gmiloshe/miniconda3/envs/myenvnew/lib/python3.9/site-packages/traitlets/utils/decorators.py'>, 'traitlets._version': <module 'traitlets._version' from '/home/gmiloshe/miniconda3/envs/myenvnew/lib/python3.9/site-packages/traitlets/_version.py'>, 'traitlets': <module 'traitlets' from '/home/gmiloshe/miniconda3/envs/myenvnew/lib/python3.9/site-packages/traitlets/__init__.py'>, 'concurrent': <module 'concurrent' from '/home/gmiloshe/miniconda3/envs/myenvnew/lib/python3.9/concurrent/__init__.py'>, 'traceback': <module 'traceback' from '/home/gmiloshe/miniconda3/envs/myenvnew/lib/python3.9/traceback.py'>, '_string': <module '_string' (built-in)>, 'string': <module 'string' from '/home/gmiloshe/miniconda3/envs/myenvnew/lib/python3.9/string.py'>, 'atexit': <module 'atexit' (built-in)>, 'logging': <module 'logging' from '/home/gmiloshe/miniconda3/envs/myenvnew/lib/python3.9/logging/__init__.py'>, 'concurrent.futures._base': <module 'concurrent.futures._base' from '/home/gmiloshe/miniconda3/envs/myenvnew/lib/python3.9/concurrent/futures/_base.py'>, 'concurrent.futures': <module 'concurrent.futures' from '/home/gmiloshe/miniconda3/envs/myenvnew/lib/python3.9/concurrent/futures/__init__.py'>, '_socket': <module '_socket' from '/home/gmiloshe/miniconda3/envs/myenvnew/lib/python3.9/lib-dynload/_socket.cpython-39-x86_64-linux-gnu.so'>, 'array': <module 'array' from '/home/gmiloshe/miniconda3/envs/myenvnew/lib/python3.9/lib-dynload/array.cpython-39-x86_64-linux-gnu.so'>, 'socket': <module 'socket' from '/home/gmiloshe/miniconda3/envs/myenvnew/lib/python3.9/socket.py'>, '_ssl': <module '_ssl' from '/home/gmiloshe/miniconda3/envs/myenvnew/lib/python3.9/lib-dynload/_ssl.cpython-39-x86_64-linux-gnu.so'>, '_struct': <module '_struct' from '/home/gmiloshe/miniconda3/envs/myenvnew/lib/python3.9/lib-dynload/_struct.cpython-39-x86_64-linux-gnu.so'>, 'struct': <module 'struct' from '/home/gmiloshe/miniconda3/envs/myenvnew/lib/python3.9/struct.py'>, 'binascii': <module 'binascii' from '/home/gmiloshe/miniconda3/envs/myenvnew/lib/python3.9/lib-dynload/binascii.cpython-39-x86_64-linux-gnu.so'>, 'base64': <module 'base64' from '/home/gmiloshe/miniconda3/envs/myenvnew/lib/python3.9/base64.py'>, 'ssl': <module 'ssl' from '/home/gmiloshe/miniconda3/envs/myenvnew/lib/python3.9/ssl.py'>, 'asyncio.constants': <module 'asyncio.constants' from '/home/gmiloshe/miniconda3/envs/myenvnew/lib/python3.9/asyncio/constants.py'>, 'asyncio.format_helpers': <module 'asyncio.format_helpers' from '/home/gmiloshe/miniconda3/envs/myenvnew/lib/python3.9/asyncio/format_helpers.py'>, 'asyncio.base_futures': <module 'asyncio.base_futures' from '/home/gmiloshe/miniconda3/envs/myenvnew/lib/python3.9/asyncio/base_futures.py'>, 'asyncio.log': <module 'asyncio.log' from '/home/gmiloshe/miniconda3/envs/myenvnew/lib/python3.9/asyncio/log.py'>, 'asyncio.coroutines': <module 'asyncio.coroutines' from '/home/gmiloshe/miniconda3/envs/myenvnew/lib/python3.9/asyncio/coroutines.py'>, '_contextvars': <module '_contextvars' from '/home/gmiloshe/miniconda3/envs/myenvnew/lib/python3.9/lib-dynload/_contextvars.cpython-39-x86_64-linux-gnu.so'>, 'contextvars': <module 'contextvars' from '/home/gmiloshe/miniconda3/envs/myenvnew/lib/python3.9/contextvars.py'>, 'asyncio.exceptions': <module 'asyncio.exceptions' from '/home/gmiloshe/miniconda3/envs/myenvnew/lib/python3.9/asyncio/exceptions.py'>, 'asyncio.base_tasks': <module 'asyncio.base_tasks' from '/home/gmiloshe/miniconda3/envs/myenvnew/lib/python3.9/asyncio/base_tasks.py'>, '_asyncio': <module '_asyncio' from '/home/gmiloshe/miniconda3/envs/myenvnew/lib/python3.9/lib-dynload/_asyncio.cpython-39-x86_64-linux-gnu.so'>, 'asyncio.events': <module 'asyncio.events' from '/home/gmiloshe/miniconda3/envs/myenvnew/lib/python3.9/asyncio/events.py'>, 'asyncio.futures': <module 'asyncio.futures' from '/home/gmiloshe/miniconda3/envs/myenvnew/lib/python3.9/asyncio/futures.py'>, 'asyncio.protocols': <module 'asyncio.protocols' from '/home/gmiloshe/miniconda3/envs/myenvnew/lib/python3.9/asyncio/protocols.py'>, 'asyncio.transports': <module 'asyncio.transports' from '/home/gmiloshe/miniconda3/envs/myenvnew/lib/python3.9/asyncio/transports.py'>, 'asyncio.sslproto': <module 'asyncio.sslproto' from '/home/gmiloshe/miniconda3/envs/myenvnew/lib/python3.9/asyncio/sslproto.py'>, 'asyncio.locks': <module 'asyncio.locks' from '/home/gmiloshe/miniconda3/envs/myenvnew/lib/python3.9/asyncio/locks.py'>, 'asyncio.tasks': <module 'asyncio.tasks' from '/home/gmiloshe/miniconda3/envs/myenvnew/lib/python3.9/asyncio/tasks.py'>, 'asyncio.staggered': <module 'asyncio.staggered' from '/home/gmiloshe/miniconda3/envs/myenvnew/lib/python3.9/asyncio/staggered.py'>, 'asyncio.trsock': <module 'asyncio.trsock' from '/home/gmiloshe/miniconda3/envs/myenvnew/lib/python3.9/asyncio/trsock.py'>, 'asyncio.base_events': <module 'asyncio.base_events' from '/home/gmiloshe/miniconda3/envs/myenvnew/lib/python3.9/asyncio/base_events.py'>, 'asyncio.runners': <module 'asyncio.runners' from '/home/gmiloshe/miniconda3/envs/myenvnew/lib/python3.9/asyncio/runners.py'>, 'asyncio.queues': <module 'asyncio.queues' from '/home/gmiloshe/miniconda3/envs/myenvnew/lib/python3.9/asyncio/queues.py'>, 'asyncio.streams': <module 'asyncio.streams' from '/home/gmiloshe/miniconda3/envs/myenvnew/lib/python3.9/asyncio/streams.py'>, 'asyncio.subprocess': <module 'asyncio.subprocess' from '/home/gmiloshe/miniconda3/envs/myenvnew/lib/python3.9/asyncio/subprocess.py'>, 'asyncio.threads': <module 'asyncio.threads' from '/home/gmiloshe/miniconda3/envs/myenvnew/lib/python3.9/asyncio/threads.py'>, 'asyncio.base_subprocess': <module 'asyncio.base_subprocess' from '/home/gmiloshe/miniconda3/envs/myenvnew/lib/python3.9/asyncio/base_subprocess.py'>, 'asyncio.selector_events': <module 'asyncio.selector_events' from '/home/gmiloshe/miniconda3/envs/myenvnew/lib/python3.9/asyncio/selector_events.py'>, 'asyncio.unix_events': <module 'asyncio.unix_events' from '/home/gmiloshe/miniconda3/envs/myenvnew/lib/python3.9/asyncio/unix_events.py'>, 'asyncio': <module 'asyncio' from '/home/gmiloshe/miniconda3/envs/myenvnew/lib/python3.9/asyncio/__init__.py'>, '_queue': <module '_queue' from '/home/gmiloshe/miniconda3/envs/myenvnew/lib/python3.9/lib-dynload/_queue.cpython-39-x86_64-linux-gnu.so'>, 'queue': <module 'queue' from '/home/gmiloshe/miniconda3/envs/myenvnew/lib/python3.9/queue.py'>, 'platform': <module 'platform' from '/home/gmiloshe/miniconda3/envs/myenvnew/lib/python3.9/platform.py'>, '_ctypes': <module '_ctypes' from '/home/gmiloshe/miniconda3/envs/myenvnew/lib/python3.9/lib-dynload/_ctypes.cpython-39-x86_64-linux-gnu.so'>, 'ctypes._endian': <module 'ctypes._endian' from '/home/gmiloshe/miniconda3/envs/myenvnew/lib/python3.9/ctypes/_endian.py'>, 'ctypes': <module 'ctypes' from '/home/gmiloshe/miniconda3/envs/myenvnew/lib/python3.9/ctypes/__init__.py'>, 'zmq.backend.select': <module 'zmq.backend.select' from '/home/gmiloshe/miniconda3/envs/myenvnew/lib/python3.9/site-packages/zmq/backend/select.py'>, 'cython_runtime': <module 'cython_runtime'>, 'zmq.backend.cython.constants': <module 'zmq.backend.cython.constants' from '/home/gmiloshe/miniconda3/envs/myenvnew/lib/python3.9/site-packages/zmq/backend/cython/constants.cpython-39-x86_64-linux-gnu.so'>, '_cython_0_29_24': <module '_cython_0_29_24'>, 'zmq.backend.cython.error': <module 'zmq.backend.cython.error' from '/home/gmiloshe/miniconda3/envs/myenvnew/lib/python3.9/site-packages/zmq/backend/cython/error.cpython-39-x86_64-linux-gnu.so'>, 'zmq.error': <module 'zmq.error' from '/home/gmiloshe/miniconda3/envs/myenvnew/lib/python3.9/site-packages/zmq/error.py'>, 'zmq.backend.cython.message': <module 'zmq.backend.cython.message' from '/home/gmiloshe/miniconda3/envs/myenvnew/lib/python3.9/site-packages/zmq/backend/cython/message.cpython-39-x86_64-linux-gnu.so'>, 'zmq.backend.cython.context': <module 'zmq.backend.cython.context' from '/home/gmiloshe/miniconda3/envs/myenvnew/lib/python3.9/site-packages/zmq/backend/cython/context.cpython-39-x86_64-linux-gnu.so'>, '_bisect': <module '_bisect' from '/home/gmiloshe/miniconda3/envs/myenvnew/lib/python3.9/lib-dynload/_bisect.cpython-39-x86_64-linux-gnu.so'>, 'bisect': <module 'bisect' from '/home/gmiloshe/miniconda3/envs/myenvnew/lib/python3.9/bisect.py'>, '_random': <module '_random' from '/home/gmiloshe/miniconda3/envs/myenvnew/lib/python3.9/lib-dynload/_random.cpython-39-x86_64-linux-gnu.so'>, '_sha512': <module '_sha512' from '/home/gmiloshe/miniconda3/envs/myenvnew/lib/python3.9/lib-dynload/_sha512.cpython-39-x86_64-linux-gnu.so'>, 'random': <module 'random' from '/home/gmiloshe/miniconda3/envs/myenvnew/lib/python3.9/random.py'>, '_compat_pickle': <module '_compat_pickle' from '/home/gmiloshe/miniconda3/envs/myenvnew/lib/python3.9/_compat_pickle.py'>, '_pickle': <module '_pickle' from '/home/gmiloshe/miniconda3/envs/myenvnew/lib/python3.9/lib-dynload/_pickle.cpython-39-x86_64-linux-gnu.so'>, 'pickle': <module 'pickle' from '/home/gmiloshe/miniconda3/envs/myenvnew/lib/python3.9/pickle.py'>, 'zmq.backend.cython.socket': <module 'zmq.backend.cython.socket' from '/home/gmiloshe/miniconda3/envs/myenvnew/lib/python3.9/site-packages/zmq/backend/cython/socket.cpython-39-x86_64-linux-gnu.so'>, 'zmq.backend.cython.utils': <module 'zmq.backend.cython.utils' from '/home/gmiloshe/miniconda3/envs/myenvnew/lib/python3.9/site-packages/zmq/backend/cython/utils.cpython-39-x86_64-linux-gnu.so'>, 'zmq.backend.cython._poll': <module 'zmq.backend.cython._poll' from '/home/gmiloshe/miniconda3/envs/myenvnew/lib/python3.9/site-packages/zmq/backend/cython/_poll.cpython-39-x86_64-linux-gnu.so'>, 'zmq.backend.cython._version': <module 'zmq.backend.cython._version' from '/home/gmiloshe/miniconda3/envs/myenvnew/lib/python3.9/site-packages/zmq/backend/cython/_version.cpython-39-x86_64-linux-gnu.so'>, 'zmq.backend.cython._device': <module 'zmq.backend.cython._device' from '/home/gmiloshe/miniconda3/envs/myenvnew/lib/python3.9/site-packages/zmq/backend/cython/_device.cpython-39-x86_64-linux-gnu.so'>, 'zmq.backend.cython._proxy_steerable': <module 'zmq.backend.cython._proxy_steerable' from '/home/gmiloshe/miniconda3/envs/myenvnew/lib/python3.9/site-packages/zmq/backend/cython/_proxy_steerable.cpython-39-x86_64-linux-gnu.so'>, 'zmq.backend.cython': <module 'zmq.backend.cython' from '/home/gmiloshe/miniconda3/envs/myenvnew/lib/python3.9/site-packages/zmq/backend/cython/__init__.py'>, 'zmq.backend': <module 'zmq.backend' from '/home/gmiloshe/miniconda3/envs/myenvnew/lib/python3.9/site-packages/zmq/backend/__init__.py'>, 'zmq.utils': <module 'zmq.utils' from '/home/gmiloshe/miniconda3/envs/myenvnew/lib/python3.9/site-packages/zmq/utils/__init__.py'>, 'zmq.utils.constant_names': <module 'zmq.utils.constant_names' from '/home/gmiloshe/miniconda3/envs/myenvnew/lib/python3.9/site-packages/zmq/utils/constant_names.py'>, 'zmq.sugar.constants': <module 'zmq.sugar.constants' from '/home/gmiloshe/miniconda3/envs/myenvnew/lib/python3.9/site-packages/zmq/sugar/constants.py'>, 'zmq.sugar.attrsettr': <module 'zmq.sugar.attrsettr' from '/home/gmiloshe/miniconda3/envs/myenvnew/lib/python3.9/site-packages/zmq/sugar/attrsettr.py'>, 'zmq.sugar.poll': <module 'zmq.sugar.poll' from '/home/gmiloshe/miniconda3/envs/myenvnew/lib/python3.9/site-packages/zmq/sugar/poll.py'>, 'zmq.utils.jsonapi': <module 'zmq.utils.jsonapi' from '/home/gmiloshe/miniconda3/envs/myenvnew/lib/python3.9/site-packages/zmq/utils/jsonapi.py'>, 'zmq.utils.strtypes': <module 'zmq.utils.strtypes' from '/home/gmiloshe/miniconda3/envs/myenvnew/lib/python3.9/site-packages/zmq/utils/strtypes.py'>, 'zmq.sugar.socket': <module 'zmq.sugar.socket' from '/home/gmiloshe/miniconda3/envs/myenvnew/lib/python3.9/site-packages/zmq/sugar/socket.py'>, 'zmq.sugar.context': <module 'zmq.sugar.context' from '/home/gmiloshe/miniconda3/envs/myenvnew/lib/python3.9/site-packages/zmq/sugar/context.py'>, 'zmq.sugar.frame': <module 'zmq.sugar.frame' from '/home/gmiloshe/miniconda3/envs/myenvnew/lib/python3.9/site-packages/zmq/sugar/frame.py'>, 'zmq.sugar.tracker': <module 'zmq.sugar.tracker' from '/home/gmiloshe/miniconda3/envs/myenvnew/lib/python3.9/site-packages/zmq/sugar/tracker.py'>, 'zmq.sugar.version': <module 'zmq.sugar.version' from '/home/gmiloshe/miniconda3/envs/myenvnew/lib/python3.9/site-packages/zmq/sugar/version.py'>, 'zmq.sugar.stopwatch': <module 'zmq.sugar.stopwatch' from '/home/gmiloshe/miniconda3/envs/myenvnew/lib/python3.9/site-packages/zmq/sugar/stopwatch.py'>, 'zmq.sugar': <module 'zmq.sugar' from '/home/gmiloshe/miniconda3/envs/myenvnew/lib/python3.9/site-packages/zmq/sugar/__init__.py'>, 'zmq': <module 'zmq' from '/home/gmiloshe/miniconda3/envs/myenvnew/lib/python3.9/site-packages/zmq/__init__.py'>, 'zmq._future': <module 'zmq._future' from '/home/gmiloshe/miniconda3/envs/myenvnew/lib/python3.9/site-packages/zmq/_future.py'>, 'zmq.asyncio': <module 'zmq.asyncio' from '/home/gmiloshe/miniconda3/envs/myenvnew/lib/python3.9/site-packages/zmq/asyncio.py'>, 'jupyter_client.channelsabc': <module 'jupyter_client.channelsabc' from '/home/gmiloshe/miniconda3/envs/myenvnew/lib/python3.9/site-packages/jupyter_client/channelsabc.py'>, '_hashlib': <module '_hashlib' from '/home/gmiloshe/miniconda3/envs/myenvnew/lib/python3.9/lib-dynload/_hashlib.cpython-39-x86_64-linux-gnu.so'>, '_blake2': <module '_blake2' from '/home/gmiloshe/miniconda3/envs/myenvnew/lib/python3.9/lib-dynload/_blake2.cpython-39-x86_64-linux-gnu.so'>, 'hashlib': <module 'hashlib' from '/home/gmiloshe/miniconda3/envs/myenvnew/lib/python3.9/hashlib.py'>, 'hmac': <module 'hmac' from '/home/gmiloshe/miniconda3/envs/myenvnew/lib/python3.9/hmac.py'>, 'pprint': <module 'pprint' from '/home/gmiloshe/miniconda3/envs/myenvnew/lib/python3.9/pprint.py'>, '_datetime': <module '_datetime' from '/home/gmiloshe/miniconda3/envs/myenvnew/lib/python3.9/lib-dynload/_datetime.cpython-39-x86_64-linux-gnu.so'>, 'datetime': <module 'datetime' from '/home/gmiloshe/miniconda3/envs/myenvnew/lib/python3.9/datetime.py'>, 'gettext': <module 'gettext' from '/home/gmiloshe/miniconda3/envs/myenvnew/lib/python3.9/gettext.py'>, 'argparse': <module 'argparse' from '/home/gmiloshe/miniconda3/envs/myenvnew/lib/python3.9/argparse.py'>, 'traitlets.config.loader': <module 'traitlets.config.loader' from '/home/gmiloshe/miniconda3/envs/myenvnew/lib/python3.9/site-packages/traitlets/config/loader.py'>, 'textwrap': <module 'textwrap' from '/home/gmiloshe/miniconda3/envs/myenvnew/lib/python3.9/textwrap.py'>, 'traitlets.utils.text': <module 'traitlets.utils.text' from '/home/gmiloshe/miniconda3/envs/myenvnew/lib/python3.9/site-packages/traitlets/utils/text.py'>, 'traitlets.config.configurable': <module 'traitlets.config.configurable' from '/home/gmiloshe/miniconda3/envs/myenvnew/lib/python3.9/site-packages/traitlets/config/configurable.py'>, 'traitlets.config.application': <module 'traitlets.config.application' from '/home/gmiloshe/miniconda3/envs/myenvnew/lib/python3.9/site-packages/traitlets/config/application.py'>, 'traitlets.config': <module 'traitlets.config' from '/home/gmiloshe/miniconda3/envs/myenvnew/lib/python3.9/site-packages/traitlets/config/__init__.py'>, 'traitlets.log': <module 'traitlets.log' from '/home/gmiloshe/miniconda3/envs/myenvnew/lib/python3.9/site-packages/traitlets/log.py'>, '__future__': <module '__future__' from '/home/gmiloshe/miniconda3/envs/myenvnew/lib/python3.9/__future__.py'>, 'tornado': <module 'tornado' from '/home/gmiloshe/miniconda3/envs/myenvnew/lib/python3.9/site-packages/tornado/__init__.py'>, 'logging.handlers': <module 'logging.handlers' from '/home/gmiloshe/miniconda3/envs/myenvnew/lib/python3.9/logging/handlers.py'>, 'html.entities': <module 'html.entities' from '/home/gmiloshe/miniconda3/envs/myenvnew/lib/python3.9/html/entities.py'>, 'html': <module 'html' from '/home/gmiloshe/miniconda3/envs/myenvnew/lib/python3.9/html/__init__.py'>, 'urllib': <module 'urllib' from '/home/gmiloshe/miniconda3/envs/myenvnew/lib/python3.9/urllib/__init__.py'>, 'urllib.parse': <module 'urllib.parse' from '/home/gmiloshe/miniconda3/envs/myenvnew/lib/python3.9/urllib/parse.py'>, 'zlib': <module 'zlib' from '/home/gmiloshe/miniconda3/envs/myenvnew/lib/python3.9/lib-dynload/zlib.cpython-39-x86_64-linux-gnu.so'>, 'tornado.speedups': <module 'tornado.speedups' from '/home/gmiloshe/miniconda3/envs/myenvnew/lib/python3.9/site-packages/tornado/speedups.cpython-39-x86_64-linux-gnu.so'>, 'tornado.util': <module 'tornado.util' from '/home/gmiloshe/miniconda3/envs/myenvnew/lib/python3.9/site-packages/tornado/util.py'>, 'tornado.escape': <module 'tornado.escape' from '/home/gmiloshe/miniconda3/envs/myenvnew/lib/python3.9/site-packages/tornado/escape.py'>, '_curses': <module '_curses' from '/home/gmiloshe/miniconda3/envs/myenvnew/lib/python3.9/lib-dynload/_curses.cpython-39-x86_64-linux-gnu.so'>, 'curses': <module 'curses' from '/home/gmiloshe/miniconda3/envs/myenvnew/lib/python3.9/curses/__init__.py'>, 'tornado.log': <module 'tornado.log' from '/home/gmiloshe/miniconda3/envs/myenvnew/lib/python3.9/site-packages/tornado/log.py'>, 'numbers': <module 'numbers' from '/home/gmiloshe/miniconda3/envs/myenvnew/lib/python3.9/numbers.py'>, 'tornado.concurrent': <module 'tornado.concurrent' from '/home/gmiloshe/miniconda3/envs/myenvnew/lib/python3.9/site-packages/tornado/concurrent.py'>, 'tornado.ioloop': <module 'tornado.ioloop' from '/home/gmiloshe/miniconda3/envs/myenvnew/lib/python3.9/site-packages/tornado/ioloop.py'>, 'tornado.platform': <module 'tornado.platform' from '/home/gmiloshe/miniconda3/envs/myenvnew/lib/python3.9/site-packages/tornado/platform/__init__.py'>, 'tornado.gen': <module 'tornado.gen' from '/home/gmiloshe/miniconda3/envs/myenvnew/lib/python3.9/site-packages/tornado/gen.py'>, 'tornado.platform.asyncio': <module 'tornado.platform.asyncio' from '/home/gmiloshe/miniconda3/envs/myenvnew/lib/python3.9/site-packages/tornado/platform/asyncio.py'>, 'zmq.eventloop.ioloop': <module 'zmq.eventloop.ioloop' from '/home/gmiloshe/miniconda3/envs/myenvnew/lib/python3.9/site-packages/zmq/eventloop/ioloop.py'>, 'zmq.eventloop': <module 'zmq.eventloop' from '/home/gmiloshe/miniconda3/envs/myenvnew/lib/python3.9/site-packages/zmq/eventloop/__init__.py'>, 'zmq.eventloop.zmqstream': <module 'zmq.eventloop.zmqstream' from '/home/gmiloshe/miniconda3/envs/myenvnew/lib/python3.9/site-packages/zmq/eventloop/zmqstream.py'>, 'jupyter_client.adapter': <module 'jupyter_client.adapter' from '/home/gmiloshe/miniconda3/envs/myenvnew/lib/python3.9/site-packages/jupyter_client/adapter.py'>, 'dateutil._version': <module 'dateutil._version' from '/home/gmiloshe/miniconda3/envs/myenvnew/lib/python3.9/site-packages/dateutil/_version.py'>, 'dateutil': <module 'dateutil' from '/home/gmiloshe/miniconda3/envs/myenvnew/lib/python3.9/site-packages/dateutil/__init__.py'>, 'locale': <module 'locale' from '/home/gmiloshe/miniconda3/envs/myenvnew/lib/python3.9/locale.py'>, 'calendar': <module 'calendar' from '/home/gmiloshe/miniconda3/envs/myenvnew/lib/python3.9/calendar.py'>, 'six': <module 'six' from '/home/gmiloshe/miniconda3/envs/myenvnew/lib/python3.9/site-packages/six.py'>, '_decimal': <module '_decimal' from '/home/gmiloshe/miniconda3/envs/myenvnew/lib/python3.9/lib-dynload/_decimal.cpython-39-x86_64-linux-gnu.so'>, 'decimal': <module 'decimal' from '/home/gmiloshe/miniconda3/envs/myenvnew/lib/python3.9/decimal.py'>, 'dateutil._common': <module 'dateutil._common' from '/home/gmiloshe/miniconda3/envs/myenvnew/lib/python3.9/site-packages/dateutil/_common.py'>, 'dateutil.relativedelta': <module 'dateutil.relativedelta' from '/home/gmiloshe/miniconda3/envs/myenvnew/lib/python3.9/site-packages/dateutil/relativedelta.py'>, 'six.moves': <module 'six.moves' (<six._SixMetaPathImporter object at 0x14a5b6360c70>)>, 'dateutil.tz._common': <module 'dateutil.tz._common' from '/home/gmiloshe/miniconda3/envs/myenvnew/lib/python3.9/site-packages/dateutil/tz/_common.py'>, 'dateutil.tz._factories': <module 'dateutil.tz._factories' from '/home/gmiloshe/miniconda3/envs/myenvnew/lib/python3.9/site-packages/dateutil/tz/_factories.py'>, 'dateutil.tz.tz': <module 'dateutil.tz.tz' from '/home/gmiloshe/miniconda3/envs/myenvnew/lib/python3.9/site-packages/dateutil/tz/tz.py'>, 'dateutil.tz': <module 'dateutil.tz' from '/home/gmiloshe/miniconda3/envs/myenvnew/lib/python3.9/site-packages/dateutil/tz/__init__.py'>, 'dateutil.parser._parser': <module 'dateutil.parser._parser' from '/home/gmiloshe/miniconda3/envs/myenvnew/lib/python3.9/site-packages/dateutil/parser/_parser.py'>, 'dateutil.parser.isoparser': <module 'dateutil.parser.isoparser' from '/home/gmiloshe/miniconda3/envs/myenvnew/lib/python3.9/site-packages/dateutil/parser/isoparser.py'>, 'dateutil.parser': <module 'dateutil.parser' from '/home/gmiloshe/miniconda3/envs/myenvnew/lib/python3.9/site-packages/dateutil/parser/__init__.py'>, '_strptime': <module '_strptime' from '/home/gmiloshe/miniconda3/envs/myenvnew/lib/python3.9/_strptime.py'>, 'jupyter_client.jsonutil': <module 'jupyter_client.jsonutil' from '/home/gmiloshe/miniconda3/envs/myenvnew/lib/python3.9/site-packages/jupyter_client/jsonutil.py'>, 'jupyter_client.session': <module 'jupyter_client.session' from '/home/gmiloshe/miniconda3/envs/myenvnew/lib/python3.9/site-packages/jupyter_client/session.py'>, 'jupyter_client.channels': <module 'jupyter_client.channels' from '/home/gmiloshe/miniconda3/envs/myenvnew/lib/python3.9/site-packages/jupyter_client/channels.py'>, 'termios': <module 'termios' from '/home/gmiloshe/miniconda3/envs/myenvnew/lib/python3.9/lib-dynload/termios.cpython-39-x86_64-linux-gnu.so'>, 'getpass': <module 'getpass' from '/home/gmiloshe/miniconda3/envs/myenvnew/lib/python3.9/getpass.py'>, 'jupyter_client.clientabc': <module 'jupyter_client.clientabc' from '/home/gmiloshe/miniconda3/envs/myenvnew/lib/python3.9/site-packages/jupyter_client/clientabc.py'>, 'fnmatch': <module 'fnmatch' from '/home/gmiloshe/miniconda3/envs/myenvnew/lib/python3.9/fnmatch.py'>, 'glob': <module 'glob' from '/home/gmiloshe/miniconda3/envs/myenvnew/lib/python3.9/glob.py'>, '_compression': <module '_compression' from '/home/gmiloshe/miniconda3/envs/myenvnew/lib/python3.9/_compression.py'>, '_bz2': <module '_bz2' from '/home/gmiloshe/miniconda3/envs/myenvnew/lib/python3.9/lib-dynload/_bz2.cpython-39-x86_64-linux-gnu.so'>, 'bz2': <module 'bz2' from '/home/gmiloshe/miniconda3/envs/myenvnew/lib/python3.9/bz2.py'>, '_lzma': <module '_lzma' from '/home/gmiloshe/miniconda3/envs/myenvnew/lib/python3.9/lib-dynload/_lzma.cpython-39-x86_64-linux-gnu.so'>, 'lzma': <module 'lzma' from '/home/gmiloshe/miniconda3/envs/myenvnew/lib/python3.9/lzma.py'>, 'shutil': <module 'shutil' from '/home/gmiloshe/miniconda3/envs/myenvnew/lib/python3.9/shutil.py'>, 'tempfile': <module 'tempfile' from '/home/gmiloshe/miniconda3/envs/myenvnew/lib/python3.9/tempfile.py'>, 'jupyter_core.version': <module 'jupyter_core.version' from '/home/gmiloshe/miniconda3/envs/myenvnew/lib/python3.9/site-packages/jupyter_core/version.py'>, 'jupyter_core': <module 'jupyter_core' from '/home/gmiloshe/miniconda3/envs/myenvnew/lib/python3.9/site-packages/jupyter_core/__init__.py'>, 'ntpath': <module 'ntpath' from '/home/gmiloshe/miniconda3/envs/myenvnew/lib/python3.9/ntpath.py'>, 'pathlib': <module 'pathlib' from '/home/gmiloshe/miniconda3/envs/myenvnew/lib/python3.9/pathlib.py'>, 'jupyter_core.paths': <module 'jupyter_core.paths' from '/home/gmiloshe/miniconda3/envs/myenvnew/lib/python3.9/site-packages/jupyter_core/paths.py'>, 'jupyter_client.localinterfaces': <module 'jupyter_client.localinterfaces' from '/home/gmiloshe/miniconda3/envs/myenvnew/lib/python3.9/site-packages/jupyter_client/localinterfaces.py'>, 'jupyter_client.utils': <module 'jupyter_client.utils' from '/home/gmiloshe/miniconda3/envs/myenvnew/lib/python3.9/site-packages/jupyter_client/utils.py'>, 'jupyter_client.connect': <module 'jupyter_client.connect' from '/home/gmiloshe/miniconda3/envs/myenvnew/lib/python3.9/site-packages/jupyter_client/connect.py'>, 'jupyter_client.client': <module 'jupyter_client.client' from '/home/gmiloshe/miniconda3/envs/myenvnew/lib/python3.9/site-packages/jupyter_client/client.py'>, 'jupyter_client.asynchronous.client': <module 'jupyter_client.asynchronous.client' from '/home/gmiloshe/miniconda3/envs/myenvnew/lib/python3.9/site-packages/jupyter_client/asynchronous/client.py'>, 'jupyter_client.asynchronous': <module 'jupyter_client.asynchronous' from '/home/gmiloshe/miniconda3/envs/myenvnew/lib/python3.9/site-packages/jupyter_client/asynchronous/__init__.py'>, 'jupyter_client.blocking.client': <module 'jupyter_client.blocking.client' from '/home/gmiloshe/miniconda3/envs/myenvnew/lib/python3.9/site-packages/jupyter_client/blocking/client.py'>, 'jupyter_client.blocking': <module 'jupyter_client.blocking' from '/home/gmiloshe/miniconda3/envs/myenvnew/lib/python3.9/site-packages/jupyter_client/blocking/__init__.py'>, 'jupyter_client.launcher': <module 'jupyter_client.launcher' from '/home/gmiloshe/miniconda3/envs/myenvnew/lib/python3.9/site-packages/jupyter_client/launcher.py'>, 'uuid': <module 'uuid' from '/home/gmiloshe/miniconda3/envs/myenvnew/lib/python3.9/uuid.py'>, 'jupyter_client.managerabc': <module 'jupyter_client.managerabc' from '/home/gmiloshe/miniconda3/envs/myenvnew/lib/python3.9/site-packages/jupyter_client/managerabc.py'>, 'zipfile': <module 'zipfile' from '/home/gmiloshe/miniconda3/envs/myenvnew/lib/python3.9/zipfile.py'>, 'configparser': <module 'configparser' from '/home/gmiloshe/miniconda3/envs/myenvnew/lib/python3.9/configparser.py'>, 'entrypoints': <module 'entrypoints' from '/home/gmiloshe/miniconda3/envs/myenvnew/lib/python3.9/site-packages/entrypoints.py'>, 'jupyter_client.provisioning.provisioner_base': <module 'jupyter_client.provisioning.provisioner_base' from '/home/gmiloshe/miniconda3/envs/myenvnew/lib/python3.9/site-packages/jupyter_client/provisioning/provisioner_base.py'>, 'jupyter_client.provisioning.factory': <module 'jupyter_client.provisioning.factory' from '/home/gmiloshe/miniconda3/envs/myenvnew/lib/python3.9/site-packages/jupyter_client/provisioning/factory.py'>, 'jupyter_client.provisioning.local_provisioner': <module 'jupyter_client.provisioning.local_provisioner' from '/home/gmiloshe/miniconda3/envs/myenvnew/lib/python3.9/site-packages/jupyter_client/provisioning/local_provisioner.py'>, 'jupyter_client.provisioning': <module 'jupyter_client.provisioning' from '/home/gmiloshe/miniconda3/envs/myenvnew/lib/python3.9/site-packages/jupyter_client/provisioning/__init__.py'>, 'jupyter_client.kernelspec': <module 'jupyter_client.kernelspec' from '/home/gmiloshe/miniconda3/envs/myenvnew/lib/python3.9/site-packages/jupyter_client/kernelspec.py'>, 'jupyter_client.manager': <module 'jupyter_client.manager' from '/home/gmiloshe/miniconda3/envs/myenvnew/lib/python3.9/site-packages/jupyter_client/manager.py'>, 'jupyter_client.multikernelmanager': <module 'jupyter_client.multikernelmanager' from '/home/gmiloshe/miniconda3/envs/myenvnew/lib/python3.9/site-packages/jupyter_client/multikernelmanager.py'>, 'jupyter_client': <module 'jupyter_client' from '/home/gmiloshe/miniconda3/envs/myenvnew/lib/python3.9/site-packages/jupyter_client/__init__.py'>, 'ipykernel.connect': <module 'ipykernel.connect' from '/home/gmiloshe/miniconda3/envs/myenvnew/lib/python3.9/site-packages/ipykernel/connect.py'>, 'ipykernel': <module 'ipykernel' from '/home/gmiloshe/miniconda3/envs/myenvnew/lib/python3.9/site-packages/ipykernel/__init__.py'>, 'IPython.core': <module 'IPython.core' from '/home/gmiloshe/miniconda3/envs/myenvnew/lib/python3.9/site-packages/IPython/core/__init__.py'>, 'IPython.core.getipython': <module 'IPython.core.getipython' from '/home/gmiloshe/miniconda3/envs/myenvnew/lib/python3.9/site-packages/IPython/core/getipython.py'>, 'IPython.core.release': <module 'IPython.core.release' from '/home/gmiloshe/miniconda3/envs/myenvnew/lib/python3.9/site-packages/IPython/core/release.py'>, 'sysconfig': <module 'sysconfig' from '/home/gmiloshe/miniconda3/envs/myenvnew/lib/python3.9/sysconfig.py'>, '_sysconfigdata__linux_x86_64-linux-gnu': <module '_sysconfigdata__linux_x86_64-linux-gnu' from '/home/gmiloshe/miniconda3/envs/myenvnew/lib/python3.9/_sysconfigdata__linux_x86_64-linux-gnu.py'>, 'pydoc': <module 'pydoc' from '/home/gmiloshe/miniconda3/envs/myenvnew/lib/python3.9/pydoc.py'>, 'bdb': <module 'bdb' from '/home/gmiloshe/miniconda3/envs/myenvnew/lib/python3.9/bdb.py'>, 'IPython.utils': <module 'IPython.utils' from '/home/gmiloshe/miniconda3/envs/myenvnew/lib/python3.9/site-packages/IPython/utils/__init__.py'>, 'IPython.utils.ipstruct': <module 'IPython.utils.ipstruct' from '/home/gmiloshe/miniconda3/envs/myenvnew/lib/python3.9/site-packages/IPython/utils/ipstruct.py'>, 'IPython.utils.coloransi': <module 'IPython.utils.coloransi' from '/home/gmiloshe/miniconda3/envs/myenvnew/lib/python3.9/site-packages/IPython/utils/coloransi.py'>, 'pygments': <module 'pygments' from '/home/gmiloshe/miniconda3/envs/myenvnew/lib/python3.9/site-packages/pygments/__init__.py'>, 'IPython.utils.colorable': <module 'IPython.utils.colorable' from '/home/gmiloshe/miniconda3/envs/myenvnew/lib/python3.9/site-packages/IPython/utils/colorable.py'>, 'IPython.utils.PyColorize': <module 'IPython.utils.PyColorize' from '/home/gmiloshe/miniconda3/envs/myenvnew/lib/python3.9/site-packages/IPython/utils/PyColorize.py'>, 'IPython.utils.encoding': <module 'IPython.utils.encoding' from '/home/gmiloshe/miniconda3/envs/myenvnew/lib/python3.9/site-packages/IPython/utils/encoding.py'>, 'IPython.utils.py3compat': <module 'IPython.utils.py3compat' from '/home/gmiloshe/miniconda3/envs/myenvnew/lib/python3.9/site-packages/IPython/utils/py3compat.py'>, 'IPython.core.excolors': <module 'IPython.core.excolors' from '/home/gmiloshe/miniconda3/envs/myenvnew/lib/python3.9/site-packages/IPython/core/excolors.py'>, 'IPython.testing': <module 'IPython.testing' from '/home/gmiloshe/miniconda3/envs/myenvnew/lib/python3.9/site-packages/IPython/testing/__init__.py'>, 'IPython.testing.skipdoctest': <module 'IPython.testing.skipdoctest' from '/home/gmiloshe/miniconda3/envs/myenvnew/lib/python3.9/site-packages/IPython/testing/skipdoctest.py'>, 'cmd': <module 'cmd' from '/home/gmiloshe/miniconda3/envs/myenvnew/lib/python3.9/cmd.py'>, 'codeop': <module 'codeop' from '/home/gmiloshe/miniconda3/envs/myenvnew/lib/python3.9/codeop.py'>, 'code': <module 'code' from '/home/gmiloshe/miniconda3/envs/myenvnew/lib/python3.9/code.py'>, 'pdb': <module 'pdb' from '/home/gmiloshe/miniconda3/envs/myenvnew/lib/python3.9/pdb.py'>, 'IPython.core.debugger': <module 'IPython.core.debugger' from '/home/gmiloshe/miniconda3/envs/myenvnew/lib/python3.9/site-packages/IPython/core/debugger.py'>, 'IPython.core.display_trap': <module 'IPython.core.display_trap' from '/home/gmiloshe/miniconda3/envs/myenvnew/lib/python3.9/site-packages/IPython/core/display_trap.py'>, 'pexpect.exceptions': <module 'pexpect.exceptions' from '/home/gmiloshe/miniconda3/envs/myenvnew/lib/python3.9/site-packages/pexpect/exceptions.py'>, 'pexpect.utils': <module 'pexpect.utils' from '/home/gmiloshe/miniconda3/envs/myenvnew/lib/python3.9/site-packages/pexpect/utils.py'>, 'pexpect.expect': <module 'pexpect.expect' from '/home/gmiloshe/miniconda3/envs/myenvnew/lib/python3.9/site-packages/pexpect/expect.py'>, 'tty': <module 'tty' from '/home/gmiloshe/miniconda3/envs/myenvnew/lib/python3.9/tty.py'>, 'pty': <module 'pty' from '/home/gmiloshe/miniconda3/envs/myenvnew/lib/python3.9/pty.py'>, 'fcntl': <module 'fcntl' from '/home/gmiloshe/miniconda3/envs/myenvnew/lib/python3.9/lib-dynload/fcntl.cpython-39-x86_64-linux-gnu.so'>, 'resource': <module 'resource' from '/home/gmiloshe/miniconda3/envs/myenvnew/lib/python3.9/lib-dynload/resource.cpython-39-x86_64-linux-gnu.so'>, 'ptyprocess.util': <module 'ptyprocess.util' from '/home/gmiloshe/miniconda3/envs/myenvnew/lib/python3.9/site-packages/ptyprocess/util.py'>, 'ptyprocess.ptyprocess': <module 'ptyprocess.ptyprocess' from '/home/gmiloshe/miniconda3/envs/myenvnew/lib/python3.9/site-packages/ptyprocess/ptyprocess.py'>, 'ptyprocess': <module 'ptyprocess' from '/home/gmiloshe/miniconda3/envs/myenvnew/lib/python3.9/site-packages/ptyprocess/__init__.py'>, 'pexpect.spawnbase': <module 'pexpect.spawnbase' from '/home/gmiloshe/miniconda3/envs/myenvnew/lib/python3.9/site-packages/pexpect/spawnbase.py'>, 'pexpect.pty_spawn': <module 'pexpect.pty_spawn' from '/home/gmiloshe/miniconda3/envs/myenvnew/lib/python3.9/site-packages/pexpect/pty_spawn.py'>, 'pexpect.run': <module 'pexpect.run' from '/home/gmiloshe/miniconda3/envs/myenvnew/lib/python3.9/site-packages/pexpect/run.py'>, 'pexpect': <module 'pexpect' from '/home/gmiloshe/miniconda3/envs/myenvnew/lib/python3.9/site-packages/pexpect/__init__.py'>, 'shlex': <module 'shlex' from '/home/gmiloshe/miniconda3/envs/myenvnew/lib/python3.9/shlex.py'>, 'IPython.utils._process_common': <module 'IPython.utils._process_common' from '/home/gmiloshe/miniconda3/envs/myenvnew/lib/python3.9/site-packages/IPython/utils/_process_common.py'>, 'IPython.utils._process_posix': <module 'IPython.utils._process_posix' from '/home/gmiloshe/miniconda3/envs/myenvnew/lib/python3.9/site-packages/IPython/utils/_process_posix.py'>, 'IPython.utils.process': <module 'IPython.utils.process' from '/home/gmiloshe/miniconda3/envs/myenvnew/lib/python3.9/site-packages/IPython/utils/process.py'>, 'IPython.utils.decorators': <module 'IPython.utils.decorators' from '/home/gmiloshe/miniconda3/envs/myenvnew/lib/python3.9/site-packages/IPython/utils/decorators.py'>, 'IPython.utils.path': <module 'IPython.utils.path' from '/home/gmiloshe/miniconda3/envs/myenvnew/lib/python3.9/site-packages/IPython/utils/path.py'>, 'IPython.utils.data': <module 'IPython.utils.data' from '/home/gmiloshe/miniconda3/envs/myenvnew/lib/python3.9/site-packages/IPython/utils/data.py'>, 'IPython.utils.terminal': <module 'IPython.utils.terminal' from '/home/gmiloshe/miniconda3/envs/myenvnew/lib/python3.9/site-packages/IPython/utils/terminal.py'>, 'IPython.core.ultratb': <module 'IPython.core.ultratb' from '/home/gmiloshe/miniconda3/envs/myenvnew/lib/python3.9/site-packages/IPython/core/ultratb.py'>, 'IPython.utils._sysinfo': <module 'IPython.utils._sysinfo' from '/home/gmiloshe/miniconda3/envs/myenvnew/lib/python3.9/site-packages/IPython/utils/_sysinfo.py'>, 'IPython.utils.sysinfo': <module 'IPython.utils.sysinfo' from '/home/gmiloshe/miniconda3/envs/myenvnew/lib/python3.9/site-packages/IPython/utils/sysinfo.py'>, 'IPython.core.crashhandler': <module 'IPython.core.crashhandler' from '/home/gmiloshe/miniconda3/envs/myenvnew/lib/python3.9/site-packages/IPython/core/crashhandler.py'>, 'IPython.utils.importstring': <module 'IPython.utils.importstring' from '/home/gmiloshe/miniconda3/envs/myenvnew/lib/python3.9/site-packages/IPython/utils/importstring.py'>, 'IPython.paths': <module 'IPython.paths' from '/home/gmiloshe/miniconda3/envs/myenvnew/lib/python3.9/site-packages/IPython/paths.py'>, 'IPython.core.profiledir': <module 'IPython.core.profiledir' from '/home/gmiloshe/miniconda3/envs/myenvnew/lib/python3.9/site-packages/IPython/core/profiledir.py'>, 'IPython.core.application': <module 'IPython.core.application' from '/home/gmiloshe/miniconda3/envs/myenvnew/lib/python3.9/site-packages/IPython/core/application.py'>, 'IPython.terminal': <module 'IPython.terminal' from '/home/gmiloshe/miniconda3/envs/myenvnew/lib/python3.9/site-packages/IPython/terminal/__init__.py'>, 'IPython.core.compilerop': <module 'IPython.core.compilerop' from '/home/gmiloshe/miniconda3/envs/myenvnew/lib/python3.9/site-packages/IPython/core/compilerop.py'>, 'IPython.core.error': <module 'IPython.core.error' from '/home/gmiloshe/miniconda3/envs/myenvnew/lib/python3.9/site-packages/IPython/core/error.py'>, 'IPython.utils.text': <module 'IPython.utils.text' from '/home/gmiloshe/miniconda3/envs/myenvnew/lib/python3.9/site-packages/IPython/utils/text.py'>, 'IPython.core.magic_arguments': <module 'IPython.core.magic_arguments' from '/home/gmiloshe/miniconda3/envs/myenvnew/lib/python3.9/site-packages/IPython/core/magic_arguments.py'>, 'getopt': <module 'getopt' from '/home/gmiloshe/miniconda3/envs/myenvnew/lib/python3.9/getopt.py'>, 'mimetypes': <module 'mimetypes' from '/home/gmiloshe/miniconda3/envs/myenvnew/lib/python3.9/mimetypes.py'>, 'IPython.core.display': <module 'IPython.core.display' from '/home/gmiloshe/miniconda3/envs/myenvnew/lib/python3.9/site-packages/IPython/core/display.py'>, 'IPython.core.page': <module 'IPython.core.page' from '/home/gmiloshe/miniconda3/envs/myenvnew/lib/python3.9/site-packages/IPython/core/page.py'>, 'IPython.lib.security': <module 'IPython.lib.security' from '/home/gmiloshe/miniconda3/envs/myenvnew/lib/python3.9/site-packages/IPython/lib/security.py'>, 'IPython.lib': <module 'IPython.lib' from '/home/gmiloshe/miniconda3/envs/myenvnew/lib/python3.9/site-packages/IPython/lib/__init__.py'>, 'IPython.lib.pretty': <module 'IPython.lib.pretty' from '/home/gmiloshe/miniconda3/envs/myenvnew/lib/python3.9/site-packages/IPython/lib/pretty.py'>, 'IPython.utils.openpy': <module 'IPython.utils.openpy' from '/home/gmiloshe/miniconda3/envs/myenvnew/lib/python3.9/site-packages/IPython/utils/openpy.py'>, 'IPython.utils.dir2': <module 'IPython.utils.dir2' from '/home/gmiloshe/miniconda3/envs/myenvnew/lib/python3.9/site-packages/IPython/utils/dir2.py'>, 'IPython.utils.wildcard': <module 'IPython.utils.wildcard' from '/home/gmiloshe/miniconda3/envs/myenvnew/lib/python3.9/site-packages/IPython/utils/wildcard.py'>, 'pygments.lexers._mapping': <module 'pygments.lexers._mapping' from '/home/gmiloshe/miniconda3/envs/myenvnew/lib/python3.9/site-packages/pygments/lexers/_mapping.py'>, 'pygments.modeline': <module 'pygments.modeline' from '/home/gmiloshe/miniconda3/envs/myenvnew/lib/python3.9/site-packages/pygments/modeline.py'>, 'pygments.plugin': <module 'pygments.plugin' from '/home/gmiloshe/miniconda3/envs/myenvnew/lib/python3.9/site-packages/pygments/plugin.py'>, 'pygments.util': <module 'pygments.util' from '/home/gmiloshe/miniconda3/envs/myenvnew/lib/python3.9/site-packages/pygments/util.py'>, 'pygments.lexers': <module 'pygments.lexers' from '/home/gmiloshe/miniconda3/envs/myenvnew/lib/python3.9/site-packages/pygments/lexers/__init__.py'>, 'pygments.filter': <module 'pygments.filter' from '/home/gmiloshe/miniconda3/envs/myenvnew/lib/python3.9/site-packages/pygments/filter.py'>, 'pygments.token': <module 'pygments.token' from '/home/gmiloshe/miniconda3/envs/myenvnew/lib/python3.9/site-packages/pygments/token.py'>, 'pygments.filters': <module 'pygments.filters' from '/home/gmiloshe/miniconda3/envs/myenvnew/lib/python3.9/site-packages/pygments/filters/__init__.py'>, 'pygments.regexopt': <module 'pygments.regexopt' from '/home/gmiloshe/miniconda3/envs/myenvnew/lib/python3.9/site-packages/pygments/regexopt.py'>, 'pygments.lexer': <module 'pygments.lexer' from '/home/gmiloshe/miniconda3/envs/myenvnew/lib/python3.9/site-packages/pygments/lexer.py'>, 'pygments.unistring': <module 'pygments.unistring' from '/home/gmiloshe/miniconda3/envs/myenvnew/lib/python3.9/site-packages/pygments/unistring.py'>, 'pygments.lexers.python': <module 'pygments.lexers.python' from '/home/gmiloshe/miniconda3/envs/myenvnew/lib/python3.9/site-packages/pygments/lexers/python.py'>, 'pygments.formatters._mapping': <module 'pygments.formatters._mapping' from '/home/gmiloshe/miniconda3/envs/myenvnew/lib/python3.9/site-packages/pygments/formatters/_mapping.py'>, 'pygments.formatters': <module 'pygments.formatters' from '/home/gmiloshe/miniconda3/envs/myenvnew/lib/python3.9/site-packages/pygments/formatters/__init__.py'>, 'pygments.styles': <module 'pygments.styles' from '/home/gmiloshe/miniconda3/envs/myenvnew/lib/python3.9/site-packages/pygments/styles/__init__.py'>, 'pygments.formatter': <module 'pygments.formatter' from '/home/gmiloshe/miniconda3/envs/myenvnew/lib/python3.9/site-packages/pygments/formatter.py'>, 'pygments.formatters.html': <module 'pygments.formatters.html' from '/home/gmiloshe/miniconda3/envs/myenvnew/lib/python3.9/site-packages/pygments/formatters/html.py'>, 'IPython.core.oinspect': <module 'IPython.core.oinspect' from '/home/gmiloshe/miniconda3/envs/myenvnew/lib/python3.9/site-packages/IPython/core/oinspect.py'>, 'IPython.core.inputtransformer2': <module 'IPython.core.inputtransformer2' from '/home/gmiloshe/miniconda3/envs/myenvnew/lib/python3.9/site-packages/IPython/core/inputtransformer2.py'>, 'decorator': <module 'decorator' from '/home/gmiloshe/miniconda3/envs/myenvnew/lib/python3.9/site-packages/decorator.py'>, 'IPython.core.magic': <module 'IPython.core.magic' from '/home/gmiloshe/miniconda3/envs/myenvnew/lib/python3.9/site-packages/IPython/core/magic.py'>, 'pickleshare': <module 'pickleshare' from '/home/gmiloshe/miniconda3/envs/myenvnew/lib/python3.9/site-packages/pickleshare.py'>, 'IPython.core.autocall': <module 'IPython.core.autocall' from '/home/gmiloshe/miniconda3/envs/myenvnew/lib/python3.9/site-packages/IPython/core/autocall.py'>, 'IPython.core.macro': <module 'IPython.core.macro' from '/home/gmiloshe/miniconda3/envs/myenvnew/lib/python3.9/site-packages/IPython/core/macro.py'>, 'IPython.core.splitinput': <module 'IPython.core.splitinput' from '/home/gmiloshe/miniconda3/envs/myenvnew/lib/python3.9/site-packages/IPython/core/splitinput.py'>, 'IPython.core.prefilter': <module 'IPython.core.prefilter' from '/home/gmiloshe/miniconda3/envs/myenvnew/lib/python3.9/site-packages/IPython/core/prefilter.py'>, 'IPython.core.alias': <module 'IPython.core.alias' from '/home/gmiloshe/miniconda3/envs/myenvnew/lib/python3.9/site-packages/IPython/core/alias.py'>, 'IPython.core.builtin_trap': <module 'IPython.core.builtin_trap' from '/home/gmiloshe/miniconda3/envs/myenvnew/lib/python3.9/site-packages/IPython/core/builtin_trap.py'>, 'backcall.backcall': <module 'backcall.backcall' from '/home/gmiloshe/miniconda3/envs/myenvnew/lib/python3.9/site-packages/backcall/backcall.py'>, 'backcall': <module 'backcall' from '/home/gmiloshe/miniconda3/envs/myenvnew/lib/python3.9/site-packages/backcall/__init__.py'>, 'IPython.core.events': <module 'IPython.core.events' from '/home/gmiloshe/miniconda3/envs/myenvnew/lib/python3.9/site-packages/IPython/core/events.py'>, 'IPython.core.displayhook': <module 'IPython.core.displayhook' from '/home/gmiloshe/miniconda3/envs/myenvnew/lib/python3.9/site-packages/IPython/core/displayhook.py'>, 'IPython.core.displaypub': <module 'IPython.core.displaypub' from '/home/gmiloshe/miniconda3/envs/myenvnew/lib/python3.9/site-packages/IPython/core/displaypub.py'>, 'IPython.core.extensions': <module 'IPython.core.extensions' from '/home/gmiloshe/miniconda3/envs/myenvnew/lib/python3.9/site-packages/IPython/core/extensions.py'>, 'IPython.utils.sentinel': <module 'IPython.utils.sentinel' from '/home/gmiloshe/miniconda3/envs/myenvnew/lib/python3.9/site-packages/IPython/utils/sentinel.py'>, 'IPython.core.formatters': <module 'IPython.core.formatters' from '/home/gmiloshe/miniconda3/envs/myenvnew/lib/python3.9/site-packages/IPython/core/formatters.py'>, '_sqlite3': <module '_sqlite3' from '/home/gmiloshe/miniconda3/envs/myenvnew/lib/python3.9/lib-dynload/_sqlite3.cpython-39-x86_64-linux-gnu.so'>, 'sqlite3.dbapi2': <module 'sqlite3.dbapi2' from '/home/gmiloshe/miniconda3/envs/myenvnew/lib/python3.9/sqlite3/dbapi2.py'>, 'sqlite3': <module 'sqlite3' from '/home/gmiloshe/miniconda3/envs/myenvnew/lib/python3.9/sqlite3/__init__.py'>, 'IPython.core.history': <module 'IPython.core.history' from '/home/gmiloshe/miniconda3/envs/myenvnew/lib/python3.9/site-packages/IPython/core/history.py'>, 'IPython.core.logger': <module 'IPython.core.logger' from '/home/gmiloshe/miniconda3/envs/myenvnew/lib/python3.9/site-packages/IPython/core/logger.py'>, 'IPython.core.payload': <module 'IPython.core.payload' from '/home/gmiloshe/miniconda3/envs/myenvnew/lib/python3.9/site-packages/IPython/core/payload.py'>, 'IPython.core.usage': <module 'IPython.core.usage' from '/home/gmiloshe/miniconda3/envs/myenvnew/lib/python3.9/site-packages/IPython/core/usage.py'>, 'IPython.lib.display': <module 'IPython.lib.display' from '/home/gmiloshe/miniconda3/envs/myenvnew/lib/python3.9/site-packages/IPython/lib/display.py'>, 'IPython.display': <module 'IPython.display' from '/home/gmiloshe/miniconda3/envs/myenvnew/lib/python3.9/site-packages/IPython/display.py'>, 'IPython.utils.capture': <module 'IPython.utils.capture' from '/home/gmiloshe/miniconda3/envs/myenvnew/lib/python3.9/site-packages/IPython/utils/capture.py'>, 'IPython.utils.io': <module 'IPython.utils.io' from '/home/gmiloshe/miniconda3/envs/myenvnew/lib/python3.9/site-packages/IPython/utils/io.py'>, 'IPython.core.hooks': <module 'IPython.core.hooks' from '/home/gmiloshe/miniconda3/envs/myenvnew/lib/python3.9/site-packages/IPython/core/hooks.py'>, 'IPython.utils.strdispatch': <module 'IPython.utils.strdispatch' from '/home/gmiloshe/miniconda3/envs/myenvnew/lib/python3.9/site-packages/IPython/utils/strdispatch.py'>, 'IPython.utils.syspathcontext': <module 'IPython.utils.syspathcontext' from '/home/gmiloshe/miniconda3/envs/myenvnew/lib/python3.9/site-packages/IPython/utils/syspathcontext.py'>, 'IPython.utils.tempdir': <module 'IPython.utils.tempdir' from '/home/gmiloshe/miniconda3/envs/myenvnew/lib/python3.9/site-packages/IPython/utils/tempdir.py'>, 'IPython.utils.contexts': <module 'IPython.utils.contexts' from '/home/gmiloshe/miniconda3/envs/myenvnew/lib/python3.9/site-packages/IPython/utils/contexts.py'>, 'IPython.core.async_helpers': <module 'IPython.core.async_helpers' from '/home/gmiloshe/miniconda3/envs/myenvnew/lib/python3.9/site-packages/IPython/core/async_helpers.py'>, 'IPython.core.interactiveshell': <module 'IPython.core.interactiveshell' from '/home/gmiloshe/miniconda3/envs/myenvnew/lib/python3.9/site-packages/IPython/core/interactiveshell.py'>, 'prompt_toolkit.application.current': <module 'prompt_toolkit.application.current' from '/home/gmiloshe/miniconda3/envs/myenvnew/lib/python3.9/site-packages/prompt_toolkit/application/current.py'>, 'prompt_toolkit.eventloop.utils': <module 'prompt_toolkit.eventloop.utils' from '/home/gmiloshe/miniconda3/envs/myenvnew/lib/python3.9/site-packages/prompt_toolkit/eventloop/utils.py'>, 'prompt_toolkit.eventloop.async_generator': <module 'prompt_toolkit.eventloop.async_generator' from '/home/gmiloshe/miniconda3/envs/myenvnew/lib/python3.9/site-packages/prompt_toolkit/eventloop/async_generator.py'>, 'wcwidth.table_wide': <module 'wcwidth.table_wide' from '/home/gmiloshe/miniconda3/envs/myenvnew/lib/python3.9/site-packages/wcwidth/table_wide.py'>, 'wcwidth.table_zero': <module 'wcwidth.table_zero' from '/home/gmiloshe/miniconda3/envs/myenvnew/lib/python3.9/site-packages/wcwidth/table_zero.py'>, 'wcwidth.unicode_versions': <module 'wcwidth.unicode_versions' from '/home/gmiloshe/miniconda3/envs/myenvnew/lib/python3.9/site-packages/wcwidth/unicode_versions.py'>, 'wcwidth.wcwidth': <module 'wcwidth.wcwidth' from '/home/gmiloshe/miniconda3/envs/myenvnew/lib/python3.9/site-packages/wcwidth/wcwidth.py'>, 'wcwidth': <module 'wcwidth' from '/home/gmiloshe/miniconda3/envs/myenvnew/lib/python3.9/site-packages/wcwidth/__init__.py'>, 'prompt_toolkit.utils': <module 'prompt_toolkit.utils' from '/home/gmiloshe/miniconda3/envs/myenvnew/lib/python3.9/site-packages/prompt_toolkit/utils.py'>, 'prompt_toolkit.eventloop.inputhook': <module 'prompt_toolkit.eventloop.inputhook' from '/home/gmiloshe/miniconda3/envs/myenvnew/lib/python3.9/site-packages/prompt_toolkit/eventloop/inputhook.py'>, 'prompt_toolkit.eventloop': <module 'prompt_toolkit.eventloop' from '/home/gmiloshe/miniconda3/envs/myenvnew/lib/python3.9/site-packages/prompt_toolkit/eventloop/__init__.py'>, 'prompt_toolkit.application.run_in_terminal': <module 'prompt_toolkit.application.run_in_terminal' from '/home/gmiloshe/miniconda3/envs/myenvnew/lib/python3.9/site-packages/prompt_toolkit/application/run_in_terminal.py'>, 'prompt_toolkit.selection': <module 'prompt_toolkit.selection' from '/home/gmiloshe/miniconda3/envs/myenvnew/lib/python3.9/site-packages/prompt_toolkit/selection.py'>, 'prompt_toolkit.clipboard.base': <module 'prompt_toolkit.clipboard.base' from '/home/gmiloshe/miniconda3/envs/myenvnew/lib/python3.9/site-packages/prompt_toolkit/clipboard/base.py'>, 'prompt_toolkit.clipboard.in_memory': <module 'prompt_toolkit.clipboard.in_memory' from '/home/gmiloshe/miniconda3/envs/myenvnew/lib/python3.9/site-packages/prompt_toolkit/clipboard/in_memory.py'>, 'prompt_toolkit.clipboard': <module 'prompt_toolkit.clipboard' from '/home/gmiloshe/miniconda3/envs/myenvnew/lib/python3.9/site-packages/prompt_toolkit/clipboard/__init__.py'>, 'prompt_toolkit.cache': <module 'prompt_toolkit.cache' from '/home/gmiloshe/miniconda3/envs/myenvnew/lib/python3.9/site-packages/prompt_toolkit/cache.py'>, 'prompt_toolkit.enums': <module 'prompt_toolkit.enums' from '/home/gmiloshe/miniconda3/envs/myenvnew/lib/python3.9/site-packages/prompt_toolkit/enums.py'>, 'prompt_toolkit.filters.base': <module 'prompt_toolkit.filters.base' from '/home/gmiloshe/miniconda3/envs/myenvnew/lib/python3.9/site-packages/prompt_toolkit/filters/base.py'>, 'prompt_toolkit.filters.app': <module 'prompt_toolkit.filters.app' from '/home/gmiloshe/miniconda3/envs/myenvnew/lib/python3.9/site-packages/prompt_toolkit/filters/app.py'>, 'prompt_toolkit.filters.cli': <module 'prompt_toolkit.filters.cli' from '/home/gmiloshe/miniconda3/envs/myenvnew/lib/python3.9/site-packages/prompt_toolkit/filters/cli.py'>, 'prompt_toolkit.filters.utils': <module 'prompt_toolkit.filters.utils' from '/home/gmiloshe/miniconda3/envs/myenvnew/lib/python3.9/site-packages/prompt_toolkit/filters/utils.py'>, 'prompt_toolkit.filters': <module 'prompt_toolkit.filters' from '/home/gmiloshe/miniconda3/envs/myenvnew/lib/python3.9/site-packages/prompt_toolkit/filters/__init__.py'>, 'prompt_toolkit.document': <module 'prompt_toolkit.document' from '/home/gmiloshe/miniconda3/envs/myenvnew/lib/python3.9/site-packages/prompt_toolkit/document.py'>, 'prompt_toolkit.auto_suggest': <module 'prompt_toolkit.auto_suggest' from '/home/gmiloshe/miniconda3/envs/myenvnew/lib/python3.9/site-packages/prompt_toolkit/auto_suggest.py'>, 'prompt_toolkit.data_structures': <module 'prompt_toolkit.data_structures' from '/home/gmiloshe/miniconda3/envs/myenvnew/lib/python3.9/site-packages/prompt_toolkit/data_structures.py'>, 'prompt_toolkit.styles.base': <module 'prompt_toolkit.styles.base' from '/home/gmiloshe/miniconda3/envs/myenvnew/lib/python3.9/site-packages/prompt_toolkit/styles/base.py'>, 'prompt_toolkit.styles.named_colors': <module 'prompt_toolkit.styles.named_colors' from '/home/gmiloshe/miniconda3/envs/myenvnew/lib/python3.9/site-packages/prompt_toolkit/styles/named_colors.py'>, 'prompt_toolkit.styles.style': <module 'prompt_toolkit.styles.style' from '/home/gmiloshe/miniconda3/envs/myenvnew/lib/python3.9/site-packages/prompt_toolkit/styles/style.py'>, 'prompt_toolkit.styles.defaults': <module 'prompt_toolkit.styles.defaults' from '/home/gmiloshe/miniconda3/envs/myenvnew/lib/python3.9/site-packages/prompt_toolkit/styles/defaults.py'>, 'prompt_toolkit.styles.pygments': <module 'prompt_toolkit.styles.pygments' from '/home/gmiloshe/miniconda3/envs/myenvnew/lib/python3.9/site-packages/prompt_toolkit/styles/pygments.py'>, 'colorsys': <module 'colorsys' from '/home/gmiloshe/miniconda3/envs/myenvnew/lib/python3.9/colorsys.py'>, 'prompt_toolkit.styles.style_transformation': <module 'prompt_toolkit.styles.style_transformation' from '/home/gmiloshe/miniconda3/envs/myenvnew/lib/python3.9/site-packages/prompt_toolkit/styles/style_transformation.py'>, 'prompt_toolkit.styles': <module 'prompt_toolkit.styles' from '/home/gmiloshe/miniconda3/envs/myenvnew/lib/python3.9/site-packages/prompt_toolkit/styles/__init__.py'>, 'prompt_toolkit.output.color_depth': <module 'prompt_toolkit.output.color_depth' from '/home/gmiloshe/miniconda3/envs/myenvnew/lib/python3.9/site-packages/prompt_toolkit/output/color_depth.py'>, 'prompt_toolkit.output.base': <module 'prompt_toolkit.output.base' from '/home/gmiloshe/miniconda3/envs/myenvnew/lib/python3.9/site-packages/prompt_toolkit/output/base.py'>, 'prompt_toolkit.output.defaults': <module 'prompt_toolkit.output.defaults' from '/home/gmiloshe/miniconda3/envs/myenvnew/lib/python3.9/site-packages/prompt_toolkit/output/defaults.py'>, 'prompt_toolkit.output': <module 'prompt_toolkit.output' from '/home/gmiloshe/miniconda3/envs/myenvnew/lib/python3.9/site-packages/prompt_toolkit/output/__init__.py'>, 'prompt_toolkit.output.vt100': <module 'prompt_toolkit.output.vt100' from '/home/gmiloshe/miniconda3/envs/myenvnew/lib/python3.9/site-packages/prompt_toolkit/output/vt100.py'>, 'prompt_toolkit.mouse_events': <module 'prompt_toolkit.mouse_events' from '/home/gmiloshe/miniconda3/envs/myenvnew/lib/python3.9/site-packages/prompt_toolkit/mouse_events.py'>, 'prompt_toolkit.formatted_text.base': <module 'prompt_toolkit.formatted_text.base' from '/home/gmiloshe/miniconda3/envs/myenvnew/lib/python3.9/site-packages/prompt_toolkit/formatted_text/base.py'>, 'prompt_toolkit.formatted_text.ansi': <module 'prompt_toolkit.formatted_text.ansi' from '/home/gmiloshe/miniconda3/envs/myenvnew/lib/python3.9/site-packages/prompt_toolkit/formatted_text/ansi.py'>, 'xml': <module 'xml' from '/home/gmiloshe/miniconda3/envs/myenvnew/lib/python3.9/xml/__init__.py'>, 'xml.dom.domreg': <module 'xml.dom.domreg' from '/home/gmiloshe/miniconda3/envs/myenvnew/lib/python3.9/xml/dom/domreg.py'>, 'xml.dom': <module 'xml.dom' from '/home/gmiloshe/miniconda3/envs/myenvnew/lib/python3.9/xml/dom/__init__.py'>, 'xml.dom.minicompat': <module 'xml.dom.minicompat' from '/home/gmiloshe/miniconda3/envs/myenvnew/lib/python3.9/xml/dom/minicompat.py'>, 'xml.dom.NodeFilter': <module 'xml.dom.NodeFilter' from '/home/gmiloshe/miniconda3/envs/myenvnew/lib/python3.9/xml/dom/NodeFilter.py'>, 'xml.dom.xmlbuilder': <module 'xml.dom.xmlbuilder' from '/home/gmiloshe/miniconda3/envs/myenvnew/lib/python3.9/xml/dom/xmlbuilder.py'>, 'xml.dom.minidom': <module 'xml.dom.minidom' from '/home/gmiloshe/miniconda3/envs/myenvnew/lib/python3.9/xml/dom/minidom.py'>, 'prompt_toolkit.formatted_text.html': <module 'prompt_toolkit.formatted_text.html' from '/home/gmiloshe/miniconda3/envs/myenvnew/lib/python3.9/site-packages/prompt_toolkit/formatted_text/html.py'>, 'prompt_toolkit.formatted_text.pygments': <module 'prompt_toolkit.formatted_text.pygments' from '/home/gmiloshe/miniconda3/envs/myenvnew/lib/python3.9/site-packages/prompt_toolkit/formatted_text/pygments.py'>, 'prompt_toolkit.formatted_text.utils': <module 'prompt_toolkit.formatted_text.utils' from '/home/gmiloshe/miniconda3/envs/myenvnew/lib/python3.9/site-packages/prompt_toolkit/formatted_text/utils.py'>, 'prompt_toolkit.formatted_text': <module 'prompt_toolkit.formatted_text' from '/home/gmiloshe/miniconda3/envs/myenvnew/lib/python3.9/site-packages/prompt_toolkit/formatted_text/__init__.py'>, 'prompt_toolkit.completion.base': <module 'prompt_toolkit.completion.base' from '/home/gmiloshe/miniconda3/envs/myenvnew/lib/python3.9/site-packages/prompt_toolkit/completion/base.py'>, 'prompt_toolkit.completion.deduplicate': <module 'prompt_toolkit.completion.deduplicate' from '/home/gmiloshe/miniconda3/envs/myenvnew/lib/python3.9/site-packages/prompt_toolkit/completion/deduplicate.py'>, 'prompt_toolkit.completion.filesystem': <module 'prompt_toolkit.completion.filesystem' from '/home/gmiloshe/miniconda3/envs/myenvnew/lib/python3.9/site-packages/prompt_toolkit/completion/filesystem.py'>, 'prompt_toolkit.completion.word_completer': <module 'prompt_toolkit.completion.word_completer' from '/home/gmiloshe/miniconda3/envs/myenvnew/lib/python3.9/site-packages/prompt_toolkit/completion/word_completer.py'>, 'prompt_toolkit.completion.fuzzy_completer': <module 'prompt_toolkit.completion.fuzzy_completer' from '/home/gmiloshe/miniconda3/envs/myenvnew/lib/python3.9/site-packages/prompt_toolkit/completion/fuzzy_completer.py'>, 'prompt_toolkit.completion.nested': <module 'prompt_toolkit.completion.nested' from '/home/gmiloshe/miniconda3/envs/myenvnew/lib/python3.9/site-packages/prompt_toolkit/completion/nested.py'>, 'prompt_toolkit.completion': <module 'prompt_toolkit.completion' from '/home/gmiloshe/miniconda3/envs/myenvnew/lib/python3.9/site-packages/prompt_toolkit/completion/__init__.py'>, 'prompt_toolkit.history': <module 'prompt_toolkit.history' from '/home/gmiloshe/miniconda3/envs/myenvnew/lib/python3.9/site-packages/prompt_toolkit/history.py'>, 'prompt_toolkit.keys': <module 'prompt_toolkit.keys' from '/home/gmiloshe/miniconda3/envs/myenvnew/lib/python3.9/site-packages/prompt_toolkit/keys.py'>, 'prompt_toolkit.key_binding.key_bindings': <module 'prompt_toolkit.key_binding.key_bindings' from '/home/gmiloshe/miniconda3/envs/myenvnew/lib/python3.9/site-packages/prompt_toolkit/key_binding/key_bindings.py'>, 'prompt_toolkit.key_binding.key_processor': <module 'prompt_toolkit.key_binding.key_processor' from '/home/gmiloshe/miniconda3/envs/myenvnew/lib/python3.9/site-packages/prompt_toolkit/key_binding/key_processor.py'>, 'prompt_toolkit.key_binding': <module 'prompt_toolkit.key_binding' from '/home/gmiloshe/miniconda3/envs/myenvnew/lib/python3.9/site-packages/prompt_toolkit/key_binding/__init__.py'>, 'prompt_toolkit.key_binding.vi_state': <module 'prompt_toolkit.key_binding.vi_state' from '/home/gmiloshe/miniconda3/envs/myenvnew/lib/python3.9/site-packages/prompt_toolkit/key_binding/vi_state.py'>, 'prompt_toolkit.search': <module 'prompt_toolkit.search' from '/home/gmiloshe/miniconda3/envs/myenvnew/lib/python3.9/site-packages/prompt_toolkit/search.py'>, 'prompt_toolkit.validation': <module 'prompt_toolkit.validation' from '/home/gmiloshe/miniconda3/envs/myenvnew/lib/python3.9/site-packages/prompt_toolkit/validation.py'>, 'prompt_toolkit.buffer': <module 'prompt_toolkit.buffer' from '/home/gmiloshe/miniconda3/envs/myenvnew/lib/python3.9/site-packages/prompt_toolkit/buffer.py'>, 'prompt_toolkit.input.base': <module 'prompt_toolkit.input.base' from '/home/gmiloshe/miniconda3/envs/myenvnew/lib/python3.9/site-packages/prompt_toolkit/input/base.py'>, 'prompt_toolkit.input.defaults': <module 'prompt_toolkit.input.defaults' from '/home/gmiloshe/miniconda3/envs/myenvnew/lib/python3.9/site-packages/prompt_toolkit/input/defaults.py'>, 'prompt_toolkit.input': <module 'prompt_toolkit.input' from '/home/gmiloshe/miniconda3/envs/myenvnew/lib/python3.9/site-packages/prompt_toolkit/input/__init__.py'>, 'prompt_toolkit.input.typeahead': <module 'prompt_toolkit.input.typeahead' from '/home/gmiloshe/miniconda3/envs/myenvnew/lib/python3.9/site-packages/prompt_toolkit/input/typeahead.py'>, 'prompt_toolkit.key_binding.bindings': <module 'prompt_toolkit.key_binding.bindings' from '/home/gmiloshe/miniconda3/envs/myenvnew/lib/python3.9/site-packages/prompt_toolkit/key_binding/bindings/__init__.py'>, 'prompt_toolkit.key_binding.bindings.scroll': <module 'prompt_toolkit.key_binding.bindings.scroll' from '/home/gmiloshe/miniconda3/envs/myenvnew/lib/python3.9/site-packages/prompt_toolkit/key_binding/bindings/scroll.py'>, 'prompt_toolkit.key_binding.bindings.page_navigation': <module 'prompt_toolkit.key_binding.bindings.page_navigation' from '/home/gmiloshe/miniconda3/envs/myenvnew/lib/python3.9/site-packages/prompt_toolkit/key_binding/bindings/page_navigation.py'>, 'prompt_toolkit.lexers.base': <module 'prompt_toolkit.lexers.base' from '/home/gmiloshe/miniconda3/envs/myenvnew/lib/python3.9/site-packages/prompt_toolkit/lexers/base.py'>, 'prompt_toolkit.lexers.pygments': <module 'prompt_toolkit.lexers.pygments' from '/home/gmiloshe/miniconda3/envs/myenvnew/lib/python3.9/site-packages/prompt_toolkit/lexers/pygments.py'>, 'prompt_toolkit.lexers': <module 'prompt_toolkit.lexers' from '/home/gmiloshe/miniconda3/envs/myenvnew/lib/python3.9/site-packages/prompt_toolkit/lexers/__init__.py'>, 'prompt_toolkit.layout.utils': <module 'prompt_toolkit.layout.utils' from '/home/gmiloshe/miniconda3/envs/myenvnew/lib/python3.9/site-packages/prompt_toolkit/layout/utils.py'>, 'prompt_toolkit.layout.processors': <module 'prompt_toolkit.layout.processors' from '/home/gmiloshe/miniconda3/envs/myenvnew/lib/python3.9/site-packages/prompt_toolkit/layout/processors.py'>, 'prompt_toolkit.layout.controls': <module 'prompt_toolkit.layout.controls' from '/home/gmiloshe/miniconda3/envs/myenvnew/lib/python3.9/site-packages/prompt_toolkit/layout/controls.py'>, 'prompt_toolkit.layout.dimension': <module 'prompt_toolkit.layout.dimension' from '/home/gmiloshe/miniconda3/envs/myenvnew/lib/python3.9/site-packages/prompt_toolkit/layout/dimension.py'>, 'prompt_toolkit.layout.margins': <module 'prompt_toolkit.layout.margins' from '/home/gmiloshe/miniconda3/envs/myenvnew/lib/python3.9/site-packages/prompt_toolkit/layout/margins.py'>, 'prompt_toolkit.layout.mouse_handlers': <module 'prompt_toolkit.layout.mouse_handlers' from '/home/gmiloshe/miniconda3/envs/myenvnew/lib/python3.9/site-packages/prompt_toolkit/layout/mouse_handlers.py'>, 'prompt_toolkit.layout.screen': <module 'prompt_toolkit.layout.screen' from '/home/gmiloshe/miniconda3/envs/myenvnew/lib/python3.9/site-packages/prompt_toolkit/layout/screen.py'>, 'prompt_toolkit.layout.containers': <module 'prompt_toolkit.layout.containers' from '/home/gmiloshe/miniconda3/envs/myenvnew/lib/python3.9/site-packages/prompt_toolkit/layout/containers.py'>, 'prompt_toolkit.layout.layout': <module 'prompt_toolkit.layout.layout' from '/home/gmiloshe/miniconda3/envs/myenvnew/lib/python3.9/site-packages/prompt_toolkit/layout/layout.py'>, 'prompt_toolkit.layout.menus': <module 'prompt_toolkit.layout.menus' from '/home/gmiloshe/miniconda3/envs/myenvnew/lib/python3.9/site-packages/prompt_toolkit/layout/menus.py'>, 'prompt_toolkit.layout.scrollable_pane': <module 'prompt_toolkit.layout.scrollable_pane' from '/home/gmiloshe/miniconda3/envs/myenvnew/lib/python3.9/site-packages/prompt_toolkit/layout/scrollable_pane.py'>, 'prompt_toolkit.layout': <module 'prompt_toolkit.layout' from '/home/gmiloshe/miniconda3/envs/myenvnew/lib/python3.9/site-packages/prompt_toolkit/layout/__init__.py'>, 'prompt_toolkit.key_binding.bindings.completion': <module 'prompt_toolkit.key_binding.bindings.completion' from '/home/gmiloshe/miniconda3/envs/myenvnew/lib/python3.9/site-packages/prompt_toolkit/key_binding/bindings/completion.py'>, 'prompt_toolkit.key_binding.bindings.named_commands': <module 'prompt_toolkit.key_binding.bindings.named_commands' from '/home/gmiloshe/miniconda3/envs/myenvnew/lib/python3.9/site-packages/prompt_toolkit/key_binding/bindings/named_commands.py'>, 'prompt_toolkit.key_binding.bindings.basic': <module 'prompt_toolkit.key_binding.bindings.basic' from '/home/gmiloshe/miniconda3/envs/myenvnew/lib/python3.9/site-packages/prompt_toolkit/key_binding/bindings/basic.py'>, 'prompt_toolkit.key_binding.bindings.cpr': <module 'prompt_toolkit.key_binding.bindings.cpr' from '/home/gmiloshe/miniconda3/envs/myenvnew/lib/python3.9/site-packages/prompt_toolkit/key_binding/bindings/cpr.py'>, 'prompt_toolkit.key_binding.bindings.emacs': <module 'prompt_toolkit.key_binding.bindings.emacs' from '/home/gmiloshe/miniconda3/envs/myenvnew/lib/python3.9/site-packages/prompt_toolkit/key_binding/bindings/emacs.py'>, 'prompt_toolkit.key_binding.bindings.mouse': <module 'prompt_toolkit.key_binding.bindings.mouse' from '/home/gmiloshe/miniconda3/envs/myenvnew/lib/python3.9/site-packages/prompt_toolkit/key_binding/bindings/mouse.py'>, 'prompt_toolkit.input.ansi_escape_sequences': <module 'prompt_toolkit.input.ansi_escape_sequences' from '/home/gmiloshe/miniconda3/envs/myenvnew/lib/python3.9/site-packages/prompt_toolkit/input/ansi_escape_sequences.py'>, 'prompt_toolkit.input.vt100_parser': <module 'prompt_toolkit.input.vt100_parser' from '/home/gmiloshe/miniconda3/envs/myenvnew/lib/python3.9/site-packages/prompt_toolkit/input/vt100_parser.py'>, 'prompt_toolkit.key_binding.digraphs': <module 'prompt_toolkit.key_binding.digraphs' from '/home/gmiloshe/miniconda3/envs/myenvnew/lib/python3.9/site-packages/prompt_toolkit/key_binding/digraphs.py'>, 'prompt_toolkit.key_binding.bindings.vi': <module 'prompt_toolkit.key_binding.bindings.vi' from '/home/gmiloshe/miniconda3/envs/myenvnew/lib/python3.9/site-packages/prompt_toolkit/key_binding/bindings/vi.py'>, 'prompt_toolkit.key_binding.defaults': <module 'prompt_toolkit.key_binding.defaults' from '/home/gmiloshe/miniconda3/envs/myenvnew/lib/python3.9/site-packages/prompt_toolkit/key_binding/defaults.py'>, 'prompt_toolkit.key_binding.emacs_state': <module 'prompt_toolkit.key_binding.emacs_state' from '/home/gmiloshe/miniconda3/envs/myenvnew/lib/python3.9/site-packages/prompt_toolkit/key_binding/emacs_state.py'>, 'prompt_toolkit.layout.dummy': <module 'prompt_toolkit.layout.dummy' from '/home/gmiloshe/miniconda3/envs/myenvnew/lib/python3.9/site-packages/prompt_toolkit/layout/dummy.py'>, 'prompt_toolkit.renderer': <module 'prompt_toolkit.renderer' from '/home/gmiloshe/miniconda3/envs/myenvnew/lib/python3.9/site-packages/prompt_toolkit/renderer.py'>, 'prompt_toolkit.application.application': <module 'prompt_toolkit.application.application' from '/home/gmiloshe/miniconda3/envs/myenvnew/lib/python3.9/site-packages/prompt_toolkit/application/application.py'>, 'prompt_toolkit.application.dummy': <module 'prompt_toolkit.application.dummy' from '/home/gmiloshe/miniconda3/envs/myenvnew/lib/python3.9/site-packages/prompt_toolkit/application/dummy.py'>, 'prompt_toolkit.application': <module 'prompt_toolkit.application' from '/home/gmiloshe/miniconda3/envs/myenvnew/lib/python3.9/site-packages/prompt_toolkit/application/__init__.py'>, 'prompt_toolkit.key_binding.bindings.focus': <module 'prompt_toolkit.key_binding.bindings.focus' from '/home/gmiloshe/miniconda3/envs/myenvnew/lib/python3.9/site-packages/prompt_toolkit/key_binding/bindings/focus.py'>, 'prompt_toolkit.widgets.toolbars': <module 'prompt_toolkit.widgets.toolbars' from '/home/gmiloshe/miniconda3/envs/myenvnew/lib/python3.9/site-packages/prompt_toolkit/widgets/toolbars.py'>, 'prompt_toolkit.widgets.base': <module 'prompt_toolkit.widgets.base' from '/home/gmiloshe/miniconda3/envs/myenvnew/lib/python3.9/site-packages/prompt_toolkit/widgets/base.py'>, 'prompt_toolkit.widgets.dialogs': <module 'prompt_toolkit.widgets.dialogs' from '/home/gmiloshe/miniconda3/envs/myenvnew/lib/python3.9/site-packages/prompt_toolkit/widgets/dialogs.py'>, 'prompt_toolkit.widgets.menus': <module 'prompt_toolkit.widgets.menus' from '/home/gmiloshe/miniconda3/envs/myenvnew/lib/python3.9/site-packages/prompt_toolkit/widgets/menus.py'>, 'prompt_toolkit.widgets': <module 'prompt_toolkit.widgets' from '/home/gmiloshe/miniconda3/envs/myenvnew/lib/python3.9/site-packages/prompt_toolkit/widgets/__init__.py'>, 'prompt_toolkit.shortcuts.dialogs': <module 'prompt_toolkit.shortcuts.dialogs' from '/home/gmiloshe/miniconda3/envs/myenvnew/lib/python3.9/site-packages/prompt_toolkit/shortcuts/dialogs.py'>, 'prompt_toolkit.shortcuts.progress_bar.formatters': <module 'prompt_toolkit.shortcuts.progress_bar.formatters' from '/home/gmiloshe/miniconda3/envs/myenvnew/lib/python3.9/site-packages/prompt_toolkit/shortcuts/progress_bar/formatters.py'>, 'prompt_toolkit.shortcuts.progress_bar.base': <module 'prompt_toolkit.shortcuts.progress_bar.base' from '/home/gmiloshe/miniconda3/envs/myenvnew/lib/python3.9/site-packages/prompt_toolkit/shortcuts/progress_bar/base.py'>, 'prompt_toolkit.shortcuts.progress_bar': <module 'prompt_toolkit.shortcuts.progress_bar' from '/home/gmiloshe/miniconda3/envs/myenvnew/lib/python3.9/site-packages/prompt_toolkit/shortcuts/progress_bar/__init__.py'>, 'prompt_toolkit.key_binding.bindings.auto_suggest': <module 'prompt_toolkit.key_binding.bindings.auto_suggest' from '/home/gmiloshe/miniconda3/envs/myenvnew/lib/python3.9/site-packages/prompt_toolkit/key_binding/bindings/auto_suggest.py'>, 'prompt_toolkit.key_binding.bindings.open_in_editor': <module 'prompt_toolkit.key_binding.bindings.open_in_editor' from '/home/gmiloshe/miniconda3/envs/myenvnew/lib/python3.9/site-packages/prompt_toolkit/key_binding/bindings/open_in_editor.py'>, 'prompt_toolkit.shortcuts.prompt': <module 'prompt_toolkit.shortcuts.prompt' from '/home/gmiloshe/miniconda3/envs/myenvnew/lib/python3.9/site-packages/prompt_toolkit/shortcuts/prompt.py'>, 'prompt_toolkit.shortcuts.utils': <module 'prompt_toolkit.shortcuts.utils' from '/home/gmiloshe/miniconda3/envs/myenvnew/lib/python3.9/site-packages/prompt_toolkit/shortcuts/utils.py'>, 'prompt_toolkit.shortcuts': <module 'prompt_toolkit.shortcuts' from '/home/gmiloshe/miniconda3/envs/myenvnew/lib/python3.9/site-packages/prompt_toolkit/shortcuts/__init__.py'>, 'prompt_toolkit': <module 'prompt_toolkit' from '/home/gmiloshe/miniconda3/envs/myenvnew/lib/python3.9/site-packages/prompt_toolkit/__init__.py'>, 'prompt_toolkit.patch_stdout': <module 'prompt_toolkit.patch_stdout' from '/home/gmiloshe/miniconda3/envs/myenvnew/lib/python3.9/site-packages/prompt_toolkit/patch_stdout.py'>, 'pygments.style': <module 'pygments.style' from '/home/gmiloshe/miniconda3/envs/myenvnew/lib/python3.9/site-packages/pygments/style.py'>, 'unicodedata': <module 'unicodedata' from '/home/gmiloshe/miniconda3/envs/myenvnew/lib/python3.9/lib-dynload/unicodedata.cpython-39-x86_64-linux-gnu.so'>, 'IPython.core.latex_symbols': <module 'IPython.core.latex_symbols' from '/home/gmiloshe/miniconda3/envs/myenvnew/lib/python3.9/site-packages/IPython/core/latex_symbols.py'>, 'IPython.utils.generics': <module 'IPython.utils.generics' from '/home/gmiloshe/miniconda3/envs/myenvnew/lib/python3.9/site-packages/IPython/utils/generics.py'>, 'parso.utils': <module 'parso.utils' from '/home/gmiloshe/miniconda3/envs/myenvnew/lib/python3.9/site-packages/parso/utils.py'>, 'parso.tree': <module 'parso.tree' from '/home/gmiloshe/miniconda3/envs/myenvnew/lib/python3.9/site-packages/parso/tree.py'>, 'parso.python': <module 'parso.python' from '/home/gmiloshe/miniconda3/envs/myenvnew/lib/python3.9/site-packages/parso/python/__init__.py'>, 'parso.python.token': <module 'parso.python.token' from '/home/gmiloshe/miniconda3/envs/myenvnew/lib/python3.9/site-packages/parso/python/token.py'>, 'parso.python.tokenize': <module 'parso.python.tokenize' from '/home/gmiloshe/miniconda3/envs/myenvnew/lib/python3.9/site-packages/parso/python/tokenize.py'>, 'parso.pgen2.grammar_parser': <module 'parso.pgen2.grammar_parser' from '/home/gmiloshe/miniconda3/envs/myenvnew/lib/python3.9/site-packages/parso/pgen2/grammar_parser.py'>, 'parso.pgen2.generator': <module 'parso.pgen2.generator' from '/home/gmiloshe/miniconda3/envs/myenvnew/lib/python3.9/site-packages/parso/pgen2/generator.py'>, 'parso.pgen2': <module 'parso.pgen2' from '/home/gmiloshe/miniconda3/envs/myenvnew/lib/python3.9/site-packages/parso/pgen2/__init__.py'>, 'parso.parser': <module 'parso.parser' from '/home/gmiloshe/miniconda3/envs/myenvnew/lib/python3.9/site-packages/parso/parser.py'>, 'parso._compatibility': <module 'parso._compatibility' from '/home/gmiloshe/miniconda3/envs/myenvnew/lib/python3.9/site-packages/parso/_compatibility.py'>, 'difflib': <module 'difflib' from '/home/gmiloshe/miniconda3/envs/myenvnew/lib/python3.9/difflib.py'>, 'parso.python.prefix': <module 'parso.python.prefix' from '/home/gmiloshe/miniconda3/envs/myenvnew/lib/python3.9/site-packages/parso/python/prefix.py'>, 'parso.python.tree': <module 'parso.python.tree' from '/home/gmiloshe/miniconda3/envs/myenvnew/lib/python3.9/site-packages/parso/python/tree.py'>, 'parso.python.parser': <module 'parso.python.parser' from '/home/gmiloshe/miniconda3/envs/myenvnew/lib/python3.9/site-packages/parso/python/parser.py'>, 'parso.python.diff': <module 'parso.python.diff' from '/home/gmiloshe/miniconda3/envs/myenvnew/lib/python3.9/site-packages/parso/python/diff.py'>, 'gc': <module 'gc' (built-in)>, 'parso.cache': <module 'parso.cache' from '/home/gmiloshe/miniconda3/envs/myenvnew/lib/python3.9/site-packages/parso/cache.py'>, 'parso.normalizer': <module 'parso.normalizer' from '/home/gmiloshe/miniconda3/envs/myenvnew/lib/python3.9/site-packages/parso/normalizer.py'>, 'parso.python.errors': <module 'parso.python.errors' from '/home/gmiloshe/miniconda3/envs/myenvnew/lib/python3.9/site-packages/parso/python/errors.py'>, 'parso.python.pep8': <module 'parso.python.pep8' from '/home/gmiloshe/miniconda3/envs/myenvnew/lib/python3.9/site-packages/parso/python/pep8.py'>, 'parso.file_io': <module 'parso.file_io' from '/home/gmiloshe/miniconda3/envs/myenvnew/lib/python3.9/site-packages/parso/file_io.py'>, 'parso.grammar': <module 'parso.grammar' from '/home/gmiloshe/miniconda3/envs/myenvnew/lib/python3.9/site-packages/parso/grammar.py'>, 'parso': <module 'parso' from '/home/gmiloshe/miniconda3/envs/myenvnew/lib/python3.9/site-packages/parso/__init__.py'>, 'jedi._compatibility': <module 'jedi._compatibility' from '/home/gmiloshe/miniconda3/envs/myenvnew/lib/python3.9/site-packages/jedi/_compatibility.py'>, 'jedi.parser_utils': <module 'jedi.parser_utils' from '/home/gmiloshe/miniconda3/envs/myenvnew/lib/python3.9/site-packages/jedi/parser_utils.py'>, 'jedi.debug': <module 'jedi.debug' from '/home/gmiloshe/miniconda3/envs/myenvnew/lib/python3.9/site-packages/jedi/debug.py'>, 'jedi.settings': <module 'jedi.settings' from '/home/gmiloshe/miniconda3/envs/myenvnew/lib/python3.9/site-packages/jedi/settings.py'>, 'jedi.cache': <module 'jedi.cache' from '/home/gmiloshe/miniconda3/envs/myenvnew/lib/python3.9/site-packages/jedi/cache.py'>, 'jedi.file_io': <module 'jedi.file_io' from '/home/gmiloshe/miniconda3/envs/myenvnew/lib/python3.9/site-packages/jedi/file_io.py'>, 'jedi.inference.cache': <module 'jedi.inference.cache' from '/home/gmiloshe/miniconda3/envs/myenvnew/lib/python3.9/site-packages/jedi/inference/cache.py'>, 'jedi.inference.helpers': <module 'jedi.inference.helpers' from '/home/gmiloshe/miniconda3/envs/myenvnew/lib/python3.9/site-packages/jedi/inference/helpers.py'>, 'jedi.inference.utils': <module 'jedi.inference.utils' from '/home/gmiloshe/miniconda3/envs/myenvnew/lib/python3.9/site-packages/jedi/inference/utils.py'>, 'jedi.inference.base_value': <module 'jedi.inference.base_value' from '/home/gmiloshe/miniconda3/envs/myenvnew/lib/python3.9/site-packages/jedi/inference/base_value.py'>, 'jedi.inference.sys_path': <module 'jedi.inference.sys_path' from '/home/gmiloshe/miniconda3/envs/myenvnew/lib/python3.9/site-packages/jedi/inference/sys_path.py'>, 'jedi.inference.recursion': <module 'jedi.inference.recursion' from '/home/gmiloshe/miniconda3/envs/myenvnew/lib/python3.9/site-packages/jedi/inference/recursion.py'>, 'jedi.inference.flow_analysis': <module 'jedi.inference.flow_analysis' from '/home/gmiloshe/miniconda3/envs/myenvnew/lib/python3.9/site-packages/jedi/inference/flow_analysis.py'>, 'jedi.common': <module 'jedi.common' from '/home/gmiloshe/miniconda3/envs/myenvnew/lib/python3.9/site-packages/jedi/common.py'>, 'jedi.inference.lazy_value': <module 'jedi.inference.lazy_value' from '/home/gmiloshe/miniconda3/envs/myenvnew/lib/python3.9/site-packages/jedi/inference/lazy_value.py'>, 'jedi.inference.docstrings': <module 'jedi.inference.docstrings' from '/home/gmiloshe/miniconda3/envs/myenvnew/lib/python3.9/site-packages/jedi/inference/docstrings.py'>, 'jedi.plugins': <module 'jedi.plugins' from '/home/gmiloshe/miniconda3/envs/myenvnew/lib/python3.9/site-packages/jedi/plugins/__init__.py'>, 'jedi.inference.names': <module 'jedi.inference.names' from '/home/gmiloshe/miniconda3/envs/myenvnew/lib/python3.9/site-packages/jedi/inference/names.py'>, 'jedi.inference.filters': <module 'jedi.inference.filters' from '/home/gmiloshe/miniconda3/envs/myenvnew/lib/python3.9/site-packages/jedi/inference/filters.py'>, 'jedi.inference.compiled.getattr_static': <module 'jedi.inference.compiled.getattr_static' from '/home/gmiloshe/miniconda3/envs/myenvnew/lib/python3.9/site-packages/jedi/inference/compiled/getattr_static.py'>, 'jedi.inference.compiled.access': <module 'jedi.inference.compiled.access' from '/home/gmiloshe/miniconda3/envs/myenvnew/lib/python3.9/site-packages/jedi/inference/compiled/access.py'>, 'jedi.inference.signature': <module 'jedi.inference.signature' from '/home/gmiloshe/miniconda3/envs/myenvnew/lib/python3.9/site-packages/jedi/inference/signature.py'>, 'jedi.inference.context': <module 'jedi.inference.context' from '/home/gmiloshe/miniconda3/envs/myenvnew/lib/python3.9/site-packages/jedi/inference/context.py'>, 'jedi.inference.compiled.value': <module 'jedi.inference.compiled.value' from '/home/gmiloshe/miniconda3/envs/myenvnew/lib/python3.9/site-packages/jedi/inference/compiled/value.py'>, 'jedi.inference.compiled': <module 'jedi.inference.compiled' from '/home/gmiloshe/miniconda3/envs/myenvnew/lib/python3.9/site-packages/jedi/inference/compiled/__init__.py'>, 'jedi.inference.analysis': <module 'jedi.inference.analysis' from '/home/gmiloshe/miniconda3/envs/myenvnew/lib/python3.9/site-packages/jedi/inference/analysis.py'>, 'jedi.inference.gradual': <module 'jedi.inference.gradual' from '/home/gmiloshe/miniconda3/envs/myenvnew/lib/python3.9/site-packages/jedi/inference/gradual/__init__.py'>, 'jedi.inference.value.module': <module 'jedi.inference.value.module' from '/home/gmiloshe/miniconda3/envs/myenvnew/lib/python3.9/site-packages/jedi/inference/value/module.py'>, 'jedi.inference.value.dynamic_arrays': <module 'jedi.inference.value.dynamic_arrays' from '/home/gmiloshe/miniconda3/envs/myenvnew/lib/python3.9/site-packages/jedi/inference/value/dynamic_arrays.py'>, 'jedi.inference.value.iterable': <module 'jedi.inference.value.iterable' from '/home/gmiloshe/miniconda3/envs/myenvnew/lib/python3.9/site-packages/jedi/inference/value/iterable.py'>, 'jedi.inference.arguments': <module 'jedi.inference.arguments' from '/home/gmiloshe/miniconda3/envs/myenvnew/lib/python3.9/site-packages/jedi/inference/arguments.py'>, 'jedi.inference.parser_cache': <module 'jedi.inference.parser_cache' from '/home/gmiloshe/miniconda3/envs/myenvnew/lib/python3.9/site-packages/jedi/inference/parser_cache.py'>, 'jedi.inference.gradual.generics': <module 'jedi.inference.gradual.generics' from '/home/gmiloshe/miniconda3/envs/myenvnew/lib/python3.9/site-packages/jedi/inference/gradual/generics.py'>, 'jedi.inference.value.function': <module 'jedi.inference.value.function' from '/home/gmiloshe/miniconda3/envs/myenvnew/lib/python3.9/site-packages/jedi/inference/value/function.py'>, 'jedi.inference.value.klass': <module 'jedi.inference.value.klass' from '/home/gmiloshe/miniconda3/envs/myenvnew/lib/python3.9/site-packages/jedi/inference/value/klass.py'>, 'jedi.inference.value.instance': <module 'jedi.inference.value.instance' from '/home/gmiloshe/miniconda3/envs/myenvnew/lib/python3.9/site-packages/jedi/inference/value/instance.py'>, 'jedi.inference.value': <module 'jedi.inference.value' from '/home/gmiloshe/miniconda3/envs/myenvnew/lib/python3.9/site-packages/jedi/inference/value/__init__.py'>, 'jedi.inference.gradual.base': <module 'jedi.inference.gradual.base' from '/home/gmiloshe/miniconda3/envs/myenvnew/lib/python3.9/site-packages/jedi/inference/gradual/base.py'>, 'jedi.inference.gradual.type_var': <module 'jedi.inference.gradual.type_var' from '/home/gmiloshe/miniconda3/envs/myenvnew/lib/python3.9/site-packages/jedi/inference/gradual/type_var.py'>, 'jedi.inference.gradual.typing': <module 'jedi.inference.gradual.typing' from '/home/gmiloshe/miniconda3/envs/myenvnew/lib/python3.9/site-packages/jedi/inference/gradual/typing.py'>, 'jedi.inference.gradual.stub_value': <module 'jedi.inference.gradual.stub_value' from '/home/gmiloshe/miniconda3/envs/myenvnew/lib/python3.9/site-packages/jedi/inference/gradual/stub_value.py'>, 'jedi.inference.gradual.typeshed': <module 'jedi.inference.gradual.typeshed' from '/home/gmiloshe/miniconda3/envs/myenvnew/lib/python3.9/site-packages/jedi/inference/gradual/typeshed.py'>, 'jedi.inference.compiled.subprocess.functions': <module 'jedi.inference.compiled.subprocess.functions' from '/home/gmiloshe/miniconda3/envs/myenvnew/lib/python3.9/site-packages/jedi/inference/compiled/subprocess/functions.py'>, 'jedi.api.exceptions': <module 'jedi.api.exceptions' from '/home/gmiloshe/miniconda3/envs/myenvnew/lib/python3.9/site-packages/jedi/api/exceptions.py'>, 'jedi.inference.compiled.subprocess': <module 'jedi.inference.compiled.subprocess' from '/home/gmiloshe/miniconda3/envs/myenvnew/lib/python3.9/site-packages/jedi/inference/compiled/subprocess/__init__.py'>, 'jedi.inference.imports': <module 'jedi.inference.imports' from '/home/gmiloshe/miniconda3/envs/myenvnew/lib/python3.9/site-packages/jedi/inference/imports.py'>, 'jedi.inference.param': <module 'jedi.inference.param' from '/home/gmiloshe/miniconda3/envs/myenvnew/lib/python3.9/site-packages/jedi/inference/param.py'>, 'jedi.inference.gradual.annotation': <module 'jedi.inference.gradual.annotation' from '/home/gmiloshe/miniconda3/envs/myenvnew/lib/python3.9/site-packages/jedi/inference/gradual/annotation.py'>, 'jedi.inference.value.decorator': <module 'jedi.inference.value.decorator' from '/home/gmiloshe/miniconda3/envs/myenvnew/lib/python3.9/site-packages/jedi/inference/value/decorator.py'>, 'jedi.inference.syntax_tree': <module 'jedi.inference.syntax_tree' from '/home/gmiloshe/miniconda3/envs/myenvnew/lib/python3.9/site-packages/jedi/inference/syntax_tree.py'>, 'jedi.inference': <module 'jedi.inference' from '/home/gmiloshe/miniconda3/envs/myenvnew/lib/python3.9/site-packages/jedi/inference/__init__.py'>, 'jedi.inference.gradual.conversion': <module 'jedi.inference.gradual.conversion' from '/home/gmiloshe/miniconda3/envs/myenvnew/lib/python3.9/site-packages/jedi/inference/gradual/conversion.py'>, 'jedi.inference.compiled.mixed': <module 'jedi.inference.compiled.mixed' from '/home/gmiloshe/miniconda3/envs/myenvnew/lib/python3.9/site-packages/jedi/inference/compiled/mixed.py'>, 'pydoc_data': <module 'pydoc_data' from '/home/gmiloshe/miniconda3/envs/myenvnew/lib/python3.9/pydoc_data/__init__.py'>, 'pydoc_data.topics': <module 'pydoc_data.topics' from '/home/gmiloshe/miniconda3/envs/myenvnew/lib/python3.9/pydoc_data/topics.py'>, 'jedi.api.keywords': <module 'jedi.api.keywords' from '/home/gmiloshe/miniconda3/envs/myenvnew/lib/python3.9/site-packages/jedi/api/keywords.py'>, 'jedi.api.completion_cache': <module 'jedi.api.completion_cache' from '/home/gmiloshe/miniconda3/envs/myenvnew/lib/python3.9/site-packages/jedi/api/completion_cache.py'>, 'jedi.api.helpers': <module 'jedi.api.helpers' from '/home/gmiloshe/miniconda3/envs/myenvnew/lib/python3.9/site-packages/jedi/api/helpers.py'>, 'jedi.api.classes': <module 'jedi.api.classes' from '/home/gmiloshe/miniconda3/envs/myenvnew/lib/python3.9/site-packages/jedi/api/classes.py'>, 'jedi.api.interpreter': <module 'jedi.api.interpreter' from '/home/gmiloshe/miniconda3/envs/myenvnew/lib/python3.9/site-packages/jedi/api/interpreter.py'>, 'jedi.api.strings': <module 'jedi.api.strings' from '/home/gmiloshe/miniconda3/envs/myenvnew/lib/python3.9/site-packages/jedi/api/strings.py'>, 'jedi.api.file_name': <module 'jedi.api.file_name' from '/home/gmiloshe/miniconda3/envs/myenvnew/lib/python3.9/site-packages/jedi/api/file_name.py'>, 'jedi.api.completion': <module 'jedi.api.completion' from '/home/gmiloshe/miniconda3/envs/myenvnew/lib/python3.9/site-packages/jedi/api/completion.py'>, 'filecmp': <module 'filecmp' from '/home/gmiloshe/miniconda3/envs/myenvnew/lib/python3.9/filecmp.py'>, 'jedi.api.environment': <module 'jedi.api.environment' from '/home/gmiloshe/miniconda3/envs/myenvnew/lib/python3.9/site-packages/jedi/api/environment.py'>, 'jedi.inference.references': <module 'jedi.inference.references' from '/home/gmiloshe/miniconda3/envs/myenvnew/lib/python3.9/site-packages/jedi/inference/references.py'>, 'jedi.api.project': <module 'jedi.api.project' from '/home/gmiloshe/miniconda3/envs/myenvnew/lib/python3.9/site-packages/jedi/api/project.py'>, 'jedi.api.errors': <module 'jedi.api.errors' from '/home/gmiloshe/miniconda3/envs/myenvnew/lib/python3.9/site-packages/jedi/api/errors.py'>, 'jedi.api.refactoring': <module 'jedi.api.refactoring' from '/home/gmiloshe/miniconda3/envs/myenvnew/lib/python3.9/site-packages/jedi/api/refactoring/__init__.py'>, 'jedi.api.refactoring.extract': <module 'jedi.api.refactoring.extract' from '/home/gmiloshe/miniconda3/envs/myenvnew/lib/python3.9/site-packages/jedi/api/refactoring/extract.py'>, 'jedi.inference.gradual.utils': <module 'jedi.inference.gradual.utils' from '/home/gmiloshe/miniconda3/envs/myenvnew/lib/python3.9/site-packages/jedi/inference/gradual/utils.py'>, 'jedi.api': <module 'jedi.api' from '/home/gmiloshe/miniconda3/envs/myenvnew/lib/python3.9/site-packages/jedi/api/__init__.py'>, 'jedi.plugins.stdlib': <module 'jedi.plugins.stdlib' from '/home/gmiloshe/miniconda3/envs/myenvnew/lib/python3.9/site-packages/jedi/plugins/stdlib.py'>, 'jedi.plugins.flask': <module 'jedi.plugins.flask' from '/home/gmiloshe/miniconda3/envs/myenvnew/lib/python3.9/site-packages/jedi/plugins/flask.py'>, 'jedi.plugins.pytest': <module 'jedi.plugins.pytest' from '/home/gmiloshe/miniconda3/envs/myenvnew/lib/python3.9/site-packages/jedi/plugins/pytest.py'>, 'jedi.plugins.django': <module 'jedi.plugins.django' from '/home/gmiloshe/miniconda3/envs/myenvnew/lib/python3.9/site-packages/jedi/plugins/django.py'>, 'jedi.plugins.registry': <module 'jedi.plugins.registry' from '/home/gmiloshe/miniconda3/envs/myenvnew/lib/python3.9/site-packages/jedi/plugins/registry.py'>, 'jedi': <module 'jedi' from '/home/gmiloshe/miniconda3/envs/myenvnew/lib/python3.9/site-packages/jedi/__init__.py'>, 'IPython.core.completer': <module 'IPython.core.completer' from '/home/gmiloshe/miniconda3/envs/myenvnew/lib/python3.9/site-packages/IPython/core/completer.py'>, 'IPython.terminal.ptutils': <module 'IPython.terminal.ptutils' from '/home/gmiloshe/miniconda3/envs/myenvnew/lib/python3.9/site-packages/IPython/terminal/ptutils.py'>, 'IPython.terminal.shortcuts': <module 'IPython.terminal.shortcuts' from '/home/gmiloshe/miniconda3/envs/myenvnew/lib/python3.9/site-packages/IPython/terminal/shortcuts.py'>, 'IPython.terminal.debugger': <module 'IPython.terminal.debugger' from '/home/gmiloshe/miniconda3/envs/myenvnew/lib/python3.9/site-packages/IPython/terminal/debugger.py'>, 'IPython.lib.clipboard': <module 'IPython.lib.clipboard' from '/home/gmiloshe/miniconda3/envs/myenvnew/lib/python3.9/site-packages/IPython/lib/clipboard.py'>, 'IPython.terminal.magics': <module 'IPython.terminal.magics' from '/home/gmiloshe/miniconda3/envs/myenvnew/lib/python3.9/site-packages/IPython/terminal/magics.py'>, 'IPython.terminal.pt_inputhooks': <module 'IPython.terminal.pt_inputhooks' from '/home/gmiloshe/miniconda3/envs/myenvnew/lib/python3.9/site-packages/IPython/terminal/pt_inputhooks/__init__.py'>, 'IPython.terminal.prompts': <module 'IPython.terminal.prompts' from '/home/gmiloshe/miniconda3/envs/myenvnew/lib/python3.9/site-packages/IPython/terminal/prompts.py'>, 'IPython.terminal.interactiveshell': <module 'IPython.terminal.interactiveshell' from '/home/gmiloshe/miniconda3/envs/myenvnew/lib/python3.9/site-packages/IPython/terminal/interactiveshell.py'>, 'IPython.core.magics.auto': <module 'IPython.core.magics.auto' from '/home/gmiloshe/miniconda3/envs/myenvnew/lib/python3.9/site-packages/IPython/core/magics/auto.py'>, 'IPython.core.magics.basic': <module 'IPython.core.magics.basic' from '/home/gmiloshe/miniconda3/envs/myenvnew/lib/python3.9/site-packages/IPython/core/magics/basic.py'>, 'email': <module 'email' from '/home/gmiloshe/miniconda3/envs/myenvnew/lib/python3.9/email/__init__.py'>, 'http': <module 'http' from '/home/gmiloshe/miniconda3/envs/myenvnew/lib/python3.9/http/__init__.py'>, 'email.errors': <module 'email.errors' from '/home/gmiloshe/miniconda3/envs/myenvnew/lib/python3.9/email/errors.py'>, 'email.quoprimime': <module 'email.quoprimime' from '/home/gmiloshe/miniconda3/envs/myenvnew/lib/python3.9/email/quoprimime.py'>, 'email.base64mime': <module 'email.base64mime' from '/home/gmiloshe/miniconda3/envs/myenvnew/lib/python3.9/email/base64mime.py'>, 'quopri': <module 'quopri' from '/home/gmiloshe/miniconda3/envs/myenvnew/lib/python3.9/quopri.py'>, 'email.encoders': <module 'email.encoders' from '/home/gmiloshe/miniconda3/envs/myenvnew/lib/python3.9/email/encoders.py'>, 'email.charset': <module 'email.charset' from '/home/gmiloshe/miniconda3/envs/myenvnew/lib/python3.9/email/charset.py'>, 'email.header': <module 'email.header' from '/home/gmiloshe/miniconda3/envs/myenvnew/lib/python3.9/email/header.py'>, 'email._parseaddr': <module 'email._parseaddr' from '/home/gmiloshe/miniconda3/envs/myenvnew/lib/python3.9/email/_parseaddr.py'>, 'email.utils': <module 'email.utils' from '/home/gmiloshe/miniconda3/envs/myenvnew/lib/python3.9/email/utils.py'>, 'email._policybase': <module 'email._policybase' from '/home/gmiloshe/miniconda3/envs/myenvnew/lib/python3.9/email/_policybase.py'>, 'email.feedparser': <module 'email.feedparser' from '/home/gmiloshe/miniconda3/envs/myenvnew/lib/python3.9/email/feedparser.py'>, 'email.parser': <module 'email.parser' from '/home/gmiloshe/miniconda3/envs/myenvnew/lib/python3.9/email/parser.py'>, 'uu': <module 'uu' from '/home/gmiloshe/miniconda3/envs/myenvnew/lib/python3.9/uu.py'>, 'email._encoded_words': <module 'email._encoded_words' from '/home/gmiloshe/miniconda3/envs/myenvnew/lib/python3.9/email/_encoded_words.py'>, 'email.iterators': <module 'email.iterators' from '/home/gmiloshe/miniconda3/envs/myenvnew/lib/python3.9/email/iterators.py'>, 'email.message': <module 'email.message' from '/home/gmiloshe/miniconda3/envs/myenvnew/lib/python3.9/email/message.py'>, 'http.client': <module 'http.client' from '/home/gmiloshe/miniconda3/envs/myenvnew/lib/python3.9/http/client.py'>, 'urllib.response': <module 'urllib.response' from '/home/gmiloshe/miniconda3/envs/myenvnew/lib/python3.9/urllib/response.py'>, 'urllib.error': <module 'urllib.error' from '/home/gmiloshe/miniconda3/envs/myenvnew/lib/python3.9/urllib/error.py'>, 'urllib.request': <module 'urllib.request' from '/home/gmiloshe/miniconda3/envs/myenvnew/lib/python3.9/urllib/request.py'>, 'IPython.core.magics.code': <module 'IPython.core.magics.code' from '/home/gmiloshe/miniconda3/envs/myenvnew/lib/python3.9/site-packages/IPython/core/magics/code.py'>, 'IPython.core.magics.config': <module 'IPython.core.magics.config' from '/home/gmiloshe/miniconda3/envs/myenvnew/lib/python3.9/site-packages/IPython/core/magics/config.py'>, 'IPython.core.magics.display': <module 'IPython.core.magics.display' from '/home/gmiloshe/miniconda3/envs/myenvnew/lib/python3.9/site-packages/IPython/core/magics/display.py'>, 'timeit': <module 'timeit' from '/home/gmiloshe/miniconda3/envs/myenvnew/lib/python3.9/timeit.py'>, '_lsprof': <module '_lsprof' from '/home/gmiloshe/miniconda3/envs/myenvnew/lib/python3.9/lib-dynload/_lsprof.cpython-39-x86_64-linux-gnu.so'>, 'profile': <module 'profile' from '/home/gmiloshe/miniconda3/envs/myenvnew/lib/python3.9/profile.py'>, 'cProfile': <module 'cProfile' from '/home/gmiloshe/miniconda3/envs/myenvnew/lib/python3.9/cProfile.py'>, 'dataclasses': <module 'dataclasses' from '/home/gmiloshe/miniconda3/envs/myenvnew/lib/python3.9/dataclasses.py'>, 'pstats': <module 'pstats' from '/home/gmiloshe/miniconda3/envs/myenvnew/lib/python3.9/pstats.py'>, 'IPython.utils.module_paths': <module 'IPython.utils.module_paths' from '/home/gmiloshe/miniconda3/envs/myenvnew/lib/python3.9/site-packages/IPython/utils/module_paths.py'>, 'IPython.utils.timing': <module 'IPython.utils.timing' from '/home/gmiloshe/miniconda3/envs/myenvnew/lib/python3.9/site-packages/IPython/utils/timing.py'>, 'IPython.core.magics.execution': <module 'IPython.core.magics.execution' from '/home/gmiloshe/miniconda3/envs/myenvnew/lib/python3.9/site-packages/IPython/core/magics/execution.py'>, 'IPython.core.magics.extension': <module 'IPython.core.magics.extension' from '/home/gmiloshe/miniconda3/envs/myenvnew/lib/python3.9/site-packages/IPython/core/magics/extension.py'>, 'IPython.core.magics.history': <module 'IPython.core.magics.history' from '/home/gmiloshe/miniconda3/envs/myenvnew/lib/python3.9/site-packages/IPython/core/magics/history.py'>, 'IPython.core.magics.logging': <module 'IPython.core.magics.logging' from '/home/gmiloshe/miniconda3/envs/myenvnew/lib/python3.9/site-packages/IPython/core/magics/logging.py'>, 'IPython.core.magics.namespace': <module 'IPython.core.magics.namespace' from '/home/gmiloshe/miniconda3/envs/myenvnew/lib/python3.9/site-packages/IPython/core/magics/namespace.py'>, 'IPython.core.magics.osm': <module 'IPython.core.magics.osm' from '/home/gmiloshe/miniconda3/envs/myenvnew/lib/python3.9/site-packages/IPython/core/magics/osm.py'>, 'IPython.core.magics.packaging': <module 'IPython.core.magics.packaging' from '/home/gmiloshe/miniconda3/envs/myenvnew/lib/python3.9/site-packages/IPython/core/magics/packaging.py'>, 'IPython.core.pylabtools': <module 'IPython.core.pylabtools' from '/home/gmiloshe/miniconda3/envs/myenvnew/lib/python3.9/site-packages/IPython/core/pylabtools.py'>, 'IPython.core.magics.pylab': <module 'IPython.core.magics.pylab' from '/home/gmiloshe/miniconda3/envs/myenvnew/lib/python3.9/site-packages/IPython/core/magics/pylab.py'>, 'IPython.lib.backgroundjobs': <module 'IPython.lib.backgroundjobs' from '/home/gmiloshe/miniconda3/envs/myenvnew/lib/python3.9/site-packages/IPython/lib/backgroundjobs.py'>, 'IPython.core.magics.script': <module 'IPython.core.magics.script' from '/home/gmiloshe/miniconda3/envs/myenvnew/lib/python3.9/site-packages/IPython/core/magics/script.py'>, 'IPython.core.magics': <module 'IPython.core.magics' from '/home/gmiloshe/miniconda3/envs/myenvnew/lib/python3.9/site-packages/IPython/core/magics/__init__.py'>, 'IPython.core.shellapp': <module 'IPython.core.shellapp' from '/home/gmiloshe/miniconda3/envs/myenvnew/lib/python3.9/site-packages/IPython/core/shellapp.py'>, 'IPython.extensions': <module 'IPython.extensions' from '/home/gmiloshe/miniconda3/envs/myenvnew/lib/python3.9/site-packages/IPython/extensions/__init__.py'>, 'IPython.extensions.storemagic': <module 'IPython.extensions.storemagic' from '/home/gmiloshe/miniconda3/envs/myenvnew/lib/python3.9/site-packages/IPython/extensions/storemagic.py'>, 'IPython.terminal.ipapp': <module 'IPython.terminal.ipapp' from '/home/gmiloshe/miniconda3/envs/myenvnew/lib/python3.9/site-packages/IPython/terminal/ipapp.py'>, 'IPython.terminal.embed': <module 'IPython.terminal.embed' from '/home/gmiloshe/miniconda3/envs/myenvnew/lib/python3.9/site-packages/IPython/terminal/embed.py'>, 'IPython.utils.frame': <module 'IPython.utils.frame' from '/home/gmiloshe/miniconda3/envs/myenvnew/lib/python3.9/site-packages/IPython/utils/frame.py'>, 'IPython': <module 'IPython' from '/home/gmiloshe/miniconda3/envs/myenvnew/lib/python3.9/site-packages/IPython/__init__.py'>, 'ipython_genutils._version': <module 'ipython_genutils._version' from '/home/gmiloshe/miniconda3/envs/myenvnew/lib/python3.9/site-packages/ipython_genutils/_version.py'>, 'ipython_genutils': <module 'ipython_genutils' from '/home/gmiloshe/miniconda3/envs/myenvnew/lib/python3.9/site-packages/ipython_genutils/__init__.py'>, 'ipython_genutils.encoding': <module 'ipython_genutils.encoding' from '/home/gmiloshe/miniconda3/envs/myenvnew/lib/python3.9/site-packages/ipython_genutils/encoding.py'>, 'ipython_genutils.py3compat': <module 'ipython_genutils.py3compat' from '/home/gmiloshe/miniconda3/envs/myenvnew/lib/python3.9/site-packages/ipython_genutils/py3compat.py'>, 'ipython_genutils.path': <module 'ipython_genutils.path' from '/home/gmiloshe/miniconda3/envs/myenvnew/lib/python3.9/site-packages/ipython_genutils/path.py'>, 'imp': <module 'imp' from '/home/gmiloshe/miniconda3/envs/myenvnew/lib/python3.9/imp.py'>, 'ipykernel.iostream': <module 'ipykernel.iostream' from '/home/gmiloshe/miniconda3/envs/myenvnew/lib/python3.9/site-packages/ipykernel/iostream.py'>, 'ipykernel.control': <module 'ipykernel.control' from '/home/gmiloshe/miniconda3/envs/myenvnew/lib/python3.9/site-packages/ipykernel/control.py'>, 'ipykernel.heartbeat': <module 'ipykernel.heartbeat' from '/home/gmiloshe/miniconda3/envs/myenvnew/lib/python3.9/site-packages/ipykernel/heartbeat.py'>, 'IPython.utils.tokenutil': <module 'IPython.utils.tokenutil' from '/home/gmiloshe/miniconda3/envs/myenvnew/lib/python3.9/site-packages/IPython/utils/tokenutil.py'>, 'tornado.locks': <module 'tornado.locks' from '/home/gmiloshe/miniconda3/envs/myenvnew/lib/python3.9/site-packages/tornado/locks.py'>, 'tornado.queues': <module 'tornado.queues' from '/home/gmiloshe/miniconda3/envs/myenvnew/lib/python3.9/site-packages/tornado/queues.py'>, 'ipykernel.jsonutil': <module 'ipykernel.jsonutil' from '/home/gmiloshe/miniconda3/envs/myenvnew/lib/python3.9/site-packages/ipykernel/jsonutil.py'>, 'ipykernel.kernelbase': <module 'ipykernel.kernelbase' from '/home/gmiloshe/miniconda3/envs/myenvnew/lib/python3.9/site-packages/ipykernel/kernelbase.py'>, 'ipykernel.comm.comm': <module 'ipykernel.comm.comm' from '/home/gmiloshe/miniconda3/envs/myenvnew/lib/python3.9/site-packages/ipykernel/comm/comm.py'>, 'ipykernel.comm.manager': <module 'ipykernel.comm.manager' from '/home/gmiloshe/miniconda3/envs/myenvnew/lib/python3.9/site-packages/ipykernel/comm/manager.py'>, 'ipykernel.comm': <module 'ipykernel.comm' from '/home/gmiloshe/miniconda3/envs/myenvnew/lib/python3.9/site-packages/ipykernel/comm/__init__.py'>, 'IPython.core.payloadpage': <module 'IPython.core.payloadpage' from '/home/gmiloshe/miniconda3/envs/myenvnew/lib/python3.9/site-packages/IPython/core/payloadpage.py'>, 'ipykernel.displayhook': <module 'ipykernel.displayhook' from '/home/gmiloshe/miniconda3/envs/myenvnew/lib/python3.9/site-packages/ipykernel/displayhook.py'>, 'ipykernel.zmqshell': <module 'ipykernel.zmqshell' from '/home/gmiloshe/miniconda3/envs/myenvnew/lib/python3.9/site-packages/ipykernel/zmqshell.py'>, 'distutils': <module 'distutils' from '/home/gmiloshe/miniconda3/envs/myenvnew/lib/python3.9/distutils/__init__.py'>, 'distutils.version': <module 'distutils.version' from '/home/gmiloshe/miniconda3/envs/myenvnew/lib/python3.9/distutils/version.py'>, 'ipykernel.eventloops': <module 'ipykernel.eventloops' from '/home/gmiloshe/miniconda3/envs/myenvnew/lib/python3.9/site-packages/ipykernel/eventloops.py'>, 'ipykernel.compiler': <module 'ipykernel.compiler' from '/home/gmiloshe/miniconda3/envs/myenvnew/lib/python3.9/site-packages/ipykernel/compiler.py'>, 'debugpy._version': <module 'debugpy._version' from '/home/gmiloshe/miniconda3/envs/myenvnew/lib/python3.9/site-packages/debugpy/_version.py'>, 'debugpy.common': <module 'debugpy.common' from '/home/gmiloshe/miniconda3/envs/myenvnew/lib/python3.9/site-packages/debugpy/common/__init__.py'>, 'debugpy.common.json': <module 'debugpy.common.json' from '/home/gmiloshe/miniconda3/envs/myenvnew/lib/python3.9/site-packages/debugpy/common/json.py'>, 'debugpy.common.fmt': <module 'debugpy.common.fmt' from '/home/gmiloshe/miniconda3/envs/myenvnew/lib/python3.9/site-packages/debugpy/common/fmt.py'>, 'debugpy.common.compat': <module 'debugpy.common.compat' from '/home/gmiloshe/miniconda3/envs/myenvnew/lib/python3.9/site-packages/debugpy/common/compat.py'>, 'debugpy': <module 'debugpy' from '/home/gmiloshe/miniconda3/envs/myenvnew/lib/python3.9/site-packages/debugpy/__init__.py'>, 'debugpy._vendored._util': <module 'debugpy._vendored._util' from '/home/gmiloshe/miniconda3/envs/myenvnew/lib/python3.9/site-packages/debugpy/_vendored/_util.py'>, 'debugpy._vendored': <module 'debugpy._vendored' from '/home/gmiloshe/miniconda3/envs/myenvnew/lib/python3.9/site-packages/debugpy/_vendored/__init__.py'>, '_pydevd_bundle': <module '_pydevd_bundle' from '/home/gmiloshe/miniconda3/envs/myenvnew/lib/python3.9/site-packages/debugpy/_vendored/pydevd/_pydevd_bundle/__init__.py'>, 'encodings.ascii': <module 'encodings.ascii' from '/home/gmiloshe/miniconda3/envs/myenvnew/lib/python3.9/encodings/ascii.py'>, 'stringprep': <module 'stringprep' from '/home/gmiloshe/miniconda3/envs/myenvnew/lib/python3.9/stringprep.py'>, 'encodings.idna': <module 'encodings.idna' from '/home/gmiloshe/miniconda3/envs/myenvnew/lib/python3.9/encodings/idna.py'>, '_pydevd_bundle.pydevd_vm_type': <module '_pydevd_bundle.pydevd_vm_type' from '/home/gmiloshe/miniconda3/envs/myenvnew/lib/python3.9/site-packages/debugpy/_vendored/pydevd/_pydevd_bundle/pydevd_vm_type.py'>, '_pydev_imps': <module '_pydev_imps' from '/home/gmiloshe/miniconda3/envs/myenvnew/lib/python3.9/site-packages/debugpy/_vendored/pydevd/_pydev_imps/__init__.py'>, 'xmlrpc': <module 'xmlrpc' from '/home/gmiloshe/miniconda3/envs/myenvnew/lib/python3.9/xmlrpc/__init__.py'>, 'xml.parsers': <module 'xml.parsers' from '/home/gmiloshe/miniconda3/envs/myenvnew/lib/python3.9/xml/parsers/__init__.py'>, 'pyexpat.errors': <module 'pyexpat.errors'>, 'pyexpat.model': <module 'pyexpat.model'>, 'pyexpat': <module 'pyexpat' from '/home/gmiloshe/miniconda3/envs/myenvnew/lib/python3.9/lib-dynload/pyexpat.cpython-39-x86_64-linux-gnu.so'>, 'xml.parsers.expat.model': <module 'pyexpat.model'>, 'xml.parsers.expat.errors': <module 'pyexpat.errors'>, 'xml.parsers.expat': <module 'xml.parsers.expat' from '/home/gmiloshe/miniconda3/envs/myenvnew/lib/python3.9/xml/parsers/expat.py'>, 'gzip': <module 'gzip' from '/home/gmiloshe/miniconda3/envs/myenvnew/lib/python3.9/gzip.py'>, 'xmlrpc.client': <module 'xmlrpc.client' from '/home/gmiloshe/miniconda3/envs/myenvnew/lib/python3.9/xmlrpc/client.py'>, 'socketserver': <module 'socketserver' from '/home/gmiloshe/miniconda3/envs/myenvnew/lib/python3.9/socketserver.py'>, 'http.server': <module 'http.server' from '/home/gmiloshe/miniconda3/envs/myenvnew/lib/python3.9/http/server.py'>, 'xmlrpc.server': <module 'xmlrpc.server' from '/home/gmiloshe/miniconda3/envs/myenvnew/lib/python3.9/xmlrpc/server.py'>, '_pydev_imps._pydev_saved_modules': <module '_pydev_imps._pydev_saved_modules' from '/home/gmiloshe/miniconda3/envs/myenvnew/lib/python3.9/site-packages/debugpy/_vendored/pydevd/_pydev_imps/_pydev_saved_modules.py'>, '_pydevd_bundle.pydevd_constants': <module '_pydevd_bundle.pydevd_constants' from '/home/gmiloshe/miniconda3/envs/myenvnew/lib/python3.9/site-packages/debugpy/_vendored/pydevd/_pydevd_bundle/pydevd_constants.py'>, '_pydev_bundle': <module '_pydev_bundle' from '/home/gmiloshe/miniconda3/envs/myenvnew/lib/python3.9/site-packages/debugpy/_vendored/pydevd/_pydev_bundle/__init__.py'>, '_pydev_runfiles': <module '_pydev_runfiles' from '/home/gmiloshe/miniconda3/envs/myenvnew/lib/python3.9/site-packages/debugpy/_vendored/pydevd/_pydev_runfiles/__init__.py'>, '_pydevd_frame_eval': <module '_pydevd_frame_eval' from '/home/gmiloshe/miniconda3/envs/myenvnew/lib/python3.9/site-packages/debugpy/_vendored/pydevd/_pydevd_frame_eval/__init__.py'>, 'pydev_ipython': <module 'pydev_ipython' from '/home/gmiloshe/miniconda3/envs/myenvnew/lib/python3.9/site-packages/debugpy/_vendored/pydevd/pydev_ipython/__init__.py'>, 'pydevd_concurrency_analyser': <module 'pydevd_concurrency_analyser' from '/home/gmiloshe/miniconda3/envs/myenvnew/lib/python3.9/site-packages/debugpy/_vendored/pydevd/pydevd_concurrency_analyser/__init__.py'>, 'plistlib': <module 'plistlib' from '/home/gmiloshe/miniconda3/envs/myenvnew/lib/python3.9/plistlib.py'>, 'pkg_resources.extern': <module 'pkg_resources.extern' from '/home/gmiloshe/miniconda3/envs/myenvnew/lib/python3.9/site-packages/pkg_resources/extern/__init__.py'>, 'pkg_resources._vendor': <module 'pkg_resources._vendor' from '/home/gmiloshe/miniconda3/envs/myenvnew/lib/python3.9/site-packages/pkg_resources/_vendor/__init__.py'>, 'pkg_resources._vendor.appdirs': <module 'pkg_resources.extern.appdirs' (<pkg_resources.extern.VendorImporter object at 0x14a5b5030a60>)>, 'pkg_resources.extern.appdirs': <module 'pkg_resources.extern.appdirs' (<pkg_resources.extern.VendorImporter object at 0x14a5b5030a60>)>, 'pkg_resources._vendor.packaging.__about__': <module 'pkg_resources._vendor.packaging.__about__' from '/home/gmiloshe/miniconda3/envs/myenvnew/lib/python3.9/site-packages/pkg_resources/_vendor/packaging/__about__.py'>, 'pkg_resources._vendor.packaging': <module 'pkg_resources.extern.packaging' (<pkg_resources.extern.VendorImporter object at 0x14a5b5030a60>)>, 'pkg_resources.extern.packaging': <module 'pkg_resources.extern.packaging' (<pkg_resources.extern.VendorImporter object at 0x14a5b5030a60>)>, 'pkg_resources.extern.packaging._structures': <module 'pkg_resources.extern.packaging._structures' from '/home/gmiloshe/miniconda3/envs/myenvnew/lib/python3.9/site-packages/pkg_resources/_vendor/packaging/_structures.py'>, 'pkg_resources.extern.packaging._typing': <module 'pkg_resources.extern.packaging._typing' from '/home/gmiloshe/miniconda3/envs/myenvnew/lib/python3.9/site-packages/pkg_resources/_vendor/packaging/_typing.py'>, 'pkg_resources.extern.packaging.version': <module 'pkg_resources.extern.packaging.version' from '/home/gmiloshe/miniconda3/envs/myenvnew/lib/python3.9/site-packages/pkg_resources/_vendor/packaging/version.py'>, 'pkg_resources.extern.packaging._compat': <module 'pkg_resources.extern.packaging._compat' from '/home/gmiloshe/miniconda3/envs/myenvnew/lib/python3.9/site-packages/pkg_resources/_vendor/packaging/_compat.py'>, 'pkg_resources.extern.packaging.utils': <module 'pkg_resources.extern.packaging.utils' from '/home/gmiloshe/miniconda3/envs/myenvnew/lib/python3.9/site-packages/pkg_resources/_vendor/packaging/utils.py'>, 'pkg_resources.extern.packaging.specifiers': <module 'pkg_resources.extern.packaging.specifiers' from '/home/gmiloshe/miniconda3/envs/myenvnew/lib/python3.9/site-packages/pkg_resources/_vendor/packaging/specifiers.py'>, 'pkg_resources._vendor.pyparsing': <module 'pkg_resources.extern.pyparsing' (<pkg_resources.extern.VendorImporter object at 0x14a5b5030a60>)>, 'pkg_resources.extern.pyparsing': <module 'pkg_resources.extern.pyparsing' (<pkg_resources.extern.VendorImporter object at 0x14a5b5030a60>)>, 'pkg_resources.extern.packaging.markers': <module 'pkg_resources.extern.packaging.markers' from '/home/gmiloshe/miniconda3/envs/myenvnew/lib/python3.9/site-packages/pkg_resources/_vendor/packaging/markers.py'>, 'pkg_resources.extern.packaging.requirements': <module 'pkg_resources.extern.packaging.requirements' from '/home/gmiloshe/miniconda3/envs/myenvnew/lib/python3.9/site-packages/pkg_resources/_vendor/packaging/requirements.py'>, 'encodings.cp437': <module 'encodings.cp437' from '/home/gmiloshe/miniconda3/envs/myenvnew/lib/python3.9/encodings/cp437.py'>, 'pkg_resources': <module 'pkg_resources' from '/home/gmiloshe/miniconda3/envs/myenvnew/lib/python3.9/site-packages/pkg_resources/__init__.py'>, 'pydevd_plugins': <module 'pydevd_plugins' from '/home/gmiloshe/miniconda3/envs/myenvnew/lib/python3.9/site-packages/debugpy/_vendored/pydevd/pydevd_plugins/__init__.py'>, '_pydev_bundle.pydev_log': <module '_pydev_bundle.pydev_log' from '/home/gmiloshe/miniconda3/envs/myenvnew/lib/python3.9/site-packages/debugpy/_vendored/pydevd/_pydev_bundle/pydev_log.py'>, '_pydev_bundle._pydev_filesystem_encoding': <module '_pydev_bundle._pydev_filesystem_encoding' from '/home/gmiloshe/miniconda3/envs/myenvnew/lib/python3.9/site-packages/debugpy/_vendored/pydevd/_pydev_bundle/_pydev_filesystem_encoding.py'>, '_pydevd_bundle.pydevd_comm_constants': <module '_pydevd_bundle.pydevd_comm_constants' from '/home/gmiloshe/miniconda3/envs/myenvnew/lib/python3.9/site-packages/debugpy/_vendored/pydevd/_pydevd_bundle/pydevd_comm_constants.py'>, 'pydevd_file_utils': <module 'pydevd_file_utils' from '/home/gmiloshe/miniconda3/envs/myenvnew/lib/python3.9/site-packages/debugpy/_vendored/pydevd/pydevd_file_utils.py'>, '_pydev_imps._pydev_execfile': <module '_pydev_imps._pydev_execfile' from '/home/gmiloshe/miniconda3/envs/myenvnew/lib/python3.9/site-packages/debugpy/_vendored/pydevd/_pydev_imps/_pydev_execfile.py'>, '_pydevd_bundle.pydevd_exec2': <module '_pydevd_bundle.pydevd_exec2' from '/home/gmiloshe/miniconda3/envs/myenvnew/lib/python3.9/site-packages/debugpy/_vendored/pydevd/_pydevd_bundle/pydevd_exec2.py'>, '_pydev_bundle.pydev_imports': <module '_pydev_bundle.pydev_imports' from '/home/gmiloshe/miniconda3/envs/myenvnew/lib/python3.9/site-packages/debugpy/_vendored/pydevd/_pydev_bundle/pydev_imports.py'>, '_pydev_bundle.pydev_is_thread_alive': <module '_pydev_bundle.pydev_is_thread_alive' from '/home/gmiloshe/miniconda3/envs/myenvnew/lib/python3.9/site-packages/debugpy/_vendored/pydevd/_pydev_bundle/pydev_is_thread_alive.py'>, '_pydev_bundle.pydev_override': <module '_pydev_bundle.pydev_override' from '/home/gmiloshe/miniconda3/envs/myenvnew/lib/python3.9/site-packages/debugpy/_vendored/pydevd/_pydev_bundle/pydev_override.py'>, 'pydevd_plugins.extensions': <module 'pydevd_plugins.extensions' from '/home/gmiloshe/miniconda3/envs/myenvnew/lib/python3.9/site-packages/debugpy/_vendored/pydevd/pydevd_plugins/extensions/__init__.py'>, '_pydevd_bundle.pydevd_extension_utils': <module '_pydevd_bundle.pydevd_extension_utils' from '/home/gmiloshe/miniconda3/envs/myenvnew/lib/python3.9/site-packages/debugpy/_vendored/pydevd/_pydevd_bundle/pydevd_extension_utils.py'>, '_pydevd_bundle.pydevd_frame_utils': <module '_pydevd_bundle.pydevd_frame_utils' from '/home/gmiloshe/miniconda3/envs/myenvnew/lib/python3.9/site-packages/debugpy/_vendored/pydevd/_pydevd_bundle/pydevd_frame_utils.py'>, '_pydevd_bundle.pydevd_filtering': <module '_pydevd_bundle.pydevd_filtering' from '/home/gmiloshe/miniconda3/envs/myenvnew/lib/python3.9/site-packages/debugpy/_vendored/pydevd/_pydevd_bundle/pydevd_filtering.py'>, '_pydevd_bundle.pydevd_io': <module '_pydevd_bundle.pydevd_io' from '/home/gmiloshe/miniconda3/envs/myenvnew/lib/python3.9/site-packages/debugpy/_vendored/pydevd/_pydevd_bundle/pydevd_io.py'>, '_pydevd_bundle.pydevd_utils': <module '_pydevd_bundle.pydevd_utils' from '/home/gmiloshe/miniconda3/envs/myenvnew/lib/python3.9/site-packages/debugpy/_vendored/pydevd/_pydevd_bundle/pydevd_utils.py'>, '_pydev_bundle._pydev_tipper_common': <module '_pydev_bundle._pydev_tipper_common' from '/home/gmiloshe/miniconda3/envs/myenvnew/lib/python3.9/site-packages/debugpy/_vendored/pydevd/_pydev_bundle/_pydev_tipper_common.py'>, '_pydev_bundle._pydev_imports_tipper': <module '_pydev_bundle._pydev_imports_tipper' from '/home/gmiloshe/miniconda3/envs/myenvnew/lib/python3.9/site-packages/debugpy/_vendored/pydevd/_pydev_bundle/_pydev_imports_tipper.py'>, '_pydev_bundle._pydev_calltip_util': <module '_pydev_bundle._pydev_calltip_util' from '/home/gmiloshe/miniconda3/envs/myenvnew/lib/python3.9/site-packages/debugpy/_vendored/pydevd/_pydev_bundle/_pydev_calltip_util.py'>, '_pydevd_bundle.pydevd_safe_repr': <module '_pydevd_bundle.pydevd_safe_repr' from '/home/gmiloshe/miniconda3/envs/myenvnew/lib/python3.9/site-packages/debugpy/_vendored/pydevd/_pydevd_bundle/pydevd_safe_repr.py'>, '_pydevd_bundle.pydevd_resolver': <module '_pydevd_bundle.pydevd_resolver' from '/home/gmiloshe/miniconda3/envs/myenvnew/lib/python3.9/site-packages/debugpy/_vendored/pydevd/_pydevd_bundle/pydevd_resolver.py'>, '_pydevd_bundle.pydevd_extension_api': <module '_pydevd_bundle.pydevd_extension_api' from '/home/gmiloshe/miniconda3/envs/myenvnew/lib/python3.9/site-packages/debugpy/_vendored/pydevd/_pydevd_bundle/pydevd_extension_api.py'>, '_pydevd_bundle.pydevd_xml': <module '_pydevd_bundle.pydevd_xml' from '/home/gmiloshe/miniconda3/envs/myenvnew/lib/python3.9/site-packages/debugpy/_vendored/pydevd/_pydevd_bundle/pydevd_xml.py'>, '_pydevd_bundle.pydevd_dont_trace': <module '_pydevd_bundle.pydevd_dont_trace' from '/home/gmiloshe/miniconda3/envs/myenvnew/lib/python3.9/site-packages/debugpy/_vendored/pydevd/_pydevd_bundle/pydevd_dont_trace.py'>, '_pydevd_frame_eval.vendored': <module '_pydevd_frame_eval.vendored' from '/home/gmiloshe/miniconda3/envs/myenvnew/lib/python3.9/site-packages/debugpy/_vendored/pydevd/_pydevd_frame_eval/vendored/__init__.py'>, '_pydevd_frame_eval.vendored.bytecode.flags': <module '_pydevd_frame_eval.vendored.bytecode.flags' from '/home/gmiloshe/miniconda3/envs/myenvnew/lib/python3.9/site-packages/debugpy/_vendored/pydevd/_pydevd_frame_eval/vendored/bytecode/flags.py'>, '_pydevd_frame_eval.vendored.bytecode.instr': <module '_pydevd_frame_eval.vendored.bytecode.instr' from '/home/gmiloshe/miniconda3/envs/myenvnew/lib/python3.9/site-packages/debugpy/_vendored/pydevd/_pydevd_frame_eval/vendored/bytecode/instr.py'>, '_pydevd_frame_eval.vendored.bytecode.bytecode': <module '_pydevd_frame_eval.vendored.bytecode.bytecode' from '/home/gmiloshe/miniconda3/envs/myenvnew/lib/python3.9/site-packages/debugpy/_vendored/pydevd/_pydevd_frame_eval/vendored/bytecode/bytecode.py'>, '_pydevd_frame_eval.vendored.bytecode.concrete': <module '_pydevd_frame_eval.vendored.bytecode.concrete' from '/home/gmiloshe/miniconda3/envs/myenvnew/lib/python3.9/site-packages/debugpy/_vendored/pydevd/_pydevd_frame_eval/vendored/bytecode/concrete.py'>, '_pydevd_frame_eval.vendored.bytecode.cfg': <module '_pydevd_frame_eval.vendored.bytecode.cfg' from '/home/gmiloshe/miniconda3/envs/myenvnew/lib/python3.9/site-packages/debugpy/_vendored/pydevd/_pydevd_frame_eval/vendored/bytecode/cfg.py'>, '_pydevd_frame_eval.vendored.bytecode': <module '_pydevd_frame_eval.vendored.bytecode' from '/home/gmiloshe/miniconda3/envs/myenvnew/lib/python3.9/site-packages/debugpy/_vendored/pydevd/_pydevd_frame_eval/vendored/bytecode/__init__.py'>, '_pydevd_bundle.pydevd_bytecode_utils': <module '_pydevd_bundle.pydevd_bytecode_utils' from '/home/gmiloshe/miniconda3/envs/myenvnew/lib/python3.9/site-packages/debugpy/_vendored/pydevd/_pydevd_bundle/pydevd_bytecode_utils.py'>, '_pydevd_bundle.pydevd_cython': <module '_pydevd_bundle.pydevd_cython' from '/home/gmiloshe/miniconda3/envs/myenvnew/lib/python3.9/site-packages/debugpy/_vendored/pydevd/_pydevd_bundle/pydevd_cython.cpython-39-x86_64-linux-gnu.so'>, '_pydevd_bundle.pydevd_cython_wrapper': <module '_pydevd_bundle.pydevd_cython_wrapper' from '/home/gmiloshe/miniconda3/envs/myenvnew/lib/python3.9/site-packages/debugpy/_vendored/pydevd/_pydevd_bundle/pydevd_cython_wrapper.py'>, '_pydevd_bundle.pydevd_additional_thread_info': <module '_pydevd_bundle.pydevd_additional_thread_info' from '/home/gmiloshe/miniconda3/envs/myenvnew/lib/python3.9/site-packages/debugpy/_vendored/pydevd/_pydevd_bundle/pydevd_additional_thread_info.py'>, '_pydevd_bundle.pydevd_thread_lifecycle': <module '_pydevd_bundle.pydevd_thread_lifecycle' from '/home/gmiloshe/miniconda3/envs/myenvnew/lib/python3.9/site-packages/debugpy/_vendored/pydevd/_pydevd_bundle/pydevd_thread_lifecycle.py'>, '_pydevd_bundle.pydevd_save_locals': <module '_pydevd_bundle.pydevd_save_locals' from '/home/gmiloshe/miniconda3/envs/myenvnew/lib/python3.9/site-packages/debugpy/_vendored/pydevd/_pydevd_bundle/pydevd_save_locals.py'>, '_pydevd_bundle.pydevd_defaults': <module '_pydevd_bundle.pydevd_defaults' from '/home/gmiloshe/miniconda3/envs/myenvnew/lib/python3.9/site-packages/debugpy/_vendored/pydevd/_pydevd_bundle/pydevd_defaults.py'>, '_pydev_bundle.pydev_monkey': <module '_pydev_bundle.pydev_monkey' from '/home/gmiloshe/miniconda3/envs/myenvnew/lib/python3.9/site-packages/debugpy/_vendored/pydevd/_pydev_bundle/pydev_monkey.py'>, 'pydevd_tracing': <module 'pydevd_tracing' from '/home/gmiloshe/miniconda3/envs/myenvnew/lib/python3.9/site-packages/debugpy/_vendored/pydevd/pydevd_tracing.py'>, '_pydevd_bundle.pydevd_daemon_thread': <module '_pydevd_bundle.pydevd_daemon_thread' from '/home/gmiloshe/miniconda3/envs/myenvnew/lib/python3.9/site-packages/debugpy/_vendored/pydevd/_pydevd_bundle/pydevd_daemon_thread.py'>, '_pydevd_bundle.pydevd_timeout': <module '_pydevd_bundle.pydevd_timeout' from '/home/gmiloshe/miniconda3/envs/myenvnew/lib/python3.9/site-packages/debugpy/_vendored/pydevd/_pydevd_bundle/pydevd_timeout.py'>, '_pydevd_bundle.pydevd_vars': <module '_pydevd_bundle.pydevd_vars' from '/home/gmiloshe/miniconda3/envs/myenvnew/lib/python3.9/site-packages/debugpy/_vendored/pydevd/_pydevd_bundle/pydevd_vars.py'>, '_pydev_bundle.pydev_console_utils': <module '_pydev_bundle.pydev_console_utils' from '/home/gmiloshe/miniconda3/envs/myenvnew/lib/python3.9/site-packages/debugpy/_vendored/pydevd/_pydev_bundle/pydev_console_utils.py'>, '_pydevd_bundle.pydevd_import_class': <module '_pydevd_bundle.pydevd_import_class' from '/home/gmiloshe/miniconda3/envs/myenvnew/lib/python3.9/site-packages/debugpy/_vendored/pydevd/_pydevd_bundle/pydevd_import_class.py'>, '_pydevd_bundle.pydevd_breakpoints': <module '_pydevd_bundle.pydevd_breakpoints' from '/home/gmiloshe/miniconda3/envs/myenvnew/lib/python3.9/site-packages/debugpy/_vendored/pydevd/_pydevd_bundle/pydevd_breakpoints.py'>, '_pydevd_bundle.pydevd_custom_frames': <module '_pydevd_bundle.pydevd_custom_frames' from '/home/gmiloshe/miniconda3/envs/myenvnew/lib/python3.9/site-packages/debugpy/_vendored/pydevd/_pydevd_bundle/pydevd_custom_frames.py'>, '_pydevd_bundle.pydevd_dont_trace_files': <module '_pydevd_bundle.pydevd_dont_trace_files' from '/home/gmiloshe/miniconda3/envs/myenvnew/lib/python3.9/site-packages/debugpy/_vendored/pydevd/_pydevd_bundle/pydevd_dont_trace_files.py'>, '_pydevd_bundle.pydevd_net_command': <module '_pydevd_bundle.pydevd_net_command' from '/home/gmiloshe/miniconda3/envs/myenvnew/lib/python3.9/site-packages/debugpy/_vendored/pydevd/_pydevd_bundle/pydevd_net_command.py'>, '_pydev_bundle.pydev_umd': <module '_pydev_bundle.pydev_umd' from '/home/gmiloshe/miniconda3/envs/myenvnew/lib/python3.9/site-packages/debugpy/_vendored/pydevd/_pydev_bundle/pydev_umd.py'>, 'pydevconsole': <module 'pydevconsole' from '/home/gmiloshe/miniconda3/envs/myenvnew/lib/python3.9/site-packages/debugpy/_vendored/pydevd/pydevconsole.py'>, '_pydev_bundle._pydev_completer': <module '_pydev_bundle._pydev_completer' from '/home/gmiloshe/miniconda3/envs/myenvnew/lib/python3.9/site-packages/debugpy/_vendored/pydevd/_pydev_bundle/_pydev_completer.py'>, '_pydevd_bundle.pydevd_net_command_factory_xml': <module '_pydevd_bundle.pydevd_net_command_factory_xml' from '/home/gmiloshe/miniconda3/envs/myenvnew/lib/python3.9/site-packages/debugpy/_vendored/pydevd/_pydevd_bundle/pydevd_net_command_factory_xml.py'>, '_pydevd_bundle.pydevd_frame': <module '_pydevd_bundle.pydevd_frame' from '/home/gmiloshe/miniconda3/envs/myenvnew/lib/python3.9/site-packages/debugpy/_vendored/pydevd/_pydevd_bundle/pydevd_frame.py'>, '_pydevd_bundle.pydevd_additional_thread_info_regular': <module '_pydevd_bundle.pydevd_additional_thread_info_regular' from '/home/gmiloshe/miniconda3/envs/myenvnew/lib/python3.9/site-packages/debugpy/_vendored/pydevd/_pydevd_bundle/pydevd_additional_thread_info_regular.py'>, '_pydevd_bundle.pydevd_trace_dispatch': <module '_pydevd_bundle.pydevd_trace_dispatch' from '/home/gmiloshe/miniconda3/envs/myenvnew/lib/python3.9/site-packages/debugpy/_vendored/pydevd/_pydevd_bundle/pydevd_trace_dispatch.py'>, '_pydevd_frame_eval.pydevd_frame_eval_main': <module '_pydevd_frame_eval.pydevd_frame_eval_main' from '/home/gmiloshe/miniconda3/envs/myenvnew/lib/python3.9/site-packages/debugpy/_vendored/pydevd/_pydevd_frame_eval/pydevd_frame_eval_main.py'>, '_pydevd_bundle.pydevd_source_mapping': <module '_pydevd_bundle.pydevd_source_mapping' from '/home/gmiloshe/miniconda3/envs/myenvnew/lib/python3.9/site-packages/debugpy/_vendored/pydevd/_pydevd_bundle/pydevd_source_mapping.py'>, 'pydevd_concurrency_analyser.pydevd_thread_wrappers': <module 'pydevd_concurrency_analyser.pydevd_thread_wrappers' from '/home/gmiloshe/miniconda3/envs/myenvnew/lib/python3.9/site-packages/debugpy/_vendored/pydevd/pydevd_concurrency_analyser/pydevd_thread_wrappers.py'>, 'pydevd_concurrency_analyser.pydevd_concurrency_logger': <module 'pydevd_concurrency_analyser.pydevd_concurrency_logger' from '/home/gmiloshe/miniconda3/envs/myenvnew/lib/python3.9/site-packages/debugpy/_vendored/pydevd/pydevd_concurrency_analyser/pydevd_concurrency_logger.py'>, '_pydevd_bundle._debug_adapter': <module '_pydevd_bundle._debug_adapter' from '/home/gmiloshe/miniconda3/envs/myenvnew/lib/python3.9/site-packages/debugpy/_vendored/pydevd/_pydevd_bundle/_debug_adapter/__init__.py'>, '_pydevd_bundle._debug_adapter.pydevd_schema_log': <module '_pydevd_bundle._debug_adapter.pydevd_schema_log' from '/home/gmiloshe/miniconda3/envs/myenvnew/lib/python3.9/site-packages/debugpy/_vendored/pydevd/_pydevd_bundle/_debug_adapter/pydevd_schema_log.py'>, '_pydevd_bundle._debug_adapter.pydevd_base_schema': <module '_pydevd_bundle._debug_adapter.pydevd_base_schema' from '/home/gmiloshe/miniconda3/envs/myenvnew/lib/python3.9/site-packages/debugpy/_vendored/pydevd/_pydevd_bundle/_debug_adapter/pydevd_base_schema.py'>, '_pydevd_bundle._debug_adapter.pydevd_schema': <module '_pydevd_bundle._debug_adapter.pydevd_schema' from '/home/gmiloshe/miniconda3/envs/myenvnew/lib/python3.9/site-packages/debugpy/_vendored/pydevd/_pydevd_bundle/_debug_adapter/pydevd_schema.py'>, '_pydevd_bundle.pydevd_reload': <module '_pydevd_bundle.pydevd_reload' from '/home/gmiloshe/miniconda3/envs/myenvnew/lib/python3.9/site-packages/debugpy/_vendored/pydevd/_pydevd_bundle/pydevd_reload.py'>, '_pydev_bundle.fsnotify': <module '_pydev_bundle.fsnotify' from '/home/gmiloshe/miniconda3/envs/myenvnew/lib/python3.9/site-packages/debugpy/_vendored/pydevd/_pydev_bundle/fsnotify/__init__.py'>, '_pydevd_bundle.pydevd_console': <module '_pydevd_bundle.pydevd_console' from '/home/gmiloshe/miniconda3/envs/myenvnew/lib/python3.9/site-packages/debugpy/_vendored/pydevd/_pydevd_bundle/pydevd_console.py'>, '_pydevd_bundle.pydevd_comm': <module '_pydevd_bundle.pydevd_comm' from '/home/gmiloshe/miniconda3/envs/myenvnew/lib/python3.9/site-packages/debugpy/_vendored/pydevd/_pydevd_bundle/pydevd_comm.py'>, '_pydevd_bundle.pydevd_net_command_factory_json': <module '_pydevd_bundle.pydevd_net_command_factory_json' from '/home/gmiloshe/miniconda3/envs/myenvnew/lib/python3.9/site-packages/debugpy/_vendored/pydevd/_pydevd_bundle/pydevd_net_command_factory_json.py'>, '_pydevd_bundle.pydevd_collect_bytecode_info': <module '_pydevd_bundle.pydevd_collect_bytecode_info' from '/home/gmiloshe/miniconda3/envs/myenvnew/lib/python3.9/site-packages/debugpy/_vendored/pydevd/_pydevd_bundle/pydevd_collect_bytecode_info.py'>, '_pydevd_bundle.pydevd_api': <module '_pydevd_bundle.pydevd_api' from '/home/gmiloshe/miniconda3/envs/myenvnew/lib/python3.9/site-packages/debugpy/_vendored/pydevd/_pydevd_bundle/pydevd_api.py'>, '_pydevd_bundle.pydevd_json_debug_options': <module '_pydevd_bundle.pydevd_json_debug_options' from '/home/gmiloshe/miniconda3/envs/myenvnew/lib/python3.9/site-packages/debugpy/_vendored/pydevd/_pydevd_bundle/pydevd_json_debug_options.py'>, '_pydevd_bundle.pydevd_process_net_command_json': <module '_pydevd_bundle.pydevd_process_net_command_json' from '/home/gmiloshe/miniconda3/envs/myenvnew/lib/python3.9/site-packages/debugpy/_vendored/pydevd/_pydevd_bundle/pydevd_process_net_command_json.py'>, '_pydevd_bundle.pydevd_traceproperty': <module '_pydevd_bundle.pydevd_traceproperty' from '/home/gmiloshe/miniconda3/envs/myenvnew/lib/python3.9/site-packages/debugpy/_vendored/pydevd/_pydevd_bundle/pydevd_traceproperty.py'>, '_pydevd_bundle.pydevd_process_net_command': <module '_pydevd_bundle.pydevd_process_net_command' from '/home/gmiloshe/miniconda3/envs/myenvnew/lib/python3.9/site-packages/debugpy/_vendored/pydevd/_pydevd_bundle/pydevd_process_net_command.py'>, '_pydevd_bundle.pydevd_suspended_frames': <module '_pydevd_bundle.pydevd_suspended_frames' from '/home/gmiloshe/miniconda3/envs/myenvnew/lib/python3.9/site-packages/debugpy/_vendored/pydevd/_pydevd_bundle/pydevd_suspended_frames.py'>, '_pydevd_bundle.pydevd_trace_api': <module '_pydevd_bundle.pydevd_trace_api' from '/home/gmiloshe/miniconda3/envs/myenvnew/lib/python3.9/site-packages/debugpy/_vendored/pydevd/_pydevd_bundle/pydevd_trace_api.py'>, 'pydevd_plugins.django_debug': <module 'pydevd_plugins.django_debug' from '/home/gmiloshe/miniconda3/envs/myenvnew/lib/python3.9/site-packages/debugpy/_vendored/pydevd/pydevd_plugins/django_debug.py'>, 'pydevd_plugins.jinja2_debug': <module 'pydevd_plugins.jinja2_debug' from '/home/gmiloshe/miniconda3/envs/myenvnew/lib/python3.9/site-packages/debugpy/_vendored/pydevd/pydevd_plugins/jinja2_debug.py'>, '_pydevd_bundle.pydevd_plugin_utils': <module '_pydevd_bundle.pydevd_plugin_utils' from '/home/gmiloshe/miniconda3/envs/myenvnew/lib/python3.9/site-packages/debugpy/_vendored/pydevd/_pydevd_bundle/pydevd_plugin_utils.py'>, 'pydevd_plugins.extensions.types': <module 'pydevd_plugins.extensions.types' from '/home/gmiloshe/miniconda3/envs/myenvnew/lib/python3.9/site-packages/debugpy/_vendored/pydevd/pydevd_plugins/extensions/types/__init__.py'>, 'pydevd_plugins.extensions.types.pydevd_helpers': <module 'pydevd_plugins.extensions.types.pydevd_helpers' from '/home/gmiloshe/miniconda3/envs/myenvnew/lib/python3.9/site-packages/debugpy/_vendored/pydevd/pydevd_plugins/extensions/types/pydevd_helpers.py'>, 'pydevd_plugins.extensions.types.pydevd_plugin_numpy_types': <module 'pydevd_plugins.extensions.types.pydevd_plugin_numpy_types' from '/home/gmiloshe/miniconda3/envs/myenvnew/lib/python3.9/site-packages/debugpy/_vendored/pydevd/pydevd_plugins/extensions/types/pydevd_plugin_numpy_types.py'>, 'pydevd_plugins.extensions.types.pydevd_plugins_django_form_str': <module 'pydevd_plugins.extensions.types.pydevd_plugins_django_form_str' from '/home/gmiloshe/miniconda3/envs/myenvnew/lib/python3.9/site-packages/debugpy/_vendored/pydevd/pydevd_plugins/extensions/types/pydevd_plugins_django_form_str.py'>, 'pydevd': <module 'pydevd' from '/home/gmiloshe/miniconda3/envs/myenvnew/lib/python3.9/site-packages/debugpy/_vendored/pydevd/pydevd.py'>, 'debugpy._vendored.force_pydevd': <module 'debugpy._vendored.force_pydevd' from '/home/gmiloshe/miniconda3/envs/myenvnew/lib/python3.9/site-packages/debugpy/_vendored/force_pydevd.py'>, 'debugpy.server': <module 'debugpy.server' from '/home/gmiloshe/miniconda3/envs/myenvnew/lib/python3.9/site-packages/debugpy/server/__init__.py'>, 'debugpy.adapter': <module 'debugpy.adapter' from '/home/gmiloshe/miniconda3/envs/myenvnew/lib/python3.9/site-packages/debugpy/adapter/__init__.py'>, 'debugpy.common.timestamp': <module 'debugpy.common.timestamp' from '/home/gmiloshe/miniconda3/envs/myenvnew/lib/python3.9/site-packages/debugpy/common/timestamp.py'>, 'debugpy.common.util': <module 'debugpy.common.util' from '/home/gmiloshe/miniconda3/envs/myenvnew/lib/python3.9/site-packages/debugpy/common/util.py'>, 'debugpy.common.log': <module 'debugpy.common.log' from '/home/gmiloshe/miniconda3/envs/myenvnew/lib/python3.9/site-packages/debugpy/common/log.py'>, 'debugpy.common.sockets': <module 'debugpy.common.sockets' from '/home/gmiloshe/miniconda3/envs/myenvnew/lib/python3.9/site-packages/debugpy/common/sockets.py'>, 'debugpy.server.api': <module 'debugpy.server.api' from '/home/gmiloshe/miniconda3/envs/myenvnew/lib/python3.9/site-packages/debugpy/server/api.py'>, 'ipykernel.debugger': <module 'ipykernel.debugger' from '/home/gmiloshe/miniconda3/envs/myenvnew/lib/python3.9/site-packages/ipykernel/debugger.py'>, 'ipykernel.ipkernel': <module 'ipykernel.ipkernel' from '/home/gmiloshe/miniconda3/envs/myenvnew/lib/python3.9/site-packages/ipykernel/ipkernel.py'>, 'ipykernel.parentpoller': <module 'ipykernel.parentpoller' from '/home/gmiloshe/miniconda3/envs/myenvnew/lib/python3.9/site-packages/ipykernel/parentpoller.py'>, 'ipykernel.kernelapp': <module 'ipykernel.kernelapp' from '/home/gmiloshe/miniconda3/envs/myenvnew/lib/python3.9/site-packages/ipykernel/kernelapp.py'>, 'faulthandler': <module 'faulthandler' (built-in)>, 'IPython.core.completerlib': <module 'IPython.core.completerlib' from '/home/gmiloshe/miniconda3/envs/myenvnew/lib/python3.9/site-packages/IPython/core/completerlib.py'>, 'storemagic': <module 'storemagic' from '/home/gmiloshe/miniconda3/envs/myenvnew/lib/python3.9/site-packages/IPython/extensions/storemagic.py'>, 'models': <module 'models' (namespace)>, 'numpy._globals': <module 'numpy._globals' from '/home/gmiloshe/miniconda3/envs/myenvnew/lib/python3.9/site-packages/numpy/_globals.py'>, 'numpy.__config__': <module 'numpy.__config__' from '/home/gmiloshe/miniconda3/envs/myenvnew/lib/python3.9/site-packages/numpy/__config__.py'>, 'numpy._version': <module 'numpy._version' from '/home/gmiloshe/miniconda3/envs/myenvnew/lib/python3.9/site-packages/numpy/_version.py'>, 'mkl._mklinit': <module 'mkl._mklinit' from '/home/gmiloshe/miniconda3/envs/myenvnew/lib/python3.9/site-packages/mkl/_mklinit.cpython-39-x86_64-linux-gnu.so'>, 'mkl._py_mkl_service': <module 'mkl._py_mkl_service' from '/home/gmiloshe/miniconda3/envs/myenvnew/lib/python3.9/site-packages/mkl/_py_mkl_service.cpython-39-x86_64-linux-gnu.so'>, 'mkl': <module 'mkl' from '/home/gmiloshe/miniconda3/envs/myenvnew/lib/python3.9/site-packages/mkl/__init__.py'>, 'numpy._distributor_init': <module 'numpy._distributor_init' from '/home/gmiloshe/miniconda3/envs/myenvnew/lib/python3.9/site-packages/numpy/_distributor_init.py'>, 'numpy.version': <module 'numpy.version' from '/home/gmiloshe/miniconda3/envs/myenvnew/lib/python3.9/site-packages/numpy/version.py'>, 'numpy.core._multiarray_umath': <module 'numpy.core._multiarray_umath' from '/home/gmiloshe/miniconda3/envs/myenvnew/lib/python3.9/site-packages/numpy/core/_multiarray_umath.cpython-39-x86_64-linux-gnu.so'>, 'numpy.compat._inspect': <module 'numpy.compat._inspect' from '/home/gmiloshe/miniconda3/envs/myenvnew/lib/python3.9/site-packages/numpy/compat/_inspect.py'>, 'numpy.compat.py3k': <module 'numpy.compat.py3k' from '/home/gmiloshe/miniconda3/envs/myenvnew/lib/python3.9/site-packages/numpy/compat/py3k.py'>, 'numpy.compat': <module 'numpy.compat' from '/home/gmiloshe/miniconda3/envs/myenvnew/lib/python3.9/site-packages/numpy/compat/__init__.py'>, 'numpy.core.overrides': <module 'numpy.core.overrides' from '/home/gmiloshe/miniconda3/envs/myenvnew/lib/python3.9/site-packages/numpy/core/overrides.py'>, 'numpy.core.multiarray': <module 'numpy.core.multiarray' from '/home/gmiloshe/miniconda3/envs/myenvnew/lib/python3.9/site-packages/numpy/core/multiarray.py'>, 'numpy.core.umath': <module 'numpy.core.umath' from '/home/gmiloshe/miniconda3/envs/myenvnew/lib/python3.9/site-packages/numpy/core/umath.py'>, 'numpy.core._string_helpers': <module 'numpy.core._string_helpers' from '/home/gmiloshe/miniconda3/envs/myenvnew/lib/python3.9/site-packages/numpy/core/_string_helpers.py'>, 'numpy.core._dtype': <module 'numpy.core._dtype' from '/home/gmiloshe/miniconda3/envs/myenvnew/lib/python3.9/site-packages/numpy/core/_dtype.py'>, 'numpy.core._type_aliases': <module 'numpy.core._type_aliases' from '/home/gmiloshe/miniconda3/envs/myenvnew/lib/python3.9/site-packages/numpy/core/_type_aliases.py'>, 'numpy.core.numerictypes': <module 'numpy.core.numerictypes' from '/home/gmiloshe/miniconda3/envs/myenvnew/lib/python3.9/site-packages/numpy/core/numerictypes.py'>, 'numpy.core._exceptions': <module 'numpy.core._exceptions' from '/home/gmiloshe/miniconda3/envs/myenvnew/lib/python3.9/site-packages/numpy/core/_exceptions.py'>, 'numpy.core._methods': <module 'numpy.core._methods' from '/home/gmiloshe/miniconda3/envs/myenvnew/lib/python3.9/site-packages/numpy/core/_methods.py'>, 'numpy.core.fromnumeric': <module 'numpy.core.fromnumeric' from '/home/gmiloshe/miniconda3/envs/myenvnew/lib/python3.9/site-packages/numpy/core/fromnumeric.py'>, 'numpy.core.shape_base': <module 'numpy.core.shape_base' from '/home/gmiloshe/miniconda3/envs/myenvnew/lib/python3.9/site-packages/numpy/core/shape_base.py'>, 'numpy.core._ufunc_config': <module 'numpy.core._ufunc_config' from '/home/gmiloshe/miniconda3/envs/myenvnew/lib/python3.9/site-packages/numpy/core/_ufunc_config.py'>, 'numpy.core.arrayprint': <module 'numpy.core.arrayprint' from '/home/gmiloshe/miniconda3/envs/myenvnew/lib/python3.9/site-packages/numpy/core/arrayprint.py'>, 'numpy.core._asarray': <module 'numpy.core._asarray' from '/home/gmiloshe/miniconda3/envs/myenvnew/lib/python3.9/site-packages/numpy/core/_asarray.py'>, 'numpy.core.numeric': <module 'numpy.core.numeric' from '/home/gmiloshe/miniconda3/envs/myenvnew/lib/python3.9/site-packages/numpy/core/numeric.py'>, 'numpy.core.defchararray': <module 'numpy.core.defchararray' from '/home/gmiloshe/miniconda3/envs/myenvnew/lib/python3.9/site-packages/numpy/core/defchararray.py'>, 'numpy.core.records': <module 'numpy.core.records' from '/home/gmiloshe/miniconda3/envs/myenvnew/lib/python3.9/site-packages/numpy/core/records.py'>, 'numpy.core.memmap': <module 'numpy.core.memmap' from '/home/gmiloshe/miniconda3/envs/myenvnew/lib/python3.9/site-packages/numpy/core/memmap.py'>, 'numpy.core.function_base': <module 'numpy.core.function_base' from '/home/gmiloshe/miniconda3/envs/myenvnew/lib/python3.9/site-packages/numpy/core/function_base.py'>, 'numpy.core.machar': <module 'numpy.core.machar' from '/home/gmiloshe/miniconda3/envs/myenvnew/lib/python3.9/site-packages/numpy/core/machar.py'>, 'numpy.core.getlimits': <module 'numpy.core.getlimits' from '/home/gmiloshe/miniconda3/envs/myenvnew/lib/python3.9/site-packages/numpy/core/getlimits.py'>, 'numpy.core.einsumfunc': <module 'numpy.core.einsumfunc' from '/home/gmiloshe/miniconda3/envs/myenvnew/lib/python3.9/site-packages/numpy/core/einsumfunc.py'>, 'numpy.core._multiarray_tests': <module 'numpy.core._multiarray_tests' from '/home/gmiloshe/miniconda3/envs/myenvnew/lib/python3.9/site-packages/numpy/core/_multiarray_tests.cpython-39-x86_64-linux-gnu.so'>, 'numpy.core._add_newdocs': <module 'numpy.core._add_newdocs' from '/home/gmiloshe/miniconda3/envs/myenvnew/lib/python3.9/site-packages/numpy/core/_add_newdocs.py'>, 'numpy.core._add_newdocs_scalars': <module 'numpy.core._add_newdocs_scalars' from '/home/gmiloshe/miniconda3/envs/myenvnew/lib/python3.9/site-packages/numpy/core/_add_newdocs_scalars.py'>, 'numpy.core._dtype_ctypes': <module 'numpy.core._dtype_ctypes' from '/home/gmiloshe/miniconda3/envs/myenvnew/lib/python3.9/site-packages/numpy/core/_dtype_ctypes.py'>, 'numpy.core._internal': <module 'numpy.core._internal' from '/home/gmiloshe/miniconda3/envs/myenvnew/lib/python3.9/site-packages/numpy/core/_internal.py'>, 'numpy._pytesttester': <module 'numpy._pytesttester' from '/home/gmiloshe/miniconda3/envs/myenvnew/lib/python3.9/site-packages/numpy/_pytesttester.py'>, 'numpy.core': <module 'numpy.core' from '/home/gmiloshe/miniconda3/envs/myenvnew/lib/python3.9/site-packages/numpy/core/__init__.py'>, 'numpy.lib.mixins': <module 'numpy.lib.mixins' from '/home/gmiloshe/miniconda3/envs/myenvnew/lib/python3.9/site-packages/numpy/lib/mixins.py'>, 'numpy.lib.ufunclike': <module 'numpy.lib.ufunclike' from '/home/gmiloshe/miniconda3/envs/myenvnew/lib/python3.9/site-packages/numpy/lib/ufunclike.py'>, 'numpy.lib.type_check': <module 'numpy.lib.type_check' from '/home/gmiloshe/miniconda3/envs/myenvnew/lib/python3.9/site-packages/numpy/lib/type_check.py'>, 'numpy.lib.scimath': <module 'numpy.lib.scimath' from '/home/gmiloshe/miniconda3/envs/myenvnew/lib/python3.9/site-packages/numpy/lib/scimath.py'>, 'numpy.lib.stride_tricks': <module 'numpy.lib.stride_tricks' from '/home/gmiloshe/miniconda3/envs/myenvnew/lib/python3.9/site-packages/numpy/lib/stride_tricks.py'>, 'numpy.lib.twodim_base': <module 'numpy.lib.twodim_base' from '/home/gmiloshe/miniconda3/envs/myenvnew/lib/python3.9/site-packages/numpy/lib/twodim_base.py'>, 'numpy.linalg.lapack_lite': <module 'numpy.linalg.lapack_lite' from '/home/gmiloshe/miniconda3/envs/myenvnew/lib/python3.9/site-packages/numpy/linalg/lapack_lite.cpython-39-x86_64-linux-gnu.so'>, 'numpy.linalg._umath_linalg': <module 'numpy.linalg._umath_linalg' from '/home/gmiloshe/miniconda3/envs/myenvnew/lib/python3.9/site-packages/numpy/linalg/_umath_linalg.cpython-39-x86_64-linux-gnu.so'>, 'numpy.linalg.linalg': <module 'numpy.linalg.linalg' from '/home/gmiloshe/miniconda3/envs/myenvnew/lib/python3.9/site-packages/numpy/linalg/linalg.py'>, 'numpy.linalg': <module 'numpy.linalg' from '/home/gmiloshe/miniconda3/envs/myenvnew/lib/python3.9/site-packages/numpy/linalg/__init__.py'>, 'numpy.matrixlib.defmatrix': <module 'numpy.matrixlib.defmatrix' from '/home/gmiloshe/miniconda3/envs/myenvnew/lib/python3.9/site-packages/numpy/matrixlib/defmatrix.py'>, 'numpy.matrixlib': <module 'numpy.matrixlib' from '/home/gmiloshe/miniconda3/envs/myenvnew/lib/python3.9/site-packages/numpy/matrixlib/__init__.py'>, 'numpy.lib.histograms': <module 'numpy.lib.histograms' from '/home/gmiloshe/miniconda3/envs/myenvnew/lib/python3.9/site-packages/numpy/lib/histograms.py'>, 'numpy.lib.function_base': <module 'numpy.lib.function_base' from '/home/gmiloshe/miniconda3/envs/myenvnew/lib/python3.9/site-packages/numpy/lib/function_base.py'>, 'numpy.lib.index_tricks': <module 'numpy.lib.index_tricks' from '/home/gmiloshe/miniconda3/envs/myenvnew/lib/python3.9/site-packages/numpy/lib/index_tricks.py'>, 'numpy.lib.nanfunctions': <module 'numpy.lib.nanfunctions' from '/home/gmiloshe/miniconda3/envs/myenvnew/lib/python3.9/site-packages/numpy/lib/nanfunctions.py'>, 'numpy.lib.shape_base': <module 'numpy.lib.shape_base' from '/home/gmiloshe/miniconda3/envs/myenvnew/lib/python3.9/site-packages/numpy/lib/shape_base.py'>, 'numpy.lib.polynomial': <module 'numpy.lib.polynomial' from '/home/gmiloshe/miniconda3/envs/myenvnew/lib/python3.9/site-packages/numpy/lib/polynomial.py'>, 'numpy.lib.utils': <module 'numpy.lib.utils' from '/home/gmiloshe/miniconda3/envs/myenvnew/lib/python3.9/site-packages/numpy/lib/utils.py'>, 'numpy.lib.arraysetops': <module 'numpy.lib.arraysetops' from '/home/gmiloshe/miniconda3/envs/myenvnew/lib/python3.9/site-packages/numpy/lib/arraysetops.py'>, 'numpy.lib.format': <module 'numpy.lib.format' from '/home/gmiloshe/miniconda3/envs/myenvnew/lib/python3.9/site-packages/numpy/lib/format.py'>, 'numpy.lib._datasource': <module 'numpy.lib._datasource' from '/home/gmiloshe/miniconda3/envs/myenvnew/lib/python3.9/site-packages/numpy/lib/_datasource.py'>, 'numpy.lib._iotools': <module 'numpy.lib._iotools' from '/home/gmiloshe/miniconda3/envs/myenvnew/lib/python3.9/site-packages/numpy/lib/_iotools.py'>, 'numpy.lib.npyio': <module 'numpy.lib.npyio' from '/home/gmiloshe/miniconda3/envs/myenvnew/lib/python3.9/site-packages/numpy/lib/npyio.py'>, 'numpy.lib.arrayterator': <module 'numpy.lib.arrayterator' from '/home/gmiloshe/miniconda3/envs/myenvnew/lib/python3.9/site-packages/numpy/lib/arrayterator.py'>, 'numpy.lib.arraypad': <module 'numpy.lib.arraypad' from '/home/gmiloshe/miniconda3/envs/myenvnew/lib/python3.9/site-packages/numpy/lib/arraypad.py'>, 'numpy.lib._version': <module 'numpy.lib._version' from '/home/gmiloshe/miniconda3/envs/myenvnew/lib/python3.9/site-packages/numpy/lib/_version.py'>, 'numpy.lib': <module 'numpy.lib' from '/home/gmiloshe/miniconda3/envs/myenvnew/lib/python3.9/site-packages/numpy/lib/__init__.py'>, 'numpy.fft._pocketfft_internal': <module 'numpy.fft._pocketfft_internal' from '/home/gmiloshe/miniconda3/envs/myenvnew/lib/python3.9/site-packages/numpy/fft/_pocketfft_internal.cpython-39-x86_64-linux-gnu.so'>, 'numpy.fft._pocketfft': <module 'numpy.fft._pocketfft' from '/home/gmiloshe/miniconda3/envs/myenvnew/lib/python3.9/site-packages/numpy/fft/_pocketfft.py'>, 'numpy.fft.helper': <module 'numpy.fft.helper' from '/home/gmiloshe/miniconda3/envs/myenvnew/lib/python3.9/site-packages/numpy/fft/helper.py'>, 'numpy.fft': <module 'numpy.fft' from '/home/gmiloshe/miniconda3/envs/myenvnew/lib/python3.9/site-packages/numpy/fft/__init__.py'>, 'numpy.polynomial.polyutils': <module 'numpy.polynomial.polyutils' from '/home/gmiloshe/miniconda3/envs/myenvnew/lib/python3.9/site-packages/numpy/polynomial/polyutils.py'>, 'numpy.polynomial._polybase': <module 'numpy.polynomial._polybase' from '/home/gmiloshe/miniconda3/envs/myenvnew/lib/python3.9/site-packages/numpy/polynomial/_polybase.py'>, 'numpy.polynomial.polynomial': <module 'numpy.polynomial.polynomial' from '/home/gmiloshe/miniconda3/envs/myenvnew/lib/python3.9/site-packages/numpy/polynomial/polynomial.py'>, 'numpy.polynomial.chebyshev': <module 'numpy.polynomial.chebyshev' from '/home/gmiloshe/miniconda3/envs/myenvnew/lib/python3.9/site-packages/numpy/polynomial/chebyshev.py'>, 'numpy.polynomial.legendre': <module 'numpy.polynomial.legendre' from '/home/gmiloshe/miniconda3/envs/myenvnew/lib/python3.9/site-packages/numpy/polynomial/legendre.py'>, 'numpy.polynomial.hermite': <module 'numpy.polynomial.hermite' from '/home/gmiloshe/miniconda3/envs/myenvnew/lib/python3.9/site-packages/numpy/polynomial/hermite.py'>, 'numpy.polynomial.hermite_e': <module 'numpy.polynomial.hermite_e' from '/home/gmiloshe/miniconda3/envs/myenvnew/lib/python3.9/site-packages/numpy/polynomial/hermite_e.py'>, 'numpy.polynomial.laguerre': <module 'numpy.polynomial.laguerre' from '/home/gmiloshe/miniconda3/envs/myenvnew/lib/python3.9/site-packages/numpy/polynomial/laguerre.py'>, 'numpy.polynomial': <module 'numpy.polynomial' from '/home/gmiloshe/miniconda3/envs/myenvnew/lib/python3.9/site-packages/numpy/polynomial/__init__.py'>, 'numpy.random._common': <module 'numpy.random._common' from '/home/gmiloshe/miniconda3/envs/myenvnew/lib/python3.9/site-packages/numpy/random/_common.cpython-39-x86_64-linux-gnu.so'>, 'secrets': <module 'secrets' from '/home/gmiloshe/miniconda3/envs/myenvnew/lib/python3.9/secrets.py'>, 'numpy.random.bit_generator': <module 'numpy.random.bit_generator' from '/home/gmiloshe/miniconda3/envs/myenvnew/lib/python3.9/site-packages/numpy/random/bit_generator.cpython-39-x86_64-linux-gnu.so'>, 'numpy.random._bounded_integers': <module 'numpy.random._bounded_integers' from '/home/gmiloshe/miniconda3/envs/myenvnew/lib/python3.9/site-packages/numpy/random/_bounded_integers.cpython-39-x86_64-linux-gnu.so'>, 'numpy.random._mt19937': <module 'numpy.random._mt19937' from '/home/gmiloshe/miniconda3/envs/myenvnew/lib/python3.9/site-packages/numpy/random/_mt19937.cpython-39-x86_64-linux-gnu.so'>, 'numpy.random.mtrand': <module 'numpy.random.mtrand' from '/home/gmiloshe/miniconda3/envs/myenvnew/lib/python3.9/site-packages/numpy/random/mtrand.cpython-39-x86_64-linux-gnu.so'>, 'numpy.random._philox': <module 'numpy.random._philox' from '/home/gmiloshe/miniconda3/envs/myenvnew/lib/python3.9/site-packages/numpy/random/_philox.cpython-39-x86_64-linux-gnu.so'>, 'numpy.random._pcg64': <module 'numpy.random._pcg64' from '/home/gmiloshe/miniconda3/envs/myenvnew/lib/python3.9/site-packages/numpy/random/_pcg64.cpython-39-x86_64-linux-gnu.so'>, 'numpy.random._sfc64': <module 'numpy.random._sfc64' from '/home/gmiloshe/miniconda3/envs/myenvnew/lib/python3.9/site-packages/numpy/random/_sfc64.cpython-39-x86_64-linux-gnu.so'>, 'numpy.random._generator': <module 'numpy.random._generator' from '/home/gmiloshe/miniconda3/envs/myenvnew/lib/python3.9/site-packages/numpy/random/_generator.cpython-39-x86_64-linux-gnu.so'>, 'numpy.random._pickle': <module 'numpy.random._pickle' from '/home/gmiloshe/miniconda3/envs/myenvnew/lib/python3.9/site-packages/numpy/random/_pickle.py'>, 'numpy.random': <module 'numpy.random' from '/home/gmiloshe/miniconda3/envs/myenvnew/lib/python3.9/site-packages/numpy/random/__init__.py'>, 'numpy.ctypeslib': <module 'numpy.ctypeslib' from '/home/gmiloshe/miniconda3/envs/myenvnew/lib/python3.9/site-packages/numpy/ctypeslib.py'>, 'numpy.ma.core': <module 'numpy.ma.core' from '/home/gmiloshe/miniconda3/envs/myenvnew/lib/python3.9/site-packages/numpy/ma/core.py'>, 'numpy.ma.extras': <module 'numpy.ma.extras' from '/home/gmiloshe/miniconda3/envs/myenvnew/lib/python3.9/site-packages/numpy/ma/extras.py'>, 'numpy.ma': <module 'numpy.ma' from '/home/gmiloshe/miniconda3/envs/myenvnew/lib/python3.9/site-packages/numpy/ma/__init__.py'>, 'numpy': <module 'numpy' from '/home/gmiloshe/miniconda3/envs/myenvnew/lib/python3.9/site-packages/numpy/__init__.py'>, 'Funs': <module 'Funs' from '/ClimateDynamics/MediumSpace/ClimateLearningFR/gmiloshe/VAE/./models/Plasimvae_learn1_weight212custlosswithfilter_t2mzg500mrso_resdeep_filt5_yrs-range8000_last9folds_normalize_k1_0.9_k2_0.1_LR_0.001_ZDIM_64/Funs.py'>}\n"
     ]
    },
    {
     "ename": "FileNotFoundError",
     "evalue": "Could not find PLASIM folder",
     "output_type": "error",
     "traceback": [
      "\u001b[0;31m---------------------------------------------------------------------------\u001b[0m",
      "\u001b[0;31mFileNotFoundError\u001b[0m                         Traceback (most recent call last)",
      "\u001b[0;32m/tmp/ipykernel_33587/845339650.py\u001b[0m in \u001b[0;36m<module>\u001b[0;34m\u001b[0m\n\u001b[1;32m      2\u001b[0m \u001b[0mname\u001b[0m \u001b[0;34m=\u001b[0m \u001b[0;34m'./models/Plasimvae_learn1_weight212custlosswithfilter_t2mzg500mrso_resdeep_filt5_yrs-range8000_last9folds_normalize_k1_0.9_k2_0.1_LR_0.001_ZDIM_64'\u001b[0m\u001b[0;34m\u001b[0m\u001b[0;34m\u001b[0m\u001b[0m\n\u001b[1;32m      3\u001b[0m \u001b[0msys\u001b[0m\u001b[0;34m.\u001b[0m\u001b[0mpath\u001b[0m\u001b[0;34m.\u001b[0m\u001b[0mappend\u001b[0m\u001b[0;34m(\u001b[0m\u001b[0mname\u001b[0m\u001b[0;34m)\u001b[0m\u001b[0;34m\u001b[0m\u001b[0;34m\u001b[0m\u001b[0m\n\u001b[0;32m----> 4\u001b[0;31m \u001b[0;32mimport\u001b[0m \u001b[0mFuns\u001b[0m \u001b[0;32mas\u001b[0m \u001b[0mfoo\u001b[0m\u001b[0;34m\u001b[0m\u001b[0;34m\u001b[0m\u001b[0m\n\u001b[0m",
      "\u001b[0;32m/ClimateDynamics/MediumSpace/ClimateLearningFR/gmiloshe/VAE/./models/Plasimvae_learn1_weight212custlosswithfilter_t2mzg500mrso_resdeep_filt5_yrs-range8000_last9folds_normalize_k1_0.9_k2_0.1_LR_0.001_ZDIM_64/Funs.py\u001b[0m in \u001b[0;36m<module>\u001b[0;34m\u001b[0m\n\u001b[1;32m     33\u001b[0m     \u001b[0mpath_to_PLASIM\u001b[0m \u001b[0;34m=\u001b[0m \u001b[0mpath_to_here\u001b[0m\u001b[0;34m.\u001b[0m\u001b[0mparent\u001b[0m \u001b[0;34m/\u001b[0m \u001b[0;34m'PLASIM'\u001b[0m\u001b[0;34m\u001b[0m\u001b[0;34m\u001b[0m\u001b[0m\n\u001b[1;32m     34\u001b[0m     \u001b[0;32mif\u001b[0m \u001b[0;32mnot\u001b[0m \u001b[0mos\u001b[0m\u001b[0;34m.\u001b[0m\u001b[0mpath\u001b[0m\u001b[0;34m.\u001b[0m\u001b[0mexists\u001b[0m\u001b[0;34m(\u001b[0m\u001b[0mpath_to_PLASIM\u001b[0m\u001b[0;34m)\u001b[0m\u001b[0;34m:\u001b[0m\u001b[0;34m\u001b[0m\u001b[0;34m\u001b[0m\u001b[0m\n\u001b[0;32m---> 35\u001b[0;31m         \u001b[0;32mraise\u001b[0m \u001b[0mFileNotFoundError\u001b[0m\u001b[0;34m(\u001b[0m\u001b[0;34m'Could not find PLASIM folder'\u001b[0m\u001b[0;34m)\u001b[0m\u001b[0;34m\u001b[0m\u001b[0;34m\u001b[0m\u001b[0m\n\u001b[0m\u001b[1;32m     36\u001b[0m \u001b[0;34m\u001b[0m\u001b[0m\n\u001b[1;32m     37\u001b[0m \u001b[0;31m# go to the parent so vscode is happy with code completion :)\u001b[0m\u001b[0;34m\u001b[0m\u001b[0;34m\u001b[0m\u001b[0m\n",
      "\u001b[0;31mFileNotFoundError\u001b[0m: Could not find PLASIM folder"
     ]
    }
   ],
   "source": [
    "import sys\n",
    "name = './models/Plasimvae_learn1_weight212custlosswithfilter_t2mzg500mrso_resdeep_filt5_yrs-range8000_last9folds_normalize_k1_0.9_k2_0.1_LR_0.001_ZDIM_64'\n",
    "sys.path.append(name)\n",
    "import Funs as foo"
   ]
  },
  {
   "cell_type": "code",
   "execution_count": 10,
   "id": "4b8e8618-3780-4ce0-9457-038e9103981b",
   "metadata": {},
   "outputs": [
    {
     "data": {
      "text/plain": [
       "array([0. , 0.5, 1. , 1.5, 2. , 2.5, 3. , 3.5, 4. , 4.5])"
      ]
     },
     "execution_count": 10,
     "metadata": {},
     "output_type": "execute_result"
    }
   ],
   "source": [
    "np.arange(0,5,0.5)"
   ]
  },
  {
   "cell_type": "code",
   "execution_count": 12,
   "id": "43461773-c70f-4440-a1d6-e9e036d40a61",
   "metadata": {},
   "outputs": [
    {
     "data": {
      "text/plain": [
       "((5, 10), (5, 10))"
      ]
     },
     "execution_count": 12,
     "metadata": {},
     "output_type": "execute_result"
    }
   ],
   "source": [
    "x,y = np.meshgrid(np.arange(0,5,0.5), np.arange(0,5,1))\n",
    "x.shape, y.shape"
   ]
  },
  {
   "cell_type": "code",
   "execution_count": null,
   "id": "dd6e23ee-ba6d-4c20-8ed2-693258893d73",
   "metadata": {},
   "outputs": [],
   "source": []
  }
 ],
 "metadata": {
  "kernelspec": {
   "display_name": "kernel3.9",
   "language": "python",
   "name": "kernel3.9"
  },
  "language_info": {
   "codemirror_mode": {
    "name": "ipython",
    "version": 3
   },
   "file_extension": ".py",
   "mimetype": "text/x-python",
   "name": "python",
   "nbconvert_exporter": "python",
   "pygments_lexer": "ipython3",
   "version": "3.9.7"
  }
 },
 "nbformat": 4,
 "nbformat_minor": 5
}
