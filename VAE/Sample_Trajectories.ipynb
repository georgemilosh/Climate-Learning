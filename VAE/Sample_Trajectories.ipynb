{
 "cells": [
  {
   "cell_type": "code",
   "execution_count": 1,
   "metadata": {},
   "outputs": [
    {
     "name": "stderr",
     "output_type": "stream",
     "text": [
      "2022-07-13 12:57:44.555141: I tensorflow/stream_executor/platform/default/dso_loader.cc:49] Successfully opened dynamic library libcudart.so.10.1\n",
      "In this environment you cannot import Basemap\n",
      "In this environment you cannot import Basemap\n"
     ]
    },
    {
     "name": "stdout",
     "output_type": "stream",
     "text": [
      "WARNING:tensorflow:From ./xforanalogs/NA24by48/Z8/yrs500/interT15fw20.1.20lrs4/Funs.py:46: is_gpu_available (from tensorflow.python.framework.test_util) is deprecated and will be removed in a future version.\n",
      "Instructions for updating:\n",
      "Use `tf.config.list_physical_devices('GPU')` instead.\n"
     ]
    },
    {
     "name": "stderr",
     "output_type": "stream",
     "text": [
      "2022-07-13 12:57:48.209460: I tensorflow/core/platform/cpu_feature_guard.cc:142] This TensorFlow binary is optimized with oneAPI Deep Neural Network Library (oneDNN) to use the following CPU instructions in performance-critical operations:  SSE4.1 SSE4.2 AVX AVX2 AVX512F FMA\n",
      "To enable them in other operations, rebuild TensorFlow with the appropriate compiler flags.\n"
     ]
    },
    {
     "name": "stdout",
     "output_type": "stream",
     "text": [
      "==Checking GPU==\n",
      "==Checking CUDA==\n",
      "==Reading data==\n"
     ]
    },
    {
     "name": "stderr",
     "output_type": "stream",
     "text": [
      "2022-07-13 12:57:48.215084: I tensorflow/stream_executor/platform/default/dso_loader.cc:49] Successfully opened dynamic library libcuda.so.1\n",
      "2022-07-13 12:57:48.470209: E tensorflow/stream_executor/cuda/cuda_driver.cc:328] failed call to cuInit: CUDA_ERROR_NO_DEVICE: no CUDA-capable device is detected\n",
      "2022-07-13 12:57:48.470263: I tensorflow/stream_executor/cuda/cuda_diagnostics.cc:156] kernel driver does not appear to be running on this host (c6420node2): /proc/driver/nvidia/version does not exist\n",
      "2022-07-13 12:57:48.470286: I tensorflow/compiler/jit/xla_gpu_device.cc:99] Not creating XLA devices, tf_xla_enable_xla_devices not set\n",
      "2022-07-13 12:57:48.473627: I tensorflow/compiler/jit/xla_gpu_device.cc:99] Not creating XLA devices, tf_xla_enable_xla_devices not set\n"
     ]
    },
    {
     "data": {
      "text/plain": [
       "105"
      ]
     },
     "execution_count": 1,
     "metadata": {},
     "output_type": "execute_result"
    }
   ],
   "source": [
    "import importlib.util\n",
    "def module_from_file(module_name, file_path): #The code that imports the file which originated the training with all the instructions\n",
    "            spec = importlib.util.spec_from_file_location(module_name, file_path)\n",
    "            module = importlib.util.module_from_spec(spec)\n",
    "            spec.loader.exec_module(module)\n",
    "            return module\n",
    "\n",
    "from importlib import import_module\n",
    "#foo = import_module(fold_folder+'/Funs.py', package=None)\n",
    "\n",
    "\n",
    "folder = './xforanalogs/NA24by48/Z8/yrs500/interT15fw20.1.20lrs4'\n",
    "foo = module_from_file(\"foo\", f'{folder}/Funs.py')\n",
    "\n",
    "import random as rd  \n",
    "from scipy.stats import norm\n",
    "import numpy as np\n",
    "from sklearn.linear_model import LogisticRegression\n",
    "from sklearn import neighbors\n",
    "from sklearn.metrics import log_loss\n",
    "\n",
    "tff = foo.tff # tensorflow routines \n",
    "ut = foo.ut # utilities\n",
    "ln = foo.ln #Learn2_new.py\n",
    "print(\"==Checking GPU==\")\n",
    "import tensorflow as tf\n",
    "tf.test.is_gpu_available(\n",
    "    cuda_only=False, min_cuda_compute_capability=None\n",
    ")\n",
    "\n",
    "print(\"==Checking CUDA==\")\n",
    "tf.test.is_built_with_cuda()\n",
    "\n",
    "#from tensorflow.keras.preprocessing.image import ImageDataGenerator\n",
    "sys.path.insert(1, '../ERA')\n",
    "\n",
    "print(\"==Reading data==\")\n",
    "\n",
    "year_permutation = np.load(f'{folder}/year_permutation.npy')\n",
    "\n",
    "run_vae_kwargs = ut.json2dict(f\"{folder}/config.json\")\n",
    "T = ut.extract_nested(run_vae_kwargs, 'T')\n",
    "if (ut.keys_exists(run_vae_kwargs, 'label_period_start') and ut.keys_exists(run_vae_kwargs, 'label_period_end')):\n",
    "    label_period_start = ut.extract_nested(run_vae_kwargs, 'label_period_start')\n",
    "    label_period_end = ut.extract_nested(run_vae_kwargs, 'label_period_end')\n",
    "    time_start = ut.extract_nested(run_vae_kwargs, 'time_start')\n",
    "    time_end = ut.extract_nested(run_vae_kwargs, 'time_end')\n",
    "    \n",
    "    \n",
    "n_days = time_end-time_start-T+1\n",
    "n_days"
   ]
  },
  {
   "cell_type": "code",
   "execution_count": 2,
   "metadata": {},
   "outputs": [
    {
     "data": {
      "text/plain": [
       "array([[  0, 241,   0, ..., 351,   3,  52],\n",
       "       [  0,   0,  54, ..., 102, 145, 176],\n",
       "       [  0,   0, 405, ..., 390, 251, 378],\n",
       "       ...,\n",
       "       [449,  99,  99, ...,  74, 255, 123],\n",
       "       [281, 177, 241, ..., 208, 313, 198],\n",
       "       [208, 241, 211, ..., 376, 209, 339]])"
      ]
     },
     "execution_count": 2,
     "metadata": {},
     "output_type": "execute_result"
    }
   ],
   "source": [
    "import pickle\n",
    "fold = 0\n",
    "open_file = open(f'{folder}/fold_{fold}/analogues.pkl', \"rb\")\n",
    "analogues = pickle.load(open_file)\n",
    "open_file.close()\n",
    "\n",
    "checkpoint = 10\n",
    "\n",
    "analogues['ind_new_tr'][checkpoint]//n_days"
   ]
  },
  {
   "cell_type": "code",
   "execution_count": 3,
   "metadata": {},
   "outputs": [
    {
     "name": "stdout",
     "output_type": "stream",
     "text": [
      "0.011160084656084656\n"
     ]
    },
    {
     "data": {
      "text/plain": [
       "array([[25317, 25055, 10706, ..., 47250, 47250, 47250],\n",
       "       [ 5699, 42841,  5701, ..., 47250, 47250, 47250],\n",
       "       [42545,  5363,  5365, ..., 47250, 47250, 47250],\n",
       "       ...,\n",
       "       [10439, 10440, 26960, ..., 47250, 47250, 47250],\n",
       "       [29575, 18631, 25326, ..., 20820, 47250, 47250],\n",
       "       [21921, 25326, 22243, ..., 39553, 21970, 35628]])"
      ]
     },
     "execution_count": 3,
     "metadata": {},
     "output_type": "execute_result"
    }
   ],
   "source": [
    "import numpy as np\n",
    "#selfanalogues = (analogues['ind_new_tr'][checkpoint]//n_days)[:,0][np.newaxis].T\n",
    "selfanalogues = ((np.arange(analogues['ind_new_tr'][checkpoint].shape[0]//n_days)[np.newaxis].T*np.ones((analogues['ind_new_tr'][checkpoint].shape[0]//n_days,n_days))).astype(int)).flatten()[np.newaxis].T # This is a matrix of years related to the raw index\n",
    "#selfanalogues*np.ones((selfanalogues.shape[0],analogues['ind_new_tr'][checkpoint].shape[1]))\n",
    "sameyear = selfanalogues*np.ones((selfanalogues.shape[0],analogues['ind_new_tr'][checkpoint].shape[1]))==analogues['ind_new_tr'][checkpoint]//n_days # A conditional matrix showing if the entry belongs to the same year \n",
    "#sameyear\n",
    "noselfanalogs = (np.where(sameyear,-1,analogues['ind_new_tr'][checkpoint])) # We set to -1 all the entries that are analogs of the same year\n",
    "print(np.mean(noselfanalogs == -1))\n",
    "\n",
    "noselfanalogsmoved = []\n",
    "for noselfanalogs_row in noselfanalogs: # loop over samples\n",
    "    temp = np.delete(noselfanalogs_row,noselfanalogs_row==-1) # remove the values equal to -1 \n",
    "    noselfanalogsmoved.append(np.pad(temp, (0,noselfanalogs_row.shape[0] - temp.shape[0]), constant_values=(noselfanalogs.shape[0],noselfanalogs.shape[0])))  # pad with the length of the time series so that if we accidently get such analog the error will be returned\n",
    "noselfanalogsmoved = np.array(noselfanalogsmoved)\n",
    "noselfanalogsmoved"
   ]
  },
  {
   "cell_type": "code",
   "execution_count": 27,
   "metadata": {},
   "outputs": [
    {
     "name": "stdout",
     "output_type": "stream",
     "text": [
      "[[  0 241   0 ... 351   3  52]\n",
      " [  0   0  54 ... 102 145 176]\n",
      " [  0   0 405 ... 390 251 378]\n",
      " ...\n",
      " [449  99  99 ...  74 255 123]\n",
      " [281 177 241 ... 208 313 198]\n",
      " [208 241 211 ... 376 209 339]]\n"
     ]
    },
    {
     "data": {
      "text/plain": [
       "array([[26279., 36972., 36977., ...,  5138.,  5141., 21394.],\n",
       "       [16910., 10868.,  3390., ...,  1127., 27191., 22357.],\n",
       "       [15338., 11886., 21468., ..., 12207., 12210., 40854.],\n",
       "       ...,\n",
       "       [35812., 22160., 22376., ..., 40660., 29499., 29502.],\n",
       "       [43061.,  7908., 26257., ..., 17373., 16147., 32549.],\n",
       "       [26463., 37720., 37722., ..., 25278., 17796.,  8659.]])"
      ]
     },
     "execution_count": 27,
     "metadata": {},
     "output_type": "execute_result"
    }
   ],
   "source": [
    "import numba as nb\n",
    "from numba import jit,guvectorize,set_num_threads\n",
    "import numpy as np\n",
    "\n",
    "import pickle\n",
    "fold = 0\n",
    "open_file = open(f'{folder}/fold_{fold}/analogues.pkl', \"rb\")\n",
    "analogues = pickle.load(open_file)\n",
    "open_file.close()\n",
    "\n",
    "print(analogues['ind_new_tr'][checkpoint]//n_days)\n",
    "\n",
    "n_Traj = range(10000) #number of trajectories for monte-carlo sampling of committor\n",
    "Matr_tr = analogues['ind_new_tr'][checkpoint] #noselfanalogsmoved\n",
    "Matr_va = analogues['ind_new_va'][checkpoint]\n",
    "nsteps = np.arange(10) # Here we make it indices rather than steps #np.array([0,3,6,9,12,15])  #time prediction (what we call lead time tau)\n",
    "chain_step = 3 # step of a Markov chain\n",
    "N_Steps = T//chain_step\n",
    "neighbors = [10]\n",
    "time_series_tr = np.load(f\"{folder}/fold_{fold}/time_series_tr.npy\")\n",
    "time_series_va = np.load(f\"{folder}/fold_{fold}/time_series_va.npy\")\n",
    "threshold = np.array([2.742728328704834]) #Threshold defining committor. This parameter I don't need, I shall perhaps transform it into epochs for variational autoencoder\n",
    "\n",
    "@guvectorize([(nb.int64,nb.int64[:],nb.int64[:],nb.int64,nb.int64,nb.int64[:,:],nb.int64[:,:],nb.float64[:,:])],'(),(n),(m),(),(),(k,o),(l,j)->(n,m)',nopython=True,target=\"parallel\")\n",
    "def SampleTraj(day,n_Traj,nsteps, nn, Markov_step, Matr_va, Matr_tr,res): # a day implies the temporal coordinates in days of the input from the 0-th year of the 1000 year long dataset\n",
    "    wrong_index = 0 # This checks that during input or execution we were always working with indecies that exist in the considered matrices and we don't go below or above\n",
    "    if (day >= Matr_va.shape[0]) or (day < 0): # We don't allow inputs that are outside of the range of Matr_va. \n",
    "        #print(\"day > Matr_va.shape[0]\")\n",
    "        wrong_index = 1 # manual debugging (unfortunately numba does not capture this)\n",
    "        print(\"We don't allow inputs that are outside of the range of Matr_va\")\n",
    "        for l_1 in range(len(n_Traj)):\n",
    "            for l_2 in range(len(nsteps)):\n",
    "                res[l_1][l_2] = np.nan # we simply  don't have corresponding index\n",
    "    if nn > Matr_va.shape[1]:\n",
    "        wrong_index = 1 # manual debugging\n",
    "        print(\"We don't allow inputs that are outside of the range of Matr_va\")\n",
    "    else:\n",
    "        #print(\"day <= Matr_va.shape[0]\")\n",
    "        s_traj = np.zeros((len(n_Traj),len(nsteps))) #auxiliary variable (result)\n",
    "        for l_1 in range(len(n_Traj)):\n",
    "            app = rd.randint(0,nn-1) # we go randomly to the training dataset from the validation dataset without updating the time\n",
    "            s = Matr_va[day][app]\n",
    "            \n",
    "            #print(\"output: \", day,app,s, Matr_va.shape)\n",
    "            if (s >= Matr_tr.shape[0]) or (s < 0):\n",
    "                wrong_index = 1\n",
    "            for l_2 in range(len(nsteps)): \n",
    "                app = rd.randint(0,nn-1) #analogue selection\n",
    "                s = Matr_tr[s][app] + Markov_step         #analog state s is evolved in time\n",
    "                s_traj[l_1][l_2] = s\n",
    "                if (s >= Matr_tr.shape[0]) or (s < 0):\n",
    "                    wrong_index = 1\n",
    "                    print(\"We don't allow s that are outside of the range of Matr_tr\")\n",
    "                if nn > Matr_tr.shape[1]:\n",
    "                    wrong_index = 1 # manual debugging\n",
    "                    print(\"We don't allow nn that are outside of the range of Matr_tr\")\n",
    "        #print(\"wrong index = \", wrong_index)\n",
    "        for l_1 in range(len(n_Traj)):\n",
    "            for l_2 in range(len(nsteps)):\n",
    "                res[l_1][l_2] = s_traj[l_1][l_2] \n",
    "                \n",
    "SampleTraj(33, range(10000),range(10), 10, 3, Matr_va, Matr_tr)"
   ]
  },
  {
   "cell_type": "code",
   "execution_count": 48,
   "metadata": {},
   "outputs": [
    {
     "data": {
      "text/plain": [
       "((5250, 10000, 10, 3), (5250, 10000, 6))"
      ]
     },
     "execution_count": 48,
     "metadata": {},
     "output_type": "execute_result"
    }
   ],
   "source": [
    "#days = range(100)  # indices of the inputs\n",
    "days = np.arange(Matr_va.shape[0])\n",
    "trajs = SampleTraj(days, range(10000),range(9), 10, 3, Matr_va, Matr_tr).astype(int) # stochastic trajectories\n",
    "sought_shape = list(time_series_tr[trajs].shape)\n",
    "sought_shape[2] = 1\n",
    "time_series=np.concatenate(((time_series_va[days][:,np.newaxis,np.newaxis,:]*np.ones(tuple(sought_shape))),time_series_tr[trajs]),axis=2) # adding the initial values to the newly generated trajectories\n",
    "convolve = np.vectorize(np.convolve, signature='(n),(m)->(k)')\n",
    "A = convolve(time_series[...,0],np.ones((N_Steps,))/N_Steps)[...,(N_Steps-1):-(N_Steps-1)]\n",
    "time_series.shape, A.shape"
   ]
  },
  {
   "cell_type": "code",
   "execution_count": 49,
   "metadata": {},
   "outputs": [
    {
     "data": {
      "text/plain": [
       "array([[ 1.48084962e+00, -1.55282907e+01, -7.22098351e-02, ...,\n",
       "         4.52214890e+01,  3.96000296e-02,  5.90597343e+00],\n",
       "       [ 5.90597343e+00,  1.04055588e+02, -5.73993772e-02, ...,\n",
       "        -1.03901062e+02, -2.20188200e-02, -1.75345385e+00],\n",
       "       [ 2.74804330e+00,  3.12493801e+01, -2.62235925e-02, ...,\n",
       "        -1.97215500e+01, -6.25856500e-03,  5.90597343e+00],\n",
       "       ...,\n",
       "       [-2.65156776e-01,  3.49002151e+01, -2.03784695e-03, ...,\n",
       "         5.28226204e+01, -3.48656289e-02,  3.39049244e+00],\n",
       "       [ 1.59959018e+00,  7.97609787e+01, -1.55674908e-02, ...,\n",
       "         4.61050034e+01,  1.38927046e-02, -2.65156776e-01],\n",
       "       [-2.65156776e-01,  3.49002151e+01, -2.03784695e-03, ...,\n",
       "         3.79699287e+01, -2.47329921e-02,  2.57947826e+00]])"
      ]
     },
     "execution_count": 49,
     "metadata": {},
     "output_type": "execute_result"
    }
   ],
   "source": [
    "\n",
    "time_series.reshape(-1,n_days,)[:,(label_period_start-time_start):(n_days-T+1)]"
   ]
  },
  {
   "cell_type": "code",
   "execution_count": 50,
   "metadata": {},
   "outputs": [
    {
     "data": {
      "text/plain": [
       "(50, -1, 10000, 10, 3)"
      ]
     },
     "execution_count": 50,
     "metadata": {},
     "output_type": "execute_result"
    }
   ],
   "source": [
    "tuple([time_series.shape[0]//n_days,-1,*time_series.shape[1:]])"
   ]
  },
  {
   "cell_type": "code",
   "execution_count": 51,
   "metadata": {},
   "outputs": [
    {
     "data": {
      "text/plain": [
       "(5250, 10000, 10)"
      ]
     },
     "execution_count": 51,
     "metadata": {},
     "output_type": "execute_result"
    }
   ],
   "source": [
    "time_series_temp = time_series[...,0]\n",
    "time_series_temp.shape"
   ]
  },
  {
   "cell_type": "code",
   "execution_count": 52,
   "metadata": {},
   "outputs": [
    {
     "data": {
      "text/plain": [
       "(38000000, 10)"
      ]
     },
     "execution_count": 52,
     "metadata": {},
     "output_type": "execute_result"
    }
   ],
   "source": [
    "temp = time_series_temp.reshape(tuple([time_series_temp.shape[0]//n_days,-1,*time_series_temp.shape[1:]]))[:,(label_period_start-time_start):(n_days-T+1),...].reshape(tuple([-1,*time_series_temp.shape[2:]]))\n",
    "temp.shape"
   ]
  },
  {
   "cell_type": "code",
   "execution_count": 54,
   "metadata": {},
   "outputs": [
    {
     "data": {
      "text/plain": [
       "(array([2.4872000e+04, 4.0335600e+05, 2.3124920e+06, 6.5887560e+06,\n",
       "        1.0964114e+07, 1.0608451e+07, 5.4170380e+06, 1.4742980e+06,\n",
       "        1.9648400e+05, 1.0139000e+04]),\n",
       " array([-8.59788322, -6.79743652, -4.99698982, -3.19654312, -1.39609642,\n",
       "         0.40435028,  2.20479698,  4.00524368,  5.80569038,  7.60613708,\n",
       "         9.40658379]),\n",
       " <BarContainer object of 10 artists>)"
      ]
     },
     "execution_count": 54,
     "metadata": {},
     "output_type": "execute_result"
    },
    {
     "data": {
      "image/png": "[encoded data removed]",
      "text/plain": [
       "<Figure size 432x288 with 1 Axes>"
      ]
     },
     "metadata": {
      "needs_background": "light"
     },
     "output_type": "display_data"
    }
   ],
   "source": [
    "import matplotlib.pyplot as plt\n",
    "plt.hist(temp[:,0],alpha=.9)\n",
    "plt.hist(temp[:,9],alpha=.9)"
   ]
  },
  {
   "cell_type": "code",
   "execution_count": null,
   "metadata": {},
   "outputs": [
    {
     "data": {
      "text/plain": [
       "(array([2.3610000e+03, 9.5068000e+04, 1.5748600e+06, 8.7869850e+06,\n",
       "        1.5892482e+07, 9.4098180e+06, 2.0564530e+06, 1.7533900e+05,\n",
       "        6.4420000e+03, 1.9200000e+02]),\n",
       " array([-7.29506054, -5.65622568, -4.01739082, -2.37855597, -0.73972111,\n",
       "         0.89911375,  2.53794861,  4.17678347,  5.81561832,  7.45445318,\n",
       "         9.09328804]),\n",
       " <BarContainer object of 10 artists>)"
      ]
     },
     "execution_count": 44,
     "metadata": {},
     "output_type": "execute_result"
    },
    {
     "data": {
      "image/png": "[encoded data removed]",
      "text/plain": [
       "<Figure size 432x288 with 1 Axes>"
      ]
     },
     "metadata": {
      "needs_background": "light"
     },
     "output_type": "display_data"
    }
   ],
   "source": [
    "tempA = A.reshape(tuple([A.shape[0]//n_days,-1,*A.shape[1:]]))[:,(label_period_start-time_start):(n_days-T+1),...].reshape(tuple([-1,*A.shape[2:]]))\n",
    "tempA.shape\n",
    "plt.hist(tempA[:,0],alpha=.9)\n",
    "plt.hist(tempA[:,6],alpha=.9)"
   ]
  },
  {
   "cell_type": "markdown",
   "metadata": {},
   "source": [
    "the number of events above the threshold steadily increases with tau which is consistent with the interpretation that the orbits diverge"
   ]
  },
  {
   "cell_type": "code",
   "execution_count": 55,
   "metadata": {},
   "outputs": [
    {
     "data": {
      "text/plain": [
       "[<matplotlib.lines.Line2D at 0x14dd680a8430>]"
      ]
     },
     "execution_count": 55,
     "metadata": {},
     "output_type": "execute_result"
    },
    {
     "data": {
      "image/png": "[encoded data removed]",
      "text/plain": [
       "<Figure size 432x288 with 1 Axes>"
      ]
     },
     "metadata": {
      "needs_background": "light"
     },
     "output_type": "display_data"
    }
   ],
   "source": [
    "plt.plot([np.sum(tempA[:,i]>2.7)/len(tempA[:,i]) for i in range(7)])"
   ]
  },
  {
   "cell_type": "code",
   "execution_count": 80,
   "metadata": {},
   "outputs": [
    {
     "data": {
      "text/plain": [
       "(50, 76, 10000)"
      ]
     },
     "execution_count": 80,
     "metadata": {},
     "output_type": "execute_result"
    }
   ],
   "source": [
    "tau = 5\n",
    "tempA2 = A[...,tau].reshape(tuple([A.shape[0]//n_days,-1,*A.shape[1:-1]]))[:,(label_period_start-time_start-3*tau):(n_days-T+1-3*tau),...] #.reshape(tuple([-1,*A.shape[1:-1]]))\n",
    "tempA2.shape"
   ]
  },
  {
   "cell_type": "code",
   "execution_count": 81,
   "metadata": {},
   "outputs": [
    {
     "data": {
      "text/plain": [
       "0.0689"
      ]
     },
     "execution_count": 81,
     "metadata": {},
     "output_type": "execute_result"
    }
   ],
   "source": [
    "np.mean(tempA2[3,3,:]>2.742728328704834)"
   ]
  },
  {
   "cell_type": "code",
   "execution_count": 82,
   "metadata": {},
   "outputs": [
    {
     "data": {
      "text/plain": [
       "(50, 76)"
      ]
     },
     "execution_count": 82,
     "metadata": {},
     "output_type": "execute_result"
    }
   ],
   "source": [
    "np.mean(tempA2>2.742728328704834,2).shape"
   ]
  },
  {
   "cell_type": "code",
   "execution_count": 83,
   "metadata": {},
   "outputs": [
    {
     "data": {
      "text/plain": [
       "<matplotlib.collections.PolyCollection at 0x14dc03baf6a0>"
      ]
     },
     "execution_count": 83,
     "metadata": {},
     "output_type": "execute_result"
    },
    {
     "data": {
      "image/png": "[encoded data removed]",
      "text/plain": [
       "<Figure size 432x288 with 1 Axes>"
      ]
     },
     "metadata": {
      "needs_background": "light"
     },
     "output_type": "display_data"
    },
    {
     "data": {
      "image/png": "[encoded data removed]",
      "text/plain": [
       "<Figure size 432x288 with 1 Axes>"
      ]
     },
     "metadata": {
      "needs_background": "light"
     },
     "output_type": "display_data"
    }
   ],
   "source": [
    "import matplotlib.pyplot as plt\n",
    "import matplotlib.gridspec as gridspec\n",
    "fig1, ax1 = plt.subplots()\n",
    "Y_va = np.load(f'{folder}/fold_{fold}/Y_va.npy')\n",
    "Y_va = Y_va.reshape(-1,n_days)[:,(label_period_start-time_start):(n_days-T+1)]\n",
    "ax1.pcolor(Y_va, vmin=0, vmax=1)\n",
    "\n",
    "nn = 50\n",
    "tau = 0\n",
    "fig2, ax2 = plt.subplots()\n",
    "ax2.pcolor(np.mean(tempA2>2.742728328704834,2), vmin=0, vmax=.5)"
   ]
  },
  {
   "cell_type": "code",
   "execution_count": 84,
   "metadata": {},
   "outputs": [
    {
     "data": {
      "text/plain": [
       "0.041771050466387676"
      ]
     },
     "execution_count": 84,
     "metadata": {},
     "output_type": "execute_result"
    }
   ],
   "source": [
    "percent = ut.extract_nested(run_vae_kwargs, 'percent')\n",
    "entropy = tf.keras.losses.BinaryCrossentropy(from_logits=False)(Y_va.flatten(), np.mean(tempA2>2.742728328704834,2).flatten()).numpy()\n",
    "maxskill = -(percent/100.)*np.log(percent/100.)-(1-percent/100.)*np.log(1-percent/100.)\n",
    "(maxskill-entropy)/maxskill"
   ]
  },
  {
   "cell_type": "code",
   "execution_count": 71,
   "metadata": {},
   "outputs": [
    {
     "data": {
      "text/plain": [
       "(3800,)"
      ]
     },
     "execution_count": 71,
     "metadata": {},
     "output_type": "execute_result"
    }
   ],
   "source": [
    "Y_va.flatten().shape"
   ]
  },
  {
   "cell_type": "code",
   "execution_count": null,
   "metadata": {},
   "outputs": [],
   "source": []
  }
 ],
 "metadata": {
  "kernelspec": {
   "display_name": "Python 3.9.7 ('myenvnew')",
   "language": "python",
   "name": "python3"
  },
  "language_info": {
   "codemirror_mode": {
    "name": "ipython",
    "version": 3
   },
   "file_extension": ".py",
   "mimetype": "text/x-python",
   "name": "python",
   "nbconvert_exporter": "python",
   "pygments_lexer": "ipython3",
   "version": "3.9.7"
  },
  "orig_nbformat": 4,
  "vscode": {
   "interpreter": {
    "hash": "13d6ac2b46cffe7b04dd84f7288304bd0f3c8f660cff0949df6ccaecc97804f1"
   }
  }
 },
 "nbformat": 4,
 "nbformat_minor": 2
}
