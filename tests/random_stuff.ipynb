{
 "cells": [
  {
   "cell_type": "code",
   "execution_count": 1,
   "metadata": {},
   "outputs": [],
   "source": [
    "import numpy as np\n",
    "import tensorflow as tf\n",
    "import scipy.special as ss"
   ]
  },
  {
   "cell_type": "code",
   "execution_count": 2,
   "metadata": {},
   "outputs": [
    {
     "name": "stderr",
     "output_type": "stream",
     "text": [
      "2023-02-12 11:30:08.301304: I tensorflow/core/platform/cpu_feature_guard.cc:151] This TensorFlow binary is optimized with oneAPI Deep Neural Network Library (oneDNN) to use the following CPU instructions in performance-critical operations:  SSE4.1 SSE4.2 AVX AVX2 FMA\n",
      "To enable them in other operations, rebuild TensorFlow with the appropriate compiler flags.\n",
      "2023-02-12 11:30:08.303692: I tensorflow/core/common_runtime/process_util.cc:146] Creating new thread pool with default inter op setting: 2. Tune using inter_op_parallelism_threads for best performance.\n"
     ]
    }
   ],
   "source": [
    "a = tf.convert_to_tensor(np.arange(10))"
   ]
  },
  {
   "cell_type": "code",
   "execution_count": 3,
   "metadata": {},
   "outputs": [
    {
     "data": {
      "text/plain": [
       "<tf.Tensor: shape=(10,), dtype=int64, numpy=array([0, 1, 2, 3, 4, 5, 6, 7, 8, 9])>"
      ]
     },
     "execution_count": 3,
     "metadata": {},
     "output_type": "execute_result"
    }
   ],
   "source": [
    "a"
   ]
  },
  {
   "cell_type": "code",
   "execution_count": 4,
   "metadata": {},
   "outputs": [
    {
     "data": {
      "text/plain": [
       "<tf.Tensor: shape=(10,), dtype=bool, numpy=\n",
       "array([False, False, False, False, False, False,  True,  True,  True,\n",
       "        True])>"
      ]
     },
     "execution_count": 4,
     "metadata": {},
     "output_type": "execute_result"
    }
   ],
   "source": [
    "a > 5"
   ]
  },
  {
   "cell_type": "code",
   "execution_count": 18,
   "metadata": {},
   "outputs": [],
   "source": [
    "labels = tf.cast(a > 5, tf.float32)"
   ]
  },
  {
   "cell_type": "code",
   "execution_count": 10,
   "metadata": {},
   "outputs": [],
   "source": [
    "probs = np.linspace(0.1,0.9, len(labels))"
   ]
  },
  {
   "cell_type": "code",
   "execution_count": 9,
   "metadata": {},
   "outputs": [],
   "source": [
    "bc = tf.keras.losses.BinaryCrossentropy()"
   ]
  },
  {
   "cell_type": "code",
   "execution_count": 10,
   "metadata": {},
   "outputs": [
    {
     "data": {
      "text/plain": [
       "'binary_crossentropy'"
      ]
     },
     "execution_count": 10,
     "metadata": {},
     "output_type": "execute_result"
    }
   ],
   "source": [
    "bc.name"
   ]
  },
  {
   "cell_type": "code",
   "execution_count": 23,
   "metadata": {},
   "outputs": [
    {
     "data": {
      "text/plain": [
       "<tf.Tensor: shape=(10,), dtype=float32, numpy=array([0., 0., 0., 0., 0., 0., 1., 1., 1., 1.], dtype=float32)>"
      ]
     },
     "execution_count": 23,
     "metadata": {},
     "output_type": "execute_result"
    }
   ],
   "source": [
    "bc.call(tf.cast(labels,tf.float32), tf.cast(probs,tf.float32))"
   ]
  },
  {
   "cell_type": "code",
   "execution_count": 14,
   "metadata": {},
   "outputs": [],
   "source": [
    "import sys\n",
    "sys.path.append('../')\n",
    "from general_purpose import utilities as ut"
   ]
  },
  {
   "cell_type": "code",
   "execution_count": 24,
   "metadata": {},
   "outputs": [
    {
     "data": {
      "text/plain": [
       "<tf.Tensor: shape=(10,), dtype=float32, numpy=\n",
       "array([0.10536052, 0.20935023, 0.3254224 , 0.4567584 , 0.6079894 ,\n",
       "       0.7862376 , 0.4567584 , 0.3254224 , 0.20935023, 0.10536052],\n",
       "      dtype=float32)>"
      ]
     },
     "execution_count": 24,
     "metadata": {},
     "output_type": "execute_result"
    }
   ],
   "source": [
    "ut.entropy(tf.cast(labels, tf.float32),probs)"
   ]
  },
  {
   "cell_type": "code",
   "execution_count": 27,
   "metadata": {},
   "outputs": [
    {
     "name": "stdout",
     "output_type": "stream",
     "text": [
      "Loss base class.\n",
      "\n",
      "  To be implemented by subclasses:\n",
      "  * `call()`: Contains the logic for loss calculation using `y_true`, `y_pred`.\n",
      "\n",
      "  Example subclass implementation:\n",
      "\n",
      "  ```python\n",
      "  class MeanSquaredError(Loss):\n",
      "\n",
      "    def call(self, y_true, y_pred):\n",
      "      y_pred = tf.convert_to_tensor_v2(y_pred)\n",
      "      y_true = tf.cast(y_true, y_pred.dtype)\n",
      "      return tf.reduce_mean(math_ops.square(y_pred - y_true), axis=-1)\n",
      "  ```\n",
      "\n",
      "  When used with `tf.distribute.Strategy`, outside of built-in training loops\n",
      "  such as `tf.keras` `compile` and `fit`, please use 'SUM' or 'NONE' reduction\n",
      "  types, and reduce losses explicitly in your training loop. Using 'AUTO' or\n",
      "  'SUM_OVER_BATCH_SIZE' will raise an error.\n",
      "\n",
      "  Please see this custom training [tutorial](\n",
      "    https://www.tensorflow.org/tutorials/distribute/custom_training) for more\n",
      "  details on this.\n",
      "\n",
      "  You can implement 'SUM_OVER_BATCH_SIZE' using global batch size like:\n",
      "\n",
      "  ```python\n",
      "  with strategy.scope():\n",
      "    loss_obj = tf.keras.losses.CategoricalCrossentropy(\n",
      "        reduction=tf.keras.losses.Reduction.NONE)\n",
      "    ....\n",
      "    loss = (tf.reduce_sum(loss_obj(labels, predictions)) *\n",
      "            (1. / global_batch_size))\n",
      "  ```\n",
      "  \n"
     ]
    }
   ],
   "source": [
    "print(tf.keras.losses.Loss.__doc__)"
   ]
  },
  {
   "cell_type": "code",
   "execution_count": 2,
   "metadata": {},
   "outputs": [],
   "source": [
    "class StupidLoss(tf.keras.losses.Loss):\n",
    "    def __init__(self, name=None):\n",
    "        super().__init__(name=name or self.__class__.__name__)\n",
    "\n",
    "    def call(self, y_true, y_pred):\n",
    "        return tf.math.square(y_true - y_pred)"
   ]
  },
  {
   "cell_type": "code",
   "execution_count": 15,
   "metadata": {},
   "outputs": [
    {
     "data": {
      "text/plain": [
       "'StupidLoss'"
      ]
     },
     "execution_count": 15,
     "metadata": {},
     "output_type": "execute_result"
    }
   ],
   "source": [
    "cls = StupidLoss\n",
    "ss = cls()\n",
    "ss.name"
   ]
  },
  {
   "cell_type": "code",
   "execution_count": 3,
   "metadata": {},
   "outputs": [],
   "source": [
    "s = StupidLoss()"
   ]
  },
  {
   "cell_type": "code",
   "execution_count": 4,
   "metadata": {},
   "outputs": [
    {
     "data": {
      "text/plain": [
       "'StupidLoss'"
      ]
     },
     "execution_count": 4,
     "metadata": {},
     "output_type": "execute_result"
    }
   ],
   "source": [
    "s.name"
   ]
  },
  {
   "cell_type": "code",
   "execution_count": 5,
   "metadata": {},
   "outputs": [],
   "source": [
    "def weighted(cls, function):\n",
    "    class WeightedLoss(cls):\n",
    "        def __init__(self, name=f'Weighted{cls.__name__}'):\n",
    "            super().__init__(name=name or self.__class__.__name__)\n",
    "            self.function = function\n",
    "\n",
    "        def call(self, y_true, y_pred):\n",
    "            weights = self.function(y_true)\n",
    "            loss = super().call(y_true, y_pred)\n",
    "            assert weights.shape == loss.shape\n",
    "            return weights*loss\n",
    "        \n",
    "    return WeightedLoss"
   ]
  },
  {
   "cell_type": "code",
   "execution_count": 11,
   "metadata": {},
   "outputs": [],
   "source": [
    "s = StupidLoss()\n",
    "ws = weighted(StupidLoss, lambda x: x)()"
   ]
  },
  {
   "cell_type": "code",
   "execution_count": 8,
   "metadata": {},
   "outputs": [
    {
     "data": {
      "text/plain": [
       "'WeightedLoss'"
      ]
     },
     "execution_count": 8,
     "metadata": {},
     "output_type": "execute_result"
    }
   ],
   "source": [
    "ws.__class__.__name__"
   ]
  },
  {
   "cell_type": "code",
   "execution_count": 10,
   "metadata": {},
   "outputs": [
    {
     "data": {
      "text/plain": [
       "(<tf.Tensor: shape=(10,), dtype=float64, numpy=array([0. , 0.1, 0.2, 0.3, 0.4, 0.5, 0.6, 0.7, 0.8, 0.9])>,\n",
       " <tf.Tensor: shape=(10,), dtype=float64, numpy=\n",
       " array([0.91087622, 0.89300822, 0.64845848, 0.96271565, 1.20611952,\n",
       "        1.00231339, 1.19514641, 0.70717372, 0.92123473, 1.81214124])>)"
      ]
     },
     "execution_count": 10,
     "metadata": {},
     "output_type": "execute_result"
    }
   ],
   "source": [
    "y_true = tf.convert_to_tensor(np.arange(0,1,0.1))\n",
    "y_pred = y_true + np.random.uniform(0,1, size=y_true.shape)\n",
    "y_true, y_pred"
   ]
  },
  {
   "cell_type": "code",
   "execution_count": 12,
   "metadata": {},
   "outputs": [
    {
     "data": {
      "text/plain": [
       "<tf.Tensor: shape=(), dtype=float64, numpy=0.4201962351799011>"
      ]
     },
     "execution_count": 12,
     "metadata": {},
     "output_type": "execute_result"
    }
   ],
   "source": [
    "s(y_true, y_pred)"
   ]
  },
  {
   "cell_type": "code",
   "execution_count": 13,
   "metadata": {},
   "outputs": [
    {
     "data": {
      "text/plain": [
       "<tf.Tensor: shape=(), dtype=float64, numpy=0.15940728783607483>"
      ]
     },
     "execution_count": 13,
     "metadata": {},
     "output_type": "execute_result"
    }
   ],
   "source": [
    "ws(y_true, y_pred)"
   ]
  },
  {
   "cell_type": "code",
   "execution_count": 14,
   "metadata": {},
   "outputs": [
    {
     "data": {
      "text/plain": [
       "<tf.Tensor: shape=(), dtype=float64, numpy=0.15940729920612795>"
      ]
     },
     "execution_count": 14,
     "metadata": {},
     "output_type": "execute_result"
    }
   ],
   "source": [
    "tf.reduce_mean(y_true*s.call(y_true, y_pred))"
   ]
  },
  {
   "cell_type": "code",
   "execution_count": null,
   "metadata": {},
   "outputs": [],
   "source": []
  }
 ],
 "metadata": {
  "kernelspec": {
   "display_name": "python3.9",
   "language": "python",
   "name": "python3"
  },
  "language_info": {
   "codemirror_mode": {
    "name": "ipython",
    "version": 3
   },
   "file_extension": ".py",
   "mimetype": "text/x-python",
   "name": "python",
   "nbconvert_exporter": "python",
   "pygments_lexer": "ipython3",
   "version": "3.9.12"
  },
  "orig_nbformat": 4,
  "vscode": {
   "interpreter": {
    "hash": "5a0ac5ce8bb8c88950cbb5884951ac07e03bb695621e79d254d25c8e1304a15f"
   }
  }
 },
 "nbformat": 4,
 "nbformat_minor": 2
}
