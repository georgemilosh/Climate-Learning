{
 "cells": [
  {
   "cell_type": "code",
   "execution_count": null,
   "metadata": {},
   "outputs": [],
   "source": [
    "import numpy as np\n",
    "from scipy import sparse\n",
    "# import cupy as cp\n",
    "\n",
    "import sys\n",
    "sys.path.append('../')\n",
    "from general_purpose import utilities as ut\n",
    "\n",
    "import logging\n",
    "logger = logging.getLogger()"
   ]
  },
  {
   "cell_type": "code",
   "execution_count": null,
   "metadata": {},
   "outputs": [],
   "source": [
    "def compute_weight_matrix(reshape_mask, lat):\n",
    "    '''\n",
    "    Compute the matrix W such that\n",
    "    $$ H_2(p) = p^\\top W p $$\n",
    "\n",
    "    Parameters\n",
    "    ----------\n",
    "    reshape_mask : np.ndarray[bool]\n",
    "        mask to flatten a snapshot `p` into a one dimensional array, eventually removing zero variance features\n",
    "    lat : np.ndarray[float]\n",
    "        latitude vector, used to compute the grid cell area and the proper longitudinal gradients\n",
    "\n",
    "    Returns\n",
    "    -------\n",
    "    np.ndarray[float]\n",
    "        W\n",
    "    '''\n",
    "    shape = reshape_mask.shape\n",
    "    shape_r = (np.sum(reshape_mask),)\n",
    "    if len(shape) != 3:\n",
    "        raise ValueError(f'reshape_mask should be a 3d array! Instead {reshape_mask.shape = }')\n",
    "\n",
    "    geosep = ut.Reshaper(reshape_mask)\n",
    "\n",
    "    W = np.zeros(shape_r*2)\n",
    "    #f -> field\n",
    "    #i -> lat\n",
    "    #j -> lon\n",
    "    for f in range(shape[-1]):\n",
    "        for i in range(shape[-3]):\n",
    "            w = np.cos(lat[i]*np.pi/180)\n",
    "            wi = 1./w\n",
    "            for j in range(shape[-2]):\n",
    "                # add latitude gradient\n",
    "                try:\n",
    "                    ind1 = geosep.reshape_index((i,j,f))\n",
    "                    ind2 = geosep.reshape_index((i+1,j,f))\n",
    "                except IndexError:\n",
    "                    logger.debug(f'IndexError: {(i,j,f)}-{(i+1,j,f)}')\n",
    "                else:\n",
    "                    W[ind1,ind1] += w\n",
    "                    W[ind2,ind2] += w\n",
    "                    W[ind1,ind2] += -w\n",
    "                    W[ind2,ind1] += -w\n",
    "\n",
    "                # add longitude gradient\n",
    "                try:\n",
    "                    ind1 = geosep.reshape_index((i,j,f))\n",
    "                    ind2 = geosep.reshape_index((i,j+1,f))\n",
    "                except IndexError:\n",
    "                    logger.debug(f'IndexError: {(i,j,f)}-{(i,j+1,f)}')\n",
    "                else:\n",
    "                    W[ind1,ind1] += wi\n",
    "                    W[ind2,ind2] += wi\n",
    "                    W[ind1,ind2] += -wi\n",
    "                    W[ind2,ind1] += -wi\n",
    "\n",
    "            # add periodic longitude point\n",
    "            try:\n",
    "                ind1 = geosep.reshape_index((i,shape[-2] - 1,f))\n",
    "                ind2 = geosep.reshape_index((i,0,f))\n",
    "            except IndexError:\n",
    "                logger.debug(f'IndexError: {(i,shape[-2] - 1,f)}-{(i,0,f)}')\n",
    "            else:\n",
    "                W[ind1,ind1] += wi\n",
    "                W[ind2,ind2] += wi\n",
    "                W[ind1,ind2] += -wi\n",
    "                W[ind2,ind1] += -wi\n",
    "    return W\n",
    "\n",
    "def compute_weight_matrix_sparse(reshape_mask, lat):\n",
    "    '''\n",
    "    Compute the matrix W such that\n",
    "    $$ H_2(p) = p^\\top W p $$\n",
    "\n",
    "    Parameters\n",
    "    ----------\n",
    "    reshape_mask : np.ndarray[bool]\n",
    "        mask to flatten a snapshot `p` into a one dimensional array, eventually removing zero variance features\n",
    "    lat : np.ndarray[float]\n",
    "        latitude vector, used to compute the grid cell area and the proper longitudinal gradients\n",
    "\n",
    "    Returns\n",
    "    -------\n",
    "    np.ndarray[float]\n",
    "        W\n",
    "    '''\n",
    "    shape = reshape_mask.shape\n",
    "    shape_r = (np.sum(reshape_mask),)\n",
    "    if len(shape) != 3:\n",
    "        raise ValueError(f'reshape_mask should be a 3d array! Instead {reshape_mask.shape = }')\n",
    "\n",
    "    geosep = ut.Reshaper(reshape_mask)\n",
    "\n",
    "    W = sparse.lil_matrix(shape_r*2)\n",
    "    #f -> field\n",
    "    #i -> lat\n",
    "    #j -> lon\n",
    "    for f in range(shape[-1]):\n",
    "        for i in range(shape[-3]):\n",
    "            w = np.cos(lat[i]*np.pi/180)\n",
    "            wi = 1./w\n",
    "            for j in range(shape[-2]):\n",
    "                # add latitude gradient\n",
    "                try:\n",
    "                    ind1 = geosep.reshape_index((i,j,f))\n",
    "                    ind2 = geosep.reshape_index((i+1,j,f))\n",
    "                except IndexError:\n",
    "                    logger.debug(f'IndexError: {(i,j,f)}-{(i+1,j,f)}')\n",
    "                else:\n",
    "                    W[ind1,ind1] += w\n",
    "                    W[ind2,ind2] += w\n",
    "                    W[ind1,ind2] += -w\n",
    "                    W[ind2,ind1] += -w\n",
    "\n",
    "                # add longitude gradient\n",
    "                try:\n",
    "                    ind1 = geosep.reshape_index((i,j,f))\n",
    "                    ind2 = geosep.reshape_index((i,j+1,f))\n",
    "                except IndexError:\n",
    "                    logger.debug(f'IndexError: {(i,j,f)}-{(i,j+1,f)}')\n",
    "                else:\n",
    "                    W[ind1,ind1] += wi\n",
    "                    W[ind2,ind2] += wi\n",
    "                    W[ind1,ind2] += -wi\n",
    "                    W[ind2,ind1] += -wi\n",
    "\n",
    "            # add periodic longitude point\n",
    "            try:\n",
    "                ind1 = geosep.reshape_index((i,shape[-2] - 1,f))\n",
    "                ind2 = geosep.reshape_index((i,0,f))\n",
    "            except IndexError:\n",
    "                logger.debug(f'IndexError: {(i,shape[-2] - 1,f)}-{(i,0,f)}')\n",
    "            else:\n",
    "                W[ind1,ind1] += wi\n",
    "                W[ind2,ind2] += wi\n",
    "                W[ind1,ind2] += -wi\n",
    "                W[ind2,ind1] += -wi\n",
    "    return W.todia()"
   ]
  },
  {
   "cell_type": "markdown",
   "metadata": {},
   "source": [
    "## Try to perform operations with the dense and sparse matrices and see if they are the same"
   ]
  },
  {
   "cell_type": "code",
   "execution_count": null,
   "metadata": {},
   "outputs": [],
   "source": [
    "lon = np.arange(0, 360, 2)\n",
    "lat = np.arange(0, 87, 2)\n",
    "reshape_mask = np.ones((len(lat), len(lon), 3), dtype=bool)\n",
    "reshape_mask.shape"
   ]
  },
  {
   "cell_type": "markdown",
   "metadata": {},
   "source": [
    "### Creation"
   ]
  },
  {
   "cell_type": "code",
   "execution_count": null,
   "metadata": {},
   "outputs": [],
   "source": [
    "%%time\n",
    "W = compute_weight_matrix(reshape_mask, lat)"
   ]
  },
  {
   "cell_type": "code",
   "execution_count": null,
   "metadata": {},
   "outputs": [],
   "source": [
    "%%time\n",
    "W_sparse = compute_weight_matrix_sparse(reshape_mask, lat)"
   ]
  },
  {
   "cell_type": "code",
   "execution_count": null,
   "metadata": {},
   "outputs": [],
   "source": [
    "(W == W_sparse).all()"
   ]
  },
  {
   "cell_type": "markdown",
   "metadata": {},
   "source": [
    "### Convert to array"
   ]
  },
  {
   "cell_type": "code",
   "execution_count": null,
   "metadata": {},
   "outputs": [],
   "source": [
    "%%time\n",
    "W2 = W_sparse.todense()"
   ]
  },
  {
   "cell_type": "code",
   "execution_count": null,
   "metadata": {},
   "outputs": [],
   "source": [
    "W.shape"
   ]
  },
  {
   "cell_type": "code",
   "execution_count": null,
   "metadata": {},
   "outputs": [],
   "source": [
    "isinstance(W_sparse, sparse.spmatrix)"
   ]
  },
  {
   "cell_type": "code",
   "execution_count": null,
   "metadata": {},
   "outputs": [],
   "source": [
    "W3 = np.asarray(W_sparse)"
   ]
  },
  {
   "cell_type": "code",
   "execution_count": null,
   "metadata": {},
   "outputs": [],
   "source": [
    "(W3 == W2).all()"
   ]
  },
  {
   "cell_type": "code",
   "execution_count": null,
   "metadata": {},
   "outputs": [],
   "source": [
    "W3"
   ]
  },
  {
   "cell_type": "code",
   "execution_count": null,
   "metadata": {},
   "outputs": [],
   "source": [
    "w = W\n",
    "u2 = np.asarray(w.toarray() if isinstance(w, sparse.dia_matrix) else w, dtype=np.float32)"
   ]
  },
  {
   "cell_type": "code",
   "execution_count": null,
   "metadata": {},
   "outputs": [],
   "source": [
    "(u == u2).all()"
   ]
  },
  {
   "cell_type": "code",
   "execution_count": null,
   "metadata": {},
   "outputs": [],
   "source": []
  }
 ],
 "metadata": {
  "kernelspec": {
   "display_name": "mlk",
   "language": "python",
   "name": "mlk"
  },
  "language_info": {
   "codemirror_mode": {
    "name": "ipython",
    "version": 3
   },
   "file_extension": ".py",
   "mimetype": "text/x-python",
   "name": "python",
   "nbconvert_exporter": "python",
   "pygments_lexer": "ipython3",
   "version": "3.11.5"
  }
 },
 "nbformat": 4,
 "nbformat_minor": 2
}
